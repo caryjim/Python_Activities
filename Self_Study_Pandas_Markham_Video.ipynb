{
  "nbformat": 4,
  "nbformat_minor": 0,
  "metadata": {
    "colab": {
      "name": "Self_Study_Pandas_Markham_Video.ipynb",
      "provenance": [],
      "collapsed_sections": []
    },
    "kernelspec": {
      "name": "python3",
      "display_name": "Python 3"
    }
  },
  "cells": [
    {
      "cell_type": "markdown",
      "metadata": {
        "id": "MUlnoAtF6jLq",
        "colab_type": "text"
      },
      "source": [
        "Class Exercise: \n",
        "Using Data School Video by Kevin Markham video https://goo.gl/SYwLTg, and complete the following codes in video 1-15 on Google Colab."
      ]
    },
    {
      "cell_type": "code",
      "metadata": {
        "id": "f731pIw06V2T",
        "colab_type": "code",
        "outputId": "8dcbf732-531c-43db-a21c-2d427ee803cb",
        "colab": {
          "base_uri": "https://localhost:8080/",
          "height": 102
        }
      },
      "source": [
        "!pip install pandas"
      ],
      "execution_count": 1,
      "outputs": [
        {
          "output_type": "stream",
          "text": [
            "Requirement already satisfied: pandas in /usr/local/lib/python3.6/dist-packages (1.0.3)\n",
            "Requirement already satisfied: pytz>=2017.2 in /usr/local/lib/python3.6/dist-packages (from pandas) (2018.9)\n",
            "Requirement already satisfied: numpy>=1.13.3 in /usr/local/lib/python3.6/dist-packages (from pandas) (1.18.4)\n",
            "Requirement already satisfied: python-dateutil>=2.6.1 in /usr/local/lib/python3.6/dist-packages (from pandas) (2.8.1)\n",
            "Requirement already satisfied: six>=1.5 in /usr/local/lib/python3.6/dist-packages (from python-dateutil>=2.6.1->pandas) (1.12.0)\n"
          ],
          "name": "stdout"
        }
      ]
    },
    {
      "cell_type": "code",
      "metadata": {
        "id": "cT6ul1mM7XPu",
        "colab_type": "code",
        "outputId": "253301cd-7d02-41f5-8b6f-2581bb89c875",
        "colab": {
          "base_uri": "https://localhost:8080/",
          "height": 884
        }
      },
      "source": [
        "!pip install numpy scipy matplotlib ipython jupyter pandas sympy nose"
      ],
      "execution_count": 2,
      "outputs": [
        {
          "output_type": "stream",
          "text": [
            "Requirement already satisfied: numpy in /usr/local/lib/python3.6/dist-packages (1.18.4)\n",
            "Requirement already satisfied: scipy in /usr/local/lib/python3.6/dist-packages (1.4.1)\n",
            "Requirement already satisfied: matplotlib in /usr/local/lib/python3.6/dist-packages (3.2.1)\n",
            "Requirement already satisfied: ipython in /usr/local/lib/python3.6/dist-packages (5.5.0)\n",
            "Requirement already satisfied: jupyter in /usr/local/lib/python3.6/dist-packages (1.0.0)\n",
            "Requirement already satisfied: pandas in /usr/local/lib/python3.6/dist-packages (1.0.3)\n",
            "Requirement already satisfied: sympy in /usr/local/lib/python3.6/dist-packages (1.1.1)\n",
            "Requirement already satisfied: nose in /usr/local/lib/python3.6/dist-packages (1.3.7)\n",
            "Requirement already satisfied: cycler>=0.10 in /usr/local/lib/python3.6/dist-packages (from matplotlib) (0.10.0)\n",
            "Requirement already satisfied: python-dateutil>=2.1 in /usr/local/lib/python3.6/dist-packages (from matplotlib) (2.8.1)\n",
            "Requirement already satisfied: kiwisolver>=1.0.1 in /usr/local/lib/python3.6/dist-packages (from matplotlib) (1.2.0)\n",
            "Requirement already satisfied: pyparsing!=2.0.4,!=2.1.2,!=2.1.6,>=2.0.1 in /usr/local/lib/python3.6/dist-packages (from matplotlib) (2.4.7)\n",
            "Requirement already satisfied: pickleshare in /usr/local/lib/python3.6/dist-packages (from ipython) (0.7.5)\n",
            "Requirement already satisfied: traitlets>=4.2 in /usr/local/lib/python3.6/dist-packages (from ipython) (4.3.3)\n",
            "Requirement already satisfied: pexpect; sys_platform != \"win32\" in /usr/local/lib/python3.6/dist-packages (from ipython) (4.8.0)\n",
            "Requirement already satisfied: decorator in /usr/local/lib/python3.6/dist-packages (from ipython) (4.4.2)\n",
            "Requirement already satisfied: prompt-toolkit<2.0.0,>=1.0.4 in /usr/local/lib/python3.6/dist-packages (from ipython) (1.0.18)\n",
            "Requirement already satisfied: simplegeneric>0.8 in /usr/local/lib/python3.6/dist-packages (from ipython) (0.8.1)\n",
            "Requirement already satisfied: setuptools>=18.5 in /usr/local/lib/python3.6/dist-packages (from ipython) (46.4.0)\n",
            "Requirement already satisfied: pygments in /usr/local/lib/python3.6/dist-packages (from ipython) (2.1.3)\n",
            "Requirement already satisfied: jupyter-console in /usr/local/lib/python3.6/dist-packages (from jupyter) (5.2.0)\n",
            "Requirement already satisfied: notebook in /usr/local/lib/python3.6/dist-packages (from jupyter) (5.2.2)\n",
            "Requirement already satisfied: nbconvert in /usr/local/lib/python3.6/dist-packages (from jupyter) (5.6.1)\n",
            "Requirement already satisfied: qtconsole in /usr/local/lib/python3.6/dist-packages (from jupyter) (4.7.4)\n",
            "Requirement already satisfied: ipywidgets in /usr/local/lib/python3.6/dist-packages (from jupyter) (7.5.1)\n",
            "Requirement already satisfied: ipykernel in /usr/local/lib/python3.6/dist-packages (from jupyter) (4.10.1)\n",
            "Requirement already satisfied: pytz>=2017.2 in /usr/local/lib/python3.6/dist-packages (from pandas) (2018.9)\n",
            "Requirement already satisfied: mpmath>=0.19 in /usr/local/lib/python3.6/dist-packages (from sympy) (1.1.0)\n",
            "Requirement already satisfied: six in /usr/local/lib/python3.6/dist-packages (from cycler>=0.10->matplotlib) (1.12.0)\n",
            "Requirement already satisfied: ipython-genutils in /usr/local/lib/python3.6/dist-packages (from traitlets>=4.2->ipython) (0.2.0)\n",
            "Requirement already satisfied: ptyprocess>=0.5 in /usr/local/lib/python3.6/dist-packages (from pexpect; sys_platform != \"win32\"->ipython) (0.6.0)\n",
            "Requirement already satisfied: wcwidth in /usr/local/lib/python3.6/dist-packages (from prompt-toolkit<2.0.0,>=1.0.4->ipython) (0.1.9)\n",
            "Requirement already satisfied: jupyter-client in /usr/local/lib/python3.6/dist-packages (from jupyter-console->jupyter) (5.3.4)\n",
            "Requirement already satisfied: terminado>=0.3.3; sys_platform != \"win32\" in /usr/local/lib/python3.6/dist-packages (from notebook->jupyter) (0.8.3)\n",
            "Requirement already satisfied: jinja2 in /usr/local/lib/python3.6/dist-packages (from notebook->jupyter) (2.11.2)\n",
            "Requirement already satisfied: nbformat in /usr/local/lib/python3.6/dist-packages (from notebook->jupyter) (5.0.6)\n",
            "Requirement already satisfied: jupyter-core in /usr/local/lib/python3.6/dist-packages (from notebook->jupyter) (4.6.3)\n",
            "Requirement already satisfied: tornado>=4 in /usr/local/lib/python3.6/dist-packages (from notebook->jupyter) (4.5.3)\n",
            "Requirement already satisfied: bleach in /usr/local/lib/python3.6/dist-packages (from nbconvert->jupyter) (3.1.5)\n",
            "Requirement already satisfied: defusedxml in /usr/local/lib/python3.6/dist-packages (from nbconvert->jupyter) (0.6.0)\n",
            "Requirement already satisfied: testpath in /usr/local/lib/python3.6/dist-packages (from nbconvert->jupyter) (0.4.4)\n",
            "Requirement already satisfied: mistune<2,>=0.8.1 in /usr/local/lib/python3.6/dist-packages (from nbconvert->jupyter) (0.8.4)\n",
            "Requirement already satisfied: pandocfilters>=1.4.1 in /usr/local/lib/python3.6/dist-packages (from nbconvert->jupyter) (1.4.2)\n",
            "Requirement already satisfied: entrypoints>=0.2.2 in /usr/local/lib/python3.6/dist-packages (from nbconvert->jupyter) (0.3)\n",
            "Requirement already satisfied: qtpy in /usr/local/lib/python3.6/dist-packages (from qtconsole->jupyter) (1.9.0)\n",
            "Requirement already satisfied: pyzmq>=17.1 in /usr/local/lib/python3.6/dist-packages (from qtconsole->jupyter) (19.0.1)\n",
            "Requirement already satisfied: widgetsnbextension~=3.5.0 in /usr/local/lib/python3.6/dist-packages (from ipywidgets->jupyter) (3.5.1)\n",
            "Requirement already satisfied: MarkupSafe>=0.23 in /usr/local/lib/python3.6/dist-packages (from jinja2->notebook->jupyter) (1.1.1)\n",
            "Requirement already satisfied: jsonschema!=2.5.0,>=2.4 in /usr/local/lib/python3.6/dist-packages (from nbformat->notebook->jupyter) (2.6.0)\n",
            "Requirement already satisfied: packaging in /usr/local/lib/python3.6/dist-packages (from bleach->nbconvert->jupyter) (20.4)\n",
            "Requirement already satisfied: webencodings in /usr/local/lib/python3.6/dist-packages (from bleach->nbconvert->jupyter) (0.5.1)\n"
          ],
          "name": "stdout"
        }
      ]
    },
    {
      "cell_type": "code",
      "metadata": {
        "id": "HM-r86q377u-",
        "colab_type": "code",
        "colab": {}
      },
      "source": [
        "#Video 1 - What is Panda? (Introduction to the Q&A series)--- No codes found"
      ],
      "execution_count": 0,
      "outputs": []
    },
    {
      "cell_type": "code",
      "metadata": {
        "id": "NK-sQRPP8L3H",
        "colab_type": "code",
        "colab": {}
      },
      "source": [
        "#Video 2: How do I read a tabular data file into pandas?\n",
        "import pandas as pd"
      ],
      "execution_count": 0,
      "outputs": []
    },
    {
      "cell_type": "code",
      "metadata": {
        "id": "4L07_62Z8SZE",
        "colab_type": "code",
        "colab": {}
      },
      "source": [
        "orders = pd.read_table('http://bit.ly/chiporders')  #by default read_table is tab seperated. It assumes the first row is a header row. "
      ],
      "execution_count": 0,
      "outputs": []
    },
    {
      "cell_type": "code",
      "metadata": {
        "id": "TeeO1vZ08u2-",
        "colab_type": "code",
        "outputId": "8a1778c8-375e-44ed-9ce8-994d3f622c8a",
        "colab": {
          "base_uri": "https://localhost:8080/",
          "height": 204
        }
      },
      "source": [
        "orders.head()"
      ],
      "execution_count": 6,
      "outputs": [
        {
          "output_type": "execute_result",
          "data": {
            "text/html": [
              "<div>\n",
              "<style scoped>\n",
              "    .dataframe tbody tr th:only-of-type {\n",
              "        vertical-align: middle;\n",
              "    }\n",
              "\n",
              "    .dataframe tbody tr th {\n",
              "        vertical-align: top;\n",
              "    }\n",
              "\n",
              "    .dataframe thead th {\n",
              "        text-align: right;\n",
              "    }\n",
              "</style>\n",
              "<table border=\"1\" class=\"dataframe\">\n",
              "  <thead>\n",
              "    <tr style=\"text-align: right;\">\n",
              "      <th></th>\n",
              "      <th>order_id</th>\n",
              "      <th>quantity</th>\n",
              "      <th>item_name</th>\n",
              "      <th>choice_description</th>\n",
              "      <th>item_price</th>\n",
              "    </tr>\n",
              "  </thead>\n",
              "  <tbody>\n",
              "    <tr>\n",
              "      <th>0</th>\n",
              "      <td>1</td>\n",
              "      <td>1</td>\n",
              "      <td>Chips and Fresh Tomato Salsa</td>\n",
              "      <td>NaN</td>\n",
              "      <td>$2.39</td>\n",
              "    </tr>\n",
              "    <tr>\n",
              "      <th>1</th>\n",
              "      <td>1</td>\n",
              "      <td>1</td>\n",
              "      <td>Izze</td>\n",
              "      <td>[Clementine]</td>\n",
              "      <td>$3.39</td>\n",
              "    </tr>\n",
              "    <tr>\n",
              "      <th>2</th>\n",
              "      <td>1</td>\n",
              "      <td>1</td>\n",
              "      <td>Nantucket Nectar</td>\n",
              "      <td>[Apple]</td>\n",
              "      <td>$3.39</td>\n",
              "    </tr>\n",
              "    <tr>\n",
              "      <th>3</th>\n",
              "      <td>1</td>\n",
              "      <td>1</td>\n",
              "      <td>Chips and Tomatillo-Green Chili Salsa</td>\n",
              "      <td>NaN</td>\n",
              "      <td>$2.39</td>\n",
              "    </tr>\n",
              "    <tr>\n",
              "      <th>4</th>\n",
              "      <td>2</td>\n",
              "      <td>2</td>\n",
              "      <td>Chicken Bowl</td>\n",
              "      <td>[Tomatillo-Red Chili Salsa (Hot), [Black Beans...</td>\n",
              "      <td>$16.98</td>\n",
              "    </tr>\n",
              "  </tbody>\n",
              "</table>\n",
              "</div>"
            ],
            "text/plain": [
              "   order_id  ...  item_price\n",
              "0         1  ...      $2.39 \n",
              "1         1  ...      $3.39 \n",
              "2         1  ...      $3.39 \n",
              "3         1  ...      $2.39 \n",
              "4         2  ...     $16.98 \n",
              "\n",
              "[5 rows x 5 columns]"
            ]
          },
          "metadata": {
            "tags": []
          },
          "execution_count": 6
        }
      ]
    },
    {
      "cell_type": "code",
      "metadata": {
        "id": "E9z9bn9x-GeO",
        "colab_type": "code",
        "colab": {}
      },
      "source": [
        "user_cols = ['user_id', 'age', 'gender', 'occupation', 'zip_code'] #list of strings for headers\n",
        "users = pd.read_table('http://bit.ly/movieusers', sep=\"|\", header=None, names=user_cols)"
      ],
      "execution_count": 0,
      "outputs": []
    },
    {
      "cell_type": "code",
      "metadata": {
        "id": "8JHM_hxf-WFF",
        "colab_type": "code",
        "outputId": "c2569fde-5c8d-41cc-c3a5-87df3930a82b",
        "colab": {
          "base_uri": "https://localhost:8080/",
          "height": 204
        }
      },
      "source": [
        "users.head()"
      ],
      "execution_count": 8,
      "outputs": [
        {
          "output_type": "execute_result",
          "data": {
            "text/html": [
              "<div>\n",
              "<style scoped>\n",
              "    .dataframe tbody tr th:only-of-type {\n",
              "        vertical-align: middle;\n",
              "    }\n",
              "\n",
              "    .dataframe tbody tr th {\n",
              "        vertical-align: top;\n",
              "    }\n",
              "\n",
              "    .dataframe thead th {\n",
              "        text-align: right;\n",
              "    }\n",
              "</style>\n",
              "<table border=\"1\" class=\"dataframe\">\n",
              "  <thead>\n",
              "    <tr style=\"text-align: right;\">\n",
              "      <th></th>\n",
              "      <th>user_id</th>\n",
              "      <th>age</th>\n",
              "      <th>gender</th>\n",
              "      <th>occupation</th>\n",
              "      <th>zip_code</th>\n",
              "    </tr>\n",
              "  </thead>\n",
              "  <tbody>\n",
              "    <tr>\n",
              "      <th>0</th>\n",
              "      <td>1</td>\n",
              "      <td>24</td>\n",
              "      <td>M</td>\n",
              "      <td>technician</td>\n",
              "      <td>85711</td>\n",
              "    </tr>\n",
              "    <tr>\n",
              "      <th>1</th>\n",
              "      <td>2</td>\n",
              "      <td>53</td>\n",
              "      <td>F</td>\n",
              "      <td>other</td>\n",
              "      <td>94043</td>\n",
              "    </tr>\n",
              "    <tr>\n",
              "      <th>2</th>\n",
              "      <td>3</td>\n",
              "      <td>23</td>\n",
              "      <td>M</td>\n",
              "      <td>writer</td>\n",
              "      <td>32067</td>\n",
              "    </tr>\n",
              "    <tr>\n",
              "      <th>3</th>\n",
              "      <td>4</td>\n",
              "      <td>24</td>\n",
              "      <td>M</td>\n",
              "      <td>technician</td>\n",
              "      <td>43537</td>\n",
              "    </tr>\n",
              "    <tr>\n",
              "      <th>4</th>\n",
              "      <td>5</td>\n",
              "      <td>33</td>\n",
              "      <td>F</td>\n",
              "      <td>other</td>\n",
              "      <td>15213</td>\n",
              "    </tr>\n",
              "  </tbody>\n",
              "</table>\n",
              "</div>"
            ],
            "text/plain": [
              "   user_id  age gender  occupation zip_code\n",
              "0        1   24      M  technician    85711\n",
              "1        2   53      F       other    94043\n",
              "2        3   23      M      writer    32067\n",
              "3        4   24      M  technician    43537\n",
              "4        5   33      F       other    15213"
            ]
          },
          "metadata": {
            "tags": []
          },
          "execution_count": 8
        }
      ]
    },
    {
      "cell_type": "code",
      "metadata": {
        "id": "cHi-qdzurD3X",
        "colab_type": "code",
        "colab": {}
      },
      "source": [
        "#Video 3: How do I select a series from a data frame? (column in a table)"
      ],
      "execution_count": 0,
      "outputs": []
    },
    {
      "cell_type": "code",
      "metadata": {
        "id": "-lX-YSumrtOE",
        "colab_type": "code",
        "colab": {}
      },
      "source": [
        "ufo = pd.read_csv('http://bit.ly/uforeports')"
      ],
      "execution_count": 0,
      "outputs": []
    },
    {
      "cell_type": "code",
      "metadata": {
        "id": "PO3cz0UEr7qq",
        "colab_type": "code",
        "outputId": "145e0a0c-3b0f-454a-a4fe-b0ff4ed4f69c",
        "colab": {
          "base_uri": "https://localhost:8080/",
          "height": 34
        }
      },
      "source": [
        "type(ufo)"
      ],
      "execution_count": 11,
      "outputs": [
        {
          "output_type": "execute_result",
          "data": {
            "text/plain": [
              "pandas.core.frame.DataFrame"
            ]
          },
          "metadata": {
            "tags": []
          },
          "execution_count": 11
        }
      ]
    },
    {
      "cell_type": "code",
      "metadata": {
        "id": "DLGFqho-r8jD",
        "colab_type": "code",
        "outputId": "026130df-3936-4252-b757-af992287a5c7",
        "colab": {
          "base_uri": "https://localhost:8080/",
          "height": 204
        }
      },
      "source": [
        "ufo.head()"
      ],
      "execution_count": 12,
      "outputs": [
        {
          "output_type": "execute_result",
          "data": {
            "text/html": [
              "<div>\n",
              "<style scoped>\n",
              "    .dataframe tbody tr th:only-of-type {\n",
              "        vertical-align: middle;\n",
              "    }\n",
              "\n",
              "    .dataframe tbody tr th {\n",
              "        vertical-align: top;\n",
              "    }\n",
              "\n",
              "    .dataframe thead th {\n",
              "        text-align: right;\n",
              "    }\n",
              "</style>\n",
              "<table border=\"1\" class=\"dataframe\">\n",
              "  <thead>\n",
              "    <tr style=\"text-align: right;\">\n",
              "      <th></th>\n",
              "      <th>City</th>\n",
              "      <th>Colors Reported</th>\n",
              "      <th>Shape Reported</th>\n",
              "      <th>State</th>\n",
              "      <th>Time</th>\n",
              "    </tr>\n",
              "  </thead>\n",
              "  <tbody>\n",
              "    <tr>\n",
              "      <th>0</th>\n",
              "      <td>Ithaca</td>\n",
              "      <td>NaN</td>\n",
              "      <td>TRIANGLE</td>\n",
              "      <td>NY</td>\n",
              "      <td>6/1/1930 22:00</td>\n",
              "    </tr>\n",
              "    <tr>\n",
              "      <th>1</th>\n",
              "      <td>Willingboro</td>\n",
              "      <td>NaN</td>\n",
              "      <td>OTHER</td>\n",
              "      <td>NJ</td>\n",
              "      <td>6/30/1930 20:00</td>\n",
              "    </tr>\n",
              "    <tr>\n",
              "      <th>2</th>\n",
              "      <td>Holyoke</td>\n",
              "      <td>NaN</td>\n",
              "      <td>OVAL</td>\n",
              "      <td>CO</td>\n",
              "      <td>2/15/1931 14:00</td>\n",
              "    </tr>\n",
              "    <tr>\n",
              "      <th>3</th>\n",
              "      <td>Abilene</td>\n",
              "      <td>NaN</td>\n",
              "      <td>DISK</td>\n",
              "      <td>KS</td>\n",
              "      <td>6/1/1931 13:00</td>\n",
              "    </tr>\n",
              "    <tr>\n",
              "      <th>4</th>\n",
              "      <td>New York Worlds Fair</td>\n",
              "      <td>NaN</td>\n",
              "      <td>LIGHT</td>\n",
              "      <td>NY</td>\n",
              "      <td>4/18/1933 19:00</td>\n",
              "    </tr>\n",
              "  </tbody>\n",
              "</table>\n",
              "</div>"
            ],
            "text/plain": [
              "                   City Colors Reported Shape Reported State             Time\n",
              "0                Ithaca             NaN       TRIANGLE    NY   6/1/1930 22:00\n",
              "1           Willingboro             NaN          OTHER    NJ  6/30/1930 20:00\n",
              "2               Holyoke             NaN           OVAL    CO  2/15/1931 14:00\n",
              "3               Abilene             NaN           DISK    KS   6/1/1931 13:00\n",
              "4  New York Worlds Fair             NaN          LIGHT    NY  4/18/1933 19:00"
            ]
          },
          "metadata": {
            "tags": []
          },
          "execution_count": 12
        }
      ]
    },
    {
      "cell_type": "code",
      "metadata": {
        "id": "0WeqwJ13sIwJ",
        "colab_type": "code",
        "outputId": "c3a50578-f016-48ff-dcc0-281ed6a4c1e6",
        "colab": {
          "base_uri": "https://localhost:8080/",
          "height": 221
        }
      },
      "source": [
        "ufo ['City']"
      ],
      "execution_count": 13,
      "outputs": [
        {
          "output_type": "execute_result",
          "data": {
            "text/plain": [
              "0                      Ithaca\n",
              "1                 Willingboro\n",
              "2                     Holyoke\n",
              "3                     Abilene\n",
              "4        New York Worlds Fair\n",
              "                 ...         \n",
              "18236              Grant Park\n",
              "18237             Spirit Lake\n",
              "18238             Eagle River\n",
              "18239             Eagle River\n",
              "18240                    Ybor\n",
              "Name: City, Length: 18241, dtype: object"
            ]
          },
          "metadata": {
            "tags": []
          },
          "execution_count": 13
        }
      ]
    },
    {
      "cell_type": "code",
      "metadata": {
        "id": "sm5VF2gCsQvh",
        "colab_type": "code",
        "outputId": "ead8523b-3b11-4c79-cd3a-8989c83bc0d0",
        "colab": {
          "base_uri": "https://localhost:8080/",
          "height": 34
        }
      },
      "source": [
        "type (ufo['City'])"
      ],
      "execution_count": 14,
      "outputs": [
        {
          "output_type": "execute_result",
          "data": {
            "text/plain": [
              "pandas.core.series.Series"
            ]
          },
          "metadata": {
            "tags": []
          },
          "execution_count": 14
        }
      ]
    },
    {
      "cell_type": "code",
      "metadata": {
        "id": "d9r8gk5bsbC3",
        "colab_type": "code",
        "outputId": "46acd2d4-d1df-4ecb-f803-05d9b07d6a67",
        "colab": {
          "base_uri": "https://localhost:8080/",
          "height": 221
        }
      },
      "source": [
        "ufo.City"
      ],
      "execution_count": 15,
      "outputs": [
        {
          "output_type": "execute_result",
          "data": {
            "text/plain": [
              "0                      Ithaca\n",
              "1                 Willingboro\n",
              "2                     Holyoke\n",
              "3                     Abilene\n",
              "4        New York Worlds Fair\n",
              "                 ...         \n",
              "18236              Grant Park\n",
              "18237             Spirit Lake\n",
              "18238             Eagle River\n",
              "18239             Eagle River\n",
              "18240                    Ybor\n",
              "Name: City, Length: 18241, dtype: object"
            ]
          },
          "metadata": {
            "tags": []
          },
          "execution_count": 15
        }
      ]
    },
    {
      "cell_type": "code",
      "metadata": {
        "id": "OJ36KT_8sjXu",
        "colab_type": "code",
        "outputId": "d395d649-3a33-4950-867f-b329a7a8471f",
        "colab": {
          "base_uri": "https://localhost:8080/",
          "height": 221
        }
      },
      "source": [
        "ufo['Colors Reported']"
      ],
      "execution_count": 16,
      "outputs": [
        {
          "output_type": "execute_result",
          "data": {
            "text/plain": [
              "0        NaN\n",
              "1        NaN\n",
              "2        NaN\n",
              "3        NaN\n",
              "4        NaN\n",
              "        ... \n",
              "18236    NaN\n",
              "18237    NaN\n",
              "18238    NaN\n",
              "18239    RED\n",
              "18240    NaN\n",
              "Name: Colors Reported, Length: 18241, dtype: object"
            ]
          },
          "metadata": {
            "tags": []
          },
          "execution_count": 16
        }
      ]
    },
    {
      "cell_type": "code",
      "metadata": {
        "id": "AIMdYTGZs5o7",
        "colab_type": "code",
        "outputId": "77512a0b-039f-4022-f8cc-7cfa2cd3b18a",
        "colab": {
          "base_uri": "https://localhost:8080/",
          "height": 34
        }
      },
      "source": [
        "ufo.shape"
      ],
      "execution_count": 17,
      "outputs": [
        {
          "output_type": "execute_result",
          "data": {
            "text/plain": [
              "(18241, 5)"
            ]
          },
          "metadata": {
            "tags": []
          },
          "execution_count": 17
        }
      ]
    },
    {
      "cell_type": "code",
      "metadata": {
        "id": "eeGtBc0htav0",
        "colab_type": "code",
        "outputId": "6941d9aa-2985-4550-bcfe-c8727fc893bf",
        "colab": {
          "base_uri": "https://localhost:8080/",
          "height": 34
        }
      },
      "source": [
        "'ab' + 'cd'"
      ],
      "execution_count": 18,
      "outputs": [
        {
          "output_type": "execute_result",
          "data": {
            "text/plain": [
              "'abcd'"
            ]
          },
          "metadata": {
            "tags": []
          },
          "execution_count": 18
        }
      ]
    },
    {
      "cell_type": "code",
      "metadata": {
        "id": "z8vDJsW9tSV_",
        "colab_type": "code",
        "colab": {}
      },
      "source": [
        "ufo['Location'] = ufo.City + ',' + ufo.State"
      ],
      "execution_count": 0,
      "outputs": []
    },
    {
      "cell_type": "code",
      "metadata": {
        "id": "UaVr6J3ctjkj",
        "colab_type": "code",
        "outputId": "5fadefe7-f983-4a62-d96f-841213993f52",
        "colab": {
          "base_uri": "https://localhost:8080/",
          "height": 204
        }
      },
      "source": [
        "ufo.head()"
      ],
      "execution_count": 20,
      "outputs": [
        {
          "output_type": "execute_result",
          "data": {
            "text/html": [
              "<div>\n",
              "<style scoped>\n",
              "    .dataframe tbody tr th:only-of-type {\n",
              "        vertical-align: middle;\n",
              "    }\n",
              "\n",
              "    .dataframe tbody tr th {\n",
              "        vertical-align: top;\n",
              "    }\n",
              "\n",
              "    .dataframe thead th {\n",
              "        text-align: right;\n",
              "    }\n",
              "</style>\n",
              "<table border=\"1\" class=\"dataframe\">\n",
              "  <thead>\n",
              "    <tr style=\"text-align: right;\">\n",
              "      <th></th>\n",
              "      <th>City</th>\n",
              "      <th>Colors Reported</th>\n",
              "      <th>Shape Reported</th>\n",
              "      <th>State</th>\n",
              "      <th>Time</th>\n",
              "      <th>Location</th>\n",
              "    </tr>\n",
              "  </thead>\n",
              "  <tbody>\n",
              "    <tr>\n",
              "      <th>0</th>\n",
              "      <td>Ithaca</td>\n",
              "      <td>NaN</td>\n",
              "      <td>TRIANGLE</td>\n",
              "      <td>NY</td>\n",
              "      <td>6/1/1930 22:00</td>\n",
              "      <td>Ithaca,NY</td>\n",
              "    </tr>\n",
              "    <tr>\n",
              "      <th>1</th>\n",
              "      <td>Willingboro</td>\n",
              "      <td>NaN</td>\n",
              "      <td>OTHER</td>\n",
              "      <td>NJ</td>\n",
              "      <td>6/30/1930 20:00</td>\n",
              "      <td>Willingboro,NJ</td>\n",
              "    </tr>\n",
              "    <tr>\n",
              "      <th>2</th>\n",
              "      <td>Holyoke</td>\n",
              "      <td>NaN</td>\n",
              "      <td>OVAL</td>\n",
              "      <td>CO</td>\n",
              "      <td>2/15/1931 14:00</td>\n",
              "      <td>Holyoke,CO</td>\n",
              "    </tr>\n",
              "    <tr>\n",
              "      <th>3</th>\n",
              "      <td>Abilene</td>\n",
              "      <td>NaN</td>\n",
              "      <td>DISK</td>\n",
              "      <td>KS</td>\n",
              "      <td>6/1/1931 13:00</td>\n",
              "      <td>Abilene,KS</td>\n",
              "    </tr>\n",
              "    <tr>\n",
              "      <th>4</th>\n",
              "      <td>New York Worlds Fair</td>\n",
              "      <td>NaN</td>\n",
              "      <td>LIGHT</td>\n",
              "      <td>NY</td>\n",
              "      <td>4/18/1933 19:00</td>\n",
              "      <td>New York Worlds Fair,NY</td>\n",
              "    </tr>\n",
              "  </tbody>\n",
              "</table>\n",
              "</div>"
            ],
            "text/plain": [
              "                   City  ...                 Location\n",
              "0                Ithaca  ...                Ithaca,NY\n",
              "1           Willingboro  ...           Willingboro,NJ\n",
              "2               Holyoke  ...               Holyoke,CO\n",
              "3               Abilene  ...               Abilene,KS\n",
              "4  New York Worlds Fair  ...  New York Worlds Fair,NY\n",
              "\n",
              "[5 rows x 6 columns]"
            ]
          },
          "metadata": {
            "tags": []
          },
          "execution_count": 20
        }
      ]
    },
    {
      "cell_type": "code",
      "metadata": {
        "id": "TfZ_xhSUt9J9",
        "colab_type": "code",
        "colab": {}
      },
      "source": [
        "#Video 4: Why do some pandas commands end with parenthese and other commands don't?"
      ],
      "execution_count": 0,
      "outputs": []
    },
    {
      "cell_type": "code",
      "metadata": {
        "id": "zH8erWI_uJ31",
        "colab_type": "code",
        "colab": {}
      },
      "source": [
        "movies = pd.read_csv('http://bit.ly/imdbratings')"
      ],
      "execution_count": 0,
      "outputs": []
    },
    {
      "cell_type": "code",
      "metadata": {
        "id": "_Jq3-6IvuS0B",
        "colab_type": "code",
        "outputId": "61c3db04-8154-439c-8c92-64a1c3782307",
        "colab": {
          "base_uri": "https://localhost:8080/",
          "height": 204
        }
      },
      "source": [
        "movies.head()"
      ],
      "execution_count": 23,
      "outputs": [
        {
          "output_type": "execute_result",
          "data": {
            "text/html": [
              "<div>\n",
              "<style scoped>\n",
              "    .dataframe tbody tr th:only-of-type {\n",
              "        vertical-align: middle;\n",
              "    }\n",
              "\n",
              "    .dataframe tbody tr th {\n",
              "        vertical-align: top;\n",
              "    }\n",
              "\n",
              "    .dataframe thead th {\n",
              "        text-align: right;\n",
              "    }\n",
              "</style>\n",
              "<table border=\"1\" class=\"dataframe\">\n",
              "  <thead>\n",
              "    <tr style=\"text-align: right;\">\n",
              "      <th></th>\n",
              "      <th>star_rating</th>\n",
              "      <th>title</th>\n",
              "      <th>content_rating</th>\n",
              "      <th>genre</th>\n",
              "      <th>duration</th>\n",
              "      <th>actors_list</th>\n",
              "    </tr>\n",
              "  </thead>\n",
              "  <tbody>\n",
              "    <tr>\n",
              "      <th>0</th>\n",
              "      <td>9.3</td>\n",
              "      <td>The Shawshank Redemption</td>\n",
              "      <td>R</td>\n",
              "      <td>Crime</td>\n",
              "      <td>142</td>\n",
              "      <td>[u'Tim Robbins', u'Morgan Freeman', u'Bob Gunt...</td>\n",
              "    </tr>\n",
              "    <tr>\n",
              "      <th>1</th>\n",
              "      <td>9.2</td>\n",
              "      <td>The Godfather</td>\n",
              "      <td>R</td>\n",
              "      <td>Crime</td>\n",
              "      <td>175</td>\n",
              "      <td>[u'Marlon Brando', u'Al Pacino', u'James Caan']</td>\n",
              "    </tr>\n",
              "    <tr>\n",
              "      <th>2</th>\n",
              "      <td>9.1</td>\n",
              "      <td>The Godfather: Part II</td>\n",
              "      <td>R</td>\n",
              "      <td>Crime</td>\n",
              "      <td>200</td>\n",
              "      <td>[u'Al Pacino', u'Robert De Niro', u'Robert Duv...</td>\n",
              "    </tr>\n",
              "    <tr>\n",
              "      <th>3</th>\n",
              "      <td>9.0</td>\n",
              "      <td>The Dark Knight</td>\n",
              "      <td>PG-13</td>\n",
              "      <td>Action</td>\n",
              "      <td>152</td>\n",
              "      <td>[u'Christian Bale', u'Heath Ledger', u'Aaron E...</td>\n",
              "    </tr>\n",
              "    <tr>\n",
              "      <th>4</th>\n",
              "      <td>8.9</td>\n",
              "      <td>Pulp Fiction</td>\n",
              "      <td>R</td>\n",
              "      <td>Crime</td>\n",
              "      <td>154</td>\n",
              "      <td>[u'John Travolta', u'Uma Thurman', u'Samuel L....</td>\n",
              "    </tr>\n",
              "  </tbody>\n",
              "</table>\n",
              "</div>"
            ],
            "text/plain": [
              "   star_rating  ...                                        actors_list\n",
              "0          9.3  ...  [u'Tim Robbins', u'Morgan Freeman', u'Bob Gunt...\n",
              "1          9.2  ...    [u'Marlon Brando', u'Al Pacino', u'James Caan']\n",
              "2          9.1  ...  [u'Al Pacino', u'Robert De Niro', u'Robert Duv...\n",
              "3          9.0  ...  [u'Christian Bale', u'Heath Ledger', u'Aaron E...\n",
              "4          8.9  ...  [u'John Travolta', u'Uma Thurman', u'Samuel L....\n",
              "\n",
              "[5 rows x 6 columns]"
            ]
          },
          "metadata": {
            "tags": []
          },
          "execution_count": 23
        }
      ]
    },
    {
      "cell_type": "code",
      "metadata": {
        "id": "AFXob_XJug2_",
        "colab_type": "code",
        "outputId": "9dea813f-ba72-46fc-9581-1fa3cba459b9",
        "colab": {
          "base_uri": "https://localhost:8080/",
          "height": 297
        }
      },
      "source": [
        "movies.describe() #descriptive statistics of any numeric columns you have in the dataframe"
      ],
      "execution_count": 24,
      "outputs": [
        {
          "output_type": "execute_result",
          "data": {
            "text/html": [
              "<div>\n",
              "<style scoped>\n",
              "    .dataframe tbody tr th:only-of-type {\n",
              "        vertical-align: middle;\n",
              "    }\n",
              "\n",
              "    .dataframe tbody tr th {\n",
              "        vertical-align: top;\n",
              "    }\n",
              "\n",
              "    .dataframe thead th {\n",
              "        text-align: right;\n",
              "    }\n",
              "</style>\n",
              "<table border=\"1\" class=\"dataframe\">\n",
              "  <thead>\n",
              "    <tr style=\"text-align: right;\">\n",
              "      <th></th>\n",
              "      <th>star_rating</th>\n",
              "      <th>duration</th>\n",
              "    </tr>\n",
              "  </thead>\n",
              "  <tbody>\n",
              "    <tr>\n",
              "      <th>count</th>\n",
              "      <td>979.000000</td>\n",
              "      <td>979.000000</td>\n",
              "    </tr>\n",
              "    <tr>\n",
              "      <th>mean</th>\n",
              "      <td>7.889785</td>\n",
              "      <td>120.979571</td>\n",
              "    </tr>\n",
              "    <tr>\n",
              "      <th>std</th>\n",
              "      <td>0.336069</td>\n",
              "      <td>26.218010</td>\n",
              "    </tr>\n",
              "    <tr>\n",
              "      <th>min</th>\n",
              "      <td>7.400000</td>\n",
              "      <td>64.000000</td>\n",
              "    </tr>\n",
              "    <tr>\n",
              "      <th>25%</th>\n",
              "      <td>7.600000</td>\n",
              "      <td>102.000000</td>\n",
              "    </tr>\n",
              "    <tr>\n",
              "      <th>50%</th>\n",
              "      <td>7.800000</td>\n",
              "      <td>117.000000</td>\n",
              "    </tr>\n",
              "    <tr>\n",
              "      <th>75%</th>\n",
              "      <td>8.100000</td>\n",
              "      <td>134.000000</td>\n",
              "    </tr>\n",
              "    <tr>\n",
              "      <th>max</th>\n",
              "      <td>9.300000</td>\n",
              "      <td>242.000000</td>\n",
              "    </tr>\n",
              "  </tbody>\n",
              "</table>\n",
              "</div>"
            ],
            "text/plain": [
              "       star_rating    duration\n",
              "count   979.000000  979.000000\n",
              "mean      7.889785  120.979571\n",
              "std       0.336069   26.218010\n",
              "min       7.400000   64.000000\n",
              "25%       7.600000  102.000000\n",
              "50%       7.800000  117.000000\n",
              "75%       8.100000  134.000000\n",
              "max       9.300000  242.000000"
            ]
          },
          "metadata": {
            "tags": []
          },
          "execution_count": 24
        }
      ]
    },
    {
      "cell_type": "code",
      "metadata": {
        "id": "aLH9UzwNukoU",
        "colab_type": "code",
        "outputId": "67020aed-6d1c-41e0-8d16-54628a1a86fe",
        "colab": {
          "base_uri": "https://localhost:8080/",
          "height": 34
        }
      },
      "source": [
        "movies.shape"
      ],
      "execution_count": 25,
      "outputs": [
        {
          "output_type": "execute_result",
          "data": {
            "text/plain": [
              "(979, 6)"
            ]
          },
          "metadata": {
            "tags": []
          },
          "execution_count": 25
        }
      ]
    },
    {
      "cell_type": "code",
      "metadata": {
        "id": "zX8XAvFsu0eg",
        "colab_type": "code",
        "outputId": "0b836a4a-3666-4ad8-de47-a72743b0def5",
        "colab": {
          "base_uri": "https://localhost:8080/",
          "height": 136
        }
      },
      "source": [
        "movies.dtypes # movie is a dataframe and the datatypes is a method to check each types in the columns"
      ],
      "execution_count": 26,
      "outputs": [
        {
          "output_type": "execute_result",
          "data": {
            "text/plain": [
              "star_rating       float64\n",
              "title              object\n",
              "content_rating     object\n",
              "genre              object\n",
              "duration            int64\n",
              "actors_list        object\n",
              "dtype: object"
            ]
          },
          "metadata": {
            "tags": []
          },
          "execution_count": 26
        }
      ]
    },
    {
      "cell_type": "code",
      "metadata": {
        "id": "Bs9qQzVNu2-C",
        "colab_type": "code",
        "outputId": "a5d1df5c-e1a0-41c8-b76d-1cc760e28256",
        "colab": {
          "base_uri": "https://localhost:8080/",
          "height": 34
        }
      },
      "source": [
        "type(movies)"
      ],
      "execution_count": 27,
      "outputs": [
        {
          "output_type": "execute_result",
          "data": {
            "text/plain": [
              "pandas.core.frame.DataFrame"
            ]
          },
          "metadata": {
            "tags": []
          },
          "execution_count": 27
        }
      ]
    },
    {
      "cell_type": "code",
      "metadata": {
        "id": "VjNMIFqHu_V4",
        "colab_type": "code",
        "outputId": "74aeaef4-9f4e-45d7-97e6-bbf0099708c0",
        "colab": {
          "base_uri": "https://localhost:8080/",
          "height": 173
        }
      },
      "source": [
        "movies.describe(include = ['object']) # this will only pull counts from columns that are 'object'"
      ],
      "execution_count": 28,
      "outputs": [
        {
          "output_type": "execute_result",
          "data": {
            "text/html": [
              "<div>\n",
              "<style scoped>\n",
              "    .dataframe tbody tr th:only-of-type {\n",
              "        vertical-align: middle;\n",
              "    }\n",
              "\n",
              "    .dataframe tbody tr th {\n",
              "        vertical-align: top;\n",
              "    }\n",
              "\n",
              "    .dataframe thead th {\n",
              "        text-align: right;\n",
              "    }\n",
              "</style>\n",
              "<table border=\"1\" class=\"dataframe\">\n",
              "  <thead>\n",
              "    <tr style=\"text-align: right;\">\n",
              "      <th></th>\n",
              "      <th>title</th>\n",
              "      <th>content_rating</th>\n",
              "      <th>genre</th>\n",
              "      <th>actors_list</th>\n",
              "    </tr>\n",
              "  </thead>\n",
              "  <tbody>\n",
              "    <tr>\n",
              "      <th>count</th>\n",
              "      <td>979</td>\n",
              "      <td>976</td>\n",
              "      <td>979</td>\n",
              "      <td>979</td>\n",
              "    </tr>\n",
              "    <tr>\n",
              "      <th>unique</th>\n",
              "      <td>975</td>\n",
              "      <td>12</td>\n",
              "      <td>16</td>\n",
              "      <td>969</td>\n",
              "    </tr>\n",
              "    <tr>\n",
              "      <th>top</th>\n",
              "      <td>Dracula</td>\n",
              "      <td>R</td>\n",
              "      <td>Drama</td>\n",
              "      <td>[u'Daniel Radcliffe', u'Emma Watson', u'Rupert...</td>\n",
              "    </tr>\n",
              "    <tr>\n",
              "      <th>freq</th>\n",
              "      <td>2</td>\n",
              "      <td>460</td>\n",
              "      <td>278</td>\n",
              "      <td>6</td>\n",
              "    </tr>\n",
              "  </tbody>\n",
              "</table>\n",
              "</div>"
            ],
            "text/plain": [
              "          title  ...                                        actors_list\n",
              "count       979  ...                                                979\n",
              "unique      975  ...                                                969\n",
              "top     Dracula  ...  [u'Daniel Radcliffe', u'Emma Watson', u'Rupert...\n",
              "freq          2  ...                                                  6\n",
              "\n",
              "[4 rows x 4 columns]"
            ]
          },
          "metadata": {
            "tags": []
          },
          "execution_count": 28
        }
      ]
    },
    {
      "cell_type": "code",
      "metadata": {
        "id": "C1VEX-XlvmfJ",
        "colab_type": "code",
        "colab": {}
      },
      "source": [
        "#Video 5: How do I rename a column in pandas dataframe? "
      ],
      "execution_count": 0,
      "outputs": []
    },
    {
      "cell_type": "code",
      "metadata": {
        "id": "lhPfBFekwQdN",
        "colab_type": "code",
        "colab": {}
      },
      "source": [
        "ufo = pd.read_csv('http://bit.ly/uforeports')"
      ],
      "execution_count": 0,
      "outputs": []
    },
    {
      "cell_type": "code",
      "metadata": {
        "id": "8vE2a1o8wggg",
        "colab_type": "code",
        "outputId": "30d961ec-470a-4cda-b2fd-6149f33ee2ec",
        "colab": {
          "base_uri": "https://localhost:8080/",
          "height": 204
        }
      },
      "source": [
        "ufo.head()"
      ],
      "execution_count": 31,
      "outputs": [
        {
          "output_type": "execute_result",
          "data": {
            "text/html": [
              "<div>\n",
              "<style scoped>\n",
              "    .dataframe tbody tr th:only-of-type {\n",
              "        vertical-align: middle;\n",
              "    }\n",
              "\n",
              "    .dataframe tbody tr th {\n",
              "        vertical-align: top;\n",
              "    }\n",
              "\n",
              "    .dataframe thead th {\n",
              "        text-align: right;\n",
              "    }\n",
              "</style>\n",
              "<table border=\"1\" class=\"dataframe\">\n",
              "  <thead>\n",
              "    <tr style=\"text-align: right;\">\n",
              "      <th></th>\n",
              "      <th>City</th>\n",
              "      <th>Colors Reported</th>\n",
              "      <th>Shape Reported</th>\n",
              "      <th>State</th>\n",
              "      <th>Time</th>\n",
              "    </tr>\n",
              "  </thead>\n",
              "  <tbody>\n",
              "    <tr>\n",
              "      <th>0</th>\n",
              "      <td>Ithaca</td>\n",
              "      <td>NaN</td>\n",
              "      <td>TRIANGLE</td>\n",
              "      <td>NY</td>\n",
              "      <td>6/1/1930 22:00</td>\n",
              "    </tr>\n",
              "    <tr>\n",
              "      <th>1</th>\n",
              "      <td>Willingboro</td>\n",
              "      <td>NaN</td>\n",
              "      <td>OTHER</td>\n",
              "      <td>NJ</td>\n",
              "      <td>6/30/1930 20:00</td>\n",
              "    </tr>\n",
              "    <tr>\n",
              "      <th>2</th>\n",
              "      <td>Holyoke</td>\n",
              "      <td>NaN</td>\n",
              "      <td>OVAL</td>\n",
              "      <td>CO</td>\n",
              "      <td>2/15/1931 14:00</td>\n",
              "    </tr>\n",
              "    <tr>\n",
              "      <th>3</th>\n",
              "      <td>Abilene</td>\n",
              "      <td>NaN</td>\n",
              "      <td>DISK</td>\n",
              "      <td>KS</td>\n",
              "      <td>6/1/1931 13:00</td>\n",
              "    </tr>\n",
              "    <tr>\n",
              "      <th>4</th>\n",
              "      <td>New York Worlds Fair</td>\n",
              "      <td>NaN</td>\n",
              "      <td>LIGHT</td>\n",
              "      <td>NY</td>\n",
              "      <td>4/18/1933 19:00</td>\n",
              "    </tr>\n",
              "  </tbody>\n",
              "</table>\n",
              "</div>"
            ],
            "text/plain": [
              "                   City Colors Reported Shape Reported State             Time\n",
              "0                Ithaca             NaN       TRIANGLE    NY   6/1/1930 22:00\n",
              "1           Willingboro             NaN          OTHER    NJ  6/30/1930 20:00\n",
              "2               Holyoke             NaN           OVAL    CO  2/15/1931 14:00\n",
              "3               Abilene             NaN           DISK    KS   6/1/1931 13:00\n",
              "4  New York Worlds Fair             NaN          LIGHT    NY  4/18/1933 19:00"
            ]
          },
          "metadata": {
            "tags": []
          },
          "execution_count": 31
        }
      ]
    },
    {
      "cell_type": "code",
      "metadata": {
        "id": "d752dx41wmT7",
        "colab_type": "code",
        "outputId": "538a303c-0aa3-42cf-bb07-78b9a712e435",
        "colab": {
          "base_uri": "https://localhost:8080/",
          "height": 34
        }
      },
      "source": [
        "ufo.columns"
      ],
      "execution_count": 32,
      "outputs": [
        {
          "output_type": "execute_result",
          "data": {
            "text/plain": [
              "Index(['City', 'Colors Reported', 'Shape Reported', 'State', 'Time'], dtype='object')"
            ]
          },
          "metadata": {
            "tags": []
          },
          "execution_count": 32
        }
      ]
    },
    {
      "cell_type": "code",
      "metadata": {
        "id": "1Pwy3AaDwrhi",
        "colab_type": "code",
        "colab": {}
      },
      "source": [
        "ufo.rename(columns = {'Colors Reported':'Colors_Reported', 'Shape Reported': 'Shape_Reproted'}, inplace = True)"
      ],
      "execution_count": 0,
      "outputs": []
    },
    {
      "cell_type": "code",
      "metadata": {
        "id": "QqgovbkOxLi7",
        "colab_type": "code",
        "outputId": "d926408f-630e-486e-d4ca-bb7574033a8c",
        "colab": {
          "base_uri": "https://localhost:8080/",
          "height": 34
        }
      },
      "source": [
        "ufo.columns"
      ],
      "execution_count": 34,
      "outputs": [
        {
          "output_type": "execute_result",
          "data": {
            "text/plain": [
              "Index(['City', 'Colors_Reported', 'Shape_Reproted', 'State', 'Time'], dtype='object')"
            ]
          },
          "metadata": {
            "tags": []
          },
          "execution_count": 34
        }
      ]
    },
    {
      "cell_type": "code",
      "metadata": {
        "id": "yjtX4e2KxM-h",
        "colab_type": "code",
        "colab": {}
      },
      "source": [
        "ufo_cols = ['city', 'colors reported', 'shape reported', 'state', 'time']"
      ],
      "execution_count": 0,
      "outputs": []
    },
    {
      "cell_type": "code",
      "metadata": {
        "id": "nlxsV9dWyB2S",
        "colab_type": "code",
        "colab": {}
      },
      "source": [
        "ufo.columns = ufo_cols # to Rewrite all the columns heading at once"
      ],
      "execution_count": 0,
      "outputs": []
    },
    {
      "cell_type": "code",
      "metadata": {
        "id": "gGPKf03wyEhH",
        "colab_type": "code",
        "outputId": "1ac854b9-a62e-4a5a-f25f-d96b8cd099b1",
        "colab": {
          "base_uri": "https://localhost:8080/",
          "height": 204
        }
      },
      "source": [
        "ufo.head()"
      ],
      "execution_count": 37,
      "outputs": [
        {
          "output_type": "execute_result",
          "data": {
            "text/html": [
              "<div>\n",
              "<style scoped>\n",
              "    .dataframe tbody tr th:only-of-type {\n",
              "        vertical-align: middle;\n",
              "    }\n",
              "\n",
              "    .dataframe tbody tr th {\n",
              "        vertical-align: top;\n",
              "    }\n",
              "\n",
              "    .dataframe thead th {\n",
              "        text-align: right;\n",
              "    }\n",
              "</style>\n",
              "<table border=\"1\" class=\"dataframe\">\n",
              "  <thead>\n",
              "    <tr style=\"text-align: right;\">\n",
              "      <th></th>\n",
              "      <th>city</th>\n",
              "      <th>colors reported</th>\n",
              "      <th>shape reported</th>\n",
              "      <th>state</th>\n",
              "      <th>time</th>\n",
              "    </tr>\n",
              "  </thead>\n",
              "  <tbody>\n",
              "    <tr>\n",
              "      <th>0</th>\n",
              "      <td>Ithaca</td>\n",
              "      <td>NaN</td>\n",
              "      <td>TRIANGLE</td>\n",
              "      <td>NY</td>\n",
              "      <td>6/1/1930 22:00</td>\n",
              "    </tr>\n",
              "    <tr>\n",
              "      <th>1</th>\n",
              "      <td>Willingboro</td>\n",
              "      <td>NaN</td>\n",
              "      <td>OTHER</td>\n",
              "      <td>NJ</td>\n",
              "      <td>6/30/1930 20:00</td>\n",
              "    </tr>\n",
              "    <tr>\n",
              "      <th>2</th>\n",
              "      <td>Holyoke</td>\n",
              "      <td>NaN</td>\n",
              "      <td>OVAL</td>\n",
              "      <td>CO</td>\n",
              "      <td>2/15/1931 14:00</td>\n",
              "    </tr>\n",
              "    <tr>\n",
              "      <th>3</th>\n",
              "      <td>Abilene</td>\n",
              "      <td>NaN</td>\n",
              "      <td>DISK</td>\n",
              "      <td>KS</td>\n",
              "      <td>6/1/1931 13:00</td>\n",
              "    </tr>\n",
              "    <tr>\n",
              "      <th>4</th>\n",
              "      <td>New York Worlds Fair</td>\n",
              "      <td>NaN</td>\n",
              "      <td>LIGHT</td>\n",
              "      <td>NY</td>\n",
              "      <td>4/18/1933 19:00</td>\n",
              "    </tr>\n",
              "  </tbody>\n",
              "</table>\n",
              "</div>"
            ],
            "text/plain": [
              "                   city colors reported shape reported state             time\n",
              "0                Ithaca             NaN       TRIANGLE    NY   6/1/1930 22:00\n",
              "1           Willingboro             NaN          OTHER    NJ  6/30/1930 20:00\n",
              "2               Holyoke             NaN           OVAL    CO  2/15/1931 14:00\n",
              "3               Abilene             NaN           DISK    KS   6/1/1931 13:00\n",
              "4  New York Worlds Fair             NaN          LIGHT    NY  4/18/1933 19:00"
            ]
          },
          "metadata": {
            "tags": []
          },
          "execution_count": 37
        }
      ]
    },
    {
      "cell_type": "code",
      "metadata": {
        "id": "N722QPamyFtr",
        "colab_type": "code",
        "colab": {}
      },
      "source": [
        "ufo = pd.read_csv('http://bit.ly/uforeports', names = ufo_cols, header = 0) #assign headers when pulling the file"
      ],
      "execution_count": 0,
      "outputs": []
    },
    {
      "cell_type": "code",
      "metadata": {
        "id": "j1H1_vKFyZUJ",
        "colab_type": "code",
        "outputId": "30d225bc-b27a-4c65-b2fe-18b416a848e7",
        "colab": {
          "base_uri": "https://localhost:8080/",
          "height": 204
        }
      },
      "source": [
        "ufo.head()"
      ],
      "execution_count": 39,
      "outputs": [
        {
          "output_type": "execute_result",
          "data": {
            "text/html": [
              "<div>\n",
              "<style scoped>\n",
              "    .dataframe tbody tr th:only-of-type {\n",
              "        vertical-align: middle;\n",
              "    }\n",
              "\n",
              "    .dataframe tbody tr th {\n",
              "        vertical-align: top;\n",
              "    }\n",
              "\n",
              "    .dataframe thead th {\n",
              "        text-align: right;\n",
              "    }\n",
              "</style>\n",
              "<table border=\"1\" class=\"dataframe\">\n",
              "  <thead>\n",
              "    <tr style=\"text-align: right;\">\n",
              "      <th></th>\n",
              "      <th>city</th>\n",
              "      <th>colors reported</th>\n",
              "      <th>shape reported</th>\n",
              "      <th>state</th>\n",
              "      <th>time</th>\n",
              "    </tr>\n",
              "  </thead>\n",
              "  <tbody>\n",
              "    <tr>\n",
              "      <th>0</th>\n",
              "      <td>Ithaca</td>\n",
              "      <td>NaN</td>\n",
              "      <td>TRIANGLE</td>\n",
              "      <td>NY</td>\n",
              "      <td>6/1/1930 22:00</td>\n",
              "    </tr>\n",
              "    <tr>\n",
              "      <th>1</th>\n",
              "      <td>Willingboro</td>\n",
              "      <td>NaN</td>\n",
              "      <td>OTHER</td>\n",
              "      <td>NJ</td>\n",
              "      <td>6/30/1930 20:00</td>\n",
              "    </tr>\n",
              "    <tr>\n",
              "      <th>2</th>\n",
              "      <td>Holyoke</td>\n",
              "      <td>NaN</td>\n",
              "      <td>OVAL</td>\n",
              "      <td>CO</td>\n",
              "      <td>2/15/1931 14:00</td>\n",
              "    </tr>\n",
              "    <tr>\n",
              "      <th>3</th>\n",
              "      <td>Abilene</td>\n",
              "      <td>NaN</td>\n",
              "      <td>DISK</td>\n",
              "      <td>KS</td>\n",
              "      <td>6/1/1931 13:00</td>\n",
              "    </tr>\n",
              "    <tr>\n",
              "      <th>4</th>\n",
              "      <td>New York Worlds Fair</td>\n",
              "      <td>NaN</td>\n",
              "      <td>LIGHT</td>\n",
              "      <td>NY</td>\n",
              "      <td>4/18/1933 19:00</td>\n",
              "    </tr>\n",
              "  </tbody>\n",
              "</table>\n",
              "</div>"
            ],
            "text/plain": [
              "                   city colors reported shape reported state             time\n",
              "0                Ithaca             NaN       TRIANGLE    NY   6/1/1930 22:00\n",
              "1           Willingboro             NaN          OTHER    NJ  6/30/1930 20:00\n",
              "2               Holyoke             NaN           OVAL    CO  2/15/1931 14:00\n",
              "3               Abilene             NaN           DISK    KS   6/1/1931 13:00\n",
              "4  New York Worlds Fair             NaN          LIGHT    NY  4/18/1933 19:00"
            ]
          },
          "metadata": {
            "tags": []
          },
          "execution_count": 39
        }
      ]
    },
    {
      "cell_type": "code",
      "metadata": {
        "id": "JYVJP8ntya7k",
        "colab_type": "code",
        "colab": {}
      },
      "source": [
        "#to replace all the spaces with _\n",
        "ufo.columns = ufo.columns.str.replace(' ','_')"
      ],
      "execution_count": 0,
      "outputs": []
    },
    {
      "cell_type": "code",
      "metadata": {
        "id": "Jo8v4cPByoFQ",
        "colab_type": "code",
        "outputId": "aeb7e964-6962-41c8-b9fa-5ceea8fe6e5e",
        "colab": {
          "base_uri": "https://localhost:8080/",
          "height": 34
        }
      },
      "source": [
        "ufo.columns"
      ],
      "execution_count": 41,
      "outputs": [
        {
          "output_type": "execute_result",
          "data": {
            "text/plain": [
              "Index(['city', 'colors_reported', 'shape_reported', 'state', 'time'], dtype='object')"
            ]
          },
          "metadata": {
            "tags": []
          },
          "execution_count": 41
        }
      ]
    },
    {
      "cell_type": "code",
      "metadata": {
        "id": "YCl2E2VnyySI",
        "colab_type": "code",
        "colab": {}
      },
      "source": [
        "#Video 6: How do I remove columns from panda dataframe"
      ],
      "execution_count": 0,
      "outputs": []
    },
    {
      "cell_type": "code",
      "metadata": {
        "id": "JpSVv-sFy-mq",
        "colab_type": "code",
        "colab": {}
      },
      "source": [
        "ufo = pd.read_csv('http://bit.ly/uforeports')"
      ],
      "execution_count": 0,
      "outputs": []
    },
    {
      "cell_type": "code",
      "metadata": {
        "id": "19gqCLsPzWYt",
        "colab_type": "code",
        "outputId": "7f957dbf-d826-4150-95cb-7280b8ea3193",
        "colab": {
          "base_uri": "https://localhost:8080/",
          "height": 204
        }
      },
      "source": [
        "ufo.head()"
      ],
      "execution_count": 44,
      "outputs": [
        {
          "output_type": "execute_result",
          "data": {
            "text/html": [
              "<div>\n",
              "<style scoped>\n",
              "    .dataframe tbody tr th:only-of-type {\n",
              "        vertical-align: middle;\n",
              "    }\n",
              "\n",
              "    .dataframe tbody tr th {\n",
              "        vertical-align: top;\n",
              "    }\n",
              "\n",
              "    .dataframe thead th {\n",
              "        text-align: right;\n",
              "    }\n",
              "</style>\n",
              "<table border=\"1\" class=\"dataframe\">\n",
              "  <thead>\n",
              "    <tr style=\"text-align: right;\">\n",
              "      <th></th>\n",
              "      <th>City</th>\n",
              "      <th>Colors Reported</th>\n",
              "      <th>Shape Reported</th>\n",
              "      <th>State</th>\n",
              "      <th>Time</th>\n",
              "    </tr>\n",
              "  </thead>\n",
              "  <tbody>\n",
              "    <tr>\n",
              "      <th>0</th>\n",
              "      <td>Ithaca</td>\n",
              "      <td>NaN</td>\n",
              "      <td>TRIANGLE</td>\n",
              "      <td>NY</td>\n",
              "      <td>6/1/1930 22:00</td>\n",
              "    </tr>\n",
              "    <tr>\n",
              "      <th>1</th>\n",
              "      <td>Willingboro</td>\n",
              "      <td>NaN</td>\n",
              "      <td>OTHER</td>\n",
              "      <td>NJ</td>\n",
              "      <td>6/30/1930 20:00</td>\n",
              "    </tr>\n",
              "    <tr>\n",
              "      <th>2</th>\n",
              "      <td>Holyoke</td>\n",
              "      <td>NaN</td>\n",
              "      <td>OVAL</td>\n",
              "      <td>CO</td>\n",
              "      <td>2/15/1931 14:00</td>\n",
              "    </tr>\n",
              "    <tr>\n",
              "      <th>3</th>\n",
              "      <td>Abilene</td>\n",
              "      <td>NaN</td>\n",
              "      <td>DISK</td>\n",
              "      <td>KS</td>\n",
              "      <td>6/1/1931 13:00</td>\n",
              "    </tr>\n",
              "    <tr>\n",
              "      <th>4</th>\n",
              "      <td>New York Worlds Fair</td>\n",
              "      <td>NaN</td>\n",
              "      <td>LIGHT</td>\n",
              "      <td>NY</td>\n",
              "      <td>4/18/1933 19:00</td>\n",
              "    </tr>\n",
              "  </tbody>\n",
              "</table>\n",
              "</div>"
            ],
            "text/plain": [
              "                   City Colors Reported Shape Reported State             Time\n",
              "0                Ithaca             NaN       TRIANGLE    NY   6/1/1930 22:00\n",
              "1           Willingboro             NaN          OTHER    NJ  6/30/1930 20:00\n",
              "2               Holyoke             NaN           OVAL    CO  2/15/1931 14:00\n",
              "3               Abilene             NaN           DISK    KS   6/1/1931 13:00\n",
              "4  New York Worlds Fair             NaN          LIGHT    NY  4/18/1933 19:00"
            ]
          },
          "metadata": {
            "tags": []
          },
          "execution_count": 44
        }
      ]
    },
    {
      "cell_type": "code",
      "metadata": {
        "id": "kvfw1QwzzYa9",
        "colab_type": "code",
        "outputId": "225f4944-231d-4c0b-ea6d-9c7cfd0e952e",
        "colab": {
          "base_uri": "https://localhost:8080/",
          "height": 34
        }
      },
      "source": [
        "ufo.shape"
      ],
      "execution_count": 45,
      "outputs": [
        {
          "output_type": "execute_result",
          "data": {
            "text/plain": [
              "(18241, 5)"
            ]
          },
          "metadata": {
            "tags": []
          },
          "execution_count": 45
        }
      ]
    },
    {
      "cell_type": "code",
      "metadata": {
        "id": "dGe0IMENzbNw",
        "colab_type": "code",
        "colab": {}
      },
      "source": [
        "ufo.drop('Colors Reported', axis = 1, inplace = True)"
      ],
      "execution_count": 0,
      "outputs": []
    },
    {
      "cell_type": "code",
      "metadata": {
        "id": "IKLS1y44zvWl",
        "colab_type": "code",
        "outputId": "4c4c4709-f4e7-4ab9-ccf6-34700b208cdb",
        "colab": {
          "base_uri": "https://localhost:8080/",
          "height": 204
        }
      },
      "source": [
        "ufo.head()"
      ],
      "execution_count": 47,
      "outputs": [
        {
          "output_type": "execute_result",
          "data": {
            "text/html": [
              "<div>\n",
              "<style scoped>\n",
              "    .dataframe tbody tr th:only-of-type {\n",
              "        vertical-align: middle;\n",
              "    }\n",
              "\n",
              "    .dataframe tbody tr th {\n",
              "        vertical-align: top;\n",
              "    }\n",
              "\n",
              "    .dataframe thead th {\n",
              "        text-align: right;\n",
              "    }\n",
              "</style>\n",
              "<table border=\"1\" class=\"dataframe\">\n",
              "  <thead>\n",
              "    <tr style=\"text-align: right;\">\n",
              "      <th></th>\n",
              "      <th>City</th>\n",
              "      <th>Shape Reported</th>\n",
              "      <th>State</th>\n",
              "      <th>Time</th>\n",
              "    </tr>\n",
              "  </thead>\n",
              "  <tbody>\n",
              "    <tr>\n",
              "      <th>0</th>\n",
              "      <td>Ithaca</td>\n",
              "      <td>TRIANGLE</td>\n",
              "      <td>NY</td>\n",
              "      <td>6/1/1930 22:00</td>\n",
              "    </tr>\n",
              "    <tr>\n",
              "      <th>1</th>\n",
              "      <td>Willingboro</td>\n",
              "      <td>OTHER</td>\n",
              "      <td>NJ</td>\n",
              "      <td>6/30/1930 20:00</td>\n",
              "    </tr>\n",
              "    <tr>\n",
              "      <th>2</th>\n",
              "      <td>Holyoke</td>\n",
              "      <td>OVAL</td>\n",
              "      <td>CO</td>\n",
              "      <td>2/15/1931 14:00</td>\n",
              "    </tr>\n",
              "    <tr>\n",
              "      <th>3</th>\n",
              "      <td>Abilene</td>\n",
              "      <td>DISK</td>\n",
              "      <td>KS</td>\n",
              "      <td>6/1/1931 13:00</td>\n",
              "    </tr>\n",
              "    <tr>\n",
              "      <th>4</th>\n",
              "      <td>New York Worlds Fair</td>\n",
              "      <td>LIGHT</td>\n",
              "      <td>NY</td>\n",
              "      <td>4/18/1933 19:00</td>\n",
              "    </tr>\n",
              "  </tbody>\n",
              "</table>\n",
              "</div>"
            ],
            "text/plain": [
              "                   City Shape Reported State             Time\n",
              "0                Ithaca       TRIANGLE    NY   6/1/1930 22:00\n",
              "1           Willingboro          OTHER    NJ  6/30/1930 20:00\n",
              "2               Holyoke           OVAL    CO  2/15/1931 14:00\n",
              "3               Abilene           DISK    KS   6/1/1931 13:00\n",
              "4  New York Worlds Fair          LIGHT    NY  4/18/1933 19:00"
            ]
          },
          "metadata": {
            "tags": []
          },
          "execution_count": 47
        }
      ]
    },
    {
      "cell_type": "code",
      "metadata": {
        "id": "MWRyG0wezwQ6",
        "colab_type": "code",
        "colab": {}
      },
      "source": [
        "ufo.drop(['City', 'State'], axis = 1, inplace = True)"
      ],
      "execution_count": 0,
      "outputs": []
    },
    {
      "cell_type": "code",
      "metadata": {
        "id": "9Gk4T29G0Csq",
        "colab_type": "code",
        "outputId": "6b08460b-173e-452b-c673-c5c514c7e9fc",
        "colab": {
          "base_uri": "https://localhost:8080/",
          "height": 204
        }
      },
      "source": [
        "ufo.head()"
      ],
      "execution_count": 49,
      "outputs": [
        {
          "output_type": "execute_result",
          "data": {
            "text/html": [
              "<div>\n",
              "<style scoped>\n",
              "    .dataframe tbody tr th:only-of-type {\n",
              "        vertical-align: middle;\n",
              "    }\n",
              "\n",
              "    .dataframe tbody tr th {\n",
              "        vertical-align: top;\n",
              "    }\n",
              "\n",
              "    .dataframe thead th {\n",
              "        text-align: right;\n",
              "    }\n",
              "</style>\n",
              "<table border=\"1\" class=\"dataframe\">\n",
              "  <thead>\n",
              "    <tr style=\"text-align: right;\">\n",
              "      <th></th>\n",
              "      <th>Shape Reported</th>\n",
              "      <th>Time</th>\n",
              "    </tr>\n",
              "  </thead>\n",
              "  <tbody>\n",
              "    <tr>\n",
              "      <th>0</th>\n",
              "      <td>TRIANGLE</td>\n",
              "      <td>6/1/1930 22:00</td>\n",
              "    </tr>\n",
              "    <tr>\n",
              "      <th>1</th>\n",
              "      <td>OTHER</td>\n",
              "      <td>6/30/1930 20:00</td>\n",
              "    </tr>\n",
              "    <tr>\n",
              "      <th>2</th>\n",
              "      <td>OVAL</td>\n",
              "      <td>2/15/1931 14:00</td>\n",
              "    </tr>\n",
              "    <tr>\n",
              "      <th>3</th>\n",
              "      <td>DISK</td>\n",
              "      <td>6/1/1931 13:00</td>\n",
              "    </tr>\n",
              "    <tr>\n",
              "      <th>4</th>\n",
              "      <td>LIGHT</td>\n",
              "      <td>4/18/1933 19:00</td>\n",
              "    </tr>\n",
              "  </tbody>\n",
              "</table>\n",
              "</div>"
            ],
            "text/plain": [
              "  Shape Reported             Time\n",
              "0       TRIANGLE   6/1/1930 22:00\n",
              "1          OTHER  6/30/1930 20:00\n",
              "2           OVAL  2/15/1931 14:00\n",
              "3           DISK   6/1/1931 13:00\n",
              "4          LIGHT  4/18/1933 19:00"
            ]
          },
          "metadata": {
            "tags": []
          },
          "execution_count": 49
        }
      ]
    },
    {
      "cell_type": "code",
      "metadata": {
        "id": "e9VNezBe0I0I",
        "colab_type": "code",
        "colab": {}
      },
      "source": [
        "ufo.drop([0,1],axis = 0, inplace = True)"
      ],
      "execution_count": 0,
      "outputs": []
    },
    {
      "cell_type": "code",
      "metadata": {
        "id": "rM9hwT5w0SRW",
        "colab_type": "code",
        "outputId": "ffd6afcd-f33c-4ab1-859d-53cde8315fb2",
        "colab": {
          "base_uri": "https://localhost:8080/",
          "height": 204
        }
      },
      "source": [
        "ufo.head()"
      ],
      "execution_count": 51,
      "outputs": [
        {
          "output_type": "execute_result",
          "data": {
            "text/html": [
              "<div>\n",
              "<style scoped>\n",
              "    .dataframe tbody tr th:only-of-type {\n",
              "        vertical-align: middle;\n",
              "    }\n",
              "\n",
              "    .dataframe tbody tr th {\n",
              "        vertical-align: top;\n",
              "    }\n",
              "\n",
              "    .dataframe thead th {\n",
              "        text-align: right;\n",
              "    }\n",
              "</style>\n",
              "<table border=\"1\" class=\"dataframe\">\n",
              "  <thead>\n",
              "    <tr style=\"text-align: right;\">\n",
              "      <th></th>\n",
              "      <th>Shape Reported</th>\n",
              "      <th>Time</th>\n",
              "    </tr>\n",
              "  </thead>\n",
              "  <tbody>\n",
              "    <tr>\n",
              "      <th>2</th>\n",
              "      <td>OVAL</td>\n",
              "      <td>2/15/1931 14:00</td>\n",
              "    </tr>\n",
              "    <tr>\n",
              "      <th>3</th>\n",
              "      <td>DISK</td>\n",
              "      <td>6/1/1931 13:00</td>\n",
              "    </tr>\n",
              "    <tr>\n",
              "      <th>4</th>\n",
              "      <td>LIGHT</td>\n",
              "      <td>4/18/1933 19:00</td>\n",
              "    </tr>\n",
              "    <tr>\n",
              "      <th>5</th>\n",
              "      <td>DISK</td>\n",
              "      <td>9/15/1934 15:30</td>\n",
              "    </tr>\n",
              "    <tr>\n",
              "      <th>6</th>\n",
              "      <td>CIRCLE</td>\n",
              "      <td>6/15/1935 0:00</td>\n",
              "    </tr>\n",
              "  </tbody>\n",
              "</table>\n",
              "</div>"
            ],
            "text/plain": [
              "  Shape Reported             Time\n",
              "2           OVAL  2/15/1931 14:00\n",
              "3           DISK   6/1/1931 13:00\n",
              "4          LIGHT  4/18/1933 19:00\n",
              "5           DISK  9/15/1934 15:30\n",
              "6         CIRCLE   6/15/1935 0:00"
            ]
          },
          "metadata": {
            "tags": []
          },
          "execution_count": 51
        }
      ]
    },
    {
      "cell_type": "code",
      "metadata": {
        "id": "9K2s-XW40Tc5",
        "colab_type": "code",
        "outputId": "bacbae0f-1ed5-452e-965a-89ba6e38055c",
        "colab": {
          "base_uri": "https://localhost:8080/",
          "height": 34
        }
      },
      "source": [
        "ufo.shape"
      ],
      "execution_count": 52,
      "outputs": [
        {
          "output_type": "execute_result",
          "data": {
            "text/plain": [
              "(18239, 2)"
            ]
          },
          "metadata": {
            "tags": []
          },
          "execution_count": 52
        }
      ]
    },
    {
      "cell_type": "code",
      "metadata": {
        "id": "KlVuR9Js0V_n",
        "colab_type": "code",
        "colab": {}
      },
      "source": [
        "#Video 7: How do I sort a panda dataframe or series?"
      ],
      "execution_count": 0,
      "outputs": []
    },
    {
      "cell_type": "code",
      "metadata": {
        "id": "lbFMRcLl00nu",
        "colab_type": "code",
        "colab": {}
      },
      "source": [
        "movies = pd.read_csv('http://bit.ly/imdbratings')"
      ],
      "execution_count": 0,
      "outputs": []
    },
    {
      "cell_type": "code",
      "metadata": {
        "id": "HQI7uans1GGG",
        "colab_type": "code",
        "outputId": "bad83609-c37d-444c-8f9c-179bd4b2d739",
        "colab": {
          "base_uri": "https://localhost:8080/",
          "height": 204
        }
      },
      "source": [
        "movies.head()"
      ],
      "execution_count": 55,
      "outputs": [
        {
          "output_type": "execute_result",
          "data": {
            "text/html": [
              "<div>\n",
              "<style scoped>\n",
              "    .dataframe tbody tr th:only-of-type {\n",
              "        vertical-align: middle;\n",
              "    }\n",
              "\n",
              "    .dataframe tbody tr th {\n",
              "        vertical-align: top;\n",
              "    }\n",
              "\n",
              "    .dataframe thead th {\n",
              "        text-align: right;\n",
              "    }\n",
              "</style>\n",
              "<table border=\"1\" class=\"dataframe\">\n",
              "  <thead>\n",
              "    <tr style=\"text-align: right;\">\n",
              "      <th></th>\n",
              "      <th>star_rating</th>\n",
              "      <th>title</th>\n",
              "      <th>content_rating</th>\n",
              "      <th>genre</th>\n",
              "      <th>duration</th>\n",
              "      <th>actors_list</th>\n",
              "    </tr>\n",
              "  </thead>\n",
              "  <tbody>\n",
              "    <tr>\n",
              "      <th>0</th>\n",
              "      <td>9.3</td>\n",
              "      <td>The Shawshank Redemption</td>\n",
              "      <td>R</td>\n",
              "      <td>Crime</td>\n",
              "      <td>142</td>\n",
              "      <td>[u'Tim Robbins', u'Morgan Freeman', u'Bob Gunt...</td>\n",
              "    </tr>\n",
              "    <tr>\n",
              "      <th>1</th>\n",
              "      <td>9.2</td>\n",
              "      <td>The Godfather</td>\n",
              "      <td>R</td>\n",
              "      <td>Crime</td>\n",
              "      <td>175</td>\n",
              "      <td>[u'Marlon Brando', u'Al Pacino', u'James Caan']</td>\n",
              "    </tr>\n",
              "    <tr>\n",
              "      <th>2</th>\n",
              "      <td>9.1</td>\n",
              "      <td>The Godfather: Part II</td>\n",
              "      <td>R</td>\n",
              "      <td>Crime</td>\n",
              "      <td>200</td>\n",
              "      <td>[u'Al Pacino', u'Robert De Niro', u'Robert Duv...</td>\n",
              "    </tr>\n",
              "    <tr>\n",
              "      <th>3</th>\n",
              "      <td>9.0</td>\n",
              "      <td>The Dark Knight</td>\n",
              "      <td>PG-13</td>\n",
              "      <td>Action</td>\n",
              "      <td>152</td>\n",
              "      <td>[u'Christian Bale', u'Heath Ledger', u'Aaron E...</td>\n",
              "    </tr>\n",
              "    <tr>\n",
              "      <th>4</th>\n",
              "      <td>8.9</td>\n",
              "      <td>Pulp Fiction</td>\n",
              "      <td>R</td>\n",
              "      <td>Crime</td>\n",
              "      <td>154</td>\n",
              "      <td>[u'John Travolta', u'Uma Thurman', u'Samuel L....</td>\n",
              "    </tr>\n",
              "  </tbody>\n",
              "</table>\n",
              "</div>"
            ],
            "text/plain": [
              "   star_rating  ...                                        actors_list\n",
              "0          9.3  ...  [u'Tim Robbins', u'Morgan Freeman', u'Bob Gunt...\n",
              "1          9.2  ...    [u'Marlon Brando', u'Al Pacino', u'James Caan']\n",
              "2          9.1  ...  [u'Al Pacino', u'Robert De Niro', u'Robert Duv...\n",
              "3          9.0  ...  [u'Christian Bale', u'Heath Ledger', u'Aaron E...\n",
              "4          8.9  ...  [u'John Travolta', u'Uma Thurman', u'Samuel L....\n",
              "\n",
              "[5 rows x 6 columns]"
            ]
          },
          "metadata": {
            "tags": []
          },
          "execution_count": 55
        }
      ]
    },
    {
      "cell_type": "code",
      "metadata": {
        "id": "7dk1ZD1d1Hm7",
        "colab_type": "code",
        "outputId": "b7fbc810-46be-46eb-b12d-e69ca786854a",
        "colab": {
          "base_uri": "https://localhost:8080/",
          "height": 221
        }
      },
      "source": [
        "movies.title.sort_values() #sorted alphabetical order with number first for title"
      ],
      "execution_count": 56,
      "outputs": [
        {
          "output_type": "execute_result",
          "data": {
            "text/plain": [
              "542     (500) Days of Summer\n",
              "5               12 Angry Men\n",
              "201         12 Years a Slave\n",
              "698                127 Hours\n",
              "110    2001: A Space Odyssey\n",
              "               ...          \n",
              "955         Zero Dark Thirty\n",
              "677                   Zodiac\n",
              "615               Zombieland\n",
              "526                     Zulu\n",
              "864                    [Rec]\n",
              "Name: title, Length: 979, dtype: object"
            ]
          },
          "metadata": {
            "tags": []
          },
          "execution_count": 56
        }
      ]
    },
    {
      "cell_type": "code",
      "metadata": {
        "id": "HU77FDAI1ZyW",
        "colab_type": "code",
        "outputId": "b4d85b55-9bac-462e-9447-b16fd4ff5116",
        "colab": {
          "base_uri": "https://localhost:8080/",
          "height": 34
        }
      },
      "source": [
        "type(movies['title'].sort_values()) #sort_values is a series method"
      ],
      "execution_count": 57,
      "outputs": [
        {
          "output_type": "execute_result",
          "data": {
            "text/plain": [
              "pandas.core.series.Series"
            ]
          },
          "metadata": {
            "tags": []
          },
          "execution_count": 57
        }
      ]
    },
    {
      "cell_type": "code",
      "metadata": {
        "id": "bpJpTlsb1X77",
        "colab_type": "code",
        "outputId": "8fc24c70-6a3f-47ef-bc6f-51c7dab15782",
        "colab": {
          "base_uri": "https://localhost:8080/",
          "height": 221
        }
      },
      "source": [
        "movies['title'].sort_values(ascending = False)"
      ],
      "execution_count": 58,
      "outputs": [
        {
          "output_type": "execute_result",
          "data": {
            "text/plain": [
              "864                    [Rec]\n",
              "526                     Zulu\n",
              "615               Zombieland\n",
              "677                   Zodiac\n",
              "955         Zero Dark Thirty\n",
              "               ...          \n",
              "110    2001: A Space Odyssey\n",
              "698                127 Hours\n",
              "201         12 Years a Slave\n",
              "5               12 Angry Men\n",
              "542     (500) Days of Summer\n",
              "Name: title, Length: 979, dtype: object"
            ]
          },
          "metadata": {
            "tags": []
          },
          "execution_count": 58
        }
      ]
    },
    {
      "cell_type": "code",
      "metadata": {
        "id": "dXQcoCz01uii",
        "colab_type": "code",
        "outputId": "1992e827-519c-410e-b792-e46b5068fb5b",
        "colab": {
          "base_uri": "https://localhost:8080/",
          "height": 221
        }
      },
      "source": [
        "movies['title']"
      ],
      "execution_count": 59,
      "outputs": [
        {
          "output_type": "execute_result",
          "data": {
            "text/plain": [
              "0                             The Shawshank Redemption\n",
              "1                                        The Godfather\n",
              "2                               The Godfather: Part II\n",
              "3                                      The Dark Knight\n",
              "4                                         Pulp Fiction\n",
              "                            ...                       \n",
              "974                                            Tootsie\n",
              "975                        Back to the Future Part III\n",
              "976    Master and Commander: The Far Side of the World\n",
              "977                                        Poltergeist\n",
              "978                                        Wall Street\n",
              "Name: title, Length: 979, dtype: object"
            ]
          },
          "metadata": {
            "tags": []
          },
          "execution_count": 59
        }
      ]
    },
    {
      "cell_type": "code",
      "metadata": {
        "id": "lRrwAL2B2YNj",
        "colab_type": "code",
        "outputId": "c1971d7b-6cd3-4751-c031-0b51ee9ecc5b",
        "colab": {
          "base_uri": "https://localhost:8080/",
          "height": 419
        }
      },
      "source": [
        "#sort a dataframe by a series\n",
        "movies.sort_values('title')"
      ],
      "execution_count": 60,
      "outputs": [
        {
          "output_type": "execute_result",
          "data": {
            "text/html": [
              "<div>\n",
              "<style scoped>\n",
              "    .dataframe tbody tr th:only-of-type {\n",
              "        vertical-align: middle;\n",
              "    }\n",
              "\n",
              "    .dataframe tbody tr th {\n",
              "        vertical-align: top;\n",
              "    }\n",
              "\n",
              "    .dataframe thead th {\n",
              "        text-align: right;\n",
              "    }\n",
              "</style>\n",
              "<table border=\"1\" class=\"dataframe\">\n",
              "  <thead>\n",
              "    <tr style=\"text-align: right;\">\n",
              "      <th></th>\n",
              "      <th>star_rating</th>\n",
              "      <th>title</th>\n",
              "      <th>content_rating</th>\n",
              "      <th>genre</th>\n",
              "      <th>duration</th>\n",
              "      <th>actors_list</th>\n",
              "    </tr>\n",
              "  </thead>\n",
              "  <tbody>\n",
              "    <tr>\n",
              "      <th>542</th>\n",
              "      <td>7.8</td>\n",
              "      <td>(500) Days of Summer</td>\n",
              "      <td>PG-13</td>\n",
              "      <td>Comedy</td>\n",
              "      <td>95</td>\n",
              "      <td>[u'Zooey Deschanel', u'Joseph Gordon-Levitt', ...</td>\n",
              "    </tr>\n",
              "    <tr>\n",
              "      <th>5</th>\n",
              "      <td>8.9</td>\n",
              "      <td>12 Angry Men</td>\n",
              "      <td>NOT RATED</td>\n",
              "      <td>Drama</td>\n",
              "      <td>96</td>\n",
              "      <td>[u'Henry Fonda', u'Lee J. Cobb', u'Martin Bals...</td>\n",
              "    </tr>\n",
              "    <tr>\n",
              "      <th>201</th>\n",
              "      <td>8.1</td>\n",
              "      <td>12 Years a Slave</td>\n",
              "      <td>R</td>\n",
              "      <td>Biography</td>\n",
              "      <td>134</td>\n",
              "      <td>[u'Chiwetel Ejiofor', u'Michael Kenneth Willia...</td>\n",
              "    </tr>\n",
              "    <tr>\n",
              "      <th>698</th>\n",
              "      <td>7.6</td>\n",
              "      <td>127 Hours</td>\n",
              "      <td>R</td>\n",
              "      <td>Adventure</td>\n",
              "      <td>94</td>\n",
              "      <td>[u'James Franco', u'Amber Tamblyn', u'Kate Mara']</td>\n",
              "    </tr>\n",
              "    <tr>\n",
              "      <th>110</th>\n",
              "      <td>8.3</td>\n",
              "      <td>2001: A Space Odyssey</td>\n",
              "      <td>G</td>\n",
              "      <td>Mystery</td>\n",
              "      <td>160</td>\n",
              "      <td>[u'Keir Dullea', u'Gary Lockwood', u'William S...</td>\n",
              "    </tr>\n",
              "    <tr>\n",
              "      <th>...</th>\n",
              "      <td>...</td>\n",
              "      <td>...</td>\n",
              "      <td>...</td>\n",
              "      <td>...</td>\n",
              "      <td>...</td>\n",
              "      <td>...</td>\n",
              "    </tr>\n",
              "    <tr>\n",
              "      <th>955</th>\n",
              "      <td>7.4</td>\n",
              "      <td>Zero Dark Thirty</td>\n",
              "      <td>R</td>\n",
              "      <td>Drama</td>\n",
              "      <td>157</td>\n",
              "      <td>[u'Jessica Chastain', u'Joel Edgerton', u'Chri...</td>\n",
              "    </tr>\n",
              "    <tr>\n",
              "      <th>677</th>\n",
              "      <td>7.7</td>\n",
              "      <td>Zodiac</td>\n",
              "      <td>R</td>\n",
              "      <td>Crime</td>\n",
              "      <td>157</td>\n",
              "      <td>[u'Jake Gyllenhaal', u'Robert Downey Jr.', u'M...</td>\n",
              "    </tr>\n",
              "    <tr>\n",
              "      <th>615</th>\n",
              "      <td>7.7</td>\n",
              "      <td>Zombieland</td>\n",
              "      <td>R</td>\n",
              "      <td>Comedy</td>\n",
              "      <td>88</td>\n",
              "      <td>[u'Jesse Eisenberg', u'Emma Stone', u'Woody Ha...</td>\n",
              "    </tr>\n",
              "    <tr>\n",
              "      <th>526</th>\n",
              "      <td>7.8</td>\n",
              "      <td>Zulu</td>\n",
              "      <td>UNRATED</td>\n",
              "      <td>Drama</td>\n",
              "      <td>138</td>\n",
              "      <td>[u'Stanley Baker', u'Jack Hawkins', u'Ulla Jac...</td>\n",
              "    </tr>\n",
              "    <tr>\n",
              "      <th>864</th>\n",
              "      <td>7.5</td>\n",
              "      <td>[Rec]</td>\n",
              "      <td>R</td>\n",
              "      <td>Horror</td>\n",
              "      <td>78</td>\n",
              "      <td>[u'Manuela Velasco', u'Ferran Terraza', u'Jorg...</td>\n",
              "    </tr>\n",
              "  </tbody>\n",
              "</table>\n",
              "<p>979 rows × 6 columns</p>\n",
              "</div>"
            ],
            "text/plain": [
              "     star_rating  ...                                        actors_list\n",
              "542          7.8  ...  [u'Zooey Deschanel', u'Joseph Gordon-Levitt', ...\n",
              "5            8.9  ...  [u'Henry Fonda', u'Lee J. Cobb', u'Martin Bals...\n",
              "201          8.1  ...  [u'Chiwetel Ejiofor', u'Michael Kenneth Willia...\n",
              "698          7.6  ...  [u'James Franco', u'Amber Tamblyn', u'Kate Mara']\n",
              "110          8.3  ...  [u'Keir Dullea', u'Gary Lockwood', u'William S...\n",
              "..           ...  ...                                                ...\n",
              "955          7.4  ...  [u'Jessica Chastain', u'Joel Edgerton', u'Chri...\n",
              "677          7.7  ...  [u'Jake Gyllenhaal', u'Robert Downey Jr.', u'M...\n",
              "615          7.7  ...  [u'Jesse Eisenberg', u'Emma Stone', u'Woody Ha...\n",
              "526          7.8  ...  [u'Stanley Baker', u'Jack Hawkins', u'Ulla Jac...\n",
              "864          7.5  ...  [u'Manuela Velasco', u'Ferran Terraza', u'Jorg...\n",
              "\n",
              "[979 rows x 6 columns]"
            ]
          },
          "metadata": {
            "tags": []
          },
          "execution_count": 60
        }
      ]
    },
    {
      "cell_type": "code",
      "metadata": {
        "id": "rXRHzzy22hvx",
        "colab_type": "code",
        "outputId": "5bc9247f-d3c0-4acd-a67f-3f574ea0756f",
        "colab": {
          "base_uri": "https://localhost:8080/",
          "height": 419
        }
      },
      "source": [
        "movies.sort_values('duration')"
      ],
      "execution_count": 61,
      "outputs": [
        {
          "output_type": "execute_result",
          "data": {
            "text/html": [
              "<div>\n",
              "<style scoped>\n",
              "    .dataframe tbody tr th:only-of-type {\n",
              "        vertical-align: middle;\n",
              "    }\n",
              "\n",
              "    .dataframe tbody tr th {\n",
              "        vertical-align: top;\n",
              "    }\n",
              "\n",
              "    .dataframe thead th {\n",
              "        text-align: right;\n",
              "    }\n",
              "</style>\n",
              "<table border=\"1\" class=\"dataframe\">\n",
              "  <thead>\n",
              "    <tr style=\"text-align: right;\">\n",
              "      <th></th>\n",
              "      <th>star_rating</th>\n",
              "      <th>title</th>\n",
              "      <th>content_rating</th>\n",
              "      <th>genre</th>\n",
              "      <th>duration</th>\n",
              "      <th>actors_list</th>\n",
              "    </tr>\n",
              "  </thead>\n",
              "  <tbody>\n",
              "    <tr>\n",
              "      <th>389</th>\n",
              "      <td>8.0</td>\n",
              "      <td>Freaks</td>\n",
              "      <td>UNRATED</td>\n",
              "      <td>Drama</td>\n",
              "      <td>64</td>\n",
              "      <td>[u'Wallace Ford', u'Leila Hyams', u'Olga Bacla...</td>\n",
              "    </tr>\n",
              "    <tr>\n",
              "      <th>338</th>\n",
              "      <td>8.0</td>\n",
              "      <td>Battleship Potemkin</td>\n",
              "      <td>UNRATED</td>\n",
              "      <td>History</td>\n",
              "      <td>66</td>\n",
              "      <td>[u'Aleksandr Antonov', u'Vladimir Barsky', u'G...</td>\n",
              "    </tr>\n",
              "    <tr>\n",
              "      <th>258</th>\n",
              "      <td>8.1</td>\n",
              "      <td>The Cabinet of Dr. Caligari</td>\n",
              "      <td>UNRATED</td>\n",
              "      <td>Crime</td>\n",
              "      <td>67</td>\n",
              "      <td>[u'Werner Krauss', u'Conrad Veidt', u'Friedric...</td>\n",
              "    </tr>\n",
              "    <tr>\n",
              "      <th>293</th>\n",
              "      <td>8.1</td>\n",
              "      <td>Duck Soup</td>\n",
              "      <td>PASSED</td>\n",
              "      <td>Comedy</td>\n",
              "      <td>68</td>\n",
              "      <td>[u'Groucho Marx', u'Harpo Marx', u'Chico Marx']</td>\n",
              "    </tr>\n",
              "    <tr>\n",
              "      <th>88</th>\n",
              "      <td>8.4</td>\n",
              "      <td>The Kid</td>\n",
              "      <td>NOT RATED</td>\n",
              "      <td>Comedy</td>\n",
              "      <td>68</td>\n",
              "      <td>[u'Charles Chaplin', u'Edna Purviance', u'Jack...</td>\n",
              "    </tr>\n",
              "    <tr>\n",
              "      <th>...</th>\n",
              "      <td>...</td>\n",
              "      <td>...</td>\n",
              "      <td>...</td>\n",
              "      <td>...</td>\n",
              "      <td>...</td>\n",
              "      <td>...</td>\n",
              "    </tr>\n",
              "    <tr>\n",
              "      <th>445</th>\n",
              "      <td>7.9</td>\n",
              "      <td>The Ten Commandments</td>\n",
              "      <td>APPROVED</td>\n",
              "      <td>Adventure</td>\n",
              "      <td>220</td>\n",
              "      <td>[u'Charlton Heston', u'Yul Brynner', u'Anne Ba...</td>\n",
              "    </tr>\n",
              "    <tr>\n",
              "      <th>142</th>\n",
              "      <td>8.3</td>\n",
              "      <td>Lagaan: Once Upon a Time in India</td>\n",
              "      <td>PG</td>\n",
              "      <td>Adventure</td>\n",
              "      <td>224</td>\n",
              "      <td>[u'Aamir Khan', u'Gracy Singh', u'Rachel Shell...</td>\n",
              "    </tr>\n",
              "    <tr>\n",
              "      <th>78</th>\n",
              "      <td>8.4</td>\n",
              "      <td>Once Upon a Time in America</td>\n",
              "      <td>R</td>\n",
              "      <td>Crime</td>\n",
              "      <td>229</td>\n",
              "      <td>[u'Robert De Niro', u'James Woods', u'Elizabet...</td>\n",
              "    </tr>\n",
              "    <tr>\n",
              "      <th>157</th>\n",
              "      <td>8.2</td>\n",
              "      <td>Gone with the Wind</td>\n",
              "      <td>G</td>\n",
              "      <td>Drama</td>\n",
              "      <td>238</td>\n",
              "      <td>[u'Clark Gable', u'Vivien Leigh', u'Thomas Mit...</td>\n",
              "    </tr>\n",
              "    <tr>\n",
              "      <th>476</th>\n",
              "      <td>7.8</td>\n",
              "      <td>Hamlet</td>\n",
              "      <td>PG-13</td>\n",
              "      <td>Drama</td>\n",
              "      <td>242</td>\n",
              "      <td>[u'Kenneth Branagh', u'Julie Christie', u'Dere...</td>\n",
              "    </tr>\n",
              "  </tbody>\n",
              "</table>\n",
              "<p>979 rows × 6 columns</p>\n",
              "</div>"
            ],
            "text/plain": [
              "     star_rating  ...                                        actors_list\n",
              "389          8.0  ...  [u'Wallace Ford', u'Leila Hyams', u'Olga Bacla...\n",
              "338          8.0  ...  [u'Aleksandr Antonov', u'Vladimir Barsky', u'G...\n",
              "258          8.1  ...  [u'Werner Krauss', u'Conrad Veidt', u'Friedric...\n",
              "293          8.1  ...    [u'Groucho Marx', u'Harpo Marx', u'Chico Marx']\n",
              "88           8.4  ...  [u'Charles Chaplin', u'Edna Purviance', u'Jack...\n",
              "..           ...  ...                                                ...\n",
              "445          7.9  ...  [u'Charlton Heston', u'Yul Brynner', u'Anne Ba...\n",
              "142          8.3  ...  [u'Aamir Khan', u'Gracy Singh', u'Rachel Shell...\n",
              "78           8.4  ...  [u'Robert De Niro', u'James Woods', u'Elizabet...\n",
              "157          8.2  ...  [u'Clark Gable', u'Vivien Leigh', u'Thomas Mit...\n",
              "476          7.8  ...  [u'Kenneth Branagh', u'Julie Christie', u'Dere...\n",
              "\n",
              "[979 rows x 6 columns]"
            ]
          },
          "metadata": {
            "tags": []
          },
          "execution_count": 61
        }
      ]
    },
    {
      "cell_type": "code",
      "metadata": {
        "id": "YuSRjZsu34B2",
        "colab_type": "code",
        "outputId": "7893b242-05f3-4862-dc07-8363b68ced53",
        "colab": {
          "base_uri": "https://localhost:8080/",
          "height": 204
        }
      },
      "source": [
        "movies.head()"
      ],
      "execution_count": 62,
      "outputs": [
        {
          "output_type": "execute_result",
          "data": {
            "text/html": [
              "<div>\n",
              "<style scoped>\n",
              "    .dataframe tbody tr th:only-of-type {\n",
              "        vertical-align: middle;\n",
              "    }\n",
              "\n",
              "    .dataframe tbody tr th {\n",
              "        vertical-align: top;\n",
              "    }\n",
              "\n",
              "    .dataframe thead th {\n",
              "        text-align: right;\n",
              "    }\n",
              "</style>\n",
              "<table border=\"1\" class=\"dataframe\">\n",
              "  <thead>\n",
              "    <tr style=\"text-align: right;\">\n",
              "      <th></th>\n",
              "      <th>star_rating</th>\n",
              "      <th>title</th>\n",
              "      <th>content_rating</th>\n",
              "      <th>genre</th>\n",
              "      <th>duration</th>\n",
              "      <th>actors_list</th>\n",
              "    </tr>\n",
              "  </thead>\n",
              "  <tbody>\n",
              "    <tr>\n",
              "      <th>0</th>\n",
              "      <td>9.3</td>\n",
              "      <td>The Shawshank Redemption</td>\n",
              "      <td>R</td>\n",
              "      <td>Crime</td>\n",
              "      <td>142</td>\n",
              "      <td>[u'Tim Robbins', u'Morgan Freeman', u'Bob Gunt...</td>\n",
              "    </tr>\n",
              "    <tr>\n",
              "      <th>1</th>\n",
              "      <td>9.2</td>\n",
              "      <td>The Godfather</td>\n",
              "      <td>R</td>\n",
              "      <td>Crime</td>\n",
              "      <td>175</td>\n",
              "      <td>[u'Marlon Brando', u'Al Pacino', u'James Caan']</td>\n",
              "    </tr>\n",
              "    <tr>\n",
              "      <th>2</th>\n",
              "      <td>9.1</td>\n",
              "      <td>The Godfather: Part II</td>\n",
              "      <td>R</td>\n",
              "      <td>Crime</td>\n",
              "      <td>200</td>\n",
              "      <td>[u'Al Pacino', u'Robert De Niro', u'Robert Duv...</td>\n",
              "    </tr>\n",
              "    <tr>\n",
              "      <th>3</th>\n",
              "      <td>9.0</td>\n",
              "      <td>The Dark Knight</td>\n",
              "      <td>PG-13</td>\n",
              "      <td>Action</td>\n",
              "      <td>152</td>\n",
              "      <td>[u'Christian Bale', u'Heath Ledger', u'Aaron E...</td>\n",
              "    </tr>\n",
              "    <tr>\n",
              "      <th>4</th>\n",
              "      <td>8.9</td>\n",
              "      <td>Pulp Fiction</td>\n",
              "      <td>R</td>\n",
              "      <td>Crime</td>\n",
              "      <td>154</td>\n",
              "      <td>[u'John Travolta', u'Uma Thurman', u'Samuel L....</td>\n",
              "    </tr>\n",
              "  </tbody>\n",
              "</table>\n",
              "</div>"
            ],
            "text/plain": [
              "   star_rating  ...                                        actors_list\n",
              "0          9.3  ...  [u'Tim Robbins', u'Morgan Freeman', u'Bob Gunt...\n",
              "1          9.2  ...    [u'Marlon Brando', u'Al Pacino', u'James Caan']\n",
              "2          9.1  ...  [u'Al Pacino', u'Robert De Niro', u'Robert Duv...\n",
              "3          9.0  ...  [u'Christian Bale', u'Heath Ledger', u'Aaron E...\n",
              "4          8.9  ...  [u'John Travolta', u'Uma Thurman', u'Samuel L....\n",
              "\n",
              "[5 rows x 6 columns]"
            ]
          },
          "metadata": {
            "tags": []
          },
          "execution_count": 62
        }
      ]
    },
    {
      "cell_type": "code",
      "metadata": {
        "id": "JoW2fMSz4N09",
        "colab_type": "code",
        "outputId": "76e8cbd1-47b8-434c-9bee-f0c16ecece8c",
        "colab": {
          "base_uri": "https://localhost:8080/",
          "height": 419
        }
      },
      "source": [
        "movies.sort_values(['content_rating', 'duration']) #sort by multiple columns in a particular order "
      ],
      "execution_count": 63,
      "outputs": [
        {
          "output_type": "execute_result",
          "data": {
            "text/html": [
              "<div>\n",
              "<style scoped>\n",
              "    .dataframe tbody tr th:only-of-type {\n",
              "        vertical-align: middle;\n",
              "    }\n",
              "\n",
              "    .dataframe tbody tr th {\n",
              "        vertical-align: top;\n",
              "    }\n",
              "\n",
              "    .dataframe thead th {\n",
              "        text-align: right;\n",
              "    }\n",
              "</style>\n",
              "<table border=\"1\" class=\"dataframe\">\n",
              "  <thead>\n",
              "    <tr style=\"text-align: right;\">\n",
              "      <th></th>\n",
              "      <th>star_rating</th>\n",
              "      <th>title</th>\n",
              "      <th>content_rating</th>\n",
              "      <th>genre</th>\n",
              "      <th>duration</th>\n",
              "      <th>actors_list</th>\n",
              "    </tr>\n",
              "  </thead>\n",
              "  <tbody>\n",
              "    <tr>\n",
              "      <th>713</th>\n",
              "      <td>7.6</td>\n",
              "      <td>The Jungle Book</td>\n",
              "      <td>APPROVED</td>\n",
              "      <td>Animation</td>\n",
              "      <td>78</td>\n",
              "      <td>[u'Phil Harris', u'Sebastian Cabot', u'Louis P...</td>\n",
              "    </tr>\n",
              "    <tr>\n",
              "      <th>513</th>\n",
              "      <td>7.8</td>\n",
              "      <td>Invasion of the Body Snatchers</td>\n",
              "      <td>APPROVED</td>\n",
              "      <td>Horror</td>\n",
              "      <td>80</td>\n",
              "      <td>[u'Kevin McCarthy', u'Dana Wynter', u'Larry Ga...</td>\n",
              "    </tr>\n",
              "    <tr>\n",
              "      <th>272</th>\n",
              "      <td>8.1</td>\n",
              "      <td>The Killing</td>\n",
              "      <td>APPROVED</td>\n",
              "      <td>Crime</td>\n",
              "      <td>85</td>\n",
              "      <td>[u'Sterling Hayden', u'Coleen Gray', u'Vince E...</td>\n",
              "    </tr>\n",
              "    <tr>\n",
              "      <th>703</th>\n",
              "      <td>7.6</td>\n",
              "      <td>Dracula</td>\n",
              "      <td>APPROVED</td>\n",
              "      <td>Horror</td>\n",
              "      <td>85</td>\n",
              "      <td>[u'Bela Lugosi', u'Helen Chandler', u'David Ma...</td>\n",
              "    </tr>\n",
              "    <tr>\n",
              "      <th>612</th>\n",
              "      <td>7.7</td>\n",
              "      <td>A Hard Day's Night</td>\n",
              "      <td>APPROVED</td>\n",
              "      <td>Comedy</td>\n",
              "      <td>87</td>\n",
              "      <td>[u'John Lennon', u'Paul McCartney', u'George H...</td>\n",
              "    </tr>\n",
              "    <tr>\n",
              "      <th>...</th>\n",
              "      <td>...</td>\n",
              "      <td>...</td>\n",
              "      <td>...</td>\n",
              "      <td>...</td>\n",
              "      <td>...</td>\n",
              "      <td>...</td>\n",
              "    </tr>\n",
              "    <tr>\n",
              "      <th>387</th>\n",
              "      <td>8.0</td>\n",
              "      <td>Midnight Cowboy</td>\n",
              "      <td>X</td>\n",
              "      <td>Drama</td>\n",
              "      <td>113</td>\n",
              "      <td>[u'Dustin Hoffman', u'Jon Voight', u'Sylvia Mi...</td>\n",
              "    </tr>\n",
              "    <tr>\n",
              "      <th>86</th>\n",
              "      <td>8.4</td>\n",
              "      <td>A Clockwork Orange</td>\n",
              "      <td>X</td>\n",
              "      <td>Crime</td>\n",
              "      <td>136</td>\n",
              "      <td>[u'Malcolm McDowell', u'Patrick Magee', u'Mich...</td>\n",
              "    </tr>\n",
              "    <tr>\n",
              "      <th>187</th>\n",
              "      <td>8.2</td>\n",
              "      <td>Butch Cassidy and the Sundance Kid</td>\n",
              "      <td>NaN</td>\n",
              "      <td>Biography</td>\n",
              "      <td>110</td>\n",
              "      <td>[u'Paul Newman', u'Robert Redford', u'Katharin...</td>\n",
              "    </tr>\n",
              "    <tr>\n",
              "      <th>936</th>\n",
              "      <td>7.4</td>\n",
              "      <td>True Grit</td>\n",
              "      <td>NaN</td>\n",
              "      <td>Adventure</td>\n",
              "      <td>128</td>\n",
              "      <td>[u'John Wayne', u'Kim Darby', u'Glen Campbell']</td>\n",
              "    </tr>\n",
              "    <tr>\n",
              "      <th>649</th>\n",
              "      <td>7.7</td>\n",
              "      <td>Where Eagles Dare</td>\n",
              "      <td>NaN</td>\n",
              "      <td>Action</td>\n",
              "      <td>158</td>\n",
              "      <td>[u'Richard Burton', u'Clint Eastwood', u'Mary ...</td>\n",
              "    </tr>\n",
              "  </tbody>\n",
              "</table>\n",
              "<p>979 rows × 6 columns</p>\n",
              "</div>"
            ],
            "text/plain": [
              "     star_rating  ...                                        actors_list\n",
              "713          7.6  ...  [u'Phil Harris', u'Sebastian Cabot', u'Louis P...\n",
              "513          7.8  ...  [u'Kevin McCarthy', u'Dana Wynter', u'Larry Ga...\n",
              "272          8.1  ...  [u'Sterling Hayden', u'Coleen Gray', u'Vince E...\n",
              "703          7.6  ...  [u'Bela Lugosi', u'Helen Chandler', u'David Ma...\n",
              "612          7.7  ...  [u'John Lennon', u'Paul McCartney', u'George H...\n",
              "..           ...  ...                                                ...\n",
              "387          8.0  ...  [u'Dustin Hoffman', u'Jon Voight', u'Sylvia Mi...\n",
              "86           8.4  ...  [u'Malcolm McDowell', u'Patrick Magee', u'Mich...\n",
              "187          8.2  ...  [u'Paul Newman', u'Robert Redford', u'Katharin...\n",
              "936          7.4  ...    [u'John Wayne', u'Kim Darby', u'Glen Campbell']\n",
              "649          7.7  ...  [u'Richard Burton', u'Clint Eastwood', u'Mary ...\n",
              "\n",
              "[979 rows x 6 columns]"
            ]
          },
          "metadata": {
            "tags": []
          },
          "execution_count": 63
        }
      ]
    },
    {
      "cell_type": "code",
      "metadata": {
        "id": "vO2RpAJm4arA",
        "colab_type": "code",
        "colab": {}
      },
      "source": [
        "#Video 8: How do I filter rows of a panadas dataframe by column value?"
      ],
      "execution_count": 0,
      "outputs": []
    },
    {
      "cell_type": "code",
      "metadata": {
        "id": "97BVmzmY4zhA",
        "colab_type": "code",
        "colab": {}
      },
      "source": [
        "movies = pd.read_csv('http://bit.ly/imdbratings')"
      ],
      "execution_count": 0,
      "outputs": []
    },
    {
      "cell_type": "code",
      "metadata": {
        "id": "2zFymwu447xJ",
        "colab_type": "code",
        "outputId": "c9086dd7-0b9e-4f62-eecf-be36a699c9c6",
        "colab": {
          "base_uri": "https://localhost:8080/",
          "height": 204
        }
      },
      "source": [
        "movies.head()"
      ],
      "execution_count": 66,
      "outputs": [
        {
          "output_type": "execute_result",
          "data": {
            "text/html": [
              "<div>\n",
              "<style scoped>\n",
              "    .dataframe tbody tr th:only-of-type {\n",
              "        vertical-align: middle;\n",
              "    }\n",
              "\n",
              "    .dataframe tbody tr th {\n",
              "        vertical-align: top;\n",
              "    }\n",
              "\n",
              "    .dataframe thead th {\n",
              "        text-align: right;\n",
              "    }\n",
              "</style>\n",
              "<table border=\"1\" class=\"dataframe\">\n",
              "  <thead>\n",
              "    <tr style=\"text-align: right;\">\n",
              "      <th></th>\n",
              "      <th>star_rating</th>\n",
              "      <th>title</th>\n",
              "      <th>content_rating</th>\n",
              "      <th>genre</th>\n",
              "      <th>duration</th>\n",
              "      <th>actors_list</th>\n",
              "    </tr>\n",
              "  </thead>\n",
              "  <tbody>\n",
              "    <tr>\n",
              "      <th>0</th>\n",
              "      <td>9.3</td>\n",
              "      <td>The Shawshank Redemption</td>\n",
              "      <td>R</td>\n",
              "      <td>Crime</td>\n",
              "      <td>142</td>\n",
              "      <td>[u'Tim Robbins', u'Morgan Freeman', u'Bob Gunt...</td>\n",
              "    </tr>\n",
              "    <tr>\n",
              "      <th>1</th>\n",
              "      <td>9.2</td>\n",
              "      <td>The Godfather</td>\n",
              "      <td>R</td>\n",
              "      <td>Crime</td>\n",
              "      <td>175</td>\n",
              "      <td>[u'Marlon Brando', u'Al Pacino', u'James Caan']</td>\n",
              "    </tr>\n",
              "    <tr>\n",
              "      <th>2</th>\n",
              "      <td>9.1</td>\n",
              "      <td>The Godfather: Part II</td>\n",
              "      <td>R</td>\n",
              "      <td>Crime</td>\n",
              "      <td>200</td>\n",
              "      <td>[u'Al Pacino', u'Robert De Niro', u'Robert Duv...</td>\n",
              "    </tr>\n",
              "    <tr>\n",
              "      <th>3</th>\n",
              "      <td>9.0</td>\n",
              "      <td>The Dark Knight</td>\n",
              "      <td>PG-13</td>\n",
              "      <td>Action</td>\n",
              "      <td>152</td>\n",
              "      <td>[u'Christian Bale', u'Heath Ledger', u'Aaron E...</td>\n",
              "    </tr>\n",
              "    <tr>\n",
              "      <th>4</th>\n",
              "      <td>8.9</td>\n",
              "      <td>Pulp Fiction</td>\n",
              "      <td>R</td>\n",
              "      <td>Crime</td>\n",
              "      <td>154</td>\n",
              "      <td>[u'John Travolta', u'Uma Thurman', u'Samuel L....</td>\n",
              "    </tr>\n",
              "  </tbody>\n",
              "</table>\n",
              "</div>"
            ],
            "text/plain": [
              "   star_rating  ...                                        actors_list\n",
              "0          9.3  ...  [u'Tim Robbins', u'Morgan Freeman', u'Bob Gunt...\n",
              "1          9.2  ...    [u'Marlon Brando', u'Al Pacino', u'James Caan']\n",
              "2          9.1  ...  [u'Al Pacino', u'Robert De Niro', u'Robert Duv...\n",
              "3          9.0  ...  [u'Christian Bale', u'Heath Ledger', u'Aaron E...\n",
              "4          8.9  ...  [u'John Travolta', u'Uma Thurman', u'Samuel L....\n",
              "\n",
              "[5 rows x 6 columns]"
            ]
          },
          "metadata": {
            "tags": []
          },
          "execution_count": 66
        }
      ]
    },
    {
      "cell_type": "code",
      "metadata": {
        "id": "l4GKuI4349Q7",
        "colab_type": "code",
        "outputId": "c29a67f9-86d9-4003-e1b9-2b9d64b2a5ad",
        "colab": {
          "base_uri": "https://localhost:8080/",
          "height": 34
        }
      },
      "source": [
        "movies.shape"
      ],
      "execution_count": 67,
      "outputs": [
        {
          "output_type": "execute_result",
          "data": {
            "text/plain": [
              "(979, 6)"
            ]
          },
          "metadata": {
            "tags": []
          },
          "execution_count": 67
        }
      ]
    },
    {
      "cell_type": "code",
      "metadata": {
        "id": "0lAfcrFr4_8g",
        "colab_type": "code",
        "outputId": "71f3ca4f-8f2d-4318-f4c4-0c2f9e0199ea",
        "colab": {
          "base_uri": "https://localhost:8080/",
          "height": 34
        }
      },
      "source": [
        "type(False)"
      ],
      "execution_count": 68,
      "outputs": [
        {
          "output_type": "execute_result",
          "data": {
            "text/plain": [
              "bool"
            ]
          },
          "metadata": {
            "tags": []
          },
          "execution_count": 68
        }
      ]
    },
    {
      "cell_type": "code",
      "metadata": {
        "id": "izTBUvP86DVr",
        "colab_type": "code",
        "colab": {}
      },
      "source": [
        "#python list of boolean to tell which rows match a given conditions\n",
        "booleans = []\n",
        "for length in movies.duration:\n",
        "  if length >=200:\n",
        "    booleans.append (True)\n",
        "  else:\n",
        "    booleans.append (False)"
      ],
      "execution_count": 0,
      "outputs": []
    },
    {
      "cell_type": "code",
      "metadata": {
        "id": "gzdMQJdB6d9e",
        "colab_type": "code",
        "outputId": "e5c92ce8-d164-45a7-af08-3b7b3a3236bc",
        "colab": {
          "base_uri": "https://localhost:8080/",
          "height": 34
        }
      },
      "source": [
        "booleans [0:5]"
      ],
      "execution_count": 70,
      "outputs": [
        {
          "output_type": "execute_result",
          "data": {
            "text/plain": [
              "[False, False, True, False, False]"
            ]
          },
          "metadata": {
            "tags": []
          },
          "execution_count": 70
        }
      ]
    },
    {
      "cell_type": "code",
      "metadata": {
        "id": "rfeQ8bpV6jGQ",
        "colab_type": "code",
        "outputId": "2c68605c-1419-4b18-a202-124f4a3e8704",
        "colab": {
          "base_uri": "https://localhost:8080/",
          "height": 34
        }
      },
      "source": [
        "len(booleans)"
      ],
      "execution_count": 71,
      "outputs": [
        {
          "output_type": "execute_result",
          "data": {
            "text/plain": [
              "979"
            ]
          },
          "metadata": {
            "tags": []
          },
          "execution_count": 71
        }
      ]
    },
    {
      "cell_type": "code",
      "metadata": {
        "id": "pzr4QG2_6lxM",
        "colab_type": "code",
        "colab": {}
      },
      "source": [
        "#convert the booleans list to a panda series\n",
        "is_long = pd.Series(booleans)"
      ],
      "execution_count": 0,
      "outputs": []
    },
    {
      "cell_type": "code",
      "metadata": {
        "id": "f0uE8CVO6xVj",
        "colab_type": "code",
        "outputId": "3908dffc-80d0-46d1-d117-c2d380e024f8",
        "colab": {
          "base_uri": "https://localhost:8080/",
          "height": 119
        }
      },
      "source": [
        "is_long.head()"
      ],
      "execution_count": 73,
      "outputs": [
        {
          "output_type": "execute_result",
          "data": {
            "text/plain": [
              "0    False\n",
              "1    False\n",
              "2     True\n",
              "3    False\n",
              "4    False\n",
              "dtype: bool"
            ]
          },
          "metadata": {
            "tags": []
          },
          "execution_count": 73
        }
      ]
    },
    {
      "cell_type": "code",
      "metadata": {
        "id": "TBPS31246zYR",
        "colab_type": "code",
        "outputId": "95680a4e-4907-45b1-fac6-178e0fe864d4",
        "colab": {
          "base_uri": "https://localhost:8080/",
          "height": 421
        }
      },
      "source": [
        "movies[is_long]"
      ],
      "execution_count": 74,
      "outputs": [
        {
          "output_type": "execute_result",
          "data": {
            "text/html": [
              "<div>\n",
              "<style scoped>\n",
              "    .dataframe tbody tr th:only-of-type {\n",
              "        vertical-align: middle;\n",
              "    }\n",
              "\n",
              "    .dataframe tbody tr th {\n",
              "        vertical-align: top;\n",
              "    }\n",
              "\n",
              "    .dataframe thead th {\n",
              "        text-align: right;\n",
              "    }\n",
              "</style>\n",
              "<table border=\"1\" class=\"dataframe\">\n",
              "  <thead>\n",
              "    <tr style=\"text-align: right;\">\n",
              "      <th></th>\n",
              "      <th>star_rating</th>\n",
              "      <th>title</th>\n",
              "      <th>content_rating</th>\n",
              "      <th>genre</th>\n",
              "      <th>duration</th>\n",
              "      <th>actors_list</th>\n",
              "    </tr>\n",
              "  </thead>\n",
              "  <tbody>\n",
              "    <tr>\n",
              "      <th>2</th>\n",
              "      <td>9.1</td>\n",
              "      <td>The Godfather: Part II</td>\n",
              "      <td>R</td>\n",
              "      <td>Crime</td>\n",
              "      <td>200</td>\n",
              "      <td>[u'Al Pacino', u'Robert De Niro', u'Robert Duv...</td>\n",
              "    </tr>\n",
              "    <tr>\n",
              "      <th>7</th>\n",
              "      <td>8.9</td>\n",
              "      <td>The Lord of the Rings: The Return of the King</td>\n",
              "      <td>PG-13</td>\n",
              "      <td>Adventure</td>\n",
              "      <td>201</td>\n",
              "      <td>[u'Elijah Wood', u'Viggo Mortensen', u'Ian McK...</td>\n",
              "    </tr>\n",
              "    <tr>\n",
              "      <th>17</th>\n",
              "      <td>8.7</td>\n",
              "      <td>Seven Samurai</td>\n",
              "      <td>UNRATED</td>\n",
              "      <td>Drama</td>\n",
              "      <td>207</td>\n",
              "      <td>[u'Toshir\\xf4 Mifune', u'Takashi Shimura', u'K...</td>\n",
              "    </tr>\n",
              "    <tr>\n",
              "      <th>78</th>\n",
              "      <td>8.4</td>\n",
              "      <td>Once Upon a Time in America</td>\n",
              "      <td>R</td>\n",
              "      <td>Crime</td>\n",
              "      <td>229</td>\n",
              "      <td>[u'Robert De Niro', u'James Woods', u'Elizabet...</td>\n",
              "    </tr>\n",
              "    <tr>\n",
              "      <th>85</th>\n",
              "      <td>8.4</td>\n",
              "      <td>Lawrence of Arabia</td>\n",
              "      <td>PG</td>\n",
              "      <td>Adventure</td>\n",
              "      <td>216</td>\n",
              "      <td>[u\"Peter O'Toole\", u'Alec Guinness', u'Anthony...</td>\n",
              "    </tr>\n",
              "    <tr>\n",
              "      <th>142</th>\n",
              "      <td>8.3</td>\n",
              "      <td>Lagaan: Once Upon a Time in India</td>\n",
              "      <td>PG</td>\n",
              "      <td>Adventure</td>\n",
              "      <td>224</td>\n",
              "      <td>[u'Aamir Khan', u'Gracy Singh', u'Rachel Shell...</td>\n",
              "    </tr>\n",
              "    <tr>\n",
              "      <th>157</th>\n",
              "      <td>8.2</td>\n",
              "      <td>Gone with the Wind</td>\n",
              "      <td>G</td>\n",
              "      <td>Drama</td>\n",
              "      <td>238</td>\n",
              "      <td>[u'Clark Gable', u'Vivien Leigh', u'Thomas Mit...</td>\n",
              "    </tr>\n",
              "    <tr>\n",
              "      <th>204</th>\n",
              "      <td>8.1</td>\n",
              "      <td>Ben-Hur</td>\n",
              "      <td>G</td>\n",
              "      <td>Adventure</td>\n",
              "      <td>212</td>\n",
              "      <td>[u'Charlton Heston', u'Jack Hawkins', u'Stephe...</td>\n",
              "    </tr>\n",
              "    <tr>\n",
              "      <th>445</th>\n",
              "      <td>7.9</td>\n",
              "      <td>The Ten Commandments</td>\n",
              "      <td>APPROVED</td>\n",
              "      <td>Adventure</td>\n",
              "      <td>220</td>\n",
              "      <td>[u'Charlton Heston', u'Yul Brynner', u'Anne Ba...</td>\n",
              "    </tr>\n",
              "    <tr>\n",
              "      <th>476</th>\n",
              "      <td>7.8</td>\n",
              "      <td>Hamlet</td>\n",
              "      <td>PG-13</td>\n",
              "      <td>Drama</td>\n",
              "      <td>242</td>\n",
              "      <td>[u'Kenneth Branagh', u'Julie Christie', u'Dere...</td>\n",
              "    </tr>\n",
              "    <tr>\n",
              "      <th>630</th>\n",
              "      <td>7.7</td>\n",
              "      <td>Malcolm X</td>\n",
              "      <td>PG-13</td>\n",
              "      <td>Biography</td>\n",
              "      <td>202</td>\n",
              "      <td>[u'Denzel Washington', u'Angela Bassett', u'De...</td>\n",
              "    </tr>\n",
              "    <tr>\n",
              "      <th>767</th>\n",
              "      <td>7.6</td>\n",
              "      <td>It's a Mad, Mad, Mad, Mad World</td>\n",
              "      <td>APPROVED</td>\n",
              "      <td>Action</td>\n",
              "      <td>205</td>\n",
              "      <td>[u'Spencer Tracy', u'Milton Berle', u'Ethel Me...</td>\n",
              "    </tr>\n",
              "  </tbody>\n",
              "</table>\n",
              "</div>"
            ],
            "text/plain": [
              "     star_rating  ...                                        actors_list\n",
              "2            9.1  ...  [u'Al Pacino', u'Robert De Niro', u'Robert Duv...\n",
              "7            8.9  ...  [u'Elijah Wood', u'Viggo Mortensen', u'Ian McK...\n",
              "17           8.7  ...  [u'Toshir\\xf4 Mifune', u'Takashi Shimura', u'K...\n",
              "78           8.4  ...  [u'Robert De Niro', u'James Woods', u'Elizabet...\n",
              "85           8.4  ...  [u\"Peter O'Toole\", u'Alec Guinness', u'Anthony...\n",
              "142          8.3  ...  [u'Aamir Khan', u'Gracy Singh', u'Rachel Shell...\n",
              "157          8.2  ...  [u'Clark Gable', u'Vivien Leigh', u'Thomas Mit...\n",
              "204          8.1  ...  [u'Charlton Heston', u'Jack Hawkins', u'Stephe...\n",
              "445          7.9  ...  [u'Charlton Heston', u'Yul Brynner', u'Anne Ba...\n",
              "476          7.8  ...  [u'Kenneth Branagh', u'Julie Christie', u'Dere...\n",
              "630          7.7  ...  [u'Denzel Washington', u'Angela Bassett', u'De...\n",
              "767          7.6  ...  [u'Spencer Tracy', u'Milton Berle', u'Ethel Me...\n",
              "\n",
              "[12 rows x 6 columns]"
            ]
          },
          "metadata": {
            "tags": []
          },
          "execution_count": 74
        }
      ]
    },
    {
      "cell_type": "code",
      "metadata": {
        "id": "9NwXj-VL67K-",
        "colab_type": "code",
        "colab": {}
      },
      "source": [
        "is_long = movies.duration >=200"
      ],
      "execution_count": 0,
      "outputs": []
    },
    {
      "cell_type": "code",
      "metadata": {
        "id": "iaFciDEQ7TnZ",
        "colab_type": "code",
        "outputId": "51cb64af-0585-4d58-96e6-9d24df11bee8",
        "colab": {
          "base_uri": "https://localhost:8080/",
          "height": 119
        }
      },
      "source": [
        "is_long.head()"
      ],
      "execution_count": 76,
      "outputs": [
        {
          "output_type": "execute_result",
          "data": {
            "text/plain": [
              "0    False\n",
              "1    False\n",
              "2     True\n",
              "3    False\n",
              "4    False\n",
              "Name: duration, dtype: bool"
            ]
          },
          "metadata": {
            "tags": []
          },
          "execution_count": 76
        }
      ]
    },
    {
      "cell_type": "code",
      "metadata": {
        "id": "mR92xZ4G7WBH",
        "colab_type": "code",
        "outputId": "e7f3b36c-600a-4cde-e56e-61ea9b6711ec",
        "colab": {
          "base_uri": "https://localhost:8080/",
          "height": 421
        }
      },
      "source": [
        "movies[is_long]"
      ],
      "execution_count": 77,
      "outputs": [
        {
          "output_type": "execute_result",
          "data": {
            "text/html": [
              "<div>\n",
              "<style scoped>\n",
              "    .dataframe tbody tr th:only-of-type {\n",
              "        vertical-align: middle;\n",
              "    }\n",
              "\n",
              "    .dataframe tbody tr th {\n",
              "        vertical-align: top;\n",
              "    }\n",
              "\n",
              "    .dataframe thead th {\n",
              "        text-align: right;\n",
              "    }\n",
              "</style>\n",
              "<table border=\"1\" class=\"dataframe\">\n",
              "  <thead>\n",
              "    <tr style=\"text-align: right;\">\n",
              "      <th></th>\n",
              "      <th>star_rating</th>\n",
              "      <th>title</th>\n",
              "      <th>content_rating</th>\n",
              "      <th>genre</th>\n",
              "      <th>duration</th>\n",
              "      <th>actors_list</th>\n",
              "    </tr>\n",
              "  </thead>\n",
              "  <tbody>\n",
              "    <tr>\n",
              "      <th>2</th>\n",
              "      <td>9.1</td>\n",
              "      <td>The Godfather: Part II</td>\n",
              "      <td>R</td>\n",
              "      <td>Crime</td>\n",
              "      <td>200</td>\n",
              "      <td>[u'Al Pacino', u'Robert De Niro', u'Robert Duv...</td>\n",
              "    </tr>\n",
              "    <tr>\n",
              "      <th>7</th>\n",
              "      <td>8.9</td>\n",
              "      <td>The Lord of the Rings: The Return of the King</td>\n",
              "      <td>PG-13</td>\n",
              "      <td>Adventure</td>\n",
              "      <td>201</td>\n",
              "      <td>[u'Elijah Wood', u'Viggo Mortensen', u'Ian McK...</td>\n",
              "    </tr>\n",
              "    <tr>\n",
              "      <th>17</th>\n",
              "      <td>8.7</td>\n",
              "      <td>Seven Samurai</td>\n",
              "      <td>UNRATED</td>\n",
              "      <td>Drama</td>\n",
              "      <td>207</td>\n",
              "      <td>[u'Toshir\\xf4 Mifune', u'Takashi Shimura', u'K...</td>\n",
              "    </tr>\n",
              "    <tr>\n",
              "      <th>78</th>\n",
              "      <td>8.4</td>\n",
              "      <td>Once Upon a Time in America</td>\n",
              "      <td>R</td>\n",
              "      <td>Crime</td>\n",
              "      <td>229</td>\n",
              "      <td>[u'Robert De Niro', u'James Woods', u'Elizabet...</td>\n",
              "    </tr>\n",
              "    <tr>\n",
              "      <th>85</th>\n",
              "      <td>8.4</td>\n",
              "      <td>Lawrence of Arabia</td>\n",
              "      <td>PG</td>\n",
              "      <td>Adventure</td>\n",
              "      <td>216</td>\n",
              "      <td>[u\"Peter O'Toole\", u'Alec Guinness', u'Anthony...</td>\n",
              "    </tr>\n",
              "    <tr>\n",
              "      <th>142</th>\n",
              "      <td>8.3</td>\n",
              "      <td>Lagaan: Once Upon a Time in India</td>\n",
              "      <td>PG</td>\n",
              "      <td>Adventure</td>\n",
              "      <td>224</td>\n",
              "      <td>[u'Aamir Khan', u'Gracy Singh', u'Rachel Shell...</td>\n",
              "    </tr>\n",
              "    <tr>\n",
              "      <th>157</th>\n",
              "      <td>8.2</td>\n",
              "      <td>Gone with the Wind</td>\n",
              "      <td>G</td>\n",
              "      <td>Drama</td>\n",
              "      <td>238</td>\n",
              "      <td>[u'Clark Gable', u'Vivien Leigh', u'Thomas Mit...</td>\n",
              "    </tr>\n",
              "    <tr>\n",
              "      <th>204</th>\n",
              "      <td>8.1</td>\n",
              "      <td>Ben-Hur</td>\n",
              "      <td>G</td>\n",
              "      <td>Adventure</td>\n",
              "      <td>212</td>\n",
              "      <td>[u'Charlton Heston', u'Jack Hawkins', u'Stephe...</td>\n",
              "    </tr>\n",
              "    <tr>\n",
              "      <th>445</th>\n",
              "      <td>7.9</td>\n",
              "      <td>The Ten Commandments</td>\n",
              "      <td>APPROVED</td>\n",
              "      <td>Adventure</td>\n",
              "      <td>220</td>\n",
              "      <td>[u'Charlton Heston', u'Yul Brynner', u'Anne Ba...</td>\n",
              "    </tr>\n",
              "    <tr>\n",
              "      <th>476</th>\n",
              "      <td>7.8</td>\n",
              "      <td>Hamlet</td>\n",
              "      <td>PG-13</td>\n",
              "      <td>Drama</td>\n",
              "      <td>242</td>\n",
              "      <td>[u'Kenneth Branagh', u'Julie Christie', u'Dere...</td>\n",
              "    </tr>\n",
              "    <tr>\n",
              "      <th>630</th>\n",
              "      <td>7.7</td>\n",
              "      <td>Malcolm X</td>\n",
              "      <td>PG-13</td>\n",
              "      <td>Biography</td>\n",
              "      <td>202</td>\n",
              "      <td>[u'Denzel Washington', u'Angela Bassett', u'De...</td>\n",
              "    </tr>\n",
              "    <tr>\n",
              "      <th>767</th>\n",
              "      <td>7.6</td>\n",
              "      <td>It's a Mad, Mad, Mad, Mad World</td>\n",
              "      <td>APPROVED</td>\n",
              "      <td>Action</td>\n",
              "      <td>205</td>\n",
              "      <td>[u'Spencer Tracy', u'Milton Berle', u'Ethel Me...</td>\n",
              "    </tr>\n",
              "  </tbody>\n",
              "</table>\n",
              "</div>"
            ],
            "text/plain": [
              "     star_rating  ...                                        actors_list\n",
              "2            9.1  ...  [u'Al Pacino', u'Robert De Niro', u'Robert Duv...\n",
              "7            8.9  ...  [u'Elijah Wood', u'Viggo Mortensen', u'Ian McK...\n",
              "17           8.7  ...  [u'Toshir\\xf4 Mifune', u'Takashi Shimura', u'K...\n",
              "78           8.4  ...  [u'Robert De Niro', u'James Woods', u'Elizabet...\n",
              "85           8.4  ...  [u\"Peter O'Toole\", u'Alec Guinness', u'Anthony...\n",
              "142          8.3  ...  [u'Aamir Khan', u'Gracy Singh', u'Rachel Shell...\n",
              "157          8.2  ...  [u'Clark Gable', u'Vivien Leigh', u'Thomas Mit...\n",
              "204          8.1  ...  [u'Charlton Heston', u'Jack Hawkins', u'Stephe...\n",
              "445          7.9  ...  [u'Charlton Heston', u'Yul Brynner', u'Anne Ba...\n",
              "476          7.8  ...  [u'Kenneth Branagh', u'Julie Christie', u'Dere...\n",
              "630          7.7  ...  [u'Denzel Washington', u'Angela Bassett', u'De...\n",
              "767          7.6  ...  [u'Spencer Tracy', u'Milton Berle', u'Ethel Me...\n",
              "\n",
              "[12 rows x 6 columns]"
            ]
          },
          "metadata": {
            "tags": []
          },
          "execution_count": 77
        }
      ]
    },
    {
      "cell_type": "code",
      "metadata": {
        "id": "96I9tx8u7kTk",
        "colab_type": "code",
        "outputId": "2d2be40a-f1bb-4e30-eda1-81be461bafa6",
        "colab": {
          "base_uri": "https://localhost:8080/",
          "height": 421
        }
      },
      "source": [
        "movies[movies.duration >=200]"
      ],
      "execution_count": 78,
      "outputs": [
        {
          "output_type": "execute_result",
          "data": {
            "text/html": [
              "<div>\n",
              "<style scoped>\n",
              "    .dataframe tbody tr th:only-of-type {\n",
              "        vertical-align: middle;\n",
              "    }\n",
              "\n",
              "    .dataframe tbody tr th {\n",
              "        vertical-align: top;\n",
              "    }\n",
              "\n",
              "    .dataframe thead th {\n",
              "        text-align: right;\n",
              "    }\n",
              "</style>\n",
              "<table border=\"1\" class=\"dataframe\">\n",
              "  <thead>\n",
              "    <tr style=\"text-align: right;\">\n",
              "      <th></th>\n",
              "      <th>star_rating</th>\n",
              "      <th>title</th>\n",
              "      <th>content_rating</th>\n",
              "      <th>genre</th>\n",
              "      <th>duration</th>\n",
              "      <th>actors_list</th>\n",
              "    </tr>\n",
              "  </thead>\n",
              "  <tbody>\n",
              "    <tr>\n",
              "      <th>2</th>\n",
              "      <td>9.1</td>\n",
              "      <td>The Godfather: Part II</td>\n",
              "      <td>R</td>\n",
              "      <td>Crime</td>\n",
              "      <td>200</td>\n",
              "      <td>[u'Al Pacino', u'Robert De Niro', u'Robert Duv...</td>\n",
              "    </tr>\n",
              "    <tr>\n",
              "      <th>7</th>\n",
              "      <td>8.9</td>\n",
              "      <td>The Lord of the Rings: The Return of the King</td>\n",
              "      <td>PG-13</td>\n",
              "      <td>Adventure</td>\n",
              "      <td>201</td>\n",
              "      <td>[u'Elijah Wood', u'Viggo Mortensen', u'Ian McK...</td>\n",
              "    </tr>\n",
              "    <tr>\n",
              "      <th>17</th>\n",
              "      <td>8.7</td>\n",
              "      <td>Seven Samurai</td>\n",
              "      <td>UNRATED</td>\n",
              "      <td>Drama</td>\n",
              "      <td>207</td>\n",
              "      <td>[u'Toshir\\xf4 Mifune', u'Takashi Shimura', u'K...</td>\n",
              "    </tr>\n",
              "    <tr>\n",
              "      <th>78</th>\n",
              "      <td>8.4</td>\n",
              "      <td>Once Upon a Time in America</td>\n",
              "      <td>R</td>\n",
              "      <td>Crime</td>\n",
              "      <td>229</td>\n",
              "      <td>[u'Robert De Niro', u'James Woods', u'Elizabet...</td>\n",
              "    </tr>\n",
              "    <tr>\n",
              "      <th>85</th>\n",
              "      <td>8.4</td>\n",
              "      <td>Lawrence of Arabia</td>\n",
              "      <td>PG</td>\n",
              "      <td>Adventure</td>\n",
              "      <td>216</td>\n",
              "      <td>[u\"Peter O'Toole\", u'Alec Guinness', u'Anthony...</td>\n",
              "    </tr>\n",
              "    <tr>\n",
              "      <th>142</th>\n",
              "      <td>8.3</td>\n",
              "      <td>Lagaan: Once Upon a Time in India</td>\n",
              "      <td>PG</td>\n",
              "      <td>Adventure</td>\n",
              "      <td>224</td>\n",
              "      <td>[u'Aamir Khan', u'Gracy Singh', u'Rachel Shell...</td>\n",
              "    </tr>\n",
              "    <tr>\n",
              "      <th>157</th>\n",
              "      <td>8.2</td>\n",
              "      <td>Gone with the Wind</td>\n",
              "      <td>G</td>\n",
              "      <td>Drama</td>\n",
              "      <td>238</td>\n",
              "      <td>[u'Clark Gable', u'Vivien Leigh', u'Thomas Mit...</td>\n",
              "    </tr>\n",
              "    <tr>\n",
              "      <th>204</th>\n",
              "      <td>8.1</td>\n",
              "      <td>Ben-Hur</td>\n",
              "      <td>G</td>\n",
              "      <td>Adventure</td>\n",
              "      <td>212</td>\n",
              "      <td>[u'Charlton Heston', u'Jack Hawkins', u'Stephe...</td>\n",
              "    </tr>\n",
              "    <tr>\n",
              "      <th>445</th>\n",
              "      <td>7.9</td>\n",
              "      <td>The Ten Commandments</td>\n",
              "      <td>APPROVED</td>\n",
              "      <td>Adventure</td>\n",
              "      <td>220</td>\n",
              "      <td>[u'Charlton Heston', u'Yul Brynner', u'Anne Ba...</td>\n",
              "    </tr>\n",
              "    <tr>\n",
              "      <th>476</th>\n",
              "      <td>7.8</td>\n",
              "      <td>Hamlet</td>\n",
              "      <td>PG-13</td>\n",
              "      <td>Drama</td>\n",
              "      <td>242</td>\n",
              "      <td>[u'Kenneth Branagh', u'Julie Christie', u'Dere...</td>\n",
              "    </tr>\n",
              "    <tr>\n",
              "      <th>630</th>\n",
              "      <td>7.7</td>\n",
              "      <td>Malcolm X</td>\n",
              "      <td>PG-13</td>\n",
              "      <td>Biography</td>\n",
              "      <td>202</td>\n",
              "      <td>[u'Denzel Washington', u'Angela Bassett', u'De...</td>\n",
              "    </tr>\n",
              "    <tr>\n",
              "      <th>767</th>\n",
              "      <td>7.6</td>\n",
              "      <td>It's a Mad, Mad, Mad, Mad World</td>\n",
              "      <td>APPROVED</td>\n",
              "      <td>Action</td>\n",
              "      <td>205</td>\n",
              "      <td>[u'Spencer Tracy', u'Milton Berle', u'Ethel Me...</td>\n",
              "    </tr>\n",
              "  </tbody>\n",
              "</table>\n",
              "</div>"
            ],
            "text/plain": [
              "     star_rating  ...                                        actors_list\n",
              "2            9.1  ...  [u'Al Pacino', u'Robert De Niro', u'Robert Duv...\n",
              "7            8.9  ...  [u'Elijah Wood', u'Viggo Mortensen', u'Ian McK...\n",
              "17           8.7  ...  [u'Toshir\\xf4 Mifune', u'Takashi Shimura', u'K...\n",
              "78           8.4  ...  [u'Robert De Niro', u'James Woods', u'Elizabet...\n",
              "85           8.4  ...  [u\"Peter O'Toole\", u'Alec Guinness', u'Anthony...\n",
              "142          8.3  ...  [u'Aamir Khan', u'Gracy Singh', u'Rachel Shell...\n",
              "157          8.2  ...  [u'Clark Gable', u'Vivien Leigh', u'Thomas Mit...\n",
              "204          8.1  ...  [u'Charlton Heston', u'Jack Hawkins', u'Stephe...\n",
              "445          7.9  ...  [u'Charlton Heston', u'Yul Brynner', u'Anne Ba...\n",
              "476          7.8  ...  [u'Kenneth Branagh', u'Julie Christie', u'Dere...\n",
              "630          7.7  ...  [u'Denzel Washington', u'Angela Bassett', u'De...\n",
              "767          7.6  ...  [u'Spencer Tracy', u'Milton Berle', u'Ethel Me...\n",
              "\n",
              "[12 rows x 6 columns]"
            ]
          },
          "metadata": {
            "tags": []
          },
          "execution_count": 78
        }
      ]
    },
    {
      "cell_type": "code",
      "metadata": {
        "id": "635h8U0i8Bbb",
        "colab_type": "code",
        "outputId": "4bdd7221-56cf-4b6a-8721-2bca19f69683",
        "colab": {
          "base_uri": "https://localhost:8080/",
          "height": 238
        }
      },
      "source": [
        "movies[movies.duration >=200].genre"
      ],
      "execution_count": 79,
      "outputs": [
        {
          "output_type": "execute_result",
          "data": {
            "text/plain": [
              "2          Crime\n",
              "7      Adventure\n",
              "17         Drama\n",
              "78         Crime\n",
              "85     Adventure\n",
              "142    Adventure\n",
              "157        Drama\n",
              "204    Adventure\n",
              "445    Adventure\n",
              "476        Drama\n",
              "630    Biography\n",
              "767       Action\n",
              "Name: genre, dtype: object"
            ]
          },
          "metadata": {
            "tags": []
          },
          "execution_count": 79
        }
      ]
    },
    {
      "cell_type": "code",
      "metadata": {
        "id": "qI4QdgEu8UA4",
        "colab_type": "code",
        "outputId": "d10791e9-8c2c-4d85-a853-2cb675821378",
        "colab": {
          "base_uri": "https://localhost:8080/",
          "height": 238
        }
      },
      "source": [
        "movies[movies.duration >=200]['genre']"
      ],
      "execution_count": 80,
      "outputs": [
        {
          "output_type": "execute_result",
          "data": {
            "text/plain": [
              "2          Crime\n",
              "7      Adventure\n",
              "17         Drama\n",
              "78         Crime\n",
              "85     Adventure\n",
              "142    Adventure\n",
              "157        Drama\n",
              "204    Adventure\n",
              "445    Adventure\n",
              "476        Drama\n",
              "630    Biography\n",
              "767       Action\n",
              "Name: genre, dtype: object"
            ]
          },
          "metadata": {
            "tags": []
          },
          "execution_count": 80
        }
      ]
    },
    {
      "cell_type": "code",
      "metadata": {
        "id": "NU8vySDv8dje",
        "colab_type": "code",
        "outputId": "65afc142-0f59-4afa-ccb4-4cbbb413b3d3",
        "colab": {
          "base_uri": "https://localhost:8080/",
          "height": 238
        }
      },
      "source": [
        "movies.loc[movies.duration >= 200, 'genre'] #Best practice way to do it"
      ],
      "execution_count": 81,
      "outputs": [
        {
          "output_type": "execute_result",
          "data": {
            "text/plain": [
              "2          Crime\n",
              "7      Adventure\n",
              "17         Drama\n",
              "78         Crime\n",
              "85     Adventure\n",
              "142    Adventure\n",
              "157        Drama\n",
              "204    Adventure\n",
              "445    Adventure\n",
              "476        Drama\n",
              "630    Biography\n",
              "767       Action\n",
              "Name: genre, dtype: object"
            ]
          },
          "metadata": {
            "tags": []
          },
          "execution_count": 81
        }
      ]
    },
    {
      "cell_type": "code",
      "metadata": {
        "id": "a_oIbkcS7rRk",
        "colab_type": "code",
        "colab": {}
      },
      "source": [
        "#Video 9 How do I apply multiple filters criteria to a panda dataframe"
      ],
      "execution_count": 0,
      "outputs": []
    },
    {
      "cell_type": "code",
      "metadata": {
        "id": "GEHCGNLd8qel",
        "colab_type": "code",
        "colab": {}
      },
      "source": [
        "movies = pd.read_csv('http://bit.ly/imdbratings')"
      ],
      "execution_count": 0,
      "outputs": []
    },
    {
      "cell_type": "code",
      "metadata": {
        "id": "EDfw7ljA8-tt",
        "colab_type": "code",
        "outputId": "1a3d6ca4-0e29-44fe-ff52-604eb02e960f",
        "colab": {
          "base_uri": "https://localhost:8080/",
          "height": 204
        }
      },
      "source": [
        "movies.head()"
      ],
      "execution_count": 84,
      "outputs": [
        {
          "output_type": "execute_result",
          "data": {
            "text/html": [
              "<div>\n",
              "<style scoped>\n",
              "    .dataframe tbody tr th:only-of-type {\n",
              "        vertical-align: middle;\n",
              "    }\n",
              "\n",
              "    .dataframe tbody tr th {\n",
              "        vertical-align: top;\n",
              "    }\n",
              "\n",
              "    .dataframe thead th {\n",
              "        text-align: right;\n",
              "    }\n",
              "</style>\n",
              "<table border=\"1\" class=\"dataframe\">\n",
              "  <thead>\n",
              "    <tr style=\"text-align: right;\">\n",
              "      <th></th>\n",
              "      <th>star_rating</th>\n",
              "      <th>title</th>\n",
              "      <th>content_rating</th>\n",
              "      <th>genre</th>\n",
              "      <th>duration</th>\n",
              "      <th>actors_list</th>\n",
              "    </tr>\n",
              "  </thead>\n",
              "  <tbody>\n",
              "    <tr>\n",
              "      <th>0</th>\n",
              "      <td>9.3</td>\n",
              "      <td>The Shawshank Redemption</td>\n",
              "      <td>R</td>\n",
              "      <td>Crime</td>\n",
              "      <td>142</td>\n",
              "      <td>[u'Tim Robbins', u'Morgan Freeman', u'Bob Gunt...</td>\n",
              "    </tr>\n",
              "    <tr>\n",
              "      <th>1</th>\n",
              "      <td>9.2</td>\n",
              "      <td>The Godfather</td>\n",
              "      <td>R</td>\n",
              "      <td>Crime</td>\n",
              "      <td>175</td>\n",
              "      <td>[u'Marlon Brando', u'Al Pacino', u'James Caan']</td>\n",
              "    </tr>\n",
              "    <tr>\n",
              "      <th>2</th>\n",
              "      <td>9.1</td>\n",
              "      <td>The Godfather: Part II</td>\n",
              "      <td>R</td>\n",
              "      <td>Crime</td>\n",
              "      <td>200</td>\n",
              "      <td>[u'Al Pacino', u'Robert De Niro', u'Robert Duv...</td>\n",
              "    </tr>\n",
              "    <tr>\n",
              "      <th>3</th>\n",
              "      <td>9.0</td>\n",
              "      <td>The Dark Knight</td>\n",
              "      <td>PG-13</td>\n",
              "      <td>Action</td>\n",
              "      <td>152</td>\n",
              "      <td>[u'Christian Bale', u'Heath Ledger', u'Aaron E...</td>\n",
              "    </tr>\n",
              "    <tr>\n",
              "      <th>4</th>\n",
              "      <td>8.9</td>\n",
              "      <td>Pulp Fiction</td>\n",
              "      <td>R</td>\n",
              "      <td>Crime</td>\n",
              "      <td>154</td>\n",
              "      <td>[u'John Travolta', u'Uma Thurman', u'Samuel L....</td>\n",
              "    </tr>\n",
              "  </tbody>\n",
              "</table>\n",
              "</div>"
            ],
            "text/plain": [
              "   star_rating  ...                                        actors_list\n",
              "0          9.3  ...  [u'Tim Robbins', u'Morgan Freeman', u'Bob Gunt...\n",
              "1          9.2  ...    [u'Marlon Brando', u'Al Pacino', u'James Caan']\n",
              "2          9.1  ...  [u'Al Pacino', u'Robert De Niro', u'Robert Duv...\n",
              "3          9.0  ...  [u'Christian Bale', u'Heath Ledger', u'Aaron E...\n",
              "4          8.9  ...  [u'John Travolta', u'Uma Thurman', u'Samuel L....\n",
              "\n",
              "[5 rows x 6 columns]"
            ]
          },
          "metadata": {
            "tags": []
          },
          "execution_count": 84
        }
      ]
    },
    {
      "cell_type": "code",
      "metadata": {
        "id": "cq2dWr-29ACh",
        "colab_type": "code",
        "outputId": "ad0e2243-d6aa-43eb-fa6a-4e3b1cf66fda",
        "colab": {
          "base_uri": "https://localhost:8080/",
          "height": 421
        }
      },
      "source": [
        "movies[movies.duration >=200]"
      ],
      "execution_count": 85,
      "outputs": [
        {
          "output_type": "execute_result",
          "data": {
            "text/html": [
              "<div>\n",
              "<style scoped>\n",
              "    .dataframe tbody tr th:only-of-type {\n",
              "        vertical-align: middle;\n",
              "    }\n",
              "\n",
              "    .dataframe tbody tr th {\n",
              "        vertical-align: top;\n",
              "    }\n",
              "\n",
              "    .dataframe thead th {\n",
              "        text-align: right;\n",
              "    }\n",
              "</style>\n",
              "<table border=\"1\" class=\"dataframe\">\n",
              "  <thead>\n",
              "    <tr style=\"text-align: right;\">\n",
              "      <th></th>\n",
              "      <th>star_rating</th>\n",
              "      <th>title</th>\n",
              "      <th>content_rating</th>\n",
              "      <th>genre</th>\n",
              "      <th>duration</th>\n",
              "      <th>actors_list</th>\n",
              "    </tr>\n",
              "  </thead>\n",
              "  <tbody>\n",
              "    <tr>\n",
              "      <th>2</th>\n",
              "      <td>9.1</td>\n",
              "      <td>The Godfather: Part II</td>\n",
              "      <td>R</td>\n",
              "      <td>Crime</td>\n",
              "      <td>200</td>\n",
              "      <td>[u'Al Pacino', u'Robert De Niro', u'Robert Duv...</td>\n",
              "    </tr>\n",
              "    <tr>\n",
              "      <th>7</th>\n",
              "      <td>8.9</td>\n",
              "      <td>The Lord of the Rings: The Return of the King</td>\n",
              "      <td>PG-13</td>\n",
              "      <td>Adventure</td>\n",
              "      <td>201</td>\n",
              "      <td>[u'Elijah Wood', u'Viggo Mortensen', u'Ian McK...</td>\n",
              "    </tr>\n",
              "    <tr>\n",
              "      <th>17</th>\n",
              "      <td>8.7</td>\n",
              "      <td>Seven Samurai</td>\n",
              "      <td>UNRATED</td>\n",
              "      <td>Drama</td>\n",
              "      <td>207</td>\n",
              "      <td>[u'Toshir\\xf4 Mifune', u'Takashi Shimura', u'K...</td>\n",
              "    </tr>\n",
              "    <tr>\n",
              "      <th>78</th>\n",
              "      <td>8.4</td>\n",
              "      <td>Once Upon a Time in America</td>\n",
              "      <td>R</td>\n",
              "      <td>Crime</td>\n",
              "      <td>229</td>\n",
              "      <td>[u'Robert De Niro', u'James Woods', u'Elizabet...</td>\n",
              "    </tr>\n",
              "    <tr>\n",
              "      <th>85</th>\n",
              "      <td>8.4</td>\n",
              "      <td>Lawrence of Arabia</td>\n",
              "      <td>PG</td>\n",
              "      <td>Adventure</td>\n",
              "      <td>216</td>\n",
              "      <td>[u\"Peter O'Toole\", u'Alec Guinness', u'Anthony...</td>\n",
              "    </tr>\n",
              "    <tr>\n",
              "      <th>142</th>\n",
              "      <td>8.3</td>\n",
              "      <td>Lagaan: Once Upon a Time in India</td>\n",
              "      <td>PG</td>\n",
              "      <td>Adventure</td>\n",
              "      <td>224</td>\n",
              "      <td>[u'Aamir Khan', u'Gracy Singh', u'Rachel Shell...</td>\n",
              "    </tr>\n",
              "    <tr>\n",
              "      <th>157</th>\n",
              "      <td>8.2</td>\n",
              "      <td>Gone with the Wind</td>\n",
              "      <td>G</td>\n",
              "      <td>Drama</td>\n",
              "      <td>238</td>\n",
              "      <td>[u'Clark Gable', u'Vivien Leigh', u'Thomas Mit...</td>\n",
              "    </tr>\n",
              "    <tr>\n",
              "      <th>204</th>\n",
              "      <td>8.1</td>\n",
              "      <td>Ben-Hur</td>\n",
              "      <td>G</td>\n",
              "      <td>Adventure</td>\n",
              "      <td>212</td>\n",
              "      <td>[u'Charlton Heston', u'Jack Hawkins', u'Stephe...</td>\n",
              "    </tr>\n",
              "    <tr>\n",
              "      <th>445</th>\n",
              "      <td>7.9</td>\n",
              "      <td>The Ten Commandments</td>\n",
              "      <td>APPROVED</td>\n",
              "      <td>Adventure</td>\n",
              "      <td>220</td>\n",
              "      <td>[u'Charlton Heston', u'Yul Brynner', u'Anne Ba...</td>\n",
              "    </tr>\n",
              "    <tr>\n",
              "      <th>476</th>\n",
              "      <td>7.8</td>\n",
              "      <td>Hamlet</td>\n",
              "      <td>PG-13</td>\n",
              "      <td>Drama</td>\n",
              "      <td>242</td>\n",
              "      <td>[u'Kenneth Branagh', u'Julie Christie', u'Dere...</td>\n",
              "    </tr>\n",
              "    <tr>\n",
              "      <th>630</th>\n",
              "      <td>7.7</td>\n",
              "      <td>Malcolm X</td>\n",
              "      <td>PG-13</td>\n",
              "      <td>Biography</td>\n",
              "      <td>202</td>\n",
              "      <td>[u'Denzel Washington', u'Angela Bassett', u'De...</td>\n",
              "    </tr>\n",
              "    <tr>\n",
              "      <th>767</th>\n",
              "      <td>7.6</td>\n",
              "      <td>It's a Mad, Mad, Mad, Mad World</td>\n",
              "      <td>APPROVED</td>\n",
              "      <td>Action</td>\n",
              "      <td>205</td>\n",
              "      <td>[u'Spencer Tracy', u'Milton Berle', u'Ethel Me...</td>\n",
              "    </tr>\n",
              "  </tbody>\n",
              "</table>\n",
              "</div>"
            ],
            "text/plain": [
              "     star_rating  ...                                        actors_list\n",
              "2            9.1  ...  [u'Al Pacino', u'Robert De Niro', u'Robert Duv...\n",
              "7            8.9  ...  [u'Elijah Wood', u'Viggo Mortensen', u'Ian McK...\n",
              "17           8.7  ...  [u'Toshir\\xf4 Mifune', u'Takashi Shimura', u'K...\n",
              "78           8.4  ...  [u'Robert De Niro', u'James Woods', u'Elizabet...\n",
              "85           8.4  ...  [u\"Peter O'Toole\", u'Alec Guinness', u'Anthony...\n",
              "142          8.3  ...  [u'Aamir Khan', u'Gracy Singh', u'Rachel Shell...\n",
              "157          8.2  ...  [u'Clark Gable', u'Vivien Leigh', u'Thomas Mit...\n",
              "204          8.1  ...  [u'Charlton Heston', u'Jack Hawkins', u'Stephe...\n",
              "445          7.9  ...  [u'Charlton Heston', u'Yul Brynner', u'Anne Ba...\n",
              "476          7.8  ...  [u'Kenneth Branagh', u'Julie Christie', u'Dere...\n",
              "630          7.7  ...  [u'Denzel Washington', u'Angela Bassett', u'De...\n",
              "767          7.6  ...  [u'Spencer Tracy', u'Milton Berle', u'Ethel Me...\n",
              "\n",
              "[12 rows x 6 columns]"
            ]
          },
          "metadata": {
            "tags": []
          },
          "execution_count": 85
        }
      ]
    },
    {
      "cell_type": "code",
      "metadata": {
        "id": "_MkzJhcS9JYS",
        "colab_type": "code",
        "outputId": "a6b6d2a1-4724-40f5-a3a4-e85d6a731a7d",
        "colab": {
          "base_uri": "https://localhost:8080/",
          "height": 142
        }
      },
      "source": [
        "movies[(movies.duration >= 200) & (movies.genre == 'Drama')]"
      ],
      "execution_count": 86,
      "outputs": [
        {
          "output_type": "execute_result",
          "data": {
            "text/html": [
              "<div>\n",
              "<style scoped>\n",
              "    .dataframe tbody tr th:only-of-type {\n",
              "        vertical-align: middle;\n",
              "    }\n",
              "\n",
              "    .dataframe tbody tr th {\n",
              "        vertical-align: top;\n",
              "    }\n",
              "\n",
              "    .dataframe thead th {\n",
              "        text-align: right;\n",
              "    }\n",
              "</style>\n",
              "<table border=\"1\" class=\"dataframe\">\n",
              "  <thead>\n",
              "    <tr style=\"text-align: right;\">\n",
              "      <th></th>\n",
              "      <th>star_rating</th>\n",
              "      <th>title</th>\n",
              "      <th>content_rating</th>\n",
              "      <th>genre</th>\n",
              "      <th>duration</th>\n",
              "      <th>actors_list</th>\n",
              "    </tr>\n",
              "  </thead>\n",
              "  <tbody>\n",
              "    <tr>\n",
              "      <th>17</th>\n",
              "      <td>8.7</td>\n",
              "      <td>Seven Samurai</td>\n",
              "      <td>UNRATED</td>\n",
              "      <td>Drama</td>\n",
              "      <td>207</td>\n",
              "      <td>[u'Toshir\\xf4 Mifune', u'Takashi Shimura', u'K...</td>\n",
              "    </tr>\n",
              "    <tr>\n",
              "      <th>157</th>\n",
              "      <td>8.2</td>\n",
              "      <td>Gone with the Wind</td>\n",
              "      <td>G</td>\n",
              "      <td>Drama</td>\n",
              "      <td>238</td>\n",
              "      <td>[u'Clark Gable', u'Vivien Leigh', u'Thomas Mit...</td>\n",
              "    </tr>\n",
              "    <tr>\n",
              "      <th>476</th>\n",
              "      <td>7.8</td>\n",
              "      <td>Hamlet</td>\n",
              "      <td>PG-13</td>\n",
              "      <td>Drama</td>\n",
              "      <td>242</td>\n",
              "      <td>[u'Kenneth Branagh', u'Julie Christie', u'Dere...</td>\n",
              "    </tr>\n",
              "  </tbody>\n",
              "</table>\n",
              "</div>"
            ],
            "text/plain": [
              "     star_rating  ...                                        actors_list\n",
              "17           8.7  ...  [u'Toshir\\xf4 Mifune', u'Takashi Shimura', u'K...\n",
              "157          8.2  ...  [u'Clark Gable', u'Vivien Leigh', u'Thomas Mit...\n",
              "476          7.8  ...  [u'Kenneth Branagh', u'Julie Christie', u'Dere...\n",
              "\n",
              "[3 rows x 6 columns]"
            ]
          },
          "metadata": {
            "tags": []
          },
          "execution_count": 86
        }
      ]
    },
    {
      "cell_type": "code",
      "metadata": {
        "id": "-dzxmMLm94zP",
        "colab_type": "code",
        "outputId": "423a32fa-121a-4efc-b076-0aa707fe2af1",
        "colab": {
          "base_uri": "https://localhost:8080/",
          "height": 419
        }
      },
      "source": [
        "movies[(movies.duration >= 200) | (movies.genre == 'Drama')]"
      ],
      "execution_count": 87,
      "outputs": [
        {
          "output_type": "execute_result",
          "data": {
            "text/html": [
              "<div>\n",
              "<style scoped>\n",
              "    .dataframe tbody tr th:only-of-type {\n",
              "        vertical-align: middle;\n",
              "    }\n",
              "\n",
              "    .dataframe tbody tr th {\n",
              "        vertical-align: top;\n",
              "    }\n",
              "\n",
              "    .dataframe thead th {\n",
              "        text-align: right;\n",
              "    }\n",
              "</style>\n",
              "<table border=\"1\" class=\"dataframe\">\n",
              "  <thead>\n",
              "    <tr style=\"text-align: right;\">\n",
              "      <th></th>\n",
              "      <th>star_rating</th>\n",
              "      <th>title</th>\n",
              "      <th>content_rating</th>\n",
              "      <th>genre</th>\n",
              "      <th>duration</th>\n",
              "      <th>actors_list</th>\n",
              "    </tr>\n",
              "  </thead>\n",
              "  <tbody>\n",
              "    <tr>\n",
              "      <th>2</th>\n",
              "      <td>9.1</td>\n",
              "      <td>The Godfather: Part II</td>\n",
              "      <td>R</td>\n",
              "      <td>Crime</td>\n",
              "      <td>200</td>\n",
              "      <td>[u'Al Pacino', u'Robert De Niro', u'Robert Duv...</td>\n",
              "    </tr>\n",
              "    <tr>\n",
              "      <th>5</th>\n",
              "      <td>8.9</td>\n",
              "      <td>12 Angry Men</td>\n",
              "      <td>NOT RATED</td>\n",
              "      <td>Drama</td>\n",
              "      <td>96</td>\n",
              "      <td>[u'Henry Fonda', u'Lee J. Cobb', u'Martin Bals...</td>\n",
              "    </tr>\n",
              "    <tr>\n",
              "      <th>7</th>\n",
              "      <td>8.9</td>\n",
              "      <td>The Lord of the Rings: The Return of the King</td>\n",
              "      <td>PG-13</td>\n",
              "      <td>Adventure</td>\n",
              "      <td>201</td>\n",
              "      <td>[u'Elijah Wood', u'Viggo Mortensen', u'Ian McK...</td>\n",
              "    </tr>\n",
              "    <tr>\n",
              "      <th>9</th>\n",
              "      <td>8.9</td>\n",
              "      <td>Fight Club</td>\n",
              "      <td>R</td>\n",
              "      <td>Drama</td>\n",
              "      <td>139</td>\n",
              "      <td>[u'Brad Pitt', u'Edward Norton', u'Helena Bonh...</td>\n",
              "    </tr>\n",
              "    <tr>\n",
              "      <th>13</th>\n",
              "      <td>8.8</td>\n",
              "      <td>Forrest Gump</td>\n",
              "      <td>PG-13</td>\n",
              "      <td>Drama</td>\n",
              "      <td>142</td>\n",
              "      <td>[u'Tom Hanks', u'Robin Wright', u'Gary Sinise']</td>\n",
              "    </tr>\n",
              "    <tr>\n",
              "      <th>...</th>\n",
              "      <td>...</td>\n",
              "      <td>...</td>\n",
              "      <td>...</td>\n",
              "      <td>...</td>\n",
              "      <td>...</td>\n",
              "      <td>...</td>\n",
              "    </tr>\n",
              "    <tr>\n",
              "      <th>958</th>\n",
              "      <td>7.4</td>\n",
              "      <td>My Sister's Keeper</td>\n",
              "      <td>PG-13</td>\n",
              "      <td>Drama</td>\n",
              "      <td>109</td>\n",
              "      <td>[u'Cameron Diaz', u'Abigail Breslin', u'Alec B...</td>\n",
              "    </tr>\n",
              "    <tr>\n",
              "      <th>968</th>\n",
              "      <td>7.4</td>\n",
              "      <td>The English Patient</td>\n",
              "      <td>R</td>\n",
              "      <td>Drama</td>\n",
              "      <td>162</td>\n",
              "      <td>[u'Ralph Fiennes', u'Juliette Binoche', u'Will...</td>\n",
              "    </tr>\n",
              "    <tr>\n",
              "      <th>970</th>\n",
              "      <td>7.4</td>\n",
              "      <td>Wonder Boys</td>\n",
              "      <td>R</td>\n",
              "      <td>Drama</td>\n",
              "      <td>107</td>\n",
              "      <td>[u'Michael Douglas', u'Tobey Maguire', u'Franc...</td>\n",
              "    </tr>\n",
              "    <tr>\n",
              "      <th>972</th>\n",
              "      <td>7.4</td>\n",
              "      <td>Blue Valentine</td>\n",
              "      <td>NC-17</td>\n",
              "      <td>Drama</td>\n",
              "      <td>112</td>\n",
              "      <td>[u'Ryan Gosling', u'Michelle Williams', u'John...</td>\n",
              "    </tr>\n",
              "    <tr>\n",
              "      <th>973</th>\n",
              "      <td>7.4</td>\n",
              "      <td>The Cider House Rules</td>\n",
              "      <td>PG-13</td>\n",
              "      <td>Drama</td>\n",
              "      <td>126</td>\n",
              "      <td>[u'Tobey Maguire', u'Charlize Theron', u'Micha...</td>\n",
              "    </tr>\n",
              "  </tbody>\n",
              "</table>\n",
              "<p>287 rows × 6 columns</p>\n",
              "</div>"
            ],
            "text/plain": [
              "     star_rating  ...                                        actors_list\n",
              "2            9.1  ...  [u'Al Pacino', u'Robert De Niro', u'Robert Duv...\n",
              "5            8.9  ...  [u'Henry Fonda', u'Lee J. Cobb', u'Martin Bals...\n",
              "7            8.9  ...  [u'Elijah Wood', u'Viggo Mortensen', u'Ian McK...\n",
              "9            8.9  ...  [u'Brad Pitt', u'Edward Norton', u'Helena Bonh...\n",
              "13           8.8  ...    [u'Tom Hanks', u'Robin Wright', u'Gary Sinise']\n",
              "..           ...  ...                                                ...\n",
              "958          7.4  ...  [u'Cameron Diaz', u'Abigail Breslin', u'Alec B...\n",
              "968          7.4  ...  [u'Ralph Fiennes', u'Juliette Binoche', u'Will...\n",
              "970          7.4  ...  [u'Michael Douglas', u'Tobey Maguire', u'Franc...\n",
              "972          7.4  ...  [u'Ryan Gosling', u'Michelle Williams', u'John...\n",
              "973          7.4  ...  [u'Tobey Maguire', u'Charlize Theron', u'Micha...\n",
              "\n",
              "[287 rows x 6 columns]"
            ]
          },
          "metadata": {
            "tags": []
          },
          "execution_count": 87
        }
      ]
    },
    {
      "cell_type": "code",
      "metadata": {
        "id": "fZ7AOf0y-GWj",
        "colab_type": "code",
        "outputId": "2b5a6323-542a-4654-ee6f-27158808d42d",
        "colab": {
          "base_uri": "https://localhost:8080/",
          "height": 221
        }
      },
      "source": [
        "(movies.duration >= 200) | (movies.genre == 'Drama')"
      ],
      "execution_count": 88,
      "outputs": [
        {
          "output_type": "execute_result",
          "data": {
            "text/plain": [
              "0      False\n",
              "1      False\n",
              "2       True\n",
              "3      False\n",
              "4      False\n",
              "       ...  \n",
              "974    False\n",
              "975    False\n",
              "976    False\n",
              "977    False\n",
              "978    False\n",
              "Length: 979, dtype: bool"
            ]
          },
          "metadata": {
            "tags": []
          },
          "execution_count": 88
        }
      ]
    },
    {
      "cell_type": "code",
      "metadata": {
        "id": "8T8AELY8-eCS",
        "colab_type": "code",
        "outputId": "14e9ee08-148c-4c5a-c857-0e0b8fe4d5a8",
        "colab": {
          "base_uri": "https://localhost:8080/",
          "height": 221
        }
      },
      "source": [
        "(movies.duration >= 200) & (movies.genre == 'Drama')"
      ],
      "execution_count": 89,
      "outputs": [
        {
          "output_type": "execute_result",
          "data": {
            "text/plain": [
              "0      False\n",
              "1      False\n",
              "2      False\n",
              "3      False\n",
              "4      False\n",
              "       ...  \n",
              "974    False\n",
              "975    False\n",
              "976    False\n",
              "977    False\n",
              "978    False\n",
              "Length: 979, dtype: bool"
            ]
          },
          "metadata": {
            "tags": []
          },
          "execution_count": 89
        }
      ]
    },
    {
      "cell_type": "code",
      "metadata": {
        "id": "b_kEtwta-iG9",
        "colab_type": "code",
        "outputId": "4bfba6dd-d502-43ea-8e15-4b6b3eaa1ebf",
        "colab": {
          "base_uri": "https://localhost:8080/",
          "height": 419
        }
      },
      "source": [
        "movies[(movies.genre == 'Crime') | (movies.genre == 'Drama') | (movies.genre == 'Action')]"
      ],
      "execution_count": 90,
      "outputs": [
        {
          "output_type": "execute_result",
          "data": {
            "text/html": [
              "<div>\n",
              "<style scoped>\n",
              "    .dataframe tbody tr th:only-of-type {\n",
              "        vertical-align: middle;\n",
              "    }\n",
              "\n",
              "    .dataframe tbody tr th {\n",
              "        vertical-align: top;\n",
              "    }\n",
              "\n",
              "    .dataframe thead th {\n",
              "        text-align: right;\n",
              "    }\n",
              "</style>\n",
              "<table border=\"1\" class=\"dataframe\">\n",
              "  <thead>\n",
              "    <tr style=\"text-align: right;\">\n",
              "      <th></th>\n",
              "      <th>star_rating</th>\n",
              "      <th>title</th>\n",
              "      <th>content_rating</th>\n",
              "      <th>genre</th>\n",
              "      <th>duration</th>\n",
              "      <th>actors_list</th>\n",
              "    </tr>\n",
              "  </thead>\n",
              "  <tbody>\n",
              "    <tr>\n",
              "      <th>0</th>\n",
              "      <td>9.3</td>\n",
              "      <td>The Shawshank Redemption</td>\n",
              "      <td>R</td>\n",
              "      <td>Crime</td>\n",
              "      <td>142</td>\n",
              "      <td>[u'Tim Robbins', u'Morgan Freeman', u'Bob Gunt...</td>\n",
              "    </tr>\n",
              "    <tr>\n",
              "      <th>1</th>\n",
              "      <td>9.2</td>\n",
              "      <td>The Godfather</td>\n",
              "      <td>R</td>\n",
              "      <td>Crime</td>\n",
              "      <td>175</td>\n",
              "      <td>[u'Marlon Brando', u'Al Pacino', u'James Caan']</td>\n",
              "    </tr>\n",
              "    <tr>\n",
              "      <th>2</th>\n",
              "      <td>9.1</td>\n",
              "      <td>The Godfather: Part II</td>\n",
              "      <td>R</td>\n",
              "      <td>Crime</td>\n",
              "      <td>200</td>\n",
              "      <td>[u'Al Pacino', u'Robert De Niro', u'Robert Duv...</td>\n",
              "    </tr>\n",
              "    <tr>\n",
              "      <th>3</th>\n",
              "      <td>9.0</td>\n",
              "      <td>The Dark Knight</td>\n",
              "      <td>PG-13</td>\n",
              "      <td>Action</td>\n",
              "      <td>152</td>\n",
              "      <td>[u'Christian Bale', u'Heath Ledger', u'Aaron E...</td>\n",
              "    </tr>\n",
              "    <tr>\n",
              "      <th>4</th>\n",
              "      <td>8.9</td>\n",
              "      <td>Pulp Fiction</td>\n",
              "      <td>R</td>\n",
              "      <td>Crime</td>\n",
              "      <td>154</td>\n",
              "      <td>[u'John Travolta', u'Uma Thurman', u'Samuel L....</td>\n",
              "    </tr>\n",
              "    <tr>\n",
              "      <th>...</th>\n",
              "      <td>...</td>\n",
              "      <td>...</td>\n",
              "      <td>...</td>\n",
              "      <td>...</td>\n",
              "      <td>...</td>\n",
              "      <td>...</td>\n",
              "    </tr>\n",
              "    <tr>\n",
              "      <th>970</th>\n",
              "      <td>7.4</td>\n",
              "      <td>Wonder Boys</td>\n",
              "      <td>R</td>\n",
              "      <td>Drama</td>\n",
              "      <td>107</td>\n",
              "      <td>[u'Michael Douglas', u'Tobey Maguire', u'Franc...</td>\n",
              "    </tr>\n",
              "    <tr>\n",
              "      <th>972</th>\n",
              "      <td>7.4</td>\n",
              "      <td>Blue Valentine</td>\n",
              "      <td>NC-17</td>\n",
              "      <td>Drama</td>\n",
              "      <td>112</td>\n",
              "      <td>[u'Ryan Gosling', u'Michelle Williams', u'John...</td>\n",
              "    </tr>\n",
              "    <tr>\n",
              "      <th>973</th>\n",
              "      <td>7.4</td>\n",
              "      <td>The Cider House Rules</td>\n",
              "      <td>PG-13</td>\n",
              "      <td>Drama</td>\n",
              "      <td>126</td>\n",
              "      <td>[u'Tobey Maguire', u'Charlize Theron', u'Micha...</td>\n",
              "    </tr>\n",
              "    <tr>\n",
              "      <th>976</th>\n",
              "      <td>7.4</td>\n",
              "      <td>Master and Commander: The Far Side of the World</td>\n",
              "      <td>PG-13</td>\n",
              "      <td>Action</td>\n",
              "      <td>138</td>\n",
              "      <td>[u'Russell Crowe', u'Paul Bettany', u'Billy Bo...</td>\n",
              "    </tr>\n",
              "    <tr>\n",
              "      <th>978</th>\n",
              "      <td>7.4</td>\n",
              "      <td>Wall Street</td>\n",
              "      <td>R</td>\n",
              "      <td>Crime</td>\n",
              "      <td>126</td>\n",
              "      <td>[u'Charlie Sheen', u'Michael Douglas', u'Tamar...</td>\n",
              "    </tr>\n",
              "  </tbody>\n",
              "</table>\n",
              "<p>538 rows × 6 columns</p>\n",
              "</div>"
            ],
            "text/plain": [
              "     star_rating  ...                                        actors_list\n",
              "0            9.3  ...  [u'Tim Robbins', u'Morgan Freeman', u'Bob Gunt...\n",
              "1            9.2  ...    [u'Marlon Brando', u'Al Pacino', u'James Caan']\n",
              "2            9.1  ...  [u'Al Pacino', u'Robert De Niro', u'Robert Duv...\n",
              "3            9.0  ...  [u'Christian Bale', u'Heath Ledger', u'Aaron E...\n",
              "4            8.9  ...  [u'John Travolta', u'Uma Thurman', u'Samuel L....\n",
              "..           ...  ...                                                ...\n",
              "970          7.4  ...  [u'Michael Douglas', u'Tobey Maguire', u'Franc...\n",
              "972          7.4  ...  [u'Ryan Gosling', u'Michelle Williams', u'John...\n",
              "973          7.4  ...  [u'Tobey Maguire', u'Charlize Theron', u'Micha...\n",
              "976          7.4  ...  [u'Russell Crowe', u'Paul Bettany', u'Billy Bo...\n",
              "978          7.4  ...  [u'Charlie Sheen', u'Michael Douglas', u'Tamar...\n",
              "\n",
              "[538 rows x 6 columns]"
            ]
          },
          "metadata": {
            "tags": []
          },
          "execution_count": 90
        }
      ]
    },
    {
      "cell_type": "code",
      "metadata": {
        "id": "nQqJ-WSH-y-_",
        "colab_type": "code",
        "outputId": "ad29e2e7-f2b0-4a63-ad3a-a27ef74dbabb",
        "colab": {
          "base_uri": "https://localhost:8080/",
          "height": 221
        }
      },
      "source": [
        "movies.genre.isin (['Crime','Drama', 'Action'])"
      ],
      "execution_count": 91,
      "outputs": [
        {
          "output_type": "execute_result",
          "data": {
            "text/plain": [
              "0       True\n",
              "1       True\n",
              "2       True\n",
              "3       True\n",
              "4       True\n",
              "       ...  \n",
              "974    False\n",
              "975    False\n",
              "976     True\n",
              "977    False\n",
              "978     True\n",
              "Name: genre, Length: 979, dtype: bool"
            ]
          },
          "metadata": {
            "tags": []
          },
          "execution_count": 91
        }
      ]
    },
    {
      "cell_type": "code",
      "metadata": {
        "id": "KP64Lu7b_AnE",
        "colab_type": "code",
        "colab": {}
      },
      "source": [
        "#Video 10 You Pandas Questions Answered! How do I apply a function to a pandas Series or DataFrame?"
      ],
      "execution_count": 0,
      "outputs": []
    },
    {
      "cell_type": "code",
      "metadata": {
        "id": "IF_ouee1_WuH",
        "colab_type": "code",
        "colab": {}
      },
      "source": [
        "import pandas as pd\n",
        "train = pd.read_csv('http://bit.ly/kaggletrain')"
      ],
      "execution_count": 0,
      "outputs": []
    },
    {
      "cell_type": "code",
      "metadata": {
        "id": "OCiIYN6L_fpu",
        "colab_type": "code",
        "outputId": "d3b53277-cafc-4e0b-96e8-c083a732fe7c",
        "colab": {
          "base_uri": "https://localhost:8080/",
          "height": 204
        }
      },
      "source": [
        "train.head()"
      ],
      "execution_count": 94,
      "outputs": [
        {
          "output_type": "execute_result",
          "data": {
            "text/html": [
              "<div>\n",
              "<style scoped>\n",
              "    .dataframe tbody tr th:only-of-type {\n",
              "        vertical-align: middle;\n",
              "    }\n",
              "\n",
              "    .dataframe tbody tr th {\n",
              "        vertical-align: top;\n",
              "    }\n",
              "\n",
              "    .dataframe thead th {\n",
              "        text-align: right;\n",
              "    }\n",
              "</style>\n",
              "<table border=\"1\" class=\"dataframe\">\n",
              "  <thead>\n",
              "    <tr style=\"text-align: right;\">\n",
              "      <th></th>\n",
              "      <th>PassengerId</th>\n",
              "      <th>Survived</th>\n",
              "      <th>Pclass</th>\n",
              "      <th>Name</th>\n",
              "      <th>Sex</th>\n",
              "      <th>Age</th>\n",
              "      <th>SibSp</th>\n",
              "      <th>Parch</th>\n",
              "      <th>Ticket</th>\n",
              "      <th>Fare</th>\n",
              "      <th>Cabin</th>\n",
              "      <th>Embarked</th>\n",
              "    </tr>\n",
              "  </thead>\n",
              "  <tbody>\n",
              "    <tr>\n",
              "      <th>0</th>\n",
              "      <td>1</td>\n",
              "      <td>0</td>\n",
              "      <td>3</td>\n",
              "      <td>Braund, Mr. Owen Harris</td>\n",
              "      <td>male</td>\n",
              "      <td>22.0</td>\n",
              "      <td>1</td>\n",
              "      <td>0</td>\n",
              "      <td>A/5 21171</td>\n",
              "      <td>7.2500</td>\n",
              "      <td>NaN</td>\n",
              "      <td>S</td>\n",
              "    </tr>\n",
              "    <tr>\n",
              "      <th>1</th>\n",
              "      <td>2</td>\n",
              "      <td>1</td>\n",
              "      <td>1</td>\n",
              "      <td>Cumings, Mrs. John Bradley (Florence Briggs Th...</td>\n",
              "      <td>female</td>\n",
              "      <td>38.0</td>\n",
              "      <td>1</td>\n",
              "      <td>0</td>\n",
              "      <td>PC 17599</td>\n",
              "      <td>71.2833</td>\n",
              "      <td>C85</td>\n",
              "      <td>C</td>\n",
              "    </tr>\n",
              "    <tr>\n",
              "      <th>2</th>\n",
              "      <td>3</td>\n",
              "      <td>1</td>\n",
              "      <td>3</td>\n",
              "      <td>Heikkinen, Miss. Laina</td>\n",
              "      <td>female</td>\n",
              "      <td>26.0</td>\n",
              "      <td>0</td>\n",
              "      <td>0</td>\n",
              "      <td>STON/O2. 3101282</td>\n",
              "      <td>7.9250</td>\n",
              "      <td>NaN</td>\n",
              "      <td>S</td>\n",
              "    </tr>\n",
              "    <tr>\n",
              "      <th>3</th>\n",
              "      <td>4</td>\n",
              "      <td>1</td>\n",
              "      <td>1</td>\n",
              "      <td>Futrelle, Mrs. Jacques Heath (Lily May Peel)</td>\n",
              "      <td>female</td>\n",
              "      <td>35.0</td>\n",
              "      <td>1</td>\n",
              "      <td>0</td>\n",
              "      <td>113803</td>\n",
              "      <td>53.1000</td>\n",
              "      <td>C123</td>\n",
              "      <td>S</td>\n",
              "    </tr>\n",
              "    <tr>\n",
              "      <th>4</th>\n",
              "      <td>5</td>\n",
              "      <td>0</td>\n",
              "      <td>3</td>\n",
              "      <td>Allen, Mr. William Henry</td>\n",
              "      <td>male</td>\n",
              "      <td>35.0</td>\n",
              "      <td>0</td>\n",
              "      <td>0</td>\n",
              "      <td>373450</td>\n",
              "      <td>8.0500</td>\n",
              "      <td>NaN</td>\n",
              "      <td>S</td>\n",
              "    </tr>\n",
              "  </tbody>\n",
              "</table>\n",
              "</div>"
            ],
            "text/plain": [
              "   PassengerId  Survived  Pclass  ...     Fare Cabin  Embarked\n",
              "0            1         0       3  ...   7.2500   NaN         S\n",
              "1            2         1       1  ...  71.2833   C85         C\n",
              "2            3         1       3  ...   7.9250   NaN         S\n",
              "3            4         1       1  ...  53.1000  C123         S\n",
              "4            5         0       3  ...   8.0500   NaN         S\n",
              "\n",
              "[5 rows x 12 columns]"
            ]
          },
          "metadata": {
            "tags": []
          },
          "execution_count": 94
        }
      ]
    },
    {
      "cell_type": "code",
      "metadata": {
        "id": "eRB0AVx2_hNT",
        "colab_type": "code",
        "colab": {}
      },
      "source": [
        "train['Sex_num'] = train.Sex.map({'female': 0 , 'male': 1}) #Create new column and then reassign the value to 0 or 1 in the dataset"
      ],
      "execution_count": 0,
      "outputs": []
    },
    {
      "cell_type": "code",
      "metadata": {
        "id": "QY0Lrjlh_81p",
        "colab_type": "code",
        "outputId": "fb0a454b-45c3-49d6-85b9-573c2536a642",
        "colab": {
          "base_uri": "https://localhost:8080/",
          "height": 419
        }
      },
      "source": [
        "train"
      ],
      "execution_count": 96,
      "outputs": [
        {
          "output_type": "execute_result",
          "data": {
            "text/html": [
              "<div>\n",
              "<style scoped>\n",
              "    .dataframe tbody tr th:only-of-type {\n",
              "        vertical-align: middle;\n",
              "    }\n",
              "\n",
              "    .dataframe tbody tr th {\n",
              "        vertical-align: top;\n",
              "    }\n",
              "\n",
              "    .dataframe thead th {\n",
              "        text-align: right;\n",
              "    }\n",
              "</style>\n",
              "<table border=\"1\" class=\"dataframe\">\n",
              "  <thead>\n",
              "    <tr style=\"text-align: right;\">\n",
              "      <th></th>\n",
              "      <th>PassengerId</th>\n",
              "      <th>Survived</th>\n",
              "      <th>Pclass</th>\n",
              "      <th>Name</th>\n",
              "      <th>Sex</th>\n",
              "      <th>Age</th>\n",
              "      <th>SibSp</th>\n",
              "      <th>Parch</th>\n",
              "      <th>Ticket</th>\n",
              "      <th>Fare</th>\n",
              "      <th>Cabin</th>\n",
              "      <th>Embarked</th>\n",
              "      <th>Sex_num</th>\n",
              "    </tr>\n",
              "  </thead>\n",
              "  <tbody>\n",
              "    <tr>\n",
              "      <th>0</th>\n",
              "      <td>1</td>\n",
              "      <td>0</td>\n",
              "      <td>3</td>\n",
              "      <td>Braund, Mr. Owen Harris</td>\n",
              "      <td>male</td>\n",
              "      <td>22.0</td>\n",
              "      <td>1</td>\n",
              "      <td>0</td>\n",
              "      <td>A/5 21171</td>\n",
              "      <td>7.2500</td>\n",
              "      <td>NaN</td>\n",
              "      <td>S</td>\n",
              "      <td>1</td>\n",
              "    </tr>\n",
              "    <tr>\n",
              "      <th>1</th>\n",
              "      <td>2</td>\n",
              "      <td>1</td>\n",
              "      <td>1</td>\n",
              "      <td>Cumings, Mrs. John Bradley (Florence Briggs Th...</td>\n",
              "      <td>female</td>\n",
              "      <td>38.0</td>\n",
              "      <td>1</td>\n",
              "      <td>0</td>\n",
              "      <td>PC 17599</td>\n",
              "      <td>71.2833</td>\n",
              "      <td>C85</td>\n",
              "      <td>C</td>\n",
              "      <td>0</td>\n",
              "    </tr>\n",
              "    <tr>\n",
              "      <th>2</th>\n",
              "      <td>3</td>\n",
              "      <td>1</td>\n",
              "      <td>3</td>\n",
              "      <td>Heikkinen, Miss. Laina</td>\n",
              "      <td>female</td>\n",
              "      <td>26.0</td>\n",
              "      <td>0</td>\n",
              "      <td>0</td>\n",
              "      <td>STON/O2. 3101282</td>\n",
              "      <td>7.9250</td>\n",
              "      <td>NaN</td>\n",
              "      <td>S</td>\n",
              "      <td>0</td>\n",
              "    </tr>\n",
              "    <tr>\n",
              "      <th>3</th>\n",
              "      <td>4</td>\n",
              "      <td>1</td>\n",
              "      <td>1</td>\n",
              "      <td>Futrelle, Mrs. Jacques Heath (Lily May Peel)</td>\n",
              "      <td>female</td>\n",
              "      <td>35.0</td>\n",
              "      <td>1</td>\n",
              "      <td>0</td>\n",
              "      <td>113803</td>\n",
              "      <td>53.1000</td>\n",
              "      <td>C123</td>\n",
              "      <td>S</td>\n",
              "      <td>0</td>\n",
              "    </tr>\n",
              "    <tr>\n",
              "      <th>4</th>\n",
              "      <td>5</td>\n",
              "      <td>0</td>\n",
              "      <td>3</td>\n",
              "      <td>Allen, Mr. William Henry</td>\n",
              "      <td>male</td>\n",
              "      <td>35.0</td>\n",
              "      <td>0</td>\n",
              "      <td>0</td>\n",
              "      <td>373450</td>\n",
              "      <td>8.0500</td>\n",
              "      <td>NaN</td>\n",
              "      <td>S</td>\n",
              "      <td>1</td>\n",
              "    </tr>\n",
              "    <tr>\n",
              "      <th>...</th>\n",
              "      <td>...</td>\n",
              "      <td>...</td>\n",
              "      <td>...</td>\n",
              "      <td>...</td>\n",
              "      <td>...</td>\n",
              "      <td>...</td>\n",
              "      <td>...</td>\n",
              "      <td>...</td>\n",
              "      <td>...</td>\n",
              "      <td>...</td>\n",
              "      <td>...</td>\n",
              "      <td>...</td>\n",
              "      <td>...</td>\n",
              "    </tr>\n",
              "    <tr>\n",
              "      <th>886</th>\n",
              "      <td>887</td>\n",
              "      <td>0</td>\n",
              "      <td>2</td>\n",
              "      <td>Montvila, Rev. Juozas</td>\n",
              "      <td>male</td>\n",
              "      <td>27.0</td>\n",
              "      <td>0</td>\n",
              "      <td>0</td>\n",
              "      <td>211536</td>\n",
              "      <td>13.0000</td>\n",
              "      <td>NaN</td>\n",
              "      <td>S</td>\n",
              "      <td>1</td>\n",
              "    </tr>\n",
              "    <tr>\n",
              "      <th>887</th>\n",
              "      <td>888</td>\n",
              "      <td>1</td>\n",
              "      <td>1</td>\n",
              "      <td>Graham, Miss. Margaret Edith</td>\n",
              "      <td>female</td>\n",
              "      <td>19.0</td>\n",
              "      <td>0</td>\n",
              "      <td>0</td>\n",
              "      <td>112053</td>\n",
              "      <td>30.0000</td>\n",
              "      <td>B42</td>\n",
              "      <td>S</td>\n",
              "      <td>0</td>\n",
              "    </tr>\n",
              "    <tr>\n",
              "      <th>888</th>\n",
              "      <td>889</td>\n",
              "      <td>0</td>\n",
              "      <td>3</td>\n",
              "      <td>Johnston, Miss. Catherine Helen \"Carrie\"</td>\n",
              "      <td>female</td>\n",
              "      <td>NaN</td>\n",
              "      <td>1</td>\n",
              "      <td>2</td>\n",
              "      <td>W./C. 6607</td>\n",
              "      <td>23.4500</td>\n",
              "      <td>NaN</td>\n",
              "      <td>S</td>\n",
              "      <td>0</td>\n",
              "    </tr>\n",
              "    <tr>\n",
              "      <th>889</th>\n",
              "      <td>890</td>\n",
              "      <td>1</td>\n",
              "      <td>1</td>\n",
              "      <td>Behr, Mr. Karl Howell</td>\n",
              "      <td>male</td>\n",
              "      <td>26.0</td>\n",
              "      <td>0</td>\n",
              "      <td>0</td>\n",
              "      <td>111369</td>\n",
              "      <td>30.0000</td>\n",
              "      <td>C148</td>\n",
              "      <td>C</td>\n",
              "      <td>1</td>\n",
              "    </tr>\n",
              "    <tr>\n",
              "      <th>890</th>\n",
              "      <td>891</td>\n",
              "      <td>0</td>\n",
              "      <td>3</td>\n",
              "      <td>Dooley, Mr. Patrick</td>\n",
              "      <td>male</td>\n",
              "      <td>32.0</td>\n",
              "      <td>0</td>\n",
              "      <td>0</td>\n",
              "      <td>370376</td>\n",
              "      <td>7.7500</td>\n",
              "      <td>NaN</td>\n",
              "      <td>Q</td>\n",
              "      <td>1</td>\n",
              "    </tr>\n",
              "  </tbody>\n",
              "</table>\n",
              "<p>891 rows × 13 columns</p>\n",
              "</div>"
            ],
            "text/plain": [
              "     PassengerId  Survived  Pclass  ... Cabin Embarked  Sex_num\n",
              "0              1         0       3  ...   NaN        S        1\n",
              "1              2         1       1  ...   C85        C        0\n",
              "2              3         1       3  ...   NaN        S        0\n",
              "3              4         1       1  ...  C123        S        0\n",
              "4              5         0       3  ...   NaN        S        1\n",
              "..           ...       ...     ...  ...   ...      ...      ...\n",
              "886          887         0       2  ...   NaN        S        1\n",
              "887          888         1       1  ...   B42        S        0\n",
              "888          889         0       3  ...   NaN        S        0\n",
              "889          890         1       1  ...  C148        C        1\n",
              "890          891         0       3  ...   NaN        Q        1\n",
              "\n",
              "[891 rows x 13 columns]"
            ]
          },
          "metadata": {
            "tags": []
          },
          "execution_count": 96
        }
      ]
    },
    {
      "cell_type": "code",
      "metadata": {
        "id": "11I_34MDAHWy",
        "colab_type": "code",
        "colab": {}
      },
      "source": [
        "train['Name_length'] = train.Name.apply(len) #It applys a function to each element in a series, Calculate the length of each string and then add a column with that length value "
      ],
      "execution_count": 0,
      "outputs": []
    },
    {
      "cell_type": "code",
      "metadata": {
        "id": "z25uxovFBip0",
        "colab_type": "code",
        "outputId": "c590c14c-6108-4d5a-ab91-8fe07b86eeb7",
        "colab": {
          "base_uri": "https://localhost:8080/",
          "height": 204
        }
      },
      "source": [
        "train.loc[0:4, ['Name', 'Name_length']] "
      ],
      "execution_count": 98,
      "outputs": [
        {
          "output_type": "execute_result",
          "data": {
            "text/html": [
              "<div>\n",
              "<style scoped>\n",
              "    .dataframe tbody tr th:only-of-type {\n",
              "        vertical-align: middle;\n",
              "    }\n",
              "\n",
              "    .dataframe tbody tr th {\n",
              "        vertical-align: top;\n",
              "    }\n",
              "\n",
              "    .dataframe thead th {\n",
              "        text-align: right;\n",
              "    }\n",
              "</style>\n",
              "<table border=\"1\" class=\"dataframe\">\n",
              "  <thead>\n",
              "    <tr style=\"text-align: right;\">\n",
              "      <th></th>\n",
              "      <th>Name</th>\n",
              "      <th>Name_length</th>\n",
              "    </tr>\n",
              "  </thead>\n",
              "  <tbody>\n",
              "    <tr>\n",
              "      <th>0</th>\n",
              "      <td>Braund, Mr. Owen Harris</td>\n",
              "      <td>23</td>\n",
              "    </tr>\n",
              "    <tr>\n",
              "      <th>1</th>\n",
              "      <td>Cumings, Mrs. John Bradley (Florence Briggs Th...</td>\n",
              "      <td>51</td>\n",
              "    </tr>\n",
              "    <tr>\n",
              "      <th>2</th>\n",
              "      <td>Heikkinen, Miss. Laina</td>\n",
              "      <td>22</td>\n",
              "    </tr>\n",
              "    <tr>\n",
              "      <th>3</th>\n",
              "      <td>Futrelle, Mrs. Jacques Heath (Lily May Peel)</td>\n",
              "      <td>44</td>\n",
              "    </tr>\n",
              "    <tr>\n",
              "      <th>4</th>\n",
              "      <td>Allen, Mr. William Henry</td>\n",
              "      <td>24</td>\n",
              "    </tr>\n",
              "  </tbody>\n",
              "</table>\n",
              "</div>"
            ],
            "text/plain": [
              "                                                Name  Name_length\n",
              "0                            Braund, Mr. Owen Harris           23\n",
              "1  Cumings, Mrs. John Bradley (Florence Briggs Th...           51\n",
              "2                             Heikkinen, Miss. Laina           22\n",
              "3       Futrelle, Mrs. Jacques Heath (Lily May Peel)           44\n",
              "4                           Allen, Mr. William Henry           24"
            ]
          },
          "metadata": {
            "tags": []
          },
          "execution_count": 98
        }
      ]
    },
    {
      "cell_type": "code",
      "metadata": {
        "id": "IqgGppqhBqzW",
        "colab_type": "code",
        "colab": {}
      },
      "source": [
        "import numpy as np"
      ],
      "execution_count": 0,
      "outputs": []
    },
    {
      "cell_type": "code",
      "metadata": {
        "id": "efna3jRvdutl",
        "colab_type": "code",
        "colab": {}
      },
      "source": [
        "train['Fare_ceil'] = train.Fare.apply(np.ceil)"
      ],
      "execution_count": 0,
      "outputs": []
    },
    {
      "cell_type": "code",
      "metadata": {
        "id": "OFRcI3u7B-rS",
        "colab_type": "code",
        "outputId": "cfc61838-6315-4906-d85d-5afac5a39dd1",
        "colab": {
          "base_uri": "https://localhost:8080/",
          "height": 204
        }
      },
      "source": [
        "train.loc[0:4, ['Fare', 'Fare_ceil']]"
      ],
      "execution_count": 101,
      "outputs": [
        {
          "output_type": "execute_result",
          "data": {
            "text/html": [
              "<div>\n",
              "<style scoped>\n",
              "    .dataframe tbody tr th:only-of-type {\n",
              "        vertical-align: middle;\n",
              "    }\n",
              "\n",
              "    .dataframe tbody tr th {\n",
              "        vertical-align: top;\n",
              "    }\n",
              "\n",
              "    .dataframe thead th {\n",
              "        text-align: right;\n",
              "    }\n",
              "</style>\n",
              "<table border=\"1\" class=\"dataframe\">\n",
              "  <thead>\n",
              "    <tr style=\"text-align: right;\">\n",
              "      <th></th>\n",
              "      <th>Fare</th>\n",
              "      <th>Fare_ceil</th>\n",
              "    </tr>\n",
              "  </thead>\n",
              "  <tbody>\n",
              "    <tr>\n",
              "      <th>0</th>\n",
              "      <td>7.2500</td>\n",
              "      <td>8.0</td>\n",
              "    </tr>\n",
              "    <tr>\n",
              "      <th>1</th>\n",
              "      <td>71.2833</td>\n",
              "      <td>72.0</td>\n",
              "    </tr>\n",
              "    <tr>\n",
              "      <th>2</th>\n",
              "      <td>7.9250</td>\n",
              "      <td>8.0</td>\n",
              "    </tr>\n",
              "    <tr>\n",
              "      <th>3</th>\n",
              "      <td>53.1000</td>\n",
              "      <td>54.0</td>\n",
              "    </tr>\n",
              "    <tr>\n",
              "      <th>4</th>\n",
              "      <td>8.0500</td>\n",
              "      <td>9.0</td>\n",
              "    </tr>\n",
              "  </tbody>\n",
              "</table>\n",
              "</div>"
            ],
            "text/plain": [
              "      Fare  Fare_ceil\n",
              "0   7.2500        8.0\n",
              "1  71.2833       72.0\n",
              "2   7.9250        8.0\n",
              "3  53.1000       54.0\n",
              "4   8.0500        9.0"
            ]
          },
          "metadata": {
            "tags": []
          },
          "execution_count": 101
        }
      ]
    },
    {
      "cell_type": "code",
      "metadata": {
        "id": "Pcp_t9LNCE_N",
        "colab_type": "code",
        "outputId": "6de1edd6-c41f-4057-890f-d87f721cba4f",
        "colab": {
          "base_uri": "https://localhost:8080/",
          "height": 119
        }
      },
      "source": [
        "train.Name.str.split(',').head() #Spliting names on comma. String is seperate into list of strings, with comma seperating the elements not names. "
      ],
      "execution_count": 102,
      "outputs": [
        {
          "output_type": "execute_result",
          "data": {
            "text/plain": [
              "0                           [Braund,  Mr. Owen Harris]\n",
              "1    [Cumings,  Mrs. John Bradley (Florence Briggs ...\n",
              "2                            [Heikkinen,  Miss. Laina]\n",
              "3      [Futrelle,  Mrs. Jacques Heath (Lily May Peel)]\n",
              "4                          [Allen,  Mr. William Henry]\n",
              "Name: Name, dtype: object"
            ]
          },
          "metadata": {
            "tags": []
          },
          "execution_count": 102
        }
      ]
    },
    {
      "cell_type": "code",
      "metadata": {
        "id": "zXqQOu3eCVu5",
        "colab_type": "code",
        "colab": {}
      },
      "source": [
        "def get_element(my_list, position):\n",
        "  return my_list[position]    #return element 0"
      ],
      "execution_count": 0,
      "outputs": []
    },
    {
      "cell_type": "code",
      "metadata": {
        "id": "fdmgT3UDizUa",
        "colab_type": "code",
        "outputId": "1ac84239-be85-41fa-8130-64b89ba9b47f",
        "colab": {
          "base_uri": "https://localhost:8080/",
          "height": 119
        }
      },
      "source": [
        "train.Name.str.split(',').apply(get_element, position=0).head() #apply get_element to every result in the element pass position equal zero"
      ],
      "execution_count": 104,
      "outputs": [
        {
          "output_type": "execute_result",
          "data": {
            "text/plain": [
              "0       Braund\n",
              "1      Cumings\n",
              "2    Heikkinen\n",
              "3     Futrelle\n",
              "4        Allen\n",
              "Name: Name, dtype: object"
            ]
          },
          "metadata": {
            "tags": []
          },
          "execution_count": 104
        }
      ]
    },
    {
      "cell_type": "code",
      "metadata": {
        "id": "mTPxpUKbjLEd",
        "colab_type": "code",
        "outputId": "bb2b17d0-e5c0-42f3-ff0c-308152bf4fa8",
        "colab": {
          "base_uri": "https://localhost:8080/",
          "height": 119
        }
      },
      "source": [
        "#use lambda function\n",
        "train.Name.str.split(',').apply(lambda x: x[0]).head() #apply lambda function to every result in the element pass position equal zero"
      ],
      "execution_count": 105,
      "outputs": [
        {
          "output_type": "execute_result",
          "data": {
            "text/plain": [
              "0       Braund\n",
              "1      Cumings\n",
              "2    Heikkinen\n",
              "3     Futrelle\n",
              "4        Allen\n",
              "Name: Name, dtype: object"
            ]
          },
          "metadata": {
            "tags": []
          },
          "execution_count": 105
        }
      ]
    },
    {
      "cell_type": "code",
      "metadata": {
        "id": "OmE7A7TOjnxZ",
        "colab_type": "code",
        "colab": {}
      },
      "source": [
        "drinks = pd.read_csv('http://bit.ly/drinksbycountry')"
      ],
      "execution_count": 0,
      "outputs": []
    },
    {
      "cell_type": "code",
      "metadata": {
        "id": "0GU3KKBhmP9A",
        "colab_type": "code",
        "outputId": "90f61ba0-b867-4ff1-9575-e11381c71fbc",
        "colab": {
          "base_uri": "https://localhost:8080/",
          "height": 204
        }
      },
      "source": [
        "drinks.head()"
      ],
      "execution_count": 107,
      "outputs": [
        {
          "output_type": "execute_result",
          "data": {
            "text/html": [
              "<div>\n",
              "<style scoped>\n",
              "    .dataframe tbody tr th:only-of-type {\n",
              "        vertical-align: middle;\n",
              "    }\n",
              "\n",
              "    .dataframe tbody tr th {\n",
              "        vertical-align: top;\n",
              "    }\n",
              "\n",
              "    .dataframe thead th {\n",
              "        text-align: right;\n",
              "    }\n",
              "</style>\n",
              "<table border=\"1\" class=\"dataframe\">\n",
              "  <thead>\n",
              "    <tr style=\"text-align: right;\">\n",
              "      <th></th>\n",
              "      <th>country</th>\n",
              "      <th>beer_servings</th>\n",
              "      <th>spirit_servings</th>\n",
              "      <th>wine_servings</th>\n",
              "      <th>total_litres_of_pure_alcohol</th>\n",
              "      <th>continent</th>\n",
              "    </tr>\n",
              "  </thead>\n",
              "  <tbody>\n",
              "    <tr>\n",
              "      <th>0</th>\n",
              "      <td>Afghanistan</td>\n",
              "      <td>0</td>\n",
              "      <td>0</td>\n",
              "      <td>0</td>\n",
              "      <td>0.0</td>\n",
              "      <td>Asia</td>\n",
              "    </tr>\n",
              "    <tr>\n",
              "      <th>1</th>\n",
              "      <td>Albania</td>\n",
              "      <td>89</td>\n",
              "      <td>132</td>\n",
              "      <td>54</td>\n",
              "      <td>4.9</td>\n",
              "      <td>Europe</td>\n",
              "    </tr>\n",
              "    <tr>\n",
              "      <th>2</th>\n",
              "      <td>Algeria</td>\n",
              "      <td>25</td>\n",
              "      <td>0</td>\n",
              "      <td>14</td>\n",
              "      <td>0.7</td>\n",
              "      <td>Africa</td>\n",
              "    </tr>\n",
              "    <tr>\n",
              "      <th>3</th>\n",
              "      <td>Andorra</td>\n",
              "      <td>245</td>\n",
              "      <td>138</td>\n",
              "      <td>312</td>\n",
              "      <td>12.4</td>\n",
              "      <td>Europe</td>\n",
              "    </tr>\n",
              "    <tr>\n",
              "      <th>4</th>\n",
              "      <td>Angola</td>\n",
              "      <td>217</td>\n",
              "      <td>57</td>\n",
              "      <td>45</td>\n",
              "      <td>5.9</td>\n",
              "      <td>Africa</td>\n",
              "    </tr>\n",
              "  </tbody>\n",
              "</table>\n",
              "</div>"
            ],
            "text/plain": [
              "       country  beer_servings  ...  total_litres_of_pure_alcohol  continent\n",
              "0  Afghanistan              0  ...                           0.0       Asia\n",
              "1      Albania             89  ...                           4.9     Europe\n",
              "2      Algeria             25  ...                           0.7     Africa\n",
              "3      Andorra            245  ...                          12.4     Europe\n",
              "4       Angola            217  ...                           5.9     Africa\n",
              "\n",
              "[5 rows x 6 columns]"
            ]
          },
          "metadata": {
            "tags": []
          },
          "execution_count": 107
        }
      ]
    },
    {
      "cell_type": "code",
      "metadata": {
        "id": "reXlOj8Ym0w5",
        "colab_type": "code",
        "outputId": "fc75c85e-fcbb-42a7-8adc-c1bd814d50cd",
        "colab": {
          "base_uri": "https://localhost:8080/",
          "height": 419
        }
      },
      "source": [
        "drinks.loc[:, 'beer_servings': 'wine_servings']"
      ],
      "execution_count": 108,
      "outputs": [
        {
          "output_type": "execute_result",
          "data": {
            "text/html": [
              "<div>\n",
              "<style scoped>\n",
              "    .dataframe tbody tr th:only-of-type {\n",
              "        vertical-align: middle;\n",
              "    }\n",
              "\n",
              "    .dataframe tbody tr th {\n",
              "        vertical-align: top;\n",
              "    }\n",
              "\n",
              "    .dataframe thead th {\n",
              "        text-align: right;\n",
              "    }\n",
              "</style>\n",
              "<table border=\"1\" class=\"dataframe\">\n",
              "  <thead>\n",
              "    <tr style=\"text-align: right;\">\n",
              "      <th></th>\n",
              "      <th>beer_servings</th>\n",
              "      <th>spirit_servings</th>\n",
              "      <th>wine_servings</th>\n",
              "    </tr>\n",
              "  </thead>\n",
              "  <tbody>\n",
              "    <tr>\n",
              "      <th>0</th>\n",
              "      <td>0</td>\n",
              "      <td>0</td>\n",
              "      <td>0</td>\n",
              "    </tr>\n",
              "    <tr>\n",
              "      <th>1</th>\n",
              "      <td>89</td>\n",
              "      <td>132</td>\n",
              "      <td>54</td>\n",
              "    </tr>\n",
              "    <tr>\n",
              "      <th>2</th>\n",
              "      <td>25</td>\n",
              "      <td>0</td>\n",
              "      <td>14</td>\n",
              "    </tr>\n",
              "    <tr>\n",
              "      <th>3</th>\n",
              "      <td>245</td>\n",
              "      <td>138</td>\n",
              "      <td>312</td>\n",
              "    </tr>\n",
              "    <tr>\n",
              "      <th>4</th>\n",
              "      <td>217</td>\n",
              "      <td>57</td>\n",
              "      <td>45</td>\n",
              "    </tr>\n",
              "    <tr>\n",
              "      <th>...</th>\n",
              "      <td>...</td>\n",
              "      <td>...</td>\n",
              "      <td>...</td>\n",
              "    </tr>\n",
              "    <tr>\n",
              "      <th>188</th>\n",
              "      <td>333</td>\n",
              "      <td>100</td>\n",
              "      <td>3</td>\n",
              "    </tr>\n",
              "    <tr>\n",
              "      <th>189</th>\n",
              "      <td>111</td>\n",
              "      <td>2</td>\n",
              "      <td>1</td>\n",
              "    </tr>\n",
              "    <tr>\n",
              "      <th>190</th>\n",
              "      <td>6</td>\n",
              "      <td>0</td>\n",
              "      <td>0</td>\n",
              "    </tr>\n",
              "    <tr>\n",
              "      <th>191</th>\n",
              "      <td>32</td>\n",
              "      <td>19</td>\n",
              "      <td>4</td>\n",
              "    </tr>\n",
              "    <tr>\n",
              "      <th>192</th>\n",
              "      <td>64</td>\n",
              "      <td>18</td>\n",
              "      <td>4</td>\n",
              "    </tr>\n",
              "  </tbody>\n",
              "</table>\n",
              "<p>193 rows × 3 columns</p>\n",
              "</div>"
            ],
            "text/plain": [
              "     beer_servings  spirit_servings  wine_servings\n",
              "0                0                0              0\n",
              "1               89              132             54\n",
              "2               25                0             14\n",
              "3              245              138            312\n",
              "4              217               57             45\n",
              "..             ...              ...            ...\n",
              "188            333              100              3\n",
              "189            111                2              1\n",
              "190              6                0              0\n",
              "191             32               19              4\n",
              "192             64               18              4\n",
              "\n",
              "[193 rows x 3 columns]"
            ]
          },
          "metadata": {
            "tags": []
          },
          "execution_count": 108
        }
      ]
    },
    {
      "cell_type": "code",
      "metadata": {
        "id": "s1U3yLdUmRfI",
        "colab_type": "code",
        "outputId": "d487ecee-5f68-4cad-9a06-f2956a6fd0fe",
        "colab": {
          "base_uri": "https://localhost:8080/",
          "height": 85
        }
      },
      "source": [
        "drinks.loc[:, 'beer_servings': 'wine_servings'].apply(max, axis = 0)"
      ],
      "execution_count": 109,
      "outputs": [
        {
          "output_type": "execute_result",
          "data": {
            "text/plain": [
              "beer_servings      376\n",
              "spirit_servings    438\n",
              "wine_servings      370\n",
              "dtype: int64"
            ]
          },
          "metadata": {
            "tags": []
          },
          "execution_count": 109
        }
      ]
    },
    {
      "cell_type": "code",
      "metadata": {
        "id": "_WWzQhbSmZEo",
        "colab_type": "code",
        "outputId": "1daa899c-9a8e-4ec6-f0d6-fa1aa7c07e0e",
        "colab": {
          "base_uri": "https://localhost:8080/",
          "height": 221
        }
      },
      "source": [
        "drinks.loc[:, 'beer_servings': 'wine_servings'].apply(max, axis = 1)"
      ],
      "execution_count": 110,
      "outputs": [
        {
          "output_type": "execute_result",
          "data": {
            "text/plain": [
              "0        0\n",
              "1      132\n",
              "2       25\n",
              "3      312\n",
              "4      217\n",
              "      ... \n",
              "188    333\n",
              "189    111\n",
              "190      6\n",
              "191     32\n",
              "192     64\n",
              "Length: 193, dtype: int64"
            ]
          },
          "metadata": {
            "tags": []
          },
          "execution_count": 110
        }
      ]
    },
    {
      "cell_type": "code",
      "metadata": {
        "id": "pfmbCHKFmqIo",
        "colab_type": "code",
        "outputId": "b102bbac-c154-45d7-b15f-c8a2c24db290",
        "colab": {
          "base_uri": "https://localhost:8080/",
          "height": 221
        }
      },
      "source": [
        "drinks.loc[:, 'beer_servings': 'wine_servings'].apply(np.argmax, axis =1) #Pick out the element that has the max value "
      ],
      "execution_count": 111,
      "outputs": [
        {
          "output_type": "execute_result",
          "data": {
            "text/plain": [
              "0      0\n",
              "1      1\n",
              "2      0\n",
              "3      2\n",
              "4      0\n",
              "      ..\n",
              "188    0\n",
              "189    0\n",
              "190    0\n",
              "191    0\n",
              "192    0\n",
              "Length: 193, dtype: int64"
            ]
          },
          "metadata": {
            "tags": []
          },
          "execution_count": 111
        }
      ]
    },
    {
      "cell_type": "code",
      "metadata": {
        "id": "7eBTmXcDn50T",
        "colab_type": "code",
        "outputId": "b9cd1b86-b08e-45a4-ef89-80006459fbc7",
        "colab": {
          "base_uri": "https://localhost:8080/",
          "height": 204
        }
      },
      "source": [
        "drinks.loc[:, 'beer_servings': 'wine_servings'].head()"
      ],
      "execution_count": 112,
      "outputs": [
        {
          "output_type": "execute_result",
          "data": {
            "text/html": [
              "<div>\n",
              "<style scoped>\n",
              "    .dataframe tbody tr th:only-of-type {\n",
              "        vertical-align: middle;\n",
              "    }\n",
              "\n",
              "    .dataframe tbody tr th {\n",
              "        vertical-align: top;\n",
              "    }\n",
              "\n",
              "    .dataframe thead th {\n",
              "        text-align: right;\n",
              "    }\n",
              "</style>\n",
              "<table border=\"1\" class=\"dataframe\">\n",
              "  <thead>\n",
              "    <tr style=\"text-align: right;\">\n",
              "      <th></th>\n",
              "      <th>beer_servings</th>\n",
              "      <th>spirit_servings</th>\n",
              "      <th>wine_servings</th>\n",
              "    </tr>\n",
              "  </thead>\n",
              "  <tbody>\n",
              "    <tr>\n",
              "      <th>0</th>\n",
              "      <td>0</td>\n",
              "      <td>0</td>\n",
              "      <td>0</td>\n",
              "    </tr>\n",
              "    <tr>\n",
              "      <th>1</th>\n",
              "      <td>89</td>\n",
              "      <td>132</td>\n",
              "      <td>54</td>\n",
              "    </tr>\n",
              "    <tr>\n",
              "      <th>2</th>\n",
              "      <td>25</td>\n",
              "      <td>0</td>\n",
              "      <td>14</td>\n",
              "    </tr>\n",
              "    <tr>\n",
              "      <th>3</th>\n",
              "      <td>245</td>\n",
              "      <td>138</td>\n",
              "      <td>312</td>\n",
              "    </tr>\n",
              "    <tr>\n",
              "      <th>4</th>\n",
              "      <td>217</td>\n",
              "      <td>57</td>\n",
              "      <td>45</td>\n",
              "    </tr>\n",
              "  </tbody>\n",
              "</table>\n",
              "</div>"
            ],
            "text/plain": [
              "   beer_servings  spirit_servings  wine_servings\n",
              "0              0                0              0\n",
              "1             89              132             54\n",
              "2             25                0             14\n",
              "3            245              138            312\n",
              "4            217               57             45"
            ]
          },
          "metadata": {
            "tags": []
          },
          "execution_count": 112
        }
      ]
    },
    {
      "cell_type": "code",
      "metadata": {
        "id": "vbXezCAfnNoY",
        "colab_type": "code",
        "outputId": "9987ca36-0811-40b9-875b-71cc036811aa",
        "colab": {
          "base_uri": "https://localhost:8080/",
          "height": 204
        }
      },
      "source": [
        "drinks.loc[:, 'beer_servings': 'wine_servings'] = drinks.loc[:, 'beer_servings': 'wine_servings'].applymap(float)  #It apply to every elements in the dataframe \n",
        "drinks.head()"
      ],
      "execution_count": 113,
      "outputs": [
        {
          "output_type": "execute_result",
          "data": {
            "text/html": [
              "<div>\n",
              "<style scoped>\n",
              "    .dataframe tbody tr th:only-of-type {\n",
              "        vertical-align: middle;\n",
              "    }\n",
              "\n",
              "    .dataframe tbody tr th {\n",
              "        vertical-align: top;\n",
              "    }\n",
              "\n",
              "    .dataframe thead th {\n",
              "        text-align: right;\n",
              "    }\n",
              "</style>\n",
              "<table border=\"1\" class=\"dataframe\">\n",
              "  <thead>\n",
              "    <tr style=\"text-align: right;\">\n",
              "      <th></th>\n",
              "      <th>country</th>\n",
              "      <th>beer_servings</th>\n",
              "      <th>spirit_servings</th>\n",
              "      <th>wine_servings</th>\n",
              "      <th>total_litres_of_pure_alcohol</th>\n",
              "      <th>continent</th>\n",
              "    </tr>\n",
              "  </thead>\n",
              "  <tbody>\n",
              "    <tr>\n",
              "      <th>0</th>\n",
              "      <td>Afghanistan</td>\n",
              "      <td>0.0</td>\n",
              "      <td>0.0</td>\n",
              "      <td>0.0</td>\n",
              "      <td>0.0</td>\n",
              "      <td>Asia</td>\n",
              "    </tr>\n",
              "    <tr>\n",
              "      <th>1</th>\n",
              "      <td>Albania</td>\n",
              "      <td>89.0</td>\n",
              "      <td>132.0</td>\n",
              "      <td>54.0</td>\n",
              "      <td>4.9</td>\n",
              "      <td>Europe</td>\n",
              "    </tr>\n",
              "    <tr>\n",
              "      <th>2</th>\n",
              "      <td>Algeria</td>\n",
              "      <td>25.0</td>\n",
              "      <td>0.0</td>\n",
              "      <td>14.0</td>\n",
              "      <td>0.7</td>\n",
              "      <td>Africa</td>\n",
              "    </tr>\n",
              "    <tr>\n",
              "      <th>3</th>\n",
              "      <td>Andorra</td>\n",
              "      <td>245.0</td>\n",
              "      <td>138.0</td>\n",
              "      <td>312.0</td>\n",
              "      <td>12.4</td>\n",
              "      <td>Europe</td>\n",
              "    </tr>\n",
              "    <tr>\n",
              "      <th>4</th>\n",
              "      <td>Angola</td>\n",
              "      <td>217.0</td>\n",
              "      <td>57.0</td>\n",
              "      <td>45.0</td>\n",
              "      <td>5.9</td>\n",
              "      <td>Africa</td>\n",
              "    </tr>\n",
              "  </tbody>\n",
              "</table>\n",
              "</div>"
            ],
            "text/plain": [
              "       country  beer_servings  ...  total_litres_of_pure_alcohol  continent\n",
              "0  Afghanistan            0.0  ...                           0.0       Asia\n",
              "1      Albania           89.0  ...                           4.9     Europe\n",
              "2      Algeria           25.0  ...                           0.7     Africa\n",
              "3      Andorra          245.0  ...                          12.4     Europe\n",
              "4       Angola          217.0  ...                           5.9     Africa\n",
              "\n",
              "[5 rows x 6 columns]"
            ]
          },
          "metadata": {
            "tags": []
          },
          "execution_count": 113
        }
      ]
    },
    {
      "cell_type": "code",
      "metadata": {
        "id": "IpWzEDgSno4n",
        "colab_type": "code",
        "colab": {}
      },
      "source": [
        "# Video 10 Your Panda Questions Answered! \n",
        "import pandas as pd"
      ],
      "execution_count": 0,
      "outputs": []
    },
    {
      "cell_type": "code",
      "metadata": {
        "id": "eUtHdG2tpKYf",
        "colab_type": "code",
        "colab": {}
      },
      "source": [
        "ufo = pd.read_csv('http://bit.ly/uforeports')"
      ],
      "execution_count": 0,
      "outputs": []
    },
    {
      "cell_type": "code",
      "metadata": {
        "id": "6wVKGCSSpTqf",
        "colab_type": "code",
        "outputId": "9ac2769a-4f7d-42cc-9f7d-de36cdb5b11e",
        "colab": {
          "base_uri": "https://localhost:8080/",
          "height": 34
        }
      },
      "source": [
        "ufo.columns"
      ],
      "execution_count": 116,
      "outputs": [
        {
          "output_type": "execute_result",
          "data": {
            "text/plain": [
              "Index(['City', 'Colors Reported', 'Shape Reported', 'State', 'Time'], dtype='object')"
            ]
          },
          "metadata": {
            "tags": []
          },
          "execution_count": 116
        }
      ]
    },
    {
      "cell_type": "code",
      "metadata": {
        "id": "DOpKB2zDpaF_",
        "colab_type": "code",
        "outputId": "2ce78a07-eafa-4c5b-d015-29ebef7a6d42",
        "colab": {
          "base_uri": "https://localhost:8080/",
          "height": 34
        }
      },
      "source": [
        "ufo = pd.read_csv('http://bit.ly/uforeports', usecols = ['City', 'State'])\n",
        "ufo.columns"
      ],
      "execution_count": 117,
      "outputs": [
        {
          "output_type": "execute_result",
          "data": {
            "text/plain": [
              "Index(['City', 'State'], dtype='object')"
            ]
          },
          "metadata": {
            "tags": []
          },
          "execution_count": 117
        }
      ]
    },
    {
      "cell_type": "code",
      "metadata": {
        "id": "xL_YNLmOpjHn",
        "colab_type": "code",
        "outputId": "57183f86-e9fe-45ac-a0a9-111eb558a123",
        "colab": {
          "base_uri": "https://localhost:8080/",
          "height": 34
        }
      },
      "source": [
        "ufo = pd.read_csv('http://bit.ly/uforeports', usecols = [0,4])\n",
        "ufo.columns"
      ],
      "execution_count": 118,
      "outputs": [
        {
          "output_type": "execute_result",
          "data": {
            "text/plain": [
              "Index(['City', 'Time'], dtype='object')"
            ]
          },
          "metadata": {
            "tags": []
          },
          "execution_count": 118
        }
      ]
    },
    {
      "cell_type": "code",
      "metadata": {
        "id": "ypuO5KloprFH",
        "colab_type": "code",
        "colab": {}
      },
      "source": [
        "ufo = pd.read_csv('http://bit.ly/uforeports', nrows = 3) #select three rows "
      ],
      "execution_count": 0,
      "outputs": []
    },
    {
      "cell_type": "code",
      "metadata": {
        "id": "apnobddipycH",
        "colab_type": "code",
        "outputId": "e4a5680a-fdfb-4b23-cfc3-adce42efedab",
        "colab": {
          "base_uri": "https://localhost:8080/",
          "height": 142
        }
      },
      "source": [
        "ufo"
      ],
      "execution_count": 120,
      "outputs": [
        {
          "output_type": "execute_result",
          "data": {
            "text/html": [
              "<div>\n",
              "<style scoped>\n",
              "    .dataframe tbody tr th:only-of-type {\n",
              "        vertical-align: middle;\n",
              "    }\n",
              "\n",
              "    .dataframe tbody tr th {\n",
              "        vertical-align: top;\n",
              "    }\n",
              "\n",
              "    .dataframe thead th {\n",
              "        text-align: right;\n",
              "    }\n",
              "</style>\n",
              "<table border=\"1\" class=\"dataframe\">\n",
              "  <thead>\n",
              "    <tr style=\"text-align: right;\">\n",
              "      <th></th>\n",
              "      <th>City</th>\n",
              "      <th>Colors Reported</th>\n",
              "      <th>Shape Reported</th>\n",
              "      <th>State</th>\n",
              "      <th>Time</th>\n",
              "    </tr>\n",
              "  </thead>\n",
              "  <tbody>\n",
              "    <tr>\n",
              "      <th>0</th>\n",
              "      <td>Ithaca</td>\n",
              "      <td>NaN</td>\n",
              "      <td>TRIANGLE</td>\n",
              "      <td>NY</td>\n",
              "      <td>6/1/1930 22:00</td>\n",
              "    </tr>\n",
              "    <tr>\n",
              "      <th>1</th>\n",
              "      <td>Willingboro</td>\n",
              "      <td>NaN</td>\n",
              "      <td>OTHER</td>\n",
              "      <td>NJ</td>\n",
              "      <td>6/30/1930 20:00</td>\n",
              "    </tr>\n",
              "    <tr>\n",
              "      <th>2</th>\n",
              "      <td>Holyoke</td>\n",
              "      <td>NaN</td>\n",
              "      <td>OVAL</td>\n",
              "      <td>CO</td>\n",
              "      <td>2/15/1931 14:00</td>\n",
              "    </tr>\n",
              "  </tbody>\n",
              "</table>\n",
              "</div>"
            ],
            "text/plain": [
              "          City  Colors Reported Shape Reported State             Time\n",
              "0       Ithaca              NaN       TRIANGLE    NY   6/1/1930 22:00\n",
              "1  Willingboro              NaN          OTHER    NJ  6/30/1930 20:00\n",
              "2      Holyoke              NaN           OVAL    CO  2/15/1931 14:00"
            ]
          },
          "metadata": {
            "tags": []
          },
          "execution_count": 120
        }
      ]
    },
    {
      "cell_type": "code",
      "metadata": {
        "id": "kWLknWIApzbW",
        "colab_type": "code",
        "outputId": "bd1780e7-2e90-4a60-8e2e-2c4ef7866a0b",
        "colab": {
          "base_uri": "https://localhost:8080/",
          "height": 68
        }
      },
      "source": [
        "for c in ufo.City:\n",
        "  print (c)"
      ],
      "execution_count": 121,
      "outputs": [
        {
          "output_type": "stream",
          "text": [
            "Ithaca\n",
            "Willingboro\n",
            "Holyoke\n"
          ],
          "name": "stdout"
        }
      ]
    },
    {
      "cell_type": "code",
      "metadata": {
        "id": "4P6NGKszp9iv",
        "colab_type": "code",
        "outputId": "0fb5c443-4c81-4b19-ab4b-406edb3383ad",
        "colab": {
          "base_uri": "https://localhost:8080/",
          "height": 68
        }
      },
      "source": [
        "for index, row in ufo.iterrows():\n",
        "  print (index, row.City, row.State)"
      ],
      "execution_count": 122,
      "outputs": [
        {
          "output_type": "stream",
          "text": [
            "0 Ithaca NY\n",
            "1 Willingboro NJ\n",
            "2 Holyoke CO\n"
          ],
          "name": "stdout"
        }
      ]
    },
    {
      "cell_type": "code",
      "metadata": {
        "id": "wZ7D8PJCqJ-P",
        "colab_type": "code",
        "colab": {}
      },
      "source": [
        "drinks = pd.read_csv('http://bit.ly/drinksbycountry')"
      ],
      "execution_count": 0,
      "outputs": []
    },
    {
      "cell_type": "code",
      "metadata": {
        "id": "z6xKOwUjqW-H",
        "colab_type": "code",
        "outputId": "a53e5255-22f2-4e12-e70b-4aaf1d19e1c9",
        "colab": {
          "base_uri": "https://localhost:8080/",
          "height": 136
        }
      },
      "source": [
        "drinks.dtypes"
      ],
      "execution_count": 124,
      "outputs": [
        {
          "output_type": "execute_result",
          "data": {
            "text/plain": [
              "country                          object\n",
              "beer_servings                     int64\n",
              "spirit_servings                   int64\n",
              "wine_servings                     int64\n",
              "total_litres_of_pure_alcohol    float64\n",
              "continent                        object\n",
              "dtype: object"
            ]
          },
          "metadata": {
            "tags": []
          },
          "execution_count": 124
        }
      ]
    },
    {
      "cell_type": "code",
      "metadata": {
        "id": "kZyL68jCqY2n",
        "colab_type": "code",
        "colab": {}
      },
      "source": [
        "import numpy as np"
      ],
      "execution_count": 0,
      "outputs": []
    },
    {
      "cell_type": "code",
      "metadata": {
        "id": "O2bim5zXqgHX",
        "colab_type": "code",
        "outputId": "6e3fdd86-8de0-4c27-db92-0cc811cf23eb",
        "colab": {
          "base_uri": "https://localhost:8080/",
          "height": 102
        }
      },
      "source": [
        "drinks.select_dtypes(include =[np.number]).dtypes"
      ],
      "execution_count": 126,
      "outputs": [
        {
          "output_type": "execute_result",
          "data": {
            "text/plain": [
              "beer_servings                     int64\n",
              "spirit_servings                   int64\n",
              "wine_servings                     int64\n",
              "total_litres_of_pure_alcohol    float64\n",
              "dtype: object"
            ]
          },
          "metadata": {
            "tags": []
          },
          "execution_count": 126
        }
      ]
    },
    {
      "cell_type": "code",
      "metadata": {
        "id": "PYxhFFPWqoDG",
        "colab_type": "code",
        "outputId": "0e88a55a-91a2-4a57-a925-7ac37ca378fc",
        "colab": {
          "base_uri": "https://localhost:8080/",
          "height": 297
        }
      },
      "source": [
        "drinks.describe()"
      ],
      "execution_count": 127,
      "outputs": [
        {
          "output_type": "execute_result",
          "data": {
            "text/html": [
              "<div>\n",
              "<style scoped>\n",
              "    .dataframe tbody tr th:only-of-type {\n",
              "        vertical-align: middle;\n",
              "    }\n",
              "\n",
              "    .dataframe tbody tr th {\n",
              "        vertical-align: top;\n",
              "    }\n",
              "\n",
              "    .dataframe thead th {\n",
              "        text-align: right;\n",
              "    }\n",
              "</style>\n",
              "<table border=\"1\" class=\"dataframe\">\n",
              "  <thead>\n",
              "    <tr style=\"text-align: right;\">\n",
              "      <th></th>\n",
              "      <th>beer_servings</th>\n",
              "      <th>spirit_servings</th>\n",
              "      <th>wine_servings</th>\n",
              "      <th>total_litres_of_pure_alcohol</th>\n",
              "    </tr>\n",
              "  </thead>\n",
              "  <tbody>\n",
              "    <tr>\n",
              "      <th>count</th>\n",
              "      <td>193.000000</td>\n",
              "      <td>193.000000</td>\n",
              "      <td>193.000000</td>\n",
              "      <td>193.000000</td>\n",
              "    </tr>\n",
              "    <tr>\n",
              "      <th>mean</th>\n",
              "      <td>106.160622</td>\n",
              "      <td>80.994819</td>\n",
              "      <td>49.450777</td>\n",
              "      <td>4.717098</td>\n",
              "    </tr>\n",
              "    <tr>\n",
              "      <th>std</th>\n",
              "      <td>101.143103</td>\n",
              "      <td>88.284312</td>\n",
              "      <td>79.697598</td>\n",
              "      <td>3.773298</td>\n",
              "    </tr>\n",
              "    <tr>\n",
              "      <th>min</th>\n",
              "      <td>0.000000</td>\n",
              "      <td>0.000000</td>\n",
              "      <td>0.000000</td>\n",
              "      <td>0.000000</td>\n",
              "    </tr>\n",
              "    <tr>\n",
              "      <th>25%</th>\n",
              "      <td>20.000000</td>\n",
              "      <td>4.000000</td>\n",
              "      <td>1.000000</td>\n",
              "      <td>1.300000</td>\n",
              "    </tr>\n",
              "    <tr>\n",
              "      <th>50%</th>\n",
              "      <td>76.000000</td>\n",
              "      <td>56.000000</td>\n",
              "      <td>8.000000</td>\n",
              "      <td>4.200000</td>\n",
              "    </tr>\n",
              "    <tr>\n",
              "      <th>75%</th>\n",
              "      <td>188.000000</td>\n",
              "      <td>128.000000</td>\n",
              "      <td>59.000000</td>\n",
              "      <td>7.200000</td>\n",
              "    </tr>\n",
              "    <tr>\n",
              "      <th>max</th>\n",
              "      <td>376.000000</td>\n",
              "      <td>438.000000</td>\n",
              "      <td>370.000000</td>\n",
              "      <td>14.400000</td>\n",
              "    </tr>\n",
              "  </tbody>\n",
              "</table>\n",
              "</div>"
            ],
            "text/plain": [
              "       beer_servings  ...  total_litres_of_pure_alcohol\n",
              "count     193.000000  ...                    193.000000\n",
              "mean      106.160622  ...                      4.717098\n",
              "std       101.143103  ...                      3.773298\n",
              "min         0.000000  ...                      0.000000\n",
              "25%        20.000000  ...                      1.300000\n",
              "50%        76.000000  ...                      4.200000\n",
              "75%       188.000000  ...                      7.200000\n",
              "max       376.000000  ...                     14.400000\n",
              "\n",
              "[8 rows x 4 columns]"
            ]
          },
          "metadata": {
            "tags": []
          },
          "execution_count": 127
        }
      ]
    },
    {
      "cell_type": "code",
      "metadata": {
        "id": "gtdouhi8qyGl",
        "colab_type": "code",
        "outputId": "e21b483b-c17f-48ff-f71d-5e5100b5d101",
        "colab": {
          "base_uri": "https://localhost:8080/",
          "height": 390
        }
      },
      "source": [
        "drinks.describe(include = 'all')"
      ],
      "execution_count": 128,
      "outputs": [
        {
          "output_type": "execute_result",
          "data": {
            "text/html": [
              "<div>\n",
              "<style scoped>\n",
              "    .dataframe tbody tr th:only-of-type {\n",
              "        vertical-align: middle;\n",
              "    }\n",
              "\n",
              "    .dataframe tbody tr th {\n",
              "        vertical-align: top;\n",
              "    }\n",
              "\n",
              "    .dataframe thead th {\n",
              "        text-align: right;\n",
              "    }\n",
              "</style>\n",
              "<table border=\"1\" class=\"dataframe\">\n",
              "  <thead>\n",
              "    <tr style=\"text-align: right;\">\n",
              "      <th></th>\n",
              "      <th>country</th>\n",
              "      <th>beer_servings</th>\n",
              "      <th>spirit_servings</th>\n",
              "      <th>wine_servings</th>\n",
              "      <th>total_litres_of_pure_alcohol</th>\n",
              "      <th>continent</th>\n",
              "    </tr>\n",
              "  </thead>\n",
              "  <tbody>\n",
              "    <tr>\n",
              "      <th>count</th>\n",
              "      <td>193</td>\n",
              "      <td>193.000000</td>\n",
              "      <td>193.000000</td>\n",
              "      <td>193.000000</td>\n",
              "      <td>193.000000</td>\n",
              "      <td>193</td>\n",
              "    </tr>\n",
              "    <tr>\n",
              "      <th>unique</th>\n",
              "      <td>193</td>\n",
              "      <td>NaN</td>\n",
              "      <td>NaN</td>\n",
              "      <td>NaN</td>\n",
              "      <td>NaN</td>\n",
              "      <td>6</td>\n",
              "    </tr>\n",
              "    <tr>\n",
              "      <th>top</th>\n",
              "      <td>Kenya</td>\n",
              "      <td>NaN</td>\n",
              "      <td>NaN</td>\n",
              "      <td>NaN</td>\n",
              "      <td>NaN</td>\n",
              "      <td>Africa</td>\n",
              "    </tr>\n",
              "    <tr>\n",
              "      <th>freq</th>\n",
              "      <td>1</td>\n",
              "      <td>NaN</td>\n",
              "      <td>NaN</td>\n",
              "      <td>NaN</td>\n",
              "      <td>NaN</td>\n",
              "      <td>53</td>\n",
              "    </tr>\n",
              "    <tr>\n",
              "      <th>mean</th>\n",
              "      <td>NaN</td>\n",
              "      <td>106.160622</td>\n",
              "      <td>80.994819</td>\n",
              "      <td>49.450777</td>\n",
              "      <td>4.717098</td>\n",
              "      <td>NaN</td>\n",
              "    </tr>\n",
              "    <tr>\n",
              "      <th>std</th>\n",
              "      <td>NaN</td>\n",
              "      <td>101.143103</td>\n",
              "      <td>88.284312</td>\n",
              "      <td>79.697598</td>\n",
              "      <td>3.773298</td>\n",
              "      <td>NaN</td>\n",
              "    </tr>\n",
              "    <tr>\n",
              "      <th>min</th>\n",
              "      <td>NaN</td>\n",
              "      <td>0.000000</td>\n",
              "      <td>0.000000</td>\n",
              "      <td>0.000000</td>\n",
              "      <td>0.000000</td>\n",
              "      <td>NaN</td>\n",
              "    </tr>\n",
              "    <tr>\n",
              "      <th>25%</th>\n",
              "      <td>NaN</td>\n",
              "      <td>20.000000</td>\n",
              "      <td>4.000000</td>\n",
              "      <td>1.000000</td>\n",
              "      <td>1.300000</td>\n",
              "      <td>NaN</td>\n",
              "    </tr>\n",
              "    <tr>\n",
              "      <th>50%</th>\n",
              "      <td>NaN</td>\n",
              "      <td>76.000000</td>\n",
              "      <td>56.000000</td>\n",
              "      <td>8.000000</td>\n",
              "      <td>4.200000</td>\n",
              "      <td>NaN</td>\n",
              "    </tr>\n",
              "    <tr>\n",
              "      <th>75%</th>\n",
              "      <td>NaN</td>\n",
              "      <td>188.000000</td>\n",
              "      <td>128.000000</td>\n",
              "      <td>59.000000</td>\n",
              "      <td>7.200000</td>\n",
              "      <td>NaN</td>\n",
              "    </tr>\n",
              "    <tr>\n",
              "      <th>max</th>\n",
              "      <td>NaN</td>\n",
              "      <td>376.000000</td>\n",
              "      <td>438.000000</td>\n",
              "      <td>370.000000</td>\n",
              "      <td>14.400000</td>\n",
              "      <td>NaN</td>\n",
              "    </tr>\n",
              "  </tbody>\n",
              "</table>\n",
              "</div>"
            ],
            "text/plain": [
              "       country  beer_servings  ...  total_litres_of_pure_alcohol  continent\n",
              "count      193     193.000000  ...                    193.000000        193\n",
              "unique     193            NaN  ...                           NaN          6\n",
              "top      Kenya            NaN  ...                           NaN     Africa\n",
              "freq         1            NaN  ...                           NaN         53\n",
              "mean       NaN     106.160622  ...                      4.717098        NaN\n",
              "std        NaN     101.143103  ...                      3.773298        NaN\n",
              "min        NaN       0.000000  ...                      0.000000        NaN\n",
              "25%        NaN      20.000000  ...                      1.300000        NaN\n",
              "50%        NaN      76.000000  ...                      4.200000        NaN\n",
              "75%        NaN     188.000000  ...                      7.200000        NaN\n",
              "max        NaN     376.000000  ...                     14.400000        NaN\n",
              "\n",
              "[11 rows x 6 columns]"
            ]
          },
          "metadata": {
            "tags": []
          },
          "execution_count": 128
        }
      ]
    },
    {
      "cell_type": "code",
      "metadata": {
        "id": "WDrInxlaq9i_",
        "colab_type": "code",
        "outputId": "ad34d9bb-836c-46fe-8d2b-52be0431f2e3",
        "colab": {
          "base_uri": "https://localhost:8080/",
          "height": 390
        }
      },
      "source": [
        "drinks.describe(include =['object', 'float64'])"
      ],
      "execution_count": 129,
      "outputs": [
        {
          "output_type": "execute_result",
          "data": {
            "text/html": [
              "<div>\n",
              "<style scoped>\n",
              "    .dataframe tbody tr th:only-of-type {\n",
              "        vertical-align: middle;\n",
              "    }\n",
              "\n",
              "    .dataframe tbody tr th {\n",
              "        vertical-align: top;\n",
              "    }\n",
              "\n",
              "    .dataframe thead th {\n",
              "        text-align: right;\n",
              "    }\n",
              "</style>\n",
              "<table border=\"1\" class=\"dataframe\">\n",
              "  <thead>\n",
              "    <tr style=\"text-align: right;\">\n",
              "      <th></th>\n",
              "      <th>country</th>\n",
              "      <th>total_litres_of_pure_alcohol</th>\n",
              "      <th>continent</th>\n",
              "    </tr>\n",
              "  </thead>\n",
              "  <tbody>\n",
              "    <tr>\n",
              "      <th>count</th>\n",
              "      <td>193</td>\n",
              "      <td>193.000000</td>\n",
              "      <td>193</td>\n",
              "    </tr>\n",
              "    <tr>\n",
              "      <th>unique</th>\n",
              "      <td>193</td>\n",
              "      <td>NaN</td>\n",
              "      <td>6</td>\n",
              "    </tr>\n",
              "    <tr>\n",
              "      <th>top</th>\n",
              "      <td>Kenya</td>\n",
              "      <td>NaN</td>\n",
              "      <td>Africa</td>\n",
              "    </tr>\n",
              "    <tr>\n",
              "      <th>freq</th>\n",
              "      <td>1</td>\n",
              "      <td>NaN</td>\n",
              "      <td>53</td>\n",
              "    </tr>\n",
              "    <tr>\n",
              "      <th>mean</th>\n",
              "      <td>NaN</td>\n",
              "      <td>4.717098</td>\n",
              "      <td>NaN</td>\n",
              "    </tr>\n",
              "    <tr>\n",
              "      <th>std</th>\n",
              "      <td>NaN</td>\n",
              "      <td>3.773298</td>\n",
              "      <td>NaN</td>\n",
              "    </tr>\n",
              "    <tr>\n",
              "      <th>min</th>\n",
              "      <td>NaN</td>\n",
              "      <td>0.000000</td>\n",
              "      <td>NaN</td>\n",
              "    </tr>\n",
              "    <tr>\n",
              "      <th>25%</th>\n",
              "      <td>NaN</td>\n",
              "      <td>1.300000</td>\n",
              "      <td>NaN</td>\n",
              "    </tr>\n",
              "    <tr>\n",
              "      <th>50%</th>\n",
              "      <td>NaN</td>\n",
              "      <td>4.200000</td>\n",
              "      <td>NaN</td>\n",
              "    </tr>\n",
              "    <tr>\n",
              "      <th>75%</th>\n",
              "      <td>NaN</td>\n",
              "      <td>7.200000</td>\n",
              "      <td>NaN</td>\n",
              "    </tr>\n",
              "    <tr>\n",
              "      <th>max</th>\n",
              "      <td>NaN</td>\n",
              "      <td>14.400000</td>\n",
              "      <td>NaN</td>\n",
              "    </tr>\n",
              "  </tbody>\n",
              "</table>\n",
              "</div>"
            ],
            "text/plain": [
              "       country  total_litres_of_pure_alcohol continent\n",
              "count      193                    193.000000       193\n",
              "unique     193                           NaN         6\n",
              "top      Kenya                           NaN    Africa\n",
              "freq         1                           NaN        53\n",
              "mean       NaN                      4.717098       NaN\n",
              "std        NaN                      3.773298       NaN\n",
              "min        NaN                      0.000000       NaN\n",
              "25%        NaN                      1.300000       NaN\n",
              "50%        NaN                      4.200000       NaN\n",
              "75%        NaN                      7.200000       NaN\n",
              "max        NaN                     14.400000       NaN"
            ]
          },
          "metadata": {
            "tags": []
          },
          "execution_count": 129
        }
      ]
    },
    {
      "cell_type": "code",
      "metadata": {
        "id": "Xy2CuuJQrHSG",
        "colab_type": "code",
        "outputId": "99819dd5-dd92-4f25-a363-63b91f9321f9",
        "colab": {
          "base_uri": "https://localhost:8080/",
          "height": 173
        }
      },
      "source": [
        "drinks.describe(include =['object'])"
      ],
      "execution_count": 130,
      "outputs": [
        {
          "output_type": "execute_result",
          "data": {
            "text/html": [
              "<div>\n",
              "<style scoped>\n",
              "    .dataframe tbody tr th:only-of-type {\n",
              "        vertical-align: middle;\n",
              "    }\n",
              "\n",
              "    .dataframe tbody tr th {\n",
              "        vertical-align: top;\n",
              "    }\n",
              "\n",
              "    .dataframe thead th {\n",
              "        text-align: right;\n",
              "    }\n",
              "</style>\n",
              "<table border=\"1\" class=\"dataframe\">\n",
              "  <thead>\n",
              "    <tr style=\"text-align: right;\">\n",
              "      <th></th>\n",
              "      <th>country</th>\n",
              "      <th>continent</th>\n",
              "    </tr>\n",
              "  </thead>\n",
              "  <tbody>\n",
              "    <tr>\n",
              "      <th>count</th>\n",
              "      <td>193</td>\n",
              "      <td>193</td>\n",
              "    </tr>\n",
              "    <tr>\n",
              "      <th>unique</th>\n",
              "      <td>193</td>\n",
              "      <td>6</td>\n",
              "    </tr>\n",
              "    <tr>\n",
              "      <th>top</th>\n",
              "      <td>Kenya</td>\n",
              "      <td>Africa</td>\n",
              "    </tr>\n",
              "    <tr>\n",
              "      <th>freq</th>\n",
              "      <td>1</td>\n",
              "      <td>53</td>\n",
              "    </tr>\n",
              "  </tbody>\n",
              "</table>\n",
              "</div>"
            ],
            "text/plain": [
              "       country continent\n",
              "count      193       193\n",
              "unique     193         6\n",
              "top      Kenya    Africa\n",
              "freq         1        53"
            ]
          },
          "metadata": {
            "tags": []
          },
          "execution_count": 130
        }
      ]
    },
    {
      "cell_type": "code",
      "metadata": {
        "id": "BzPFeFIBrL8v",
        "colab_type": "code",
        "colab": {}
      },
      "source": [
        "#Video 11 How do I use the axis parameters in panda?"
      ],
      "execution_count": 0,
      "outputs": []
    },
    {
      "cell_type": "code",
      "metadata": {
        "id": "AzbPGtShrUkX",
        "colab_type": "code",
        "colab": {}
      },
      "source": [
        "drinks = pd.read_csv('http://bit.ly/drinksbycountry')"
      ],
      "execution_count": 0,
      "outputs": []
    },
    {
      "cell_type": "code",
      "metadata": {
        "id": "ZziuADu7rnKe",
        "colab_type": "code",
        "outputId": "e58311a5-4c8e-44df-c209-c76d3986486d",
        "colab": {
          "base_uri": "https://localhost:8080/",
          "height": 204
        }
      },
      "source": [
        "drinks.head()"
      ],
      "execution_count": 133,
      "outputs": [
        {
          "output_type": "execute_result",
          "data": {
            "text/html": [
              "<div>\n",
              "<style scoped>\n",
              "    .dataframe tbody tr th:only-of-type {\n",
              "        vertical-align: middle;\n",
              "    }\n",
              "\n",
              "    .dataframe tbody tr th {\n",
              "        vertical-align: top;\n",
              "    }\n",
              "\n",
              "    .dataframe thead th {\n",
              "        text-align: right;\n",
              "    }\n",
              "</style>\n",
              "<table border=\"1\" class=\"dataframe\">\n",
              "  <thead>\n",
              "    <tr style=\"text-align: right;\">\n",
              "      <th></th>\n",
              "      <th>country</th>\n",
              "      <th>beer_servings</th>\n",
              "      <th>spirit_servings</th>\n",
              "      <th>wine_servings</th>\n",
              "      <th>total_litres_of_pure_alcohol</th>\n",
              "      <th>continent</th>\n",
              "    </tr>\n",
              "  </thead>\n",
              "  <tbody>\n",
              "    <tr>\n",
              "      <th>0</th>\n",
              "      <td>Afghanistan</td>\n",
              "      <td>0</td>\n",
              "      <td>0</td>\n",
              "      <td>0</td>\n",
              "      <td>0.0</td>\n",
              "      <td>Asia</td>\n",
              "    </tr>\n",
              "    <tr>\n",
              "      <th>1</th>\n",
              "      <td>Albania</td>\n",
              "      <td>89</td>\n",
              "      <td>132</td>\n",
              "      <td>54</td>\n",
              "      <td>4.9</td>\n",
              "      <td>Europe</td>\n",
              "    </tr>\n",
              "    <tr>\n",
              "      <th>2</th>\n",
              "      <td>Algeria</td>\n",
              "      <td>25</td>\n",
              "      <td>0</td>\n",
              "      <td>14</td>\n",
              "      <td>0.7</td>\n",
              "      <td>Africa</td>\n",
              "    </tr>\n",
              "    <tr>\n",
              "      <th>3</th>\n",
              "      <td>Andorra</td>\n",
              "      <td>245</td>\n",
              "      <td>138</td>\n",
              "      <td>312</td>\n",
              "      <td>12.4</td>\n",
              "      <td>Europe</td>\n",
              "    </tr>\n",
              "    <tr>\n",
              "      <th>4</th>\n",
              "      <td>Angola</td>\n",
              "      <td>217</td>\n",
              "      <td>57</td>\n",
              "      <td>45</td>\n",
              "      <td>5.9</td>\n",
              "      <td>Africa</td>\n",
              "    </tr>\n",
              "  </tbody>\n",
              "</table>\n",
              "</div>"
            ],
            "text/plain": [
              "       country  beer_servings  ...  total_litres_of_pure_alcohol  continent\n",
              "0  Afghanistan              0  ...                           0.0       Asia\n",
              "1      Albania             89  ...                           4.9     Europe\n",
              "2      Algeria             25  ...                           0.7     Africa\n",
              "3      Andorra            245  ...                          12.4     Europe\n",
              "4       Angola            217  ...                           5.9     Africa\n",
              "\n",
              "[5 rows x 6 columns]"
            ]
          },
          "metadata": {
            "tags": []
          },
          "execution_count": 133
        }
      ]
    },
    {
      "cell_type": "code",
      "metadata": {
        "id": "_AedWXrSrrm2",
        "colab_type": "code",
        "outputId": "2fc1be67-2336-4598-baa0-a469a3dcb179",
        "colab": {
          "base_uri": "https://localhost:8080/",
          "height": 204
        }
      },
      "source": [
        "drinks.drop('continent', axis = 1).head() #drop the column continent"
      ],
      "execution_count": 134,
      "outputs": [
        {
          "output_type": "execute_result",
          "data": {
            "text/html": [
              "<div>\n",
              "<style scoped>\n",
              "    .dataframe tbody tr th:only-of-type {\n",
              "        vertical-align: middle;\n",
              "    }\n",
              "\n",
              "    .dataframe tbody tr th {\n",
              "        vertical-align: top;\n",
              "    }\n",
              "\n",
              "    .dataframe thead th {\n",
              "        text-align: right;\n",
              "    }\n",
              "</style>\n",
              "<table border=\"1\" class=\"dataframe\">\n",
              "  <thead>\n",
              "    <tr style=\"text-align: right;\">\n",
              "      <th></th>\n",
              "      <th>country</th>\n",
              "      <th>beer_servings</th>\n",
              "      <th>spirit_servings</th>\n",
              "      <th>wine_servings</th>\n",
              "      <th>total_litres_of_pure_alcohol</th>\n",
              "    </tr>\n",
              "  </thead>\n",
              "  <tbody>\n",
              "    <tr>\n",
              "      <th>0</th>\n",
              "      <td>Afghanistan</td>\n",
              "      <td>0</td>\n",
              "      <td>0</td>\n",
              "      <td>0</td>\n",
              "      <td>0.0</td>\n",
              "    </tr>\n",
              "    <tr>\n",
              "      <th>1</th>\n",
              "      <td>Albania</td>\n",
              "      <td>89</td>\n",
              "      <td>132</td>\n",
              "      <td>54</td>\n",
              "      <td>4.9</td>\n",
              "    </tr>\n",
              "    <tr>\n",
              "      <th>2</th>\n",
              "      <td>Algeria</td>\n",
              "      <td>25</td>\n",
              "      <td>0</td>\n",
              "      <td>14</td>\n",
              "      <td>0.7</td>\n",
              "    </tr>\n",
              "    <tr>\n",
              "      <th>3</th>\n",
              "      <td>Andorra</td>\n",
              "      <td>245</td>\n",
              "      <td>138</td>\n",
              "      <td>312</td>\n",
              "      <td>12.4</td>\n",
              "    </tr>\n",
              "    <tr>\n",
              "      <th>4</th>\n",
              "      <td>Angola</td>\n",
              "      <td>217</td>\n",
              "      <td>57</td>\n",
              "      <td>45</td>\n",
              "      <td>5.9</td>\n",
              "    </tr>\n",
              "  </tbody>\n",
              "</table>\n",
              "</div>"
            ],
            "text/plain": [
              "       country  beer_servings  ...  wine_servings  total_litres_of_pure_alcohol\n",
              "0  Afghanistan              0  ...              0                           0.0\n",
              "1      Albania             89  ...             54                           4.9\n",
              "2      Algeria             25  ...             14                           0.7\n",
              "3      Andorra            245  ...            312                          12.4\n",
              "4       Angola            217  ...             45                           5.9\n",
              "\n",
              "[5 rows x 5 columns]"
            ]
          },
          "metadata": {
            "tags": []
          },
          "execution_count": 134
        }
      ]
    },
    {
      "cell_type": "code",
      "metadata": {
        "id": "kSByySgNryb_",
        "colab_type": "code",
        "outputId": "8abb46b4-d11a-4193-a09b-6501c068b5a3",
        "colab": {
          "base_uri": "https://localhost:8080/",
          "height": 204
        }
      },
      "source": [
        "drinks.drop(2, axis = 0).head() #row 2 is dropped"
      ],
      "execution_count": 135,
      "outputs": [
        {
          "output_type": "execute_result",
          "data": {
            "text/html": [
              "<div>\n",
              "<style scoped>\n",
              "    .dataframe tbody tr th:only-of-type {\n",
              "        vertical-align: middle;\n",
              "    }\n",
              "\n",
              "    .dataframe tbody tr th {\n",
              "        vertical-align: top;\n",
              "    }\n",
              "\n",
              "    .dataframe thead th {\n",
              "        text-align: right;\n",
              "    }\n",
              "</style>\n",
              "<table border=\"1\" class=\"dataframe\">\n",
              "  <thead>\n",
              "    <tr style=\"text-align: right;\">\n",
              "      <th></th>\n",
              "      <th>country</th>\n",
              "      <th>beer_servings</th>\n",
              "      <th>spirit_servings</th>\n",
              "      <th>wine_servings</th>\n",
              "      <th>total_litres_of_pure_alcohol</th>\n",
              "      <th>continent</th>\n",
              "    </tr>\n",
              "  </thead>\n",
              "  <tbody>\n",
              "    <tr>\n",
              "      <th>0</th>\n",
              "      <td>Afghanistan</td>\n",
              "      <td>0</td>\n",
              "      <td>0</td>\n",
              "      <td>0</td>\n",
              "      <td>0.0</td>\n",
              "      <td>Asia</td>\n",
              "    </tr>\n",
              "    <tr>\n",
              "      <th>1</th>\n",
              "      <td>Albania</td>\n",
              "      <td>89</td>\n",
              "      <td>132</td>\n",
              "      <td>54</td>\n",
              "      <td>4.9</td>\n",
              "      <td>Europe</td>\n",
              "    </tr>\n",
              "    <tr>\n",
              "      <th>3</th>\n",
              "      <td>Andorra</td>\n",
              "      <td>245</td>\n",
              "      <td>138</td>\n",
              "      <td>312</td>\n",
              "      <td>12.4</td>\n",
              "      <td>Europe</td>\n",
              "    </tr>\n",
              "    <tr>\n",
              "      <th>4</th>\n",
              "      <td>Angola</td>\n",
              "      <td>217</td>\n",
              "      <td>57</td>\n",
              "      <td>45</td>\n",
              "      <td>5.9</td>\n",
              "      <td>Africa</td>\n",
              "    </tr>\n",
              "    <tr>\n",
              "      <th>5</th>\n",
              "      <td>Antigua &amp; Barbuda</td>\n",
              "      <td>102</td>\n",
              "      <td>128</td>\n",
              "      <td>45</td>\n",
              "      <td>4.9</td>\n",
              "      <td>North America</td>\n",
              "    </tr>\n",
              "  </tbody>\n",
              "</table>\n",
              "</div>"
            ],
            "text/plain": [
              "             country  ...      continent\n",
              "0        Afghanistan  ...           Asia\n",
              "1            Albania  ...         Europe\n",
              "3            Andorra  ...         Europe\n",
              "4             Angola  ...         Africa\n",
              "5  Antigua & Barbuda  ...  North America\n",
              "\n",
              "[5 rows x 6 columns]"
            ]
          },
          "metadata": {
            "tags": []
          },
          "execution_count": 135
        }
      ]
    },
    {
      "cell_type": "code",
      "metadata": {
        "id": "pLaStB66r_1G",
        "colab_type": "code",
        "outputId": "9b7db3f3-6ea9-4c0e-a2a5-f00fd6490e26",
        "colab": {
          "base_uri": "https://localhost:8080/",
          "height": 102
        }
      },
      "source": [
        "drinks.mean()"
      ],
      "execution_count": 136,
      "outputs": [
        {
          "output_type": "execute_result",
          "data": {
            "text/plain": [
              "beer_servings                   106.160622\n",
              "spirit_servings                  80.994819\n",
              "wine_servings                    49.450777\n",
              "total_litres_of_pure_alcohol      4.717098\n",
              "dtype: float64"
            ]
          },
          "metadata": {
            "tags": []
          },
          "execution_count": 136
        }
      ]
    },
    {
      "cell_type": "code",
      "metadata": {
        "id": "OBnNj6yWsNTW",
        "colab_type": "code",
        "outputId": "6ae3f372-f126-4ac3-a88d-3f067cbec521",
        "colab": {
          "base_uri": "https://localhost:8080/",
          "height": 102
        }
      },
      "source": [
        "drinks.mean(axis = 0) #Giving direction from rows one to down"
      ],
      "execution_count": 137,
      "outputs": [
        {
          "output_type": "execute_result",
          "data": {
            "text/plain": [
              "beer_servings                   106.160622\n",
              "spirit_servings                  80.994819\n",
              "wine_servings                    49.450777\n",
              "total_litres_of_pure_alcohol      4.717098\n",
              "dtype: float64"
            ]
          },
          "metadata": {
            "tags": []
          },
          "execution_count": 137
        }
      ]
    },
    {
      "cell_type": "code",
      "metadata": {
        "id": "TOvmXIUtsSqf",
        "colab_type": "code",
        "outputId": "1b8e5dc8-b7ae-461b-c0e8-642b63d9976d",
        "colab": {
          "base_uri": "https://localhost:8080/",
          "height": 221
        }
      },
      "source": [
        "drinks.mean(axis = 1) # give mean of columns across"
      ],
      "execution_count": 138,
      "outputs": [
        {
          "output_type": "execute_result",
          "data": {
            "text/plain": [
              "0        0.000\n",
              "1       69.975\n",
              "2        9.925\n",
              "3      176.850\n",
              "4       81.225\n",
              "        ...   \n",
              "188    110.925\n",
              "189     29.000\n",
              "190      1.525\n",
              "191     14.375\n",
              "192     22.675\n",
              "Length: 193, dtype: float64"
            ]
          },
          "metadata": {
            "tags": []
          },
          "execution_count": 138
        }
      ]
    },
    {
      "cell_type": "code",
      "metadata": {
        "id": "PrJAoqrvsibm",
        "colab_type": "code",
        "outputId": "1733cbd8-e77e-4b87-83a0-267fab216b76",
        "colab": {
          "base_uri": "https://localhost:8080/",
          "height": 34
        }
      },
      "source": [
        "drinks.mean(axis = 0).shape # a shape of rows"
      ],
      "execution_count": 139,
      "outputs": [
        {
          "output_type": "execute_result",
          "data": {
            "text/plain": [
              "(4,)"
            ]
          },
          "metadata": {
            "tags": []
          },
          "execution_count": 139
        }
      ]
    },
    {
      "cell_type": "code",
      "metadata": {
        "id": "TDEpPOqQspiG",
        "colab_type": "code",
        "outputId": "3a784aed-93e1-4002-d123-73a874269ebd",
        "colab": {
          "base_uri": "https://localhost:8080/",
          "height": 221
        }
      },
      "source": [
        "drinks.mean(axis='columns')"
      ],
      "execution_count": 140,
      "outputs": [
        {
          "output_type": "execute_result",
          "data": {
            "text/plain": [
              "0        0.000\n",
              "1       69.975\n",
              "2        9.925\n",
              "3      176.850\n",
              "4       81.225\n",
              "        ...   \n",
              "188    110.925\n",
              "189     29.000\n",
              "190      1.525\n",
              "191     14.375\n",
              "192     22.675\n",
              "Length: 193, dtype: float64"
            ]
          },
          "metadata": {
            "tags": []
          },
          "execution_count": 140
        }
      ]
    },
    {
      "cell_type": "code",
      "metadata": {
        "id": "syX8R_VItEJW",
        "colab_type": "code",
        "outputId": "6106bc10-556b-48f1-ce8a-909a55b2fa94",
        "colab": {
          "base_uri": "https://localhost:8080/",
          "height": 102
        }
      },
      "source": [
        "drinks.mean(axis='rows')"
      ],
      "execution_count": 141,
      "outputs": [
        {
          "output_type": "execute_result",
          "data": {
            "text/plain": [
              "beer_servings                   106.160622\n",
              "spirit_servings                  80.994819\n",
              "wine_servings                    49.450777\n",
              "total_litres_of_pure_alcohol      4.717098\n",
              "dtype: float64"
            ]
          },
          "metadata": {
            "tags": []
          },
          "execution_count": 141
        }
      ]
    },
    {
      "cell_type": "code",
      "metadata": {
        "id": "dtXLp_5XtHMe",
        "colab_type": "code",
        "colab": {}
      },
      "source": [
        "#Video 12 How do I use String methods in Python"
      ],
      "execution_count": 0,
      "outputs": []
    },
    {
      "cell_type": "code",
      "metadata": {
        "id": "De8eGH93tMke",
        "colab_type": "code",
        "outputId": "7300528e-441c-43d7-c1f6-aaa26659a68f",
        "colab": {
          "base_uri": "https://localhost:8080/",
          "height": 34
        }
      },
      "source": [
        "'hello'.upper()"
      ],
      "execution_count": 143,
      "outputs": [
        {
          "output_type": "execute_result",
          "data": {
            "text/plain": [
              "'HELLO'"
            ]
          },
          "metadata": {
            "tags": []
          },
          "execution_count": 143
        }
      ]
    },
    {
      "cell_type": "code",
      "metadata": {
        "id": "YCVJIkeNtPJ-",
        "colab_type": "code",
        "colab": {}
      },
      "source": [
        "orders = pd.read_table('http://bit.ly/chiporders')"
      ],
      "execution_count": 0,
      "outputs": []
    },
    {
      "cell_type": "code",
      "metadata": {
        "id": "me5J9MpWtZCe",
        "colab_type": "code",
        "outputId": "c9924d7b-3025-4b48-b3d8-b101b5337476",
        "colab": {
          "base_uri": "https://localhost:8080/",
          "height": 204
        }
      },
      "source": [
        "orders.head()"
      ],
      "execution_count": 145,
      "outputs": [
        {
          "output_type": "execute_result",
          "data": {
            "text/html": [
              "<div>\n",
              "<style scoped>\n",
              "    .dataframe tbody tr th:only-of-type {\n",
              "        vertical-align: middle;\n",
              "    }\n",
              "\n",
              "    .dataframe tbody tr th {\n",
              "        vertical-align: top;\n",
              "    }\n",
              "\n",
              "    .dataframe thead th {\n",
              "        text-align: right;\n",
              "    }\n",
              "</style>\n",
              "<table border=\"1\" class=\"dataframe\">\n",
              "  <thead>\n",
              "    <tr style=\"text-align: right;\">\n",
              "      <th></th>\n",
              "      <th>order_id</th>\n",
              "      <th>quantity</th>\n",
              "      <th>item_name</th>\n",
              "      <th>choice_description</th>\n",
              "      <th>item_price</th>\n",
              "    </tr>\n",
              "  </thead>\n",
              "  <tbody>\n",
              "    <tr>\n",
              "      <th>0</th>\n",
              "      <td>1</td>\n",
              "      <td>1</td>\n",
              "      <td>Chips and Fresh Tomato Salsa</td>\n",
              "      <td>NaN</td>\n",
              "      <td>$2.39</td>\n",
              "    </tr>\n",
              "    <tr>\n",
              "      <th>1</th>\n",
              "      <td>1</td>\n",
              "      <td>1</td>\n",
              "      <td>Izze</td>\n",
              "      <td>[Clementine]</td>\n",
              "      <td>$3.39</td>\n",
              "    </tr>\n",
              "    <tr>\n",
              "      <th>2</th>\n",
              "      <td>1</td>\n",
              "      <td>1</td>\n",
              "      <td>Nantucket Nectar</td>\n",
              "      <td>[Apple]</td>\n",
              "      <td>$3.39</td>\n",
              "    </tr>\n",
              "    <tr>\n",
              "      <th>3</th>\n",
              "      <td>1</td>\n",
              "      <td>1</td>\n",
              "      <td>Chips and Tomatillo-Green Chili Salsa</td>\n",
              "      <td>NaN</td>\n",
              "      <td>$2.39</td>\n",
              "    </tr>\n",
              "    <tr>\n",
              "      <th>4</th>\n",
              "      <td>2</td>\n",
              "      <td>2</td>\n",
              "      <td>Chicken Bowl</td>\n",
              "      <td>[Tomatillo-Red Chili Salsa (Hot), [Black Beans...</td>\n",
              "      <td>$16.98</td>\n",
              "    </tr>\n",
              "  </tbody>\n",
              "</table>\n",
              "</div>"
            ],
            "text/plain": [
              "   order_id  ...  item_price\n",
              "0         1  ...      $2.39 \n",
              "1         1  ...      $3.39 \n",
              "2         1  ...      $3.39 \n",
              "3         1  ...      $2.39 \n",
              "4         2  ...     $16.98 \n",
              "\n",
              "[5 rows x 5 columns]"
            ]
          },
          "metadata": {
            "tags": []
          },
          "execution_count": 145
        }
      ]
    },
    {
      "cell_type": "code",
      "metadata": {
        "id": "S4PL_rgotazG",
        "colab_type": "code",
        "outputId": "c7bdedbb-ca93-4c55-c082-75f6e89ac954",
        "colab": {
          "base_uri": "https://localhost:8080/",
          "height": 221
        }
      },
      "source": [
        "orders.item_name.str.upper() # convert all the item name to uppercase with.str"
      ],
      "execution_count": 146,
      "outputs": [
        {
          "output_type": "execute_result",
          "data": {
            "text/plain": [
              "0                CHIPS AND FRESH TOMATO SALSA\n",
              "1                                        IZZE\n",
              "2                            NANTUCKET NECTAR\n",
              "3       CHIPS AND TOMATILLO-GREEN CHILI SALSA\n",
              "4                                CHICKEN BOWL\n",
              "                        ...                  \n",
              "4617                            STEAK BURRITO\n",
              "4618                            STEAK BURRITO\n",
              "4619                       CHICKEN SALAD BOWL\n",
              "4620                       CHICKEN SALAD BOWL\n",
              "4621                       CHICKEN SALAD BOWL\n",
              "Name: item_name, Length: 4622, dtype: object"
            ]
          },
          "metadata": {
            "tags": []
          },
          "execution_count": 146
        }
      ]
    },
    {
      "cell_type": "code",
      "metadata": {
        "id": "JLUfeWQ-tjpW",
        "colab_type": "code",
        "outputId": "1ffc48a4-ea2f-46df-b378-e1e7307ce98e",
        "colab": {
          "base_uri": "https://localhost:8080/",
          "height": 221
        }
      },
      "source": [
        "orders.item_name.str.contains('Chicken')"
      ],
      "execution_count": 147,
      "outputs": [
        {
          "output_type": "execute_result",
          "data": {
            "text/plain": [
              "0       False\n",
              "1       False\n",
              "2       False\n",
              "3       False\n",
              "4        True\n",
              "        ...  \n",
              "4617    False\n",
              "4618    False\n",
              "4619     True\n",
              "4620     True\n",
              "4621     True\n",
              "Name: item_name, Length: 4622, dtype: bool"
            ]
          },
          "metadata": {
            "tags": []
          },
          "execution_count": 147
        }
      ]
    },
    {
      "cell_type": "code",
      "metadata": {
        "id": "5TxdLnNwtuou",
        "colab_type": "code",
        "colab": {}
      },
      "source": [
        "#Look at Panda API reference - String Handling "
      ],
      "execution_count": 0,
      "outputs": []
    },
    {
      "cell_type": "code",
      "metadata": {
        "id": "sUmO4sDIuAcs",
        "colab_type": "code",
        "outputId": "5b992896-b2bd-4989-8eeb-b5a5a94ccb44",
        "colab": {
          "base_uri": "https://localhost:8080/",
          "height": 221
        }
      },
      "source": [
        "orders.choice_description.str.replace('[', '')"
      ],
      "execution_count": 149,
      "outputs": [
        {
          "output_type": "execute_result",
          "data": {
            "text/plain": [
              "0                                                     NaN\n",
              "1                                             Clementine]\n",
              "2                                                  Apple]\n",
              "3                                                     NaN\n",
              "4       Tomatillo-Red Chili Salsa (Hot), Black Beans, ...\n",
              "                              ...                        \n",
              "4617    Fresh Tomato Salsa, Rice, Black Beans, Sour Cr...\n",
              "4618    Fresh Tomato Salsa, Rice, Sour Cream, Cheese, ...\n",
              "4619    Fresh Tomato Salsa, Fajita Vegetables, Pinto B...\n",
              "4620     Fresh Tomato Salsa, Fajita Vegetables, Lettuce]]\n",
              "4621    Fresh Tomato Salsa, Fajita Vegetables, Pinto B...\n",
              "Name: choice_description, Length: 4622, dtype: object"
            ]
          },
          "metadata": {
            "tags": []
          },
          "execution_count": 149
        }
      ]
    },
    {
      "cell_type": "code",
      "metadata": {
        "id": "iKsMzqP8uLMN",
        "colab_type": "code",
        "outputId": "e001e89c-851e-4bc4-e833-fc791d282068",
        "colab": {
          "base_uri": "https://localhost:8080/",
          "height": 221
        }
      },
      "source": [
        "orders.choice_description.str.replace('[', '').str.replace(']', '')"
      ],
      "execution_count": 150,
      "outputs": [
        {
          "output_type": "execute_result",
          "data": {
            "text/plain": [
              "0                                                     NaN\n",
              "1                                              Clementine\n",
              "2                                                   Apple\n",
              "3                                                     NaN\n",
              "4       Tomatillo-Red Chili Salsa (Hot), Black Beans, ...\n",
              "                              ...                        \n",
              "4617    Fresh Tomato Salsa, Rice, Black Beans, Sour Cr...\n",
              "4618    Fresh Tomato Salsa, Rice, Sour Cream, Cheese, ...\n",
              "4619    Fresh Tomato Salsa, Fajita Vegetables, Pinto B...\n",
              "4620       Fresh Tomato Salsa, Fajita Vegetables, Lettuce\n",
              "4621    Fresh Tomato Salsa, Fajita Vegetables, Pinto B...\n",
              "Name: choice_description, Length: 4622, dtype: object"
            ]
          },
          "metadata": {
            "tags": []
          },
          "execution_count": 150
        }
      ]
    },
    {
      "cell_type": "code",
      "metadata": {
        "id": "wvSQO0jVuS-B",
        "colab_type": "code",
        "outputId": "68568f78-ab38-4c80-a179-8c23207fe0d4",
        "colab": {
          "base_uri": "https://localhost:8080/",
          "height": 221
        }
      },
      "source": [
        "orders.choice_description.str.replace('[\\[\\]]', '')"
      ],
      "execution_count": 151,
      "outputs": [
        {
          "output_type": "execute_result",
          "data": {
            "text/plain": [
              "0                                                     NaN\n",
              "1                                              Clementine\n",
              "2                                                   Apple\n",
              "3                                                     NaN\n",
              "4       Tomatillo-Red Chili Salsa (Hot), Black Beans, ...\n",
              "                              ...                        \n",
              "4617    Fresh Tomato Salsa, Rice, Black Beans, Sour Cr...\n",
              "4618    Fresh Tomato Salsa, Rice, Sour Cream, Cheese, ...\n",
              "4619    Fresh Tomato Salsa, Fajita Vegetables, Pinto B...\n",
              "4620       Fresh Tomato Salsa, Fajita Vegetables, Lettuce\n",
              "4621    Fresh Tomato Salsa, Fajita Vegetables, Pinto B...\n",
              "Name: choice_description, Length: 4622, dtype: object"
            ]
          },
          "metadata": {
            "tags": []
          },
          "execution_count": 151
        }
      ]
    },
    {
      "cell_type": "code",
      "metadata": {
        "id": "3U-dCkT3t6tm",
        "colab_type": "code",
        "colab": {}
      },
      "source": [
        "#Video 13 How do I change the data type in a panda series?"
      ],
      "execution_count": 0,
      "outputs": []
    },
    {
      "cell_type": "code",
      "metadata": {
        "id": "TJzp3rh1unhS",
        "colab_type": "code",
        "colab": {}
      },
      "source": [
        "drinks = pd.read_csv('http://bit.ly/drinksbycountry')"
      ],
      "execution_count": 0,
      "outputs": []
    },
    {
      "cell_type": "code",
      "metadata": {
        "id": "8SMeuGSJuu2u",
        "colab_type": "code",
        "outputId": "936becc9-afca-426d-d9a4-5388682c232f",
        "colab": {
          "base_uri": "https://localhost:8080/",
          "height": 204
        }
      },
      "source": [
        "drinks.head()"
      ],
      "execution_count": 154,
      "outputs": [
        {
          "output_type": "execute_result",
          "data": {
            "text/html": [
              "<div>\n",
              "<style scoped>\n",
              "    .dataframe tbody tr th:only-of-type {\n",
              "        vertical-align: middle;\n",
              "    }\n",
              "\n",
              "    .dataframe tbody tr th {\n",
              "        vertical-align: top;\n",
              "    }\n",
              "\n",
              "    .dataframe thead th {\n",
              "        text-align: right;\n",
              "    }\n",
              "</style>\n",
              "<table border=\"1\" class=\"dataframe\">\n",
              "  <thead>\n",
              "    <tr style=\"text-align: right;\">\n",
              "      <th></th>\n",
              "      <th>country</th>\n",
              "      <th>beer_servings</th>\n",
              "      <th>spirit_servings</th>\n",
              "      <th>wine_servings</th>\n",
              "      <th>total_litres_of_pure_alcohol</th>\n",
              "      <th>continent</th>\n",
              "    </tr>\n",
              "  </thead>\n",
              "  <tbody>\n",
              "    <tr>\n",
              "      <th>0</th>\n",
              "      <td>Afghanistan</td>\n",
              "      <td>0</td>\n",
              "      <td>0</td>\n",
              "      <td>0</td>\n",
              "      <td>0.0</td>\n",
              "      <td>Asia</td>\n",
              "    </tr>\n",
              "    <tr>\n",
              "      <th>1</th>\n",
              "      <td>Albania</td>\n",
              "      <td>89</td>\n",
              "      <td>132</td>\n",
              "      <td>54</td>\n",
              "      <td>4.9</td>\n",
              "      <td>Europe</td>\n",
              "    </tr>\n",
              "    <tr>\n",
              "      <th>2</th>\n",
              "      <td>Algeria</td>\n",
              "      <td>25</td>\n",
              "      <td>0</td>\n",
              "      <td>14</td>\n",
              "      <td>0.7</td>\n",
              "      <td>Africa</td>\n",
              "    </tr>\n",
              "    <tr>\n",
              "      <th>3</th>\n",
              "      <td>Andorra</td>\n",
              "      <td>245</td>\n",
              "      <td>138</td>\n",
              "      <td>312</td>\n",
              "      <td>12.4</td>\n",
              "      <td>Europe</td>\n",
              "    </tr>\n",
              "    <tr>\n",
              "      <th>4</th>\n",
              "      <td>Angola</td>\n",
              "      <td>217</td>\n",
              "      <td>57</td>\n",
              "      <td>45</td>\n",
              "      <td>5.9</td>\n",
              "      <td>Africa</td>\n",
              "    </tr>\n",
              "  </tbody>\n",
              "</table>\n",
              "</div>"
            ],
            "text/plain": [
              "       country  beer_servings  ...  total_litres_of_pure_alcohol  continent\n",
              "0  Afghanistan              0  ...                           0.0       Asia\n",
              "1      Albania             89  ...                           4.9     Europe\n",
              "2      Algeria             25  ...                           0.7     Africa\n",
              "3      Andorra            245  ...                          12.4     Europe\n",
              "4       Angola            217  ...                           5.9     Africa\n",
              "\n",
              "[5 rows x 6 columns]"
            ]
          },
          "metadata": {
            "tags": []
          },
          "execution_count": 154
        }
      ]
    },
    {
      "cell_type": "code",
      "metadata": {
        "id": "1R-wK1FDuxD1",
        "colab_type": "code",
        "outputId": "d3216b12-299c-4576-d18d-9b4983dfd989",
        "colab": {
          "base_uri": "https://localhost:8080/",
          "height": 136
        }
      },
      "source": [
        "drinks.dtypes #object are strings in panda"
      ],
      "execution_count": 155,
      "outputs": [
        {
          "output_type": "execute_result",
          "data": {
            "text/plain": [
              "country                          object\n",
              "beer_servings                     int64\n",
              "spirit_servings                   int64\n",
              "wine_servings                     int64\n",
              "total_litres_of_pure_alcohol    float64\n",
              "continent                        object\n",
              "dtype: object"
            ]
          },
          "metadata": {
            "tags": []
          },
          "execution_count": 155
        }
      ]
    },
    {
      "cell_type": "code",
      "metadata": {
        "id": "8pqd7q6euzcm",
        "colab_type": "code",
        "colab": {}
      },
      "source": [
        "drinks['beer_servings'] = drinks.beer_servings.astype(float)"
      ],
      "execution_count": 0,
      "outputs": []
    },
    {
      "cell_type": "code",
      "metadata": {
        "id": "Jd1-vW2bvESW",
        "colab_type": "code",
        "outputId": "e3f909b4-b284-4d12-f99d-827e02e7a354",
        "colab": {
          "base_uri": "https://localhost:8080/",
          "height": 136
        }
      },
      "source": [
        "drinks.dtypes"
      ],
      "execution_count": 157,
      "outputs": [
        {
          "output_type": "execute_result",
          "data": {
            "text/plain": [
              "country                          object\n",
              "beer_servings                   float64\n",
              "spirit_servings                   int64\n",
              "wine_servings                     int64\n",
              "total_litres_of_pure_alcohol    float64\n",
              "continent                        object\n",
              "dtype: object"
            ]
          },
          "metadata": {
            "tags": []
          },
          "execution_count": 157
        }
      ]
    },
    {
      "cell_type": "code",
      "metadata": {
        "id": "JwzeC1Cvv35t",
        "colab_type": "code",
        "colab": {}
      },
      "source": [
        "drinks = pd.read_csv('http://bit.ly/drinksbycountry', dtype = {'beer_servings': float})"
      ],
      "execution_count": 0,
      "outputs": []
    },
    {
      "cell_type": "code",
      "metadata": {
        "id": "HBt-UwiewMrd",
        "colab_type": "code",
        "outputId": "ca84ada1-88a6-4b28-9d72-c31f62bc3a16",
        "colab": {
          "base_uri": "https://localhost:8080/",
          "height": 136
        }
      },
      "source": [
        "drinks.dtypes"
      ],
      "execution_count": 159,
      "outputs": [
        {
          "output_type": "execute_result",
          "data": {
            "text/plain": [
              "country                          object\n",
              "beer_servings                   float64\n",
              "spirit_servings                   int64\n",
              "wine_servings                     int64\n",
              "total_litres_of_pure_alcohol    float64\n",
              "continent                        object\n",
              "dtype: object"
            ]
          },
          "metadata": {
            "tags": []
          },
          "execution_count": 159
        }
      ]
    },
    {
      "cell_type": "code",
      "metadata": {
        "id": "vq9az1C8wO3F",
        "colab_type": "code",
        "colab": {}
      },
      "source": [
        "orders = pd.read_table('http://bit.ly/chiporders')"
      ],
      "execution_count": 0,
      "outputs": []
    },
    {
      "cell_type": "code",
      "metadata": {
        "id": "iTQlax4hwYWt",
        "colab_type": "code",
        "outputId": "fc425b8a-b82c-43e9-db29-62a78fbc8b30",
        "colab": {
          "base_uri": "https://localhost:8080/",
          "height": 204
        }
      },
      "source": [
        "orders.head()"
      ],
      "execution_count": 161,
      "outputs": [
        {
          "output_type": "execute_result",
          "data": {
            "text/html": [
              "<div>\n",
              "<style scoped>\n",
              "    .dataframe tbody tr th:only-of-type {\n",
              "        vertical-align: middle;\n",
              "    }\n",
              "\n",
              "    .dataframe tbody tr th {\n",
              "        vertical-align: top;\n",
              "    }\n",
              "\n",
              "    .dataframe thead th {\n",
              "        text-align: right;\n",
              "    }\n",
              "</style>\n",
              "<table border=\"1\" class=\"dataframe\">\n",
              "  <thead>\n",
              "    <tr style=\"text-align: right;\">\n",
              "      <th></th>\n",
              "      <th>order_id</th>\n",
              "      <th>quantity</th>\n",
              "      <th>item_name</th>\n",
              "      <th>choice_description</th>\n",
              "      <th>item_price</th>\n",
              "    </tr>\n",
              "  </thead>\n",
              "  <tbody>\n",
              "    <tr>\n",
              "      <th>0</th>\n",
              "      <td>1</td>\n",
              "      <td>1</td>\n",
              "      <td>Chips and Fresh Tomato Salsa</td>\n",
              "      <td>NaN</td>\n",
              "      <td>$2.39</td>\n",
              "    </tr>\n",
              "    <tr>\n",
              "      <th>1</th>\n",
              "      <td>1</td>\n",
              "      <td>1</td>\n",
              "      <td>Izze</td>\n",
              "      <td>[Clementine]</td>\n",
              "      <td>$3.39</td>\n",
              "    </tr>\n",
              "    <tr>\n",
              "      <th>2</th>\n",
              "      <td>1</td>\n",
              "      <td>1</td>\n",
              "      <td>Nantucket Nectar</td>\n",
              "      <td>[Apple]</td>\n",
              "      <td>$3.39</td>\n",
              "    </tr>\n",
              "    <tr>\n",
              "      <th>3</th>\n",
              "      <td>1</td>\n",
              "      <td>1</td>\n",
              "      <td>Chips and Tomatillo-Green Chili Salsa</td>\n",
              "      <td>NaN</td>\n",
              "      <td>$2.39</td>\n",
              "    </tr>\n",
              "    <tr>\n",
              "      <th>4</th>\n",
              "      <td>2</td>\n",
              "      <td>2</td>\n",
              "      <td>Chicken Bowl</td>\n",
              "      <td>[Tomatillo-Red Chili Salsa (Hot), [Black Beans...</td>\n",
              "      <td>$16.98</td>\n",
              "    </tr>\n",
              "  </tbody>\n",
              "</table>\n",
              "</div>"
            ],
            "text/plain": [
              "   order_id  ...  item_price\n",
              "0         1  ...      $2.39 \n",
              "1         1  ...      $3.39 \n",
              "2         1  ...      $3.39 \n",
              "3         1  ...      $2.39 \n",
              "4         2  ...     $16.98 \n",
              "\n",
              "[5 rows x 5 columns]"
            ]
          },
          "metadata": {
            "tags": []
          },
          "execution_count": 161
        }
      ]
    },
    {
      "cell_type": "code",
      "metadata": {
        "id": "TOVBdaPhwadl",
        "colab_type": "code",
        "outputId": "e4bd6a75-f723-4a4f-a6dc-70ce54b1bef8",
        "colab": {
          "base_uri": "https://localhost:8080/",
          "height": 119
        }
      },
      "source": [
        "orders.dtypes"
      ],
      "execution_count": 162,
      "outputs": [
        {
          "output_type": "execute_result",
          "data": {
            "text/plain": [
              "order_id               int64\n",
              "quantity               int64\n",
              "item_name             object\n",
              "choice_description    object\n",
              "item_price            object\n",
              "dtype: object"
            ]
          },
          "metadata": {
            "tags": []
          },
          "execution_count": 162
        }
      ]
    },
    {
      "cell_type": "code",
      "metadata": {
        "id": "9Sauz136wdj0",
        "colab_type": "code",
        "outputId": "d001b2e2-06fb-458c-b503-1b99ed5aa471",
        "colab": {
          "base_uri": "https://localhost:8080/",
          "height": 34
        }
      },
      "source": [
        "orders.item_price.str.replace('$', ' ').astype(float).mean() #cast it as a float before preforming math"
      ],
      "execution_count": 163,
      "outputs": [
        {
          "output_type": "execute_result",
          "data": {
            "text/plain": [
              "7.464335785374397"
            ]
          },
          "metadata": {
            "tags": []
          },
          "execution_count": 163
        }
      ]
    },
    {
      "cell_type": "code",
      "metadata": {
        "id": "Ux3vI_GZwlDF",
        "colab_type": "code",
        "outputId": "c2a9c273-9977-4518-9dc7-f8c805cbc8df",
        "colab": {
          "base_uri": "https://localhost:8080/",
          "height": 119
        }
      },
      "source": [
        "orders.item_name.str.contains('Chicken').head()"
      ],
      "execution_count": 164,
      "outputs": [
        {
          "output_type": "execute_result",
          "data": {
            "text/plain": [
              "0    False\n",
              "1    False\n",
              "2    False\n",
              "3    False\n",
              "4     True\n",
              "Name: item_name, dtype: bool"
            ]
          },
          "metadata": {
            "tags": []
          },
          "execution_count": 164
        }
      ]
    },
    {
      "cell_type": "code",
      "metadata": {
        "id": "7mOscZuhw3ml",
        "colab_type": "code",
        "outputId": "05738686-cd9c-406a-d7ac-fd3a8cacdfb9",
        "colab": {
          "base_uri": "https://localhost:8080/",
          "height": 119
        }
      },
      "source": [
        "orders.item_name.str.contains('Chicken').astype(int).head()"
      ],
      "execution_count": 165,
      "outputs": [
        {
          "output_type": "execute_result",
          "data": {
            "text/plain": [
              "0    0\n",
              "1    0\n",
              "2    0\n",
              "3    0\n",
              "4    1\n",
              "Name: item_name, dtype: int64"
            ]
          },
          "metadata": {
            "tags": []
          },
          "execution_count": 165
        }
      ]
    },
    {
      "cell_type": "code",
      "metadata": {
        "id": "L8JL7a4jw-yV",
        "colab_type": "code",
        "colab": {}
      },
      "source": [
        "#Video 14 When should I use \"groupby\" in pandas?"
      ],
      "execution_count": 0,
      "outputs": []
    },
    {
      "cell_type": "code",
      "metadata": {
        "id": "5nWTEaZexO0U",
        "colab_type": "code",
        "colab": {}
      },
      "source": [
        "drinks = pd.read_csv('http://bit.ly/drinksbycountry')"
      ],
      "execution_count": 0,
      "outputs": []
    },
    {
      "cell_type": "code",
      "metadata": {
        "id": "60Dog3Ezxbsc",
        "colab_type": "code",
        "outputId": "63c47dc4-0375-4571-c751-a6bc234a2808",
        "colab": {
          "base_uri": "https://localhost:8080/",
          "height": 204
        }
      },
      "source": [
        "drinks.head()"
      ],
      "execution_count": 168,
      "outputs": [
        {
          "output_type": "execute_result",
          "data": {
            "text/html": [
              "<div>\n",
              "<style scoped>\n",
              "    .dataframe tbody tr th:only-of-type {\n",
              "        vertical-align: middle;\n",
              "    }\n",
              "\n",
              "    .dataframe tbody tr th {\n",
              "        vertical-align: top;\n",
              "    }\n",
              "\n",
              "    .dataframe thead th {\n",
              "        text-align: right;\n",
              "    }\n",
              "</style>\n",
              "<table border=\"1\" class=\"dataframe\">\n",
              "  <thead>\n",
              "    <tr style=\"text-align: right;\">\n",
              "      <th></th>\n",
              "      <th>country</th>\n",
              "      <th>beer_servings</th>\n",
              "      <th>spirit_servings</th>\n",
              "      <th>wine_servings</th>\n",
              "      <th>total_litres_of_pure_alcohol</th>\n",
              "      <th>continent</th>\n",
              "    </tr>\n",
              "  </thead>\n",
              "  <tbody>\n",
              "    <tr>\n",
              "      <th>0</th>\n",
              "      <td>Afghanistan</td>\n",
              "      <td>0</td>\n",
              "      <td>0</td>\n",
              "      <td>0</td>\n",
              "      <td>0.0</td>\n",
              "      <td>Asia</td>\n",
              "    </tr>\n",
              "    <tr>\n",
              "      <th>1</th>\n",
              "      <td>Albania</td>\n",
              "      <td>89</td>\n",
              "      <td>132</td>\n",
              "      <td>54</td>\n",
              "      <td>4.9</td>\n",
              "      <td>Europe</td>\n",
              "    </tr>\n",
              "    <tr>\n",
              "      <th>2</th>\n",
              "      <td>Algeria</td>\n",
              "      <td>25</td>\n",
              "      <td>0</td>\n",
              "      <td>14</td>\n",
              "      <td>0.7</td>\n",
              "      <td>Africa</td>\n",
              "    </tr>\n",
              "    <tr>\n",
              "      <th>3</th>\n",
              "      <td>Andorra</td>\n",
              "      <td>245</td>\n",
              "      <td>138</td>\n",
              "      <td>312</td>\n",
              "      <td>12.4</td>\n",
              "      <td>Europe</td>\n",
              "    </tr>\n",
              "    <tr>\n",
              "      <th>4</th>\n",
              "      <td>Angola</td>\n",
              "      <td>217</td>\n",
              "      <td>57</td>\n",
              "      <td>45</td>\n",
              "      <td>5.9</td>\n",
              "      <td>Africa</td>\n",
              "    </tr>\n",
              "  </tbody>\n",
              "</table>\n",
              "</div>"
            ],
            "text/plain": [
              "       country  beer_servings  ...  total_litres_of_pure_alcohol  continent\n",
              "0  Afghanistan              0  ...                           0.0       Asia\n",
              "1      Albania             89  ...                           4.9     Europe\n",
              "2      Algeria             25  ...                           0.7     Africa\n",
              "3      Andorra            245  ...                          12.4     Europe\n",
              "4       Angola            217  ...                           5.9     Africa\n",
              "\n",
              "[5 rows x 6 columns]"
            ]
          },
          "metadata": {
            "tags": []
          },
          "execution_count": 168
        }
      ]
    },
    {
      "cell_type": "code",
      "metadata": {
        "id": "GphH4ALwxhA1",
        "colab_type": "code",
        "outputId": "b7446cc1-f889-4363-e91a-c04a9620b6d1",
        "colab": {
          "base_uri": "https://localhost:8080/",
          "height": 34
        }
      },
      "source": [
        "drinks.beer_servings.mean()"
      ],
      "execution_count": 169,
      "outputs": [
        {
          "output_type": "execute_result",
          "data": {
            "text/plain": [
              "106.16062176165804"
            ]
          },
          "metadata": {
            "tags": []
          },
          "execution_count": 169
        }
      ]
    },
    {
      "cell_type": "code",
      "metadata": {
        "id": "6XxaWHkwxj4M",
        "colab_type": "code",
        "outputId": "b56f7c8c-0cd9-4e9d-803d-5639e7c1afab",
        "colab": {
          "base_uri": "https://localhost:8080/",
          "height": 153
        }
      },
      "source": [
        "drinks.groupby('continent').beer_servings.mean()"
      ],
      "execution_count": 170,
      "outputs": [
        {
          "output_type": "execute_result",
          "data": {
            "text/plain": [
              "continent\n",
              "Africa            61.471698\n",
              "Asia              37.045455\n",
              "Europe           193.777778\n",
              "North America    145.434783\n",
              "Oceania           89.687500\n",
              "South America    175.083333\n",
              "Name: beer_servings, dtype: float64"
            ]
          },
          "metadata": {
            "tags": []
          },
          "execution_count": 170
        }
      ]
    },
    {
      "cell_type": "code",
      "metadata": {
        "id": "B03ILFQ7xtIl",
        "colab_type": "code",
        "outputId": "87944d0c-610c-440c-9e01-4d002309d882",
        "colab": {
          "base_uri": "https://localhost:8080/",
          "height": 34
        }
      },
      "source": [
        "drinks[drinks.continent=='Africa'].beer_servings.mean()"
      ],
      "execution_count": 171,
      "outputs": [
        {
          "output_type": "execute_result",
          "data": {
            "text/plain": [
              "61.471698113207545"
            ]
          },
          "metadata": {
            "tags": []
          },
          "execution_count": 171
        }
      ]
    },
    {
      "cell_type": "code",
      "metadata": {
        "id": "QAcrdQaByDUE",
        "colab_type": "code",
        "outputId": "a915bf41-16ad-4782-a254-a871730a9a62",
        "colab": {
          "base_uri": "https://localhost:8080/",
          "height": 34
        }
      },
      "source": [
        "drinks[drinks.continent=='Asia'].beer_servings.mean()"
      ],
      "execution_count": 172,
      "outputs": [
        {
          "output_type": "execute_result",
          "data": {
            "text/plain": [
              "37.04545454545455"
            ]
          },
          "metadata": {
            "tags": []
          },
          "execution_count": 172
        }
      ]
    },
    {
      "cell_type": "code",
      "metadata": {
        "id": "x4ymqbUOyHK7",
        "colab_type": "code",
        "outputId": "84a38b98-c616-4517-b8ad-65c2c1479299",
        "colab": {
          "base_uri": "https://localhost:8080/",
          "height": 34
        }
      },
      "source": [
        "drinks[drinks.continent=='Europe'].beer_servings.mean()"
      ],
      "execution_count": 173,
      "outputs": [
        {
          "output_type": "execute_result",
          "data": {
            "text/plain": [
              "193.77777777777777"
            ]
          },
          "metadata": {
            "tags": []
          },
          "execution_count": 173
        }
      ]
    },
    {
      "cell_type": "code",
      "metadata": {
        "id": "vGd_OCAfyK69",
        "colab_type": "code",
        "outputId": "8be92c75-dd39-4f14-c9e8-6682969ea608",
        "colab": {
          "base_uri": "https://localhost:8080/",
          "height": 153
        }
      },
      "source": [
        "drinks.groupby('continent').beer_servings.max()"
      ],
      "execution_count": 174,
      "outputs": [
        {
          "output_type": "execute_result",
          "data": {
            "text/plain": [
              "continent\n",
              "Africa           376\n",
              "Asia             247\n",
              "Europe           361\n",
              "North America    285\n",
              "Oceania          306\n",
              "South America    333\n",
              "Name: beer_servings, dtype: int64"
            ]
          },
          "metadata": {
            "tags": []
          },
          "execution_count": 174
        }
      ]
    },
    {
      "cell_type": "code",
      "metadata": {
        "id": "OpEVE6GYyP46",
        "colab_type": "code",
        "outputId": "3a99d023-960e-4dd4-d7fb-d7c44e3f5aa2",
        "colab": {
          "base_uri": "https://localhost:8080/",
          "height": 153
        }
      },
      "source": [
        "drinks.groupby('continent').beer_servings.min()"
      ],
      "execution_count": 175,
      "outputs": [
        {
          "output_type": "execute_result",
          "data": {
            "text/plain": [
              "continent\n",
              "Africa            0\n",
              "Asia              0\n",
              "Europe            0\n",
              "North America     1\n",
              "Oceania           0\n",
              "South America    93\n",
              "Name: beer_servings, dtype: int64"
            ]
          },
          "metadata": {
            "tags": []
          },
          "execution_count": 175
        }
      ]
    },
    {
      "cell_type": "code",
      "metadata": {
        "id": "SYabgpZGyP1u",
        "colab_type": "code",
        "outputId": "16d6f860-fd66-4150-92a2-ba829aede85f",
        "colab": {
          "base_uri": "https://localhost:8080/",
          "height": 266
        }
      },
      "source": [
        "drinks.groupby('continent').beer_servings.agg(['count','min', 'max', 'mean'])"
      ],
      "execution_count": 176,
      "outputs": [
        {
          "output_type": "execute_result",
          "data": {
            "text/html": [
              "<div>\n",
              "<style scoped>\n",
              "    .dataframe tbody tr th:only-of-type {\n",
              "        vertical-align: middle;\n",
              "    }\n",
              "\n",
              "    .dataframe tbody tr th {\n",
              "        vertical-align: top;\n",
              "    }\n",
              "\n",
              "    .dataframe thead th {\n",
              "        text-align: right;\n",
              "    }\n",
              "</style>\n",
              "<table border=\"1\" class=\"dataframe\">\n",
              "  <thead>\n",
              "    <tr style=\"text-align: right;\">\n",
              "      <th></th>\n",
              "      <th>count</th>\n",
              "      <th>min</th>\n",
              "      <th>max</th>\n",
              "      <th>mean</th>\n",
              "    </tr>\n",
              "    <tr>\n",
              "      <th>continent</th>\n",
              "      <th></th>\n",
              "      <th></th>\n",
              "      <th></th>\n",
              "      <th></th>\n",
              "    </tr>\n",
              "  </thead>\n",
              "  <tbody>\n",
              "    <tr>\n",
              "      <th>Africa</th>\n",
              "      <td>53</td>\n",
              "      <td>0</td>\n",
              "      <td>376</td>\n",
              "      <td>61.471698</td>\n",
              "    </tr>\n",
              "    <tr>\n",
              "      <th>Asia</th>\n",
              "      <td>44</td>\n",
              "      <td>0</td>\n",
              "      <td>247</td>\n",
              "      <td>37.045455</td>\n",
              "    </tr>\n",
              "    <tr>\n",
              "      <th>Europe</th>\n",
              "      <td>45</td>\n",
              "      <td>0</td>\n",
              "      <td>361</td>\n",
              "      <td>193.777778</td>\n",
              "    </tr>\n",
              "    <tr>\n",
              "      <th>North America</th>\n",
              "      <td>23</td>\n",
              "      <td>1</td>\n",
              "      <td>285</td>\n",
              "      <td>145.434783</td>\n",
              "    </tr>\n",
              "    <tr>\n",
              "      <th>Oceania</th>\n",
              "      <td>16</td>\n",
              "      <td>0</td>\n",
              "      <td>306</td>\n",
              "      <td>89.687500</td>\n",
              "    </tr>\n",
              "    <tr>\n",
              "      <th>South America</th>\n",
              "      <td>12</td>\n",
              "      <td>93</td>\n",
              "      <td>333</td>\n",
              "      <td>175.083333</td>\n",
              "    </tr>\n",
              "  </tbody>\n",
              "</table>\n",
              "</div>"
            ],
            "text/plain": [
              "               count  min  max        mean\n",
              "continent                                 \n",
              "Africa            53    0  376   61.471698\n",
              "Asia              44    0  247   37.045455\n",
              "Europe            45    0  361  193.777778\n",
              "North America     23    1  285  145.434783\n",
              "Oceania           16    0  306   89.687500\n",
              "South America     12   93  333  175.083333"
            ]
          },
          "metadata": {
            "tags": []
          },
          "execution_count": 176
        }
      ]
    },
    {
      "cell_type": "code",
      "metadata": {
        "id": "BuMI1mU6ysX7",
        "colab_type": "code",
        "outputId": "176c4683-7c30-4d84-84f6-cdfebf4fcb32",
        "colab": {
          "base_uri": "https://localhost:8080/",
          "height": 266
        }
      },
      "source": [
        "drinks.groupby('continent').mean()"
      ],
      "execution_count": 177,
      "outputs": [
        {
          "output_type": "execute_result",
          "data": {
            "text/html": [
              "<div>\n",
              "<style scoped>\n",
              "    .dataframe tbody tr th:only-of-type {\n",
              "        vertical-align: middle;\n",
              "    }\n",
              "\n",
              "    .dataframe tbody tr th {\n",
              "        vertical-align: top;\n",
              "    }\n",
              "\n",
              "    .dataframe thead th {\n",
              "        text-align: right;\n",
              "    }\n",
              "</style>\n",
              "<table border=\"1\" class=\"dataframe\">\n",
              "  <thead>\n",
              "    <tr style=\"text-align: right;\">\n",
              "      <th></th>\n",
              "      <th>beer_servings</th>\n",
              "      <th>spirit_servings</th>\n",
              "      <th>wine_servings</th>\n",
              "      <th>total_litres_of_pure_alcohol</th>\n",
              "    </tr>\n",
              "    <tr>\n",
              "      <th>continent</th>\n",
              "      <th></th>\n",
              "      <th></th>\n",
              "      <th></th>\n",
              "      <th></th>\n",
              "    </tr>\n",
              "  </thead>\n",
              "  <tbody>\n",
              "    <tr>\n",
              "      <th>Africa</th>\n",
              "      <td>61.471698</td>\n",
              "      <td>16.339623</td>\n",
              "      <td>16.264151</td>\n",
              "      <td>3.007547</td>\n",
              "    </tr>\n",
              "    <tr>\n",
              "      <th>Asia</th>\n",
              "      <td>37.045455</td>\n",
              "      <td>60.840909</td>\n",
              "      <td>9.068182</td>\n",
              "      <td>2.170455</td>\n",
              "    </tr>\n",
              "    <tr>\n",
              "      <th>Europe</th>\n",
              "      <td>193.777778</td>\n",
              "      <td>132.555556</td>\n",
              "      <td>142.222222</td>\n",
              "      <td>8.617778</td>\n",
              "    </tr>\n",
              "    <tr>\n",
              "      <th>North America</th>\n",
              "      <td>145.434783</td>\n",
              "      <td>165.739130</td>\n",
              "      <td>24.521739</td>\n",
              "      <td>5.995652</td>\n",
              "    </tr>\n",
              "    <tr>\n",
              "      <th>Oceania</th>\n",
              "      <td>89.687500</td>\n",
              "      <td>58.437500</td>\n",
              "      <td>35.625000</td>\n",
              "      <td>3.381250</td>\n",
              "    </tr>\n",
              "    <tr>\n",
              "      <th>South America</th>\n",
              "      <td>175.083333</td>\n",
              "      <td>114.750000</td>\n",
              "      <td>62.416667</td>\n",
              "      <td>6.308333</td>\n",
              "    </tr>\n",
              "  </tbody>\n",
              "</table>\n",
              "</div>"
            ],
            "text/plain": [
              "               beer_servings  ...  total_litres_of_pure_alcohol\n",
              "continent                     ...                              \n",
              "Africa             61.471698  ...                      3.007547\n",
              "Asia               37.045455  ...                      2.170455\n",
              "Europe            193.777778  ...                      8.617778\n",
              "North America     145.434783  ...                      5.995652\n",
              "Oceania            89.687500  ...                      3.381250\n",
              "South America     175.083333  ...                      6.308333\n",
              "\n",
              "[6 rows x 4 columns]"
            ]
          },
          "metadata": {
            "tags": []
          },
          "execution_count": 177
        }
      ]
    },
    {
      "cell_type": "code",
      "metadata": {
        "id": "axby45-oysSP",
        "colab_type": "code",
        "colab": {}
      },
      "source": [
        "%matplotlib inline"
      ],
      "execution_count": 0,
      "outputs": []
    },
    {
      "cell_type": "code",
      "metadata": {
        "id": "qLj54UwYysO0",
        "colab_type": "code",
        "outputId": "e6724b71-79d2-4284-99a2-38fea2042afc",
        "colab": {
          "base_uri": "https://localhost:8080/",
          "height": 360
        }
      },
      "source": [
        "drinks.groupby('continent').mean().plot(kind = 'bar')"
      ],
      "execution_count": 179,
      "outputs": [
        {
          "output_type": "execute_result",
          "data": {
            "text/plain": [
              "<matplotlib.axes._subplots.AxesSubplot at 0x7fc858033898>"
            ]
          },
          "metadata": {
            "tags": []
          },
          "execution_count": 179
        },
        {
          "output_type": "display_data",
          "data": {
            "image/png": "[encoded data removed]",
            "text/plain": [
              "<Figure size 432x288 with 1 Axes>"
            ]
          },
          "metadata": {
            "tags": [],
            "needs_background": "light"
          }
        }
      ]
    },
    {
      "cell_type": "code",
      "metadata": {
        "id": "bdKhI-EKyPx7",
        "colab_type": "code",
        "colab": {}
      },
      "source": [
        "#Video 15 How do I explore a panda series? "
      ],
      "execution_count": 0,
      "outputs": []
    },
    {
      "cell_type": "code",
      "metadata": {
        "id": "klCIy-kbzKTM",
        "colab_type": "code",
        "colab": {}
      },
      "source": [
        "movies = pd.read_csv('http://bit.ly/imdbratings')"
      ],
      "execution_count": 0,
      "outputs": []
    },
    {
      "cell_type": "code",
      "metadata": {
        "id": "Y6lPDaGFzcdE",
        "colab_type": "code",
        "outputId": "35f95343-83f0-4b05-d746-7c00bb216daf",
        "colab": {
          "base_uri": "https://localhost:8080/",
          "height": 204
        }
      },
      "source": [
        "movies.head()"
      ],
      "execution_count": 182,
      "outputs": [
        {
          "output_type": "execute_result",
          "data": {
            "text/html": [
              "<div>\n",
              "<style scoped>\n",
              "    .dataframe tbody tr th:only-of-type {\n",
              "        vertical-align: middle;\n",
              "    }\n",
              "\n",
              "    .dataframe tbody tr th {\n",
              "        vertical-align: top;\n",
              "    }\n",
              "\n",
              "    .dataframe thead th {\n",
              "        text-align: right;\n",
              "    }\n",
              "</style>\n",
              "<table border=\"1\" class=\"dataframe\">\n",
              "  <thead>\n",
              "    <tr style=\"text-align: right;\">\n",
              "      <th></th>\n",
              "      <th>star_rating</th>\n",
              "      <th>title</th>\n",
              "      <th>content_rating</th>\n",
              "      <th>genre</th>\n",
              "      <th>duration</th>\n",
              "      <th>actors_list</th>\n",
              "    </tr>\n",
              "  </thead>\n",
              "  <tbody>\n",
              "    <tr>\n",
              "      <th>0</th>\n",
              "      <td>9.3</td>\n",
              "      <td>The Shawshank Redemption</td>\n",
              "      <td>R</td>\n",
              "      <td>Crime</td>\n",
              "      <td>142</td>\n",
              "      <td>[u'Tim Robbins', u'Morgan Freeman', u'Bob Gunt...</td>\n",
              "    </tr>\n",
              "    <tr>\n",
              "      <th>1</th>\n",
              "      <td>9.2</td>\n",
              "      <td>The Godfather</td>\n",
              "      <td>R</td>\n",
              "      <td>Crime</td>\n",
              "      <td>175</td>\n",
              "      <td>[u'Marlon Brando', u'Al Pacino', u'James Caan']</td>\n",
              "    </tr>\n",
              "    <tr>\n",
              "      <th>2</th>\n",
              "      <td>9.1</td>\n",
              "      <td>The Godfather: Part II</td>\n",
              "      <td>R</td>\n",
              "      <td>Crime</td>\n",
              "      <td>200</td>\n",
              "      <td>[u'Al Pacino', u'Robert De Niro', u'Robert Duv...</td>\n",
              "    </tr>\n",
              "    <tr>\n",
              "      <th>3</th>\n",
              "      <td>9.0</td>\n",
              "      <td>The Dark Knight</td>\n",
              "      <td>PG-13</td>\n",
              "      <td>Action</td>\n",
              "      <td>152</td>\n",
              "      <td>[u'Christian Bale', u'Heath Ledger', u'Aaron E...</td>\n",
              "    </tr>\n",
              "    <tr>\n",
              "      <th>4</th>\n",
              "      <td>8.9</td>\n",
              "      <td>Pulp Fiction</td>\n",
              "      <td>R</td>\n",
              "      <td>Crime</td>\n",
              "      <td>154</td>\n",
              "      <td>[u'John Travolta', u'Uma Thurman', u'Samuel L....</td>\n",
              "    </tr>\n",
              "  </tbody>\n",
              "</table>\n",
              "</div>"
            ],
            "text/plain": [
              "   star_rating  ...                                        actors_list\n",
              "0          9.3  ...  [u'Tim Robbins', u'Morgan Freeman', u'Bob Gunt...\n",
              "1          9.2  ...    [u'Marlon Brando', u'Al Pacino', u'James Caan']\n",
              "2          9.1  ...  [u'Al Pacino', u'Robert De Niro', u'Robert Duv...\n",
              "3          9.0  ...  [u'Christian Bale', u'Heath Ledger', u'Aaron E...\n",
              "4          8.9  ...  [u'John Travolta', u'Uma Thurman', u'Samuel L....\n",
              "\n",
              "[5 rows x 6 columns]"
            ]
          },
          "metadata": {
            "tags": []
          },
          "execution_count": 182
        }
      ]
    },
    {
      "cell_type": "code",
      "metadata": {
        "id": "RtUVfEv5zgfM",
        "colab_type": "code",
        "outputId": "542bed13-0066-4659-c4c1-c59e7e331fce",
        "colab": {
          "base_uri": "https://localhost:8080/",
          "height": 136
        }
      },
      "source": [
        "movies.dtypes"
      ],
      "execution_count": 183,
      "outputs": [
        {
          "output_type": "execute_result",
          "data": {
            "text/plain": [
              "star_rating       float64\n",
              "title              object\n",
              "content_rating     object\n",
              "genre              object\n",
              "duration            int64\n",
              "actors_list        object\n",
              "dtype: object"
            ]
          },
          "metadata": {
            "tags": []
          },
          "execution_count": 183
        }
      ]
    },
    {
      "cell_type": "code",
      "metadata": {
        "id": "Ij_HmqpEziYI",
        "colab_type": "code",
        "outputId": "b99cb4f4-488f-4e10-9d7a-26cc61c8e3ac",
        "colab": {
          "base_uri": "https://localhost:8080/",
          "height": 102
        }
      },
      "source": [
        "movies.genre.describe()"
      ],
      "execution_count": 184,
      "outputs": [
        {
          "output_type": "execute_result",
          "data": {
            "text/plain": [
              "count       979\n",
              "unique       16\n",
              "top       Drama\n",
              "freq        278\n",
              "Name: genre, dtype: object"
            ]
          },
          "metadata": {
            "tags": []
          },
          "execution_count": 184
        }
      ]
    },
    {
      "cell_type": "code",
      "metadata": {
        "id": "0QGYXRuCzo18",
        "colab_type": "code",
        "outputId": "b8ad9160-ae4b-4dae-fad2-aa68bb9d57b3",
        "colab": {
          "base_uri": "https://localhost:8080/",
          "height": 306
        }
      },
      "source": [
        "movies.genre.value_counts()"
      ],
      "execution_count": 185,
      "outputs": [
        {
          "output_type": "execute_result",
          "data": {
            "text/plain": [
              "Drama        278\n",
              "Comedy       156\n",
              "Action       136\n",
              "Crime        124\n",
              "Biography     77\n",
              "Adventure     75\n",
              "Animation     62\n",
              "Horror        29\n",
              "Mystery       16\n",
              "Western        9\n",
              "Thriller       5\n",
              "Sci-Fi         5\n",
              "Film-Noir      3\n",
              "Family         2\n",
              "Fantasy        1\n",
              "History        1\n",
              "Name: genre, dtype: int64"
            ]
          },
          "metadata": {
            "tags": []
          },
          "execution_count": 185
        }
      ]
    },
    {
      "cell_type": "code",
      "metadata": {
        "id": "gzJPGzjXz4bd",
        "colab_type": "code",
        "outputId": "26c3b581-0681-42ed-a4f5-4e5d4381cef5",
        "colab": {
          "base_uri": "https://localhost:8080/",
          "height": 306
        }
      },
      "source": [
        "movies.genre.value_counts(normalize = True)"
      ],
      "execution_count": 186,
      "outputs": [
        {
          "output_type": "execute_result",
          "data": {
            "text/plain": [
              "Drama        0.283963\n",
              "Comedy       0.159346\n",
              "Action       0.138917\n",
              "Crime        0.126660\n",
              "Biography    0.078652\n",
              "Adventure    0.076609\n",
              "Animation    0.063330\n",
              "Horror       0.029622\n",
              "Mystery      0.016343\n",
              "Western      0.009193\n",
              "Thriller     0.005107\n",
              "Sci-Fi       0.005107\n",
              "Film-Noir    0.003064\n",
              "Family       0.002043\n",
              "Fantasy      0.001021\n",
              "History      0.001021\n",
              "Name: genre, dtype: float64"
            ]
          },
          "metadata": {
            "tags": []
          },
          "execution_count": 186
        }
      ]
    },
    {
      "cell_type": "code",
      "metadata": {
        "id": "fZUBMiZR0AS0",
        "colab_type": "code",
        "outputId": "950f5686-1755-43e4-926d-9e460aeda0f6",
        "colab": {
          "base_uri": "https://localhost:8080/",
          "height": 34
        }
      },
      "source": [
        "type(movies.genre.value_counts())"
      ],
      "execution_count": 187,
      "outputs": [
        {
          "output_type": "execute_result",
          "data": {
            "text/plain": [
              "pandas.core.series.Series"
            ]
          },
          "metadata": {
            "tags": []
          },
          "execution_count": 187
        }
      ]
    },
    {
      "cell_type": "code",
      "metadata": {
        "id": "3Dbtm3IQ0PE0",
        "colab_type": "code",
        "outputId": "a8c74cf7-d242-4250-8814-d298c7bb99b0",
        "colab": {
          "base_uri": "https://localhost:8080/",
          "height": 119
        }
      },
      "source": [
        "movies.genre.value_counts().head()"
      ],
      "execution_count": 188,
      "outputs": [
        {
          "output_type": "execute_result",
          "data": {
            "text/plain": [
              "Drama        278\n",
              "Comedy       156\n",
              "Action       136\n",
              "Crime        124\n",
              "Biography     77\n",
              "Name: genre, dtype: int64"
            ]
          },
          "metadata": {
            "tags": []
          },
          "execution_count": 188
        }
      ]
    },
    {
      "cell_type": "code",
      "metadata": {
        "id": "o5b9zkdp0S8V",
        "colab_type": "code",
        "outputId": "d628e574-8b16-4905-a4dc-14970c8a32f1",
        "colab": {
          "base_uri": "https://localhost:8080/",
          "height": 68
        }
      },
      "source": [
        "movies.genre.unique()"
      ],
      "execution_count": 189,
      "outputs": [
        {
          "output_type": "execute_result",
          "data": {
            "text/plain": [
              "array(['Crime', 'Action', 'Drama', 'Western', 'Adventure', 'Biography',\n",
              "       'Comedy', 'Animation', 'Mystery', 'Horror', 'Film-Noir', 'Sci-Fi',\n",
              "       'History', 'Thriller', 'Family', 'Fantasy'], dtype=object)"
            ]
          },
          "metadata": {
            "tags": []
          },
          "execution_count": 189
        }
      ]
    },
    {
      "cell_type": "code",
      "metadata": {
        "id": "o02D8q860Zlp",
        "colab_type": "code",
        "outputId": "7887b35b-17b6-4ca2-e92f-bc49c8b33c8a",
        "colab": {
          "base_uri": "https://localhost:8080/",
          "height": 34
        }
      },
      "source": [
        "movies.genre.nunique()"
      ],
      "execution_count": 190,
      "outputs": [
        {
          "output_type": "execute_result",
          "data": {
            "text/plain": [
              "16"
            ]
          },
          "metadata": {
            "tags": []
          },
          "execution_count": 190
        }
      ]
    },
    {
      "cell_type": "code",
      "metadata": {
        "id": "9354gRkB0cSE",
        "colab_type": "code",
        "outputId": "1c361340-b0fc-45f5-9fe0-78295e159872",
        "colab": {
          "base_uri": "https://localhost:8080/",
          "height": 576
        }
      },
      "source": [
        "pd.crosstab(movies.genre, movies.content_rating)"
      ],
      "execution_count": 191,
      "outputs": [
        {
          "output_type": "execute_result",
          "data": {
            "text/html": [
              "<div>\n",
              "<style scoped>\n",
              "    .dataframe tbody tr th:only-of-type {\n",
              "        vertical-align: middle;\n",
              "    }\n",
              "\n",
              "    .dataframe tbody tr th {\n",
              "        vertical-align: top;\n",
              "    }\n",
              "\n",
              "    .dataframe thead th {\n",
              "        text-align: right;\n",
              "    }\n",
              "</style>\n",
              "<table border=\"1\" class=\"dataframe\">\n",
              "  <thead>\n",
              "    <tr style=\"text-align: right;\">\n",
              "      <th>content_rating</th>\n",
              "      <th>APPROVED</th>\n",
              "      <th>G</th>\n",
              "      <th>GP</th>\n",
              "      <th>NC-17</th>\n",
              "      <th>NOT RATED</th>\n",
              "      <th>PASSED</th>\n",
              "      <th>PG</th>\n",
              "      <th>PG-13</th>\n",
              "      <th>R</th>\n",
              "      <th>TV-MA</th>\n",
              "      <th>UNRATED</th>\n",
              "      <th>X</th>\n",
              "    </tr>\n",
              "    <tr>\n",
              "      <th>genre</th>\n",
              "      <th></th>\n",
              "      <th></th>\n",
              "      <th></th>\n",
              "      <th></th>\n",
              "      <th></th>\n",
              "      <th></th>\n",
              "      <th></th>\n",
              "      <th></th>\n",
              "      <th></th>\n",
              "      <th></th>\n",
              "      <th></th>\n",
              "      <th></th>\n",
              "    </tr>\n",
              "  </thead>\n",
              "  <tbody>\n",
              "    <tr>\n",
              "      <th>Action</th>\n",
              "      <td>3</td>\n",
              "      <td>1</td>\n",
              "      <td>1</td>\n",
              "      <td>0</td>\n",
              "      <td>4</td>\n",
              "      <td>1</td>\n",
              "      <td>11</td>\n",
              "      <td>44</td>\n",
              "      <td>67</td>\n",
              "      <td>0</td>\n",
              "      <td>3</td>\n",
              "      <td>0</td>\n",
              "    </tr>\n",
              "    <tr>\n",
              "      <th>Adventure</th>\n",
              "      <td>3</td>\n",
              "      <td>2</td>\n",
              "      <td>0</td>\n",
              "      <td>0</td>\n",
              "      <td>5</td>\n",
              "      <td>1</td>\n",
              "      <td>21</td>\n",
              "      <td>23</td>\n",
              "      <td>17</td>\n",
              "      <td>0</td>\n",
              "      <td>2</td>\n",
              "      <td>0</td>\n",
              "    </tr>\n",
              "    <tr>\n",
              "      <th>Animation</th>\n",
              "      <td>3</td>\n",
              "      <td>20</td>\n",
              "      <td>0</td>\n",
              "      <td>0</td>\n",
              "      <td>3</td>\n",
              "      <td>0</td>\n",
              "      <td>25</td>\n",
              "      <td>5</td>\n",
              "      <td>5</td>\n",
              "      <td>0</td>\n",
              "      <td>1</td>\n",
              "      <td>0</td>\n",
              "    </tr>\n",
              "    <tr>\n",
              "      <th>Biography</th>\n",
              "      <td>1</td>\n",
              "      <td>2</td>\n",
              "      <td>1</td>\n",
              "      <td>0</td>\n",
              "      <td>1</td>\n",
              "      <td>0</td>\n",
              "      <td>6</td>\n",
              "      <td>29</td>\n",
              "      <td>36</td>\n",
              "      <td>0</td>\n",
              "      <td>0</td>\n",
              "      <td>0</td>\n",
              "    </tr>\n",
              "    <tr>\n",
              "      <th>Comedy</th>\n",
              "      <td>9</td>\n",
              "      <td>2</td>\n",
              "      <td>1</td>\n",
              "      <td>1</td>\n",
              "      <td>16</td>\n",
              "      <td>3</td>\n",
              "      <td>23</td>\n",
              "      <td>23</td>\n",
              "      <td>73</td>\n",
              "      <td>0</td>\n",
              "      <td>4</td>\n",
              "      <td>1</td>\n",
              "    </tr>\n",
              "    <tr>\n",
              "      <th>Crime</th>\n",
              "      <td>6</td>\n",
              "      <td>0</td>\n",
              "      <td>0</td>\n",
              "      <td>1</td>\n",
              "      <td>7</td>\n",
              "      <td>1</td>\n",
              "      <td>6</td>\n",
              "      <td>4</td>\n",
              "      <td>87</td>\n",
              "      <td>0</td>\n",
              "      <td>11</td>\n",
              "      <td>1</td>\n",
              "    </tr>\n",
              "    <tr>\n",
              "      <th>Drama</th>\n",
              "      <td>12</td>\n",
              "      <td>3</td>\n",
              "      <td>0</td>\n",
              "      <td>4</td>\n",
              "      <td>24</td>\n",
              "      <td>1</td>\n",
              "      <td>25</td>\n",
              "      <td>55</td>\n",
              "      <td>143</td>\n",
              "      <td>1</td>\n",
              "      <td>9</td>\n",
              "      <td>1</td>\n",
              "    </tr>\n",
              "    <tr>\n",
              "      <th>Family</th>\n",
              "      <td>0</td>\n",
              "      <td>1</td>\n",
              "      <td>0</td>\n",
              "      <td>0</td>\n",
              "      <td>0</td>\n",
              "      <td>0</td>\n",
              "      <td>1</td>\n",
              "      <td>0</td>\n",
              "      <td>0</td>\n",
              "      <td>0</td>\n",
              "      <td>0</td>\n",
              "      <td>0</td>\n",
              "    </tr>\n",
              "    <tr>\n",
              "      <th>Fantasy</th>\n",
              "      <td>0</td>\n",
              "      <td>0</td>\n",
              "      <td>0</td>\n",
              "      <td>0</td>\n",
              "      <td>0</td>\n",
              "      <td>0</td>\n",
              "      <td>0</td>\n",
              "      <td>0</td>\n",
              "      <td>1</td>\n",
              "      <td>0</td>\n",
              "      <td>0</td>\n",
              "      <td>0</td>\n",
              "    </tr>\n",
              "    <tr>\n",
              "      <th>Film-Noir</th>\n",
              "      <td>1</td>\n",
              "      <td>0</td>\n",
              "      <td>0</td>\n",
              "      <td>0</td>\n",
              "      <td>1</td>\n",
              "      <td>0</td>\n",
              "      <td>0</td>\n",
              "      <td>0</td>\n",
              "      <td>0</td>\n",
              "      <td>0</td>\n",
              "      <td>1</td>\n",
              "      <td>0</td>\n",
              "    </tr>\n",
              "    <tr>\n",
              "      <th>History</th>\n",
              "      <td>0</td>\n",
              "      <td>0</td>\n",
              "      <td>0</td>\n",
              "      <td>0</td>\n",
              "      <td>0</td>\n",
              "      <td>0</td>\n",
              "      <td>0</td>\n",
              "      <td>0</td>\n",
              "      <td>0</td>\n",
              "      <td>0</td>\n",
              "      <td>1</td>\n",
              "      <td>0</td>\n",
              "    </tr>\n",
              "    <tr>\n",
              "      <th>Horror</th>\n",
              "      <td>2</td>\n",
              "      <td>0</td>\n",
              "      <td>0</td>\n",
              "      <td>1</td>\n",
              "      <td>1</td>\n",
              "      <td>0</td>\n",
              "      <td>1</td>\n",
              "      <td>2</td>\n",
              "      <td>16</td>\n",
              "      <td>0</td>\n",
              "      <td>5</td>\n",
              "      <td>1</td>\n",
              "    </tr>\n",
              "    <tr>\n",
              "      <th>Mystery</th>\n",
              "      <td>4</td>\n",
              "      <td>1</td>\n",
              "      <td>0</td>\n",
              "      <td>0</td>\n",
              "      <td>1</td>\n",
              "      <td>0</td>\n",
              "      <td>1</td>\n",
              "      <td>2</td>\n",
              "      <td>6</td>\n",
              "      <td>0</td>\n",
              "      <td>1</td>\n",
              "      <td>0</td>\n",
              "    </tr>\n",
              "    <tr>\n",
              "      <th>Sci-Fi</th>\n",
              "      <td>1</td>\n",
              "      <td>0</td>\n",
              "      <td>0</td>\n",
              "      <td>0</td>\n",
              "      <td>0</td>\n",
              "      <td>0</td>\n",
              "      <td>0</td>\n",
              "      <td>1</td>\n",
              "      <td>3</td>\n",
              "      <td>0</td>\n",
              "      <td>0</td>\n",
              "      <td>0</td>\n",
              "    </tr>\n",
              "    <tr>\n",
              "      <th>Thriller</th>\n",
              "      <td>1</td>\n",
              "      <td>0</td>\n",
              "      <td>0</td>\n",
              "      <td>0</td>\n",
              "      <td>0</td>\n",
              "      <td>0</td>\n",
              "      <td>1</td>\n",
              "      <td>0</td>\n",
              "      <td>3</td>\n",
              "      <td>0</td>\n",
              "      <td>0</td>\n",
              "      <td>0</td>\n",
              "    </tr>\n",
              "    <tr>\n",
              "      <th>Western</th>\n",
              "      <td>1</td>\n",
              "      <td>0</td>\n",
              "      <td>0</td>\n",
              "      <td>0</td>\n",
              "      <td>2</td>\n",
              "      <td>0</td>\n",
              "      <td>2</td>\n",
              "      <td>1</td>\n",
              "      <td>3</td>\n",
              "      <td>0</td>\n",
              "      <td>0</td>\n",
              "      <td>0</td>\n",
              "    </tr>\n",
              "  </tbody>\n",
              "</table>\n",
              "</div>"
            ],
            "text/plain": [
              "content_rating  APPROVED   G  GP  NC-17  ...    R  TV-MA  UNRATED  X\n",
              "genre                                    ...                        \n",
              "Action                 3   1   1      0  ...   67      0        3  0\n",
              "Adventure              3   2   0      0  ...   17      0        2  0\n",
              "Animation              3  20   0      0  ...    5      0        1  0\n",
              "Biography              1   2   1      0  ...   36      0        0  0\n",
              "Comedy                 9   2   1      1  ...   73      0        4  1\n",
              "Crime                  6   0   0      1  ...   87      0       11  1\n",
              "Drama                 12   3   0      4  ...  143      1        9  1\n",
              "Family                 0   1   0      0  ...    0      0        0  0\n",
              "Fantasy                0   0   0      0  ...    1      0        0  0\n",
              "Film-Noir              1   0   0      0  ...    0      0        1  0\n",
              "History                0   0   0      0  ...    0      0        1  0\n",
              "Horror                 2   0   0      1  ...   16      0        5  1\n",
              "Mystery                4   1   0      0  ...    6      0        1  0\n",
              "Sci-Fi                 1   0   0      0  ...    3      0        0  0\n",
              "Thriller               1   0   0      0  ...    3      0        0  0\n",
              "Western                1   0   0      0  ...    3      0        0  0\n",
              "\n",
              "[16 rows x 12 columns]"
            ]
          },
          "metadata": {
            "tags": []
          },
          "execution_count": 191
        }
      ]
    },
    {
      "cell_type": "code",
      "metadata": {
        "id": "xcZtET100iFs",
        "colab_type": "code",
        "outputId": "e1bcc825-f985-4b51-87b6-359868c196f9",
        "colab": {
          "base_uri": "https://localhost:8080/",
          "height": 170
        }
      },
      "source": [
        "movies.duration.describe()"
      ],
      "execution_count": 192,
      "outputs": [
        {
          "output_type": "execute_result",
          "data": {
            "text/plain": [
              "count    979.000000\n",
              "mean     120.979571\n",
              "std       26.218010\n",
              "min       64.000000\n",
              "25%      102.000000\n",
              "50%      117.000000\n",
              "75%      134.000000\n",
              "max      242.000000\n",
              "Name: duration, dtype: float64"
            ]
          },
          "metadata": {
            "tags": []
          },
          "execution_count": 192
        }
      ]
    },
    {
      "cell_type": "code",
      "metadata": {
        "id": "44ImqWSy0tRk",
        "colab_type": "code",
        "outputId": "0f0142c3-d798-4129-adf8-d8328a2d8e87",
        "colab": {
          "base_uri": "https://localhost:8080/",
          "height": 34
        }
      },
      "source": [
        "movies.duration.mean()"
      ],
      "execution_count": 193,
      "outputs": [
        {
          "output_type": "execute_result",
          "data": {
            "text/plain": [
              "120.97957099080695"
            ]
          },
          "metadata": {
            "tags": []
          },
          "execution_count": 193
        }
      ]
    },
    {
      "cell_type": "code",
      "metadata": {
        "id": "NrpJ0fbs0x3L",
        "colab_type": "code",
        "outputId": "9cb5b9aa-e297-4fd4-8793-32fef7cdbe85",
        "colab": {
          "base_uri": "https://localhost:8080/",
          "height": 221
        }
      },
      "source": [
        "movies.duration.value_counts() #first column is duration and count in second column"
      ],
      "execution_count": 194,
      "outputs": [
        {
          "output_type": "execute_result",
          "data": {
            "text/plain": [
              "112    23\n",
              "113    22\n",
              "102    20\n",
              "101    20\n",
              "129    19\n",
              "       ..\n",
              "180     1\n",
              "177     1\n",
              "168     1\n",
              "166     1\n",
              "64      1\n",
              "Name: duration, Length: 133, dtype: int64"
            ]
          },
          "metadata": {
            "tags": []
          },
          "execution_count": 194
        }
      ]
    },
    {
      "cell_type": "code",
      "metadata": {
        "id": "tEyHb8eL04JM",
        "colab_type": "code",
        "colab": {}
      },
      "source": [
        "%matplotlib inline"
      ],
      "execution_count": 0,
      "outputs": []
    },
    {
      "cell_type": "code",
      "metadata": {
        "id": "Se0tPD2S1H6P",
        "colab_type": "code",
        "outputId": "9a32e0d4-ca0c-4956-8560-313c9c58b9c9",
        "colab": {
          "base_uri": "https://localhost:8080/",
          "height": 282
        }
      },
      "source": [
        "movies.duration.plot(kind = 'hist')"
      ],
      "execution_count": 196,
      "outputs": [
        {
          "output_type": "execute_result",
          "data": {
            "text/plain": [
              "<matplotlib.axes._subplots.AxesSubplot at 0x7fc857a4bd30>"
            ]
          },
          "metadata": {
            "tags": []
          },
          "execution_count": 196
        },
        {
          "output_type": "display_data",
          "data": {
            "image/png": "[encoded data removed]",
            "text/plain": [
              "<Figure size 432x288 with 1 Axes>"
            ]
          },
          "metadata": {
            "tags": [],
            "needs_background": "light"
          }
        }
      ]
    },
    {
      "cell_type": "code",
      "metadata": {
        "id": "ucjTwjPo1OEc",
        "colab_type": "code",
        "outputId": "79fd8d2b-2ecb-4443-f66b-dafdfef09d3b",
        "colab": {
          "base_uri": "https://localhost:8080/",
          "height": 324
        }
      },
      "source": [
        "movies.genre.value_counts().plot(kind = 'bar')"
      ],
      "execution_count": 197,
      "outputs": [
        {
          "output_type": "execute_result",
          "data": {
            "text/plain": [
              "<matplotlib.axes._subplots.AxesSubplot at 0x7fc8579e7ef0>"
            ]
          },
          "metadata": {
            "tags": []
          },
          "execution_count": 197
        },
        {
          "output_type": "display_data",
          "data": {
            "image/png": "[encoded data removed]",
            "text/plain": [
              "<Figure size 432x288 with 1 Axes>"
            ]
          },
          "metadata": {
            "tags": [],
            "needs_background": "light"
          }
        }
      ]
    },
    {
      "cell_type": "code",
      "metadata": {
        "id": "umxT-8qt1UQs",
        "colab_type": "code",
        "colab": {}
      },
      "source": [
        "#The end of video 1 - 15 from YouTube Data School Data analysis in Python with pandas series"
      ],
      "execution_count": 0,
      "outputs": []
    }
  ]
}