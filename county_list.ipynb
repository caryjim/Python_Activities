{
  "nbformat": 4,
  "nbformat_minor": 0,
  "metadata": {
    "colab": {
      "name": "county_list.ipynb",
      "provenance": [],
      "collapsed_sections": [],
      "authorship_tag": "ABX9TyOk7SG9ek35kI63NjWe5nW6",
      "include_colab_link": true
    },
    "kernelspec": {
      "name": "python3",
      "display_name": "Python 3"
    }
  },
  "cells": [
    {
      "cell_type": "markdown",
      "metadata": {
        "id": "view-in-github",
        "colab_type": "text"
      },
      "source": [
        "<a href=\"https://colab.research.google.com/github/caryjim/Python_Exercise/blob/master/county_list.ipynb\" target=\"_parent\"><img src=\"https://colab.research.google.com/assets/colab-badge.svg\" alt=\"Open In Colab\"/></a>"
      ]
    },
    {
      "cell_type": "code",
      "metadata": {
        "id": "2dFxt_vgJ6h1"
      },
      "source": [
        "import pandas as pd"
      ],
      "execution_count": null,
      "outputs": []
    },
    {
      "cell_type": "markdown",
      "metadata": {
        "id": "9u8KZvZGR4tb"
      },
      "source": [
        "https://stackoverflow.com/questions/18986864/how-to-create-multiple-value-dictionary-from-pandas-data-frame"
      ]
    },
    {
      "cell_type": "markdown",
      "metadata": {
        "id": "yN0hYakOAgip"
      },
      "source": [
        "### Add state abbreviation to broadband data "
      ]
    },
    {
      "cell_type": "code",
      "metadata": {
        "id": "nXZnwPniKM9U"
      },
      "source": [
        "#Broadband Now released data on github\n",
        "broadbandurl = 'https://raw.githubusercontent.com/BroadbandNow/Open-Data/master/broadband_data_opendatachallenge.csv?raw=True'\n",
        "broadband = pd.read_csv(broadbandurl, sep=',', encoding='latin-1')\n",
        "# The raw data have numerical values in population, percent of access and lowest price.\n",
        "# However, they were loaded as character and needs to be converted to numeric "
      ],
      "execution_count": null,
      "outputs": []
    },
    {
      "cell_type": "code",
      "metadata": {
        "colab": {
          "base_uri": "https://localhost:8080/",
          "height": 360
        },
        "id": "uwpX4HHDLdDN",
        "outputId": "c829279a-c776-4ec0-fed1-6961f6d9f7b5"
      },
      "source": [
        "broadband.head()"
      ],
      "execution_count": null,
      "outputs": [
        {
          "output_type": "execute_result",
          "data": {
            "text/html": [
              "<div>\n",
              "<style scoped>\n",
              "    .dataframe tbody tr th:only-of-type {\n",
              "        vertical-align: middle;\n",
              "    }\n",
              "\n",
              "    .dataframe tbody tr th {\n",
              "        vertical-align: top;\n",
              "    }\n",
              "\n",
              "    .dataframe thead th {\n",
              "        text-align: right;\n",
              "    }\n",
              "</style>\n",
              "<table border=\"1\" class=\"dataframe\">\n",
              "  <thead>\n",
              "    <tr style=\"text-align: right;\">\n",
              "      <th></th>\n",
              "      <th>Zip</th>\n",
              "      <th>Population</th>\n",
              "      <th>County</th>\n",
              "      <th>State</th>\n",
              "      <th>WiredCount_2020</th>\n",
              "      <th>Fwcount_2020</th>\n",
              "      <th>AllProviderCount_2020</th>\n",
              "      <th>Wired25_3_2020</th>\n",
              "      <th>Wired100_3_2020</th>\n",
              "      <th>All25_3_2020</th>\n",
              "      <th>All100_3</th>\n",
              "      <th>TestCount</th>\n",
              "      <th>AverageMbps</th>\n",
              "      <th>FastestAverageMbps</th>\n",
              "      <th>%Access to Terrestrial Broadband</th>\n",
              "      <th>Lowest Priced Terrestrial Broadband Plan</th>\n",
              "      <th>WiredCount_2015</th>\n",
              "      <th>Fwcount_2015</th>\n",
              "      <th>AllProviderCount_2015</th>\n",
              "      <th>Wired25_3_2015</th>\n",
              "      <th>Wired100_3_2015</th>\n",
              "      <th>All25_3_2015</th>\n",
              "      <th>All100_3.1</th>\n",
              "    </tr>\n",
              "  </thead>\n",
              "  <tbody>\n",
              "    <tr>\n",
              "      <th>0</th>\n",
              "      <td>29620</td>\n",
              "      <td>12934.0</td>\n",
              "      <td>Abbeville</td>\n",
              "      <td>South Carolina</td>\n",
              "      <td>6.0</td>\n",
              "      <td>0.0</td>\n",
              "      <td>11.0</td>\n",
              "      <td>5.0</td>\n",
              "      <td>3.0</td>\n",
              "      <td>7.0</td>\n",
              "      <td>3.0</td>\n",
              "      <td>2536.0</td>\n",
              "      <td>212.50</td>\n",
              "      <td>536.35</td>\n",
              "      <td>98%</td>\n",
              "      <td>40.00</td>\n",
              "      <td>6.0</td>\n",
              "      <td>0.0</td>\n",
              "      <td>8.0</td>\n",
              "      <td>3.0</td>\n",
              "      <td>3.0</td>\n",
              "      <td>3.0</td>\n",
              "      <td>3.0</td>\n",
              "    </tr>\n",
              "    <tr>\n",
              "      <th>1</th>\n",
              "      <td>29628</td>\n",
              "      <td>2759.0</td>\n",
              "      <td>Abbeville</td>\n",
              "      <td>South Carolina</td>\n",
              "      <td>4.0</td>\n",
              "      <td>0.0</td>\n",
              "      <td>8.0</td>\n",
              "      <td>3.0</td>\n",
              "      <td>2.0</td>\n",
              "      <td>5.0</td>\n",
              "      <td>2.0</td>\n",
              "      <td>100.0</td>\n",
              "      <td>51.12</td>\n",
              "      <td>126.06</td>\n",
              "      <td>95%</td>\n",
              "      <td>40.00</td>\n",
              "      <td>4.0</td>\n",
              "      <td>0.0</td>\n",
              "      <td>6.0</td>\n",
              "      <td>3.0</td>\n",
              "      <td>3.0</td>\n",
              "      <td>3.0</td>\n",
              "      <td>3.0</td>\n",
              "    </tr>\n",
              "    <tr>\n",
              "      <th>2</th>\n",
              "      <td>29638</td>\n",
              "      <td>2944.0</td>\n",
              "      <td>Abbeville</td>\n",
              "      <td>South Carolina</td>\n",
              "      <td>6.0</td>\n",
              "      <td>1.0</td>\n",
              "      <td>13.0</td>\n",
              "      <td>4.0</td>\n",
              "      <td>4.0</td>\n",
              "      <td>6.0</td>\n",
              "      <td>4.0</td>\n",
              "      <td>272.0</td>\n",
              "      <td>82.79</td>\n",
              "      <td>222.35</td>\n",
              "      <td>95%</td>\n",
              "      <td>40.00</td>\n",
              "      <td>5.0</td>\n",
              "      <td>0.0</td>\n",
              "      <td>7.0</td>\n",
              "      <td>2.0</td>\n",
              "      <td>2.0</td>\n",
              "      <td>2.0</td>\n",
              "      <td>2.0</td>\n",
              "    </tr>\n",
              "    <tr>\n",
              "      <th>3</th>\n",
              "      <td>29639</td>\n",
              "      <td>1742.0</td>\n",
              "      <td>Abbeville</td>\n",
              "      <td>South Carolina</td>\n",
              "      <td>3.0</td>\n",
              "      <td>0.0</td>\n",
              "      <td>8.0</td>\n",
              "      <td>3.0</td>\n",
              "      <td>3.0</td>\n",
              "      <td>5.0</td>\n",
              "      <td>3.0</td>\n",
              "      <td>163.0</td>\n",
              "      <td>93.12</td>\n",
              "      <td>223.75</td>\n",
              "      <td>90%</td>\n",
              "      <td>40.00</td>\n",
              "      <td>3.0</td>\n",
              "      <td>0.0</td>\n",
              "      <td>5.0</td>\n",
              "      <td>3.0</td>\n",
              "      <td>3.0</td>\n",
              "      <td>3.0</td>\n",
              "      <td>3.0</td>\n",
              "    </tr>\n",
              "    <tr>\n",
              "      <th>4</th>\n",
              "      <td>70516</td>\n",
              "      <td>1546.0</td>\n",
              "      <td>Acadia</td>\n",
              "      <td>Louisiana</td>\n",
              "      <td>4.0</td>\n",
              "      <td>3.0</td>\n",
              "      <td>12.0</td>\n",
              "      <td>2.0</td>\n",
              "      <td>2.0</td>\n",
              "      <td>4.0</td>\n",
              "      <td>2.0</td>\n",
              "      <td>49.0</td>\n",
              "      <td>2.76</td>\n",
              "      <td>9.41</td>\n",
              "      <td>33%</td>\n",
              "      <td>69.99</td>\n",
              "      <td>4.0</td>\n",
              "      <td>2.0</td>\n",
              "      <td>8.0</td>\n",
              "      <td>2.0</td>\n",
              "      <td>1.0</td>\n",
              "      <td>2.0</td>\n",
              "      <td>1.0</td>\n",
              "    </tr>\n",
              "  </tbody>\n",
              "</table>\n",
              "</div>"
            ],
            "text/plain": [
              "     Zip  Population     County  ... Wired100_3_2015  All25_3_2015  All100_3.1\n",
              "0  29620     12934.0  Abbeville  ...             3.0           3.0         3.0\n",
              "1  29628      2759.0  Abbeville  ...             3.0           3.0         3.0\n",
              "2  29638      2944.0  Abbeville  ...             2.0           2.0         2.0\n",
              "3  29639      1742.0  Abbeville  ...             3.0           3.0         3.0\n",
              "4  70516      1546.0     Acadia  ...             1.0           2.0         1.0\n",
              "\n",
              "[5 rows x 23 columns]"
            ]
          },
          "metadata": {
            "tags": []
          },
          "execution_count": 10
        }
      ]
    },
    {
      "cell_type": "code",
      "metadata": {
        "id": "P88nCrdcLiqG"
      },
      "source": [
        "# Broadband Usage Estimates by County Level \n",
        "microsoft = 'https://raw.githubusercontent.com/microsoft/USBroadbandUsagePercentages/3cc660f1f54fd73274527a4a60ef870726abf2ba/dataset/broadband_data_zipcode.csv?raw=true'\n",
        "\n",
        "usage_zip = pd.read_csv(microsoft, sep = \",\")"
      ],
      "execution_count": null,
      "outputs": []
    },
    {
      "cell_type": "code",
      "metadata": {
        "colab": {
          "base_uri": "https://localhost:8080/",
          "height": 204
        },
        "id": "JUvRKUWDLitX",
        "outputId": "94aa16f5-24c2-478d-da4c-2f3eb7c5cbab"
      },
      "source": [
        "usage_zip.head()"
      ],
      "execution_count": null,
      "outputs": [
        {
          "output_type": "execute_result",
          "data": {
            "text/html": [
              "<div>\n",
              "<style scoped>\n",
              "    .dataframe tbody tr th:only-of-type {\n",
              "        vertical-align: middle;\n",
              "    }\n",
              "\n",
              "    .dataframe tbody tr th {\n",
              "        vertical-align: top;\n",
              "    }\n",
              "\n",
              "    .dataframe thead th {\n",
              "        text-align: right;\n",
              "    }\n",
              "</style>\n",
              "<table border=\"1\" class=\"dataframe\">\n",
              "  <thead>\n",
              "    <tr style=\"text-align: right;\">\n",
              "      <th></th>\n",
              "      <th>ST</th>\n",
              "      <th>COUNTY NAME</th>\n",
              "      <th>COUNTY ID</th>\n",
              "      <th>POSTAL CODE</th>\n",
              "      <th>BROADBAND USAGE</th>\n",
              "      <th>ERROR RANGE (MAE)(+/-)</th>\n",
              "      <th>ERROR RANGE (95%)(+/-)</th>\n",
              "      <th>MSD</th>\n",
              "    </tr>\n",
              "  </thead>\n",
              "  <tbody>\n",
              "    <tr>\n",
              "      <th>0</th>\n",
              "      <td>SC</td>\n",
              "      <td>Abbeville</td>\n",
              "      <td>45001</td>\n",
              "      <td>29639</td>\n",
              "      <td>0.948</td>\n",
              "      <td>0.034</td>\n",
              "      <td>0.110</td>\n",
              "      <td>0.002</td>\n",
              "    </tr>\n",
              "    <tr>\n",
              "      <th>1</th>\n",
              "      <td>SC</td>\n",
              "      <td>Abbeville</td>\n",
              "      <td>45001</td>\n",
              "      <td>29620</td>\n",
              "      <td>0.398</td>\n",
              "      <td>0.002</td>\n",
              "      <td>0.007</td>\n",
              "      <td>0.000</td>\n",
              "    </tr>\n",
              "    <tr>\n",
              "      <th>2</th>\n",
              "      <td>SC</td>\n",
              "      <td>Abbeville</td>\n",
              "      <td>45001</td>\n",
              "      <td>29659</td>\n",
              "      <td>0.206</td>\n",
              "      <td>0.152</td>\n",
              "      <td>0.608</td>\n",
              "      <td>0.043</td>\n",
              "    </tr>\n",
              "    <tr>\n",
              "      <th>3</th>\n",
              "      <td>SC</td>\n",
              "      <td>Abbeville</td>\n",
              "      <td>45001</td>\n",
              "      <td>29638</td>\n",
              "      <td>0.369</td>\n",
              "      <td>0.010</td>\n",
              "      <td>0.031</td>\n",
              "      <td>-0.001</td>\n",
              "    </tr>\n",
              "    <tr>\n",
              "      <th>4</th>\n",
              "      <td>SC</td>\n",
              "      <td>Abbeville</td>\n",
              "      <td>45001</td>\n",
              "      <td>29628</td>\n",
              "      <td>0.221</td>\n",
              "      <td>0.014</td>\n",
              "      <td>0.043</td>\n",
              "      <td>0.000</td>\n",
              "    </tr>\n",
              "  </tbody>\n",
              "</table>\n",
              "</div>"
            ],
            "text/plain": [
              "   ST COUNTY NAME  ...  ERROR RANGE (95%)(+/-)    MSD\n",
              "0  SC   Abbeville  ...                   0.110  0.002\n",
              "1  SC   Abbeville  ...                   0.007  0.000\n",
              "2  SC   Abbeville  ...                   0.608  0.043\n",
              "3  SC   Abbeville  ...                   0.031 -0.001\n",
              "4  SC   Abbeville  ...                   0.043  0.000\n",
              "\n",
              "[5 rows x 8 columns]"
            ]
          },
          "metadata": {
            "tags": []
          },
          "execution_count": 12
        }
      ]
    },
    {
      "cell_type": "code",
      "metadata": {
        "id": "QeO3UQid59l_"
      },
      "source": [
        "#I found a list of State abbrevation and state name key:value pair, load the file into Colab before running this. \n",
        "state_list = pd.read_csv('/content/state_ablist.txt', delimiter= '|', header=None)"
      ],
      "execution_count": null,
      "outputs": []
    },
    {
      "cell_type": "code",
      "metadata": {
        "colab": {
          "base_uri": "https://localhost:8080/",
          "height": 204
        },
        "id": "Tdh7qaGE59sK",
        "outputId": "f07a51c5-78f8-42ed-ae97-b7cad80b9c5e"
      },
      "source": [
        "state_list.head()"
      ],
      "execution_count": null,
      "outputs": [
        {
          "output_type": "execute_result",
          "data": {
            "text/html": [
              "<div>\n",
              "<style scoped>\n",
              "    .dataframe tbody tr th:only-of-type {\n",
              "        vertical-align: middle;\n",
              "    }\n",
              "\n",
              "    .dataframe tbody tr th {\n",
              "        vertical-align: top;\n",
              "    }\n",
              "\n",
              "    .dataframe thead th {\n",
              "        text-align: right;\n",
              "    }\n",
              "</style>\n",
              "<table border=\"1\" class=\"dataframe\">\n",
              "  <thead>\n",
              "    <tr style=\"text-align: right;\">\n",
              "      <th></th>\n",
              "      <th>0</th>\n",
              "      <th>1</th>\n",
              "    </tr>\n",
              "  </thead>\n",
              "  <tbody>\n",
              "    <tr>\n",
              "      <th>0</th>\n",
              "      <td>AL</td>\n",
              "      <td>Alabama</td>\n",
              "    </tr>\n",
              "    <tr>\n",
              "      <th>1</th>\n",
              "      <td>AK</td>\n",
              "      <td>Alaska</td>\n",
              "    </tr>\n",
              "    <tr>\n",
              "      <th>2</th>\n",
              "      <td>AZ</td>\n",
              "      <td>Arizona</td>\n",
              "    </tr>\n",
              "    <tr>\n",
              "      <th>3</th>\n",
              "      <td>AR</td>\n",
              "      <td>Arkansas</td>\n",
              "    </tr>\n",
              "    <tr>\n",
              "      <th>4</th>\n",
              "      <td>CA</td>\n",
              "      <td>California</td>\n",
              "    </tr>\n",
              "  </tbody>\n",
              "</table>\n",
              "</div>"
            ],
            "text/plain": [
              "    0           1\n",
              "0  AL     Alabama\n",
              "1  AK      Alaska\n",
              "2  AZ     Arizona\n",
              "3  AR    Arkansas\n",
              "4  CA  California"
            ]
          },
          "metadata": {
            "tags": []
          },
          "execution_count": 64
        }
      ]
    },
    {
      "cell_type": "code",
      "metadata": {
        "id": "lZ30-3lF6hU7"
      },
      "source": [
        "#Turn state list into key-value pair \n",
        "state_abb = dict(zip(state_list[1], state_list[0]))"
      ],
      "execution_count": null,
      "outputs": []
    },
    {
      "cell_type": "code",
      "metadata": {
        "id": "_lruLupp7CjT"
      },
      "source": [
        "state_abb"
      ],
      "execution_count": null,
      "outputs": []
    },
    {
      "cell_type": "code",
      "metadata": {
        "id": "OUBzsFLO7JaK"
      },
      "source": [
        "#Add a column of state abbreviation Broadband data \n",
        "broadband[\"ST\"] = broadband[\"State\"].map(state_abb)"
      ],
      "execution_count": null,
      "outputs": []
    },
    {
      "cell_type": "code",
      "metadata": {
        "colab": {
          "base_uri": "https://localhost:8080/",
          "height": 360
        },
        "id": "beewWG_w7Jcz",
        "outputId": "59a76ece-15d2-4c99-91a6-bde60a3dd6b8"
      },
      "source": [
        "broadband.head()"
      ],
      "execution_count": null,
      "outputs": [
        {
          "output_type": "execute_result",
          "data": {
            "text/html": [
              "<div>\n",
              "<style scoped>\n",
              "    .dataframe tbody tr th:only-of-type {\n",
              "        vertical-align: middle;\n",
              "    }\n",
              "\n",
              "    .dataframe tbody tr th {\n",
              "        vertical-align: top;\n",
              "    }\n",
              "\n",
              "    .dataframe thead th {\n",
              "        text-align: right;\n",
              "    }\n",
              "</style>\n",
              "<table border=\"1\" class=\"dataframe\">\n",
              "  <thead>\n",
              "    <tr style=\"text-align: right;\">\n",
              "      <th></th>\n",
              "      <th>Zip</th>\n",
              "      <th>Population</th>\n",
              "      <th>County</th>\n",
              "      <th>State</th>\n",
              "      <th>WiredCount_2020</th>\n",
              "      <th>Fwcount_2020</th>\n",
              "      <th>AllProviderCount_2020</th>\n",
              "      <th>Wired25_3_2020</th>\n",
              "      <th>Wired100_3_2020</th>\n",
              "      <th>All25_3_2020</th>\n",
              "      <th>All100_3</th>\n",
              "      <th>TestCount</th>\n",
              "      <th>AverageMbps</th>\n",
              "      <th>FastestAverageMbps</th>\n",
              "      <th>%Access to Terrestrial Broadband</th>\n",
              "      <th>Lowest Priced Terrestrial Broadband Plan</th>\n",
              "      <th>WiredCount_2015</th>\n",
              "      <th>Fwcount_2015</th>\n",
              "      <th>AllProviderCount_2015</th>\n",
              "      <th>Wired25_3_2015</th>\n",
              "      <th>Wired100_3_2015</th>\n",
              "      <th>All25_3_2015</th>\n",
              "      <th>All100_3.1</th>\n",
              "      <th>ST</th>\n",
              "    </tr>\n",
              "  </thead>\n",
              "  <tbody>\n",
              "    <tr>\n",
              "      <th>0</th>\n",
              "      <td>29620</td>\n",
              "      <td>12934.0</td>\n",
              "      <td>Abbeville</td>\n",
              "      <td>South Carolina</td>\n",
              "      <td>6.0</td>\n",
              "      <td>0.0</td>\n",
              "      <td>11.0</td>\n",
              "      <td>5.0</td>\n",
              "      <td>3.0</td>\n",
              "      <td>7.0</td>\n",
              "      <td>3.0</td>\n",
              "      <td>2536.0</td>\n",
              "      <td>212.50</td>\n",
              "      <td>536.35</td>\n",
              "      <td>98%</td>\n",
              "      <td>40.00</td>\n",
              "      <td>6.0</td>\n",
              "      <td>0.0</td>\n",
              "      <td>8.0</td>\n",
              "      <td>3.0</td>\n",
              "      <td>3.0</td>\n",
              "      <td>3.0</td>\n",
              "      <td>3.0</td>\n",
              "      <td>SC</td>\n",
              "    </tr>\n",
              "    <tr>\n",
              "      <th>1</th>\n",
              "      <td>29628</td>\n",
              "      <td>2759.0</td>\n",
              "      <td>Abbeville</td>\n",
              "      <td>South Carolina</td>\n",
              "      <td>4.0</td>\n",
              "      <td>0.0</td>\n",
              "      <td>8.0</td>\n",
              "      <td>3.0</td>\n",
              "      <td>2.0</td>\n",
              "      <td>5.0</td>\n",
              "      <td>2.0</td>\n",
              "      <td>100.0</td>\n",
              "      <td>51.12</td>\n",
              "      <td>126.06</td>\n",
              "      <td>95%</td>\n",
              "      <td>40.00</td>\n",
              "      <td>4.0</td>\n",
              "      <td>0.0</td>\n",
              "      <td>6.0</td>\n",
              "      <td>3.0</td>\n",
              "      <td>3.0</td>\n",
              "      <td>3.0</td>\n",
              "      <td>3.0</td>\n",
              "      <td>SC</td>\n",
              "    </tr>\n",
              "    <tr>\n",
              "      <th>2</th>\n",
              "      <td>29638</td>\n",
              "      <td>2944.0</td>\n",
              "      <td>Abbeville</td>\n",
              "      <td>South Carolina</td>\n",
              "      <td>6.0</td>\n",
              "      <td>1.0</td>\n",
              "      <td>13.0</td>\n",
              "      <td>4.0</td>\n",
              "      <td>4.0</td>\n",
              "      <td>6.0</td>\n",
              "      <td>4.0</td>\n",
              "      <td>272.0</td>\n",
              "      <td>82.79</td>\n",
              "      <td>222.35</td>\n",
              "      <td>95%</td>\n",
              "      <td>40.00</td>\n",
              "      <td>5.0</td>\n",
              "      <td>0.0</td>\n",
              "      <td>7.0</td>\n",
              "      <td>2.0</td>\n",
              "      <td>2.0</td>\n",
              "      <td>2.0</td>\n",
              "      <td>2.0</td>\n",
              "      <td>SC</td>\n",
              "    </tr>\n",
              "    <tr>\n",
              "      <th>3</th>\n",
              "      <td>29639</td>\n",
              "      <td>1742.0</td>\n",
              "      <td>Abbeville</td>\n",
              "      <td>South Carolina</td>\n",
              "      <td>3.0</td>\n",
              "      <td>0.0</td>\n",
              "      <td>8.0</td>\n",
              "      <td>3.0</td>\n",
              "      <td>3.0</td>\n",
              "      <td>5.0</td>\n",
              "      <td>3.0</td>\n",
              "      <td>163.0</td>\n",
              "      <td>93.12</td>\n",
              "      <td>223.75</td>\n",
              "      <td>90%</td>\n",
              "      <td>40.00</td>\n",
              "      <td>3.0</td>\n",
              "      <td>0.0</td>\n",
              "      <td>5.0</td>\n",
              "      <td>3.0</td>\n",
              "      <td>3.0</td>\n",
              "      <td>3.0</td>\n",
              "      <td>3.0</td>\n",
              "      <td>SC</td>\n",
              "    </tr>\n",
              "    <tr>\n",
              "      <th>4</th>\n",
              "      <td>70516</td>\n",
              "      <td>1546.0</td>\n",
              "      <td>Acadia</td>\n",
              "      <td>Louisiana</td>\n",
              "      <td>4.0</td>\n",
              "      <td>3.0</td>\n",
              "      <td>12.0</td>\n",
              "      <td>2.0</td>\n",
              "      <td>2.0</td>\n",
              "      <td>4.0</td>\n",
              "      <td>2.0</td>\n",
              "      <td>49.0</td>\n",
              "      <td>2.76</td>\n",
              "      <td>9.41</td>\n",
              "      <td>33%</td>\n",
              "      <td>69.99</td>\n",
              "      <td>4.0</td>\n",
              "      <td>2.0</td>\n",
              "      <td>8.0</td>\n",
              "      <td>2.0</td>\n",
              "      <td>1.0</td>\n",
              "      <td>2.0</td>\n",
              "      <td>1.0</td>\n",
              "      <td>LA</td>\n",
              "    </tr>\n",
              "  </tbody>\n",
              "</table>\n",
              "</div>"
            ],
            "text/plain": [
              "     Zip  Population     County  ... All25_3_2015  All100_3.1  ST\n",
              "0  29620     12934.0  Abbeville  ...          3.0         3.0  SC\n",
              "1  29628      2759.0  Abbeville  ...          3.0         3.0  SC\n",
              "2  29638      2944.0  Abbeville  ...          2.0         2.0  SC\n",
              "3  29639      1742.0  Abbeville  ...          3.0         3.0  SC\n",
              "4  70516      1546.0     Acadia  ...          2.0         1.0  LA\n",
              "\n",
              "[5 rows x 24 columns]"
            ]
          },
          "metadata": {
            "tags": []
          },
          "execution_count": 68
        }
      ]
    },
    {
      "cell_type": "code",
      "metadata": {
        "id": "XSYIQo5f7Jf6",
        "colab": {
          "base_uri": "https://localhost:8080/",
          "height": 204
        },
        "outputId": "8dbd97e6-edd9-47f4-c908-00749613c20f"
      },
      "source": [
        "usage_zip.head()"
      ],
      "execution_count": null,
      "outputs": [
        {
          "output_type": "execute_result",
          "data": {
            "text/html": [
              "<div>\n",
              "<style scoped>\n",
              "    .dataframe tbody tr th:only-of-type {\n",
              "        vertical-align: middle;\n",
              "    }\n",
              "\n",
              "    .dataframe tbody tr th {\n",
              "        vertical-align: top;\n",
              "    }\n",
              "\n",
              "    .dataframe thead th {\n",
              "        text-align: right;\n",
              "    }\n",
              "</style>\n",
              "<table border=\"1\" class=\"dataframe\">\n",
              "  <thead>\n",
              "    <tr style=\"text-align: right;\">\n",
              "      <th></th>\n",
              "      <th>ST</th>\n",
              "      <th>COUNTY NAME</th>\n",
              "      <th>COUNTY ID</th>\n",
              "      <th>POSTAL CODE</th>\n",
              "      <th>BROADBAND USAGE</th>\n",
              "      <th>ERROR RANGE (MAE)(+/-)</th>\n",
              "      <th>ERROR RANGE (95%)(+/-)</th>\n",
              "      <th>MSD</th>\n",
              "    </tr>\n",
              "  </thead>\n",
              "  <tbody>\n",
              "    <tr>\n",
              "      <th>0</th>\n",
              "      <td>SC</td>\n",
              "      <td>Abbeville</td>\n",
              "      <td>45001</td>\n",
              "      <td>29639</td>\n",
              "      <td>0.948</td>\n",
              "      <td>0.034</td>\n",
              "      <td>0.110</td>\n",
              "      <td>0.002</td>\n",
              "    </tr>\n",
              "    <tr>\n",
              "      <th>1</th>\n",
              "      <td>SC</td>\n",
              "      <td>Abbeville</td>\n",
              "      <td>45001</td>\n",
              "      <td>29620</td>\n",
              "      <td>0.398</td>\n",
              "      <td>0.002</td>\n",
              "      <td>0.007</td>\n",
              "      <td>0.000</td>\n",
              "    </tr>\n",
              "    <tr>\n",
              "      <th>2</th>\n",
              "      <td>SC</td>\n",
              "      <td>Abbeville</td>\n",
              "      <td>45001</td>\n",
              "      <td>29659</td>\n",
              "      <td>0.206</td>\n",
              "      <td>0.152</td>\n",
              "      <td>0.608</td>\n",
              "      <td>0.043</td>\n",
              "    </tr>\n",
              "    <tr>\n",
              "      <th>3</th>\n",
              "      <td>SC</td>\n",
              "      <td>Abbeville</td>\n",
              "      <td>45001</td>\n",
              "      <td>29638</td>\n",
              "      <td>0.369</td>\n",
              "      <td>0.010</td>\n",
              "      <td>0.031</td>\n",
              "      <td>-0.001</td>\n",
              "    </tr>\n",
              "    <tr>\n",
              "      <th>4</th>\n",
              "      <td>SC</td>\n",
              "      <td>Abbeville</td>\n",
              "      <td>45001</td>\n",
              "      <td>29628</td>\n",
              "      <td>0.221</td>\n",
              "      <td>0.014</td>\n",
              "      <td>0.043</td>\n",
              "      <td>0.000</td>\n",
              "    </tr>\n",
              "  </tbody>\n",
              "</table>\n",
              "</div>"
            ],
            "text/plain": [
              "   ST COUNTY NAME  ...  ERROR RANGE (95%)(+/-)    MSD\n",
              "0  SC   Abbeville  ...                   0.110  0.002\n",
              "1  SC   Abbeville  ...                   0.007  0.000\n",
              "2  SC   Abbeville  ...                   0.608  0.043\n",
              "3  SC   Abbeville  ...                   0.031 -0.001\n",
              "4  SC   Abbeville  ...                   0.043  0.000\n",
              "\n",
              "[5 rows x 8 columns]"
            ]
          },
          "metadata": {
            "tags": []
          },
          "execution_count": 69
        }
      ]
    },
    {
      "cell_type": "code",
      "metadata": {
        "id": "9g1VBif3AreI"
      },
      "source": [
        ""
      ],
      "execution_count": null,
      "outputs": []
    },
    {
      "cell_type": "markdown",
      "metadata": {
        "id": "ylZAlC4OAskB"
      },
      "source": [
        "### Map zip code and county ID to a new column in broadband data "
      ]
    },
    {
      "cell_type": "markdown",
      "metadata": {
        "id": "vlfjBAqW0p2c"
      },
      "source": [
        "Create a dictionary for Zipcode and County ID pairs from SEDA Crosswalk file [HUB Crosswalk](https://www.huduser.gov/portal/datasets/usps_crosswalk.html)\n"
      ]
    },
    {
      "cell_type": "code",
      "metadata": {
        "id": "jzkMLPMG7xUa"
      },
      "source": [
        "#Load the modified HUB Crosswalk file 2019 1st Quarter into Google Colab first\n",
        "hub = pd.read_csv('/content/ZIP_county.txt', delimiter= '\\t')"
      ],
      "execution_count": null,
      "outputs": []
    },
    {
      "cell_type": "code",
      "metadata": {
        "colab": {
          "base_uri": "https://localhost:8080/",
          "height": 204
        },
        "id": "klgnXkaZ8b9p",
        "outputId": "62edd984-cce3-43d2-adaf-b0e4dfad5e22"
      },
      "source": [
        "hub.head()"
      ],
      "execution_count": null,
      "outputs": [
        {
          "output_type": "execute_result",
          "data": {
            "text/html": [
              "<div>\n",
              "<style scoped>\n",
              "    .dataframe tbody tr th:only-of-type {\n",
              "        vertical-align: middle;\n",
              "    }\n",
              "\n",
              "    .dataframe tbody tr th {\n",
              "        vertical-align: top;\n",
              "    }\n",
              "\n",
              "    .dataframe thead th {\n",
              "        text-align: right;\n",
              "    }\n",
              "</style>\n",
              "<table border=\"1\" class=\"dataframe\">\n",
              "  <thead>\n",
              "    <tr style=\"text-align: right;\">\n",
              "      <th></th>\n",
              "      <th>zip</th>\n",
              "      <th>county</th>\n",
              "    </tr>\n",
              "  </thead>\n",
              "  <tbody>\n",
              "    <tr>\n",
              "      <th>0</th>\n",
              "      <td>606</td>\n",
              "      <td>72093</td>\n",
              "    </tr>\n",
              "    <tr>\n",
              "      <th>1</th>\n",
              "      <td>617</td>\n",
              "      <td>72017</td>\n",
              "    </tr>\n",
              "    <tr>\n",
              "      <th>2</th>\n",
              "      <td>617</td>\n",
              "      <td>72054</td>\n",
              "    </tr>\n",
              "    <tr>\n",
              "      <th>3</th>\n",
              "      <td>674</td>\n",
              "      <td>72145</td>\n",
              "    </tr>\n",
              "    <tr>\n",
              "      <th>4</th>\n",
              "      <td>674</td>\n",
              "      <td>72091</td>\n",
              "    </tr>\n",
              "  </tbody>\n",
              "</table>\n",
              "</div>"
            ],
            "text/plain": [
              "   zip  county\n",
              "0  606   72093\n",
              "1  617   72017\n",
              "2  617   72054\n",
              "3  674   72145\n",
              "4  674   72091"
            ]
          },
          "metadata": {
            "tags": []
          },
          "execution_count": 71
        }
      ]
    },
    {
      "cell_type": "code",
      "metadata": {
        "colab": {
          "base_uri": "https://localhost:8080/"
        },
        "id": "mWPZJAEH8hSa",
        "outputId": "14679f35-dbcf-4564-dea3-4b91a3feadfc"
      },
      "source": [
        "hub.info()"
      ],
      "execution_count": null,
      "outputs": [
        {
          "output_type": "stream",
          "text": [
            "<class 'pandas.core.frame.DataFrame'>\n",
            "RangeIndex: 53818 entries, 0 to 53817\n",
            "Data columns (total 2 columns):\n",
            " #   Column  Non-Null Count  Dtype\n",
            "---  ------  --------------  -----\n",
            " 0   zip     53818 non-null  int64\n",
            " 1   county  53818 non-null  int64\n",
            "dtypes: int64(2)\n",
            "memory usage: 841.0 KB\n"
          ],
          "name": "stdout"
        }
      ]
    },
    {
      "cell_type": "code",
      "metadata": {
        "id": "wY-iJccV-OUT"
      },
      "source": [
        "#seda['countyid'] = seda['countyid'].astype('Int64')\n",
        "#seda['lzip'] = seda['lzip'].astype('Int64')  \n",
        "#when conver to int, it is giving error message due to missing values, assign it as Int64 solved the problem "
      ],
      "execution_count": null,
      "outputs": []
    },
    {
      "cell_type": "code",
      "metadata": {
        "id": "dORweUgw7xXQ"
      },
      "source": [
        "zip_county_ID = dict(zip(hub['zip'], hub['county']))\n",
        "zip_county_ID"
      ],
      "execution_count": null,
      "outputs": []
    },
    {
      "cell_type": "code",
      "metadata": {
        "id": "4H63o40j0uhS"
      },
      "source": [
        "# zip_county_ID = dict(zip(usage_zip['POSTAL CODE'], usage_zip['COUNTY ID']))\n",
        "# This list use the usage data, but some zip codes are not having county information in this list for mapping "
      ],
      "execution_count": null,
      "outputs": []
    },
    {
      "cell_type": "code",
      "metadata": {
        "id": "KlOhJA-C7_16"
      },
      "source": [
        "#Add a column of countyID to the Broadband data by zipcode\n",
        "broadband[\"countyID\"] = broadband[\"Zip\"].map(zip_county_ID)"
      ],
      "execution_count": null,
      "outputs": []
    },
    {
      "cell_type": "code",
      "metadata": {
        "colab": {
          "base_uri": "https://localhost:8080/",
          "height": 360
        },
        "id": "9s1EUGSN22sz",
        "outputId": "faf2c07d-e965-433b-f48e-9ffe393b0607"
      },
      "source": [
        "broadband.head()"
      ],
      "execution_count": null,
      "outputs": [
        {
          "output_type": "execute_result",
          "data": {
            "text/html": [
              "<div>\n",
              "<style scoped>\n",
              "    .dataframe tbody tr th:only-of-type {\n",
              "        vertical-align: middle;\n",
              "    }\n",
              "\n",
              "    .dataframe tbody tr th {\n",
              "        vertical-align: top;\n",
              "    }\n",
              "\n",
              "    .dataframe thead th {\n",
              "        text-align: right;\n",
              "    }\n",
              "</style>\n",
              "<table border=\"1\" class=\"dataframe\">\n",
              "  <thead>\n",
              "    <tr style=\"text-align: right;\">\n",
              "      <th></th>\n",
              "      <th>Zip</th>\n",
              "      <th>Population</th>\n",
              "      <th>County</th>\n",
              "      <th>State</th>\n",
              "      <th>WiredCount_2020</th>\n",
              "      <th>Fwcount_2020</th>\n",
              "      <th>AllProviderCount_2020</th>\n",
              "      <th>Wired25_3_2020</th>\n",
              "      <th>Wired100_3_2020</th>\n",
              "      <th>All25_3_2020</th>\n",
              "      <th>All100_3</th>\n",
              "      <th>TestCount</th>\n",
              "      <th>AverageMbps</th>\n",
              "      <th>FastestAverageMbps</th>\n",
              "      <th>%Access to Terrestrial Broadband</th>\n",
              "      <th>Lowest Priced Terrestrial Broadband Plan</th>\n",
              "      <th>WiredCount_2015</th>\n",
              "      <th>Fwcount_2015</th>\n",
              "      <th>AllProviderCount_2015</th>\n",
              "      <th>Wired25_3_2015</th>\n",
              "      <th>Wired100_3_2015</th>\n",
              "      <th>All25_3_2015</th>\n",
              "      <th>All100_3.1</th>\n",
              "      <th>ST</th>\n",
              "      <th>countyID</th>\n",
              "    </tr>\n",
              "  </thead>\n",
              "  <tbody>\n",
              "    <tr>\n",
              "      <th>0</th>\n",
              "      <td>29620</td>\n",
              "      <td>12934.0</td>\n",
              "      <td>Abbeville</td>\n",
              "      <td>South Carolina</td>\n",
              "      <td>6.0</td>\n",
              "      <td>0.0</td>\n",
              "      <td>11.0</td>\n",
              "      <td>5.0</td>\n",
              "      <td>3.0</td>\n",
              "      <td>7.0</td>\n",
              "      <td>3.0</td>\n",
              "      <td>2536.0</td>\n",
              "      <td>212.50</td>\n",
              "      <td>536.35</td>\n",
              "      <td>98%</td>\n",
              "      <td>40.00</td>\n",
              "      <td>6.0</td>\n",
              "      <td>0.0</td>\n",
              "      <td>8.0</td>\n",
              "      <td>3.0</td>\n",
              "      <td>3.0</td>\n",
              "      <td>3.0</td>\n",
              "      <td>3.0</td>\n",
              "      <td>SC</td>\n",
              "      <td>45001.0</td>\n",
              "    </tr>\n",
              "    <tr>\n",
              "      <th>1</th>\n",
              "      <td>29628</td>\n",
              "      <td>2759.0</td>\n",
              "      <td>Abbeville</td>\n",
              "      <td>South Carolina</td>\n",
              "      <td>4.0</td>\n",
              "      <td>0.0</td>\n",
              "      <td>8.0</td>\n",
              "      <td>3.0</td>\n",
              "      <td>2.0</td>\n",
              "      <td>5.0</td>\n",
              "      <td>2.0</td>\n",
              "      <td>100.0</td>\n",
              "      <td>51.12</td>\n",
              "      <td>126.06</td>\n",
              "      <td>95%</td>\n",
              "      <td>40.00</td>\n",
              "      <td>4.0</td>\n",
              "      <td>0.0</td>\n",
              "      <td>6.0</td>\n",
              "      <td>3.0</td>\n",
              "      <td>3.0</td>\n",
              "      <td>3.0</td>\n",
              "      <td>3.0</td>\n",
              "      <td>SC</td>\n",
              "      <td>45065.0</td>\n",
              "    </tr>\n",
              "    <tr>\n",
              "      <th>2</th>\n",
              "      <td>29638</td>\n",
              "      <td>2944.0</td>\n",
              "      <td>Abbeville</td>\n",
              "      <td>South Carolina</td>\n",
              "      <td>6.0</td>\n",
              "      <td>1.0</td>\n",
              "      <td>13.0</td>\n",
              "      <td>4.0</td>\n",
              "      <td>4.0</td>\n",
              "      <td>6.0</td>\n",
              "      <td>4.0</td>\n",
              "      <td>272.0</td>\n",
              "      <td>82.79</td>\n",
              "      <td>222.35</td>\n",
              "      <td>95%</td>\n",
              "      <td>40.00</td>\n",
              "      <td>5.0</td>\n",
              "      <td>0.0</td>\n",
              "      <td>7.0</td>\n",
              "      <td>2.0</td>\n",
              "      <td>2.0</td>\n",
              "      <td>2.0</td>\n",
              "      <td>2.0</td>\n",
              "      <td>SC</td>\n",
              "      <td>45001.0</td>\n",
              "    </tr>\n",
              "    <tr>\n",
              "      <th>3</th>\n",
              "      <td>29639</td>\n",
              "      <td>1742.0</td>\n",
              "      <td>Abbeville</td>\n",
              "      <td>South Carolina</td>\n",
              "      <td>3.0</td>\n",
              "      <td>0.0</td>\n",
              "      <td>8.0</td>\n",
              "      <td>3.0</td>\n",
              "      <td>3.0</td>\n",
              "      <td>5.0</td>\n",
              "      <td>3.0</td>\n",
              "      <td>163.0</td>\n",
              "      <td>93.12</td>\n",
              "      <td>223.75</td>\n",
              "      <td>90%</td>\n",
              "      <td>40.00</td>\n",
              "      <td>3.0</td>\n",
              "      <td>0.0</td>\n",
              "      <td>5.0</td>\n",
              "      <td>3.0</td>\n",
              "      <td>3.0</td>\n",
              "      <td>3.0</td>\n",
              "      <td>3.0</td>\n",
              "      <td>SC</td>\n",
              "      <td>45001.0</td>\n",
              "    </tr>\n",
              "    <tr>\n",
              "      <th>4</th>\n",
              "      <td>70516</td>\n",
              "      <td>1546.0</td>\n",
              "      <td>Acadia</td>\n",
              "      <td>Louisiana</td>\n",
              "      <td>4.0</td>\n",
              "      <td>3.0</td>\n",
              "      <td>12.0</td>\n",
              "      <td>2.0</td>\n",
              "      <td>2.0</td>\n",
              "      <td>4.0</td>\n",
              "      <td>2.0</td>\n",
              "      <td>49.0</td>\n",
              "      <td>2.76</td>\n",
              "      <td>9.41</td>\n",
              "      <td>33%</td>\n",
              "      <td>69.99</td>\n",
              "      <td>4.0</td>\n",
              "      <td>2.0</td>\n",
              "      <td>8.0</td>\n",
              "      <td>2.0</td>\n",
              "      <td>1.0</td>\n",
              "      <td>2.0</td>\n",
              "      <td>1.0</td>\n",
              "      <td>LA</td>\n",
              "      <td>22001.0</td>\n",
              "    </tr>\n",
              "  </tbody>\n",
              "</table>\n",
              "</div>"
            ],
            "text/plain": [
              "     Zip  Population     County  ... All100_3.1  ST  countyID\n",
              "0  29620     12934.0  Abbeville  ...        3.0  SC   45001.0\n",
              "1  29628      2759.0  Abbeville  ...        3.0  SC   45065.0\n",
              "2  29638      2944.0  Abbeville  ...        2.0  SC   45001.0\n",
              "3  29639      1742.0  Abbeville  ...        3.0  SC   45001.0\n",
              "4  70516      1546.0     Acadia  ...        1.0  LA   22001.0\n",
              "\n",
              "[5 rows x 25 columns]"
            ]
          },
          "metadata": {
            "tags": []
          },
          "execution_count": 77
        }
      ]
    },
    {
      "cell_type": "code",
      "metadata": {
        "colab": {
          "base_uri": "https://localhost:8080/"
        },
        "id": "9VFKnGSd31jC",
        "outputId": "2be30065-f193-465b-8ee0-0d5087cbca4d"
      },
      "source": [
        "broadband['countyID'].isna().sum()"
      ],
      "execution_count": null,
      "outputs": [
        {
          "output_type": "execute_result",
          "data": {
            "text/plain": [
              "1378"
            ]
          },
          "metadata": {
            "tags": []
          },
          "execution_count": 78
        }
      ]
    },
    {
      "cell_type": "code",
      "metadata": {
        "colab": {
          "base_uri": "https://localhost:8080/",
          "height": 592
        },
        "id": "GrJIDQlp4LXZ",
        "outputId": "61a61834-8cad-497c-fe67-052b88ad810b"
      },
      "source": [
        "broadband[broadband['countyID'].isnull()] #Double Brackets will select the rows that have missing values in the countyID column"
      ],
      "execution_count": null,
      "outputs": [
        {
          "output_type": "execute_result",
          "data": {
            "text/html": [
              "<div>\n",
              "<style scoped>\n",
              "    .dataframe tbody tr th:only-of-type {\n",
              "        vertical-align: middle;\n",
              "    }\n",
              "\n",
              "    .dataframe tbody tr th {\n",
              "        vertical-align: top;\n",
              "    }\n",
              "\n",
              "    .dataframe thead th {\n",
              "        text-align: right;\n",
              "    }\n",
              "</style>\n",
              "<table border=\"1\" class=\"dataframe\">\n",
              "  <thead>\n",
              "    <tr style=\"text-align: right;\">\n",
              "      <th></th>\n",
              "      <th>Zip</th>\n",
              "      <th>Population</th>\n",
              "      <th>County</th>\n",
              "      <th>State</th>\n",
              "      <th>WiredCount_2020</th>\n",
              "      <th>Fwcount_2020</th>\n",
              "      <th>AllProviderCount_2020</th>\n",
              "      <th>Wired25_3_2020</th>\n",
              "      <th>Wired100_3_2020</th>\n",
              "      <th>All25_3_2020</th>\n",
              "      <th>All100_3</th>\n",
              "      <th>TestCount</th>\n",
              "      <th>AverageMbps</th>\n",
              "      <th>FastestAverageMbps</th>\n",
              "      <th>%Access to Terrestrial Broadband</th>\n",
              "      <th>Lowest Priced Terrestrial Broadband Plan</th>\n",
              "      <th>WiredCount_2015</th>\n",
              "      <th>Fwcount_2015</th>\n",
              "      <th>AllProviderCount_2015</th>\n",
              "      <th>Wired25_3_2015</th>\n",
              "      <th>Wired100_3_2015</th>\n",
              "      <th>All25_3_2015</th>\n",
              "      <th>All100_3.1</th>\n",
              "      <th>ST</th>\n",
              "      <th>countyID</th>\n",
              "    </tr>\n",
              "  </thead>\n",
              "  <tbody>\n",
              "    <tr>\n",
              "      <th>13</th>\n",
              "      <td>23345</td>\n",
              "      <td>NaN</td>\n",
              "      <td>Accomack</td>\n",
              "      <td>Virginia</td>\n",
              "      <td>NaN</td>\n",
              "      <td>NaN</td>\n",
              "      <td>NaN</td>\n",
              "      <td>NaN</td>\n",
              "      <td>NaN</td>\n",
              "      <td>NaN</td>\n",
              "      <td>NaN</td>\n",
              "      <td>NaN</td>\n",
              "      <td>NaN</td>\n",
              "      <td>NaN</td>\n",
              "      <td>NaN</td>\n",
              "      <td>NaN</td>\n",
              "      <td>NaN</td>\n",
              "      <td>NaN</td>\n",
              "      <td>NaN</td>\n",
              "      <td>NaN</td>\n",
              "      <td>NaN</td>\n",
              "      <td>NaN</td>\n",
              "      <td>NaN</td>\n",
              "      <td>VA</td>\n",
              "      <td>NaN</td>\n",
              "    </tr>\n",
              "    <tr>\n",
              "      <th>17</th>\n",
              "      <td>23396</td>\n",
              "      <td>NaN</td>\n",
              "      <td>Accomack</td>\n",
              "      <td>Virginia</td>\n",
              "      <td>NaN</td>\n",
              "      <td>NaN</td>\n",
              "      <td>NaN</td>\n",
              "      <td>NaN</td>\n",
              "      <td>NaN</td>\n",
              "      <td>NaN</td>\n",
              "      <td>NaN</td>\n",
              "      <td>NaN</td>\n",
              "      <td>NaN</td>\n",
              "      <td>NaN</td>\n",
              "      <td>NaN</td>\n",
              "      <td>NaN</td>\n",
              "      <td>NaN</td>\n",
              "      <td>NaN</td>\n",
              "      <td>NaN</td>\n",
              "      <td>NaN</td>\n",
              "      <td>NaN</td>\n",
              "      <td>NaN</td>\n",
              "      <td>NaN</td>\n",
              "      <td>VA</td>\n",
              "      <td>NaN</td>\n",
              "    </tr>\n",
              "    <tr>\n",
              "      <th>18</th>\n",
              "      <td>23399</td>\n",
              "      <td>NaN</td>\n",
              "      <td>Accomack</td>\n",
              "      <td>Virginia</td>\n",
              "      <td>NaN</td>\n",
              "      <td>NaN</td>\n",
              "      <td>NaN</td>\n",
              "      <td>NaN</td>\n",
              "      <td>NaN</td>\n",
              "      <td>NaN</td>\n",
              "      <td>NaN</td>\n",
              "      <td>NaN</td>\n",
              "      <td>NaN</td>\n",
              "      <td>NaN</td>\n",
              "      <td>NaN</td>\n",
              "      <td>NaN</td>\n",
              "      <td>NaN</td>\n",
              "      <td>NaN</td>\n",
              "      <td>NaN</td>\n",
              "      <td>NaN</td>\n",
              "      <td>NaN</td>\n",
              "      <td>NaN</td>\n",
              "      <td>NaN</td>\n",
              "      <td>VA</td>\n",
              "      <td>NaN</td>\n",
              "    </tr>\n",
              "    <tr>\n",
              "      <th>41</th>\n",
              "      <td>83721</td>\n",
              "      <td>NaN</td>\n",
              "      <td>Ada</td>\n",
              "      <td>Idaho</td>\n",
              "      <td>NaN</td>\n",
              "      <td>NaN</td>\n",
              "      <td>NaN</td>\n",
              "      <td>NaN</td>\n",
              "      <td>NaN</td>\n",
              "      <td>NaN</td>\n",
              "      <td>NaN</td>\n",
              "      <td>NaN</td>\n",
              "      <td>NaN</td>\n",
              "      <td>NaN</td>\n",
              "      <td>NaN</td>\n",
              "      <td>NaN</td>\n",
              "      <td>NaN</td>\n",
              "      <td>NaN</td>\n",
              "      <td>NaN</td>\n",
              "      <td>NaN</td>\n",
              "      <td>NaN</td>\n",
              "      <td>NaN</td>\n",
              "      <td>NaN</td>\n",
              "      <td>ID</td>\n",
              "      <td>NaN</td>\n",
              "    </tr>\n",
              "    <tr>\n",
              "      <th>42</th>\n",
              "      <td>83722</td>\n",
              "      <td>NaN</td>\n",
              "      <td>Ada</td>\n",
              "      <td>Idaho</td>\n",
              "      <td>NaN</td>\n",
              "      <td>NaN</td>\n",
              "      <td>NaN</td>\n",
              "      <td>NaN</td>\n",
              "      <td>NaN</td>\n",
              "      <td>NaN</td>\n",
              "      <td>NaN</td>\n",
              "      <td>NaN</td>\n",
              "      <td>NaN</td>\n",
              "      <td>NaN</td>\n",
              "      <td>NaN</td>\n",
              "      <td>NaN</td>\n",
              "      <td>NaN</td>\n",
              "      <td>NaN</td>\n",
              "      <td>NaN</td>\n",
              "      <td>NaN</td>\n",
              "      <td>NaN</td>\n",
              "      <td>NaN</td>\n",
              "      <td>NaN</td>\n",
              "      <td>ID</td>\n",
              "      <td>NaN</td>\n",
              "    </tr>\n",
              "    <tr>\n",
              "      <th>...</th>\n",
              "      <td>...</td>\n",
              "      <td>...</td>\n",
              "      <td>...</td>\n",
              "      <td>...</td>\n",
              "      <td>...</td>\n",
              "      <td>...</td>\n",
              "      <td>...</td>\n",
              "      <td>...</td>\n",
              "      <td>...</td>\n",
              "      <td>...</td>\n",
              "      <td>...</td>\n",
              "      <td>...</td>\n",
              "      <td>...</td>\n",
              "      <td>...</td>\n",
              "      <td>...</td>\n",
              "      <td>...</td>\n",
              "      <td>...</td>\n",
              "      <td>...</td>\n",
              "      <td>...</td>\n",
              "      <td>...</td>\n",
              "      <td>...</td>\n",
              "      <td>...</td>\n",
              "      <td>...</td>\n",
              "      <td>...</td>\n",
              "      <td>...</td>\n",
              "    </tr>\n",
              "    <tr>\n",
              "      <th>32479</th>\n",
              "      <td>99950</td>\n",
              "      <td>NaN</td>\n",
              "      <td>Ketchikan Gateway</td>\n",
              "      <td>Alaska</td>\n",
              "      <td>NaN</td>\n",
              "      <td>NaN</td>\n",
              "      <td>NaN</td>\n",
              "      <td>NaN</td>\n",
              "      <td>NaN</td>\n",
              "      <td>NaN</td>\n",
              "      <td>NaN</td>\n",
              "      <td>NaN</td>\n",
              "      <td>NaN</td>\n",
              "      <td>NaN</td>\n",
              "      <td>NaN</td>\n",
              "      <td>NaN</td>\n",
              "      <td>NaN</td>\n",
              "      <td>NaN</td>\n",
              "      <td>NaN</td>\n",
              "      <td>NaN</td>\n",
              "      <td>NaN</td>\n",
              "      <td>NaN</td>\n",
              "      <td>NaN</td>\n",
              "      <td>AK</td>\n",
              "      <td>NaN</td>\n",
              "    </tr>\n",
              "    <tr>\n",
              "      <th>32481</th>\n",
              "      <td>99619</td>\n",
              "      <td>NaN</td>\n",
              "      <td>Kodiak Island</td>\n",
              "      <td>Alaska</td>\n",
              "      <td>NaN</td>\n",
              "      <td>NaN</td>\n",
              "      <td>NaN</td>\n",
              "      <td>NaN</td>\n",
              "      <td>NaN</td>\n",
              "      <td>NaN</td>\n",
              "      <td>NaN</td>\n",
              "      <td>NaN</td>\n",
              "      <td>NaN</td>\n",
              "      <td>NaN</td>\n",
              "      <td>NaN</td>\n",
              "      <td>NaN</td>\n",
              "      <td>NaN</td>\n",
              "      <td>NaN</td>\n",
              "      <td>NaN</td>\n",
              "      <td>NaN</td>\n",
              "      <td>NaN</td>\n",
              "      <td>NaN</td>\n",
              "      <td>NaN</td>\n",
              "      <td>AK</td>\n",
              "      <td>NaN</td>\n",
              "    </tr>\n",
              "    <tr>\n",
              "      <th>32486</th>\n",
              "      <td>99697</td>\n",
              "      <td>NaN</td>\n",
              "      <td>Kodiak Island</td>\n",
              "      <td>Alaska</td>\n",
              "      <td>NaN</td>\n",
              "      <td>NaN</td>\n",
              "      <td>NaN</td>\n",
              "      <td>NaN</td>\n",
              "      <td>NaN</td>\n",
              "      <td>NaN</td>\n",
              "      <td>NaN</td>\n",
              "      <td>NaN</td>\n",
              "      <td>NaN</td>\n",
              "      <td>NaN</td>\n",
              "      <td>NaN</td>\n",
              "      <td>NaN</td>\n",
              "      <td>NaN</td>\n",
              "      <td>NaN</td>\n",
              "      <td>NaN</td>\n",
              "      <td>NaN</td>\n",
              "      <td>NaN</td>\n",
              "      <td>NaN</td>\n",
              "      <td>NaN</td>\n",
              "      <td>AK</td>\n",
              "      <td>NaN</td>\n",
              "    </tr>\n",
              "    <tr>\n",
              "      <th>32487</th>\n",
              "      <td>99695</td>\n",
              "      <td>7.0</td>\n",
              "      <td>Lake and Peninsula</td>\n",
              "      <td>Alaska</td>\n",
              "      <td>0.0</td>\n",
              "      <td>0.0</td>\n",
              "      <td>1.0</td>\n",
              "      <td>0.0</td>\n",
              "      <td>0.0</td>\n",
              "      <td>1.0</td>\n",
              "      <td>0.0</td>\n",
              "      <td>NaN</td>\n",
              "      <td>NaN</td>\n",
              "      <td>NaN</td>\n",
              "      <td>0</td>\n",
              "      <td>NaN</td>\n",
              "      <td>0.0</td>\n",
              "      <td>0.0</td>\n",
              "      <td>1.0</td>\n",
              "      <td>0.0</td>\n",
              "      <td>0.0</td>\n",
              "      <td>0.0</td>\n",
              "      <td>0.0</td>\n",
              "      <td>AK</td>\n",
              "      <td>NaN</td>\n",
              "    </tr>\n",
              "    <tr>\n",
              "      <th>32500</th>\n",
              "      <td>99629</td>\n",
              "      <td>NaN</td>\n",
              "      <td>Matanuska-Susitna</td>\n",
              "      <td>Alaska</td>\n",
              "      <td>NaN</td>\n",
              "      <td>NaN</td>\n",
              "      <td>NaN</td>\n",
              "      <td>NaN</td>\n",
              "      <td>NaN</td>\n",
              "      <td>NaN</td>\n",
              "      <td>NaN</td>\n",
              "      <td>NaN</td>\n",
              "      <td>NaN</td>\n",
              "      <td>NaN</td>\n",
              "      <td>NaN</td>\n",
              "      <td>NaN</td>\n",
              "      <td>NaN</td>\n",
              "      <td>NaN</td>\n",
              "      <td>NaN</td>\n",
              "      <td>NaN</td>\n",
              "      <td>NaN</td>\n",
              "      <td>NaN</td>\n",
              "      <td>NaN</td>\n",
              "      <td>AK</td>\n",
              "      <td>NaN</td>\n",
              "    </tr>\n",
              "  </tbody>\n",
              "</table>\n",
              "<p>1378 rows × 25 columns</p>\n",
              "</div>"
            ],
            "text/plain": [
              "         Zip  Population              County  ... All100_3.1  ST  countyID\n",
              "13     23345         NaN            Accomack  ...        NaN  VA       NaN\n",
              "17     23396         NaN            Accomack  ...        NaN  VA       NaN\n",
              "18     23399         NaN            Accomack  ...        NaN  VA       NaN\n",
              "41     83721         NaN                 Ada  ...        NaN  ID       NaN\n",
              "42     83722         NaN                 Ada  ...        NaN  ID       NaN\n",
              "...      ...         ...                 ...  ...        ...  ..       ...\n",
              "32479  99950         NaN   Ketchikan Gateway  ...        NaN  AK       NaN\n",
              "32481  99619         NaN       Kodiak Island  ...        NaN  AK       NaN\n",
              "32486  99697         NaN       Kodiak Island  ...        NaN  AK       NaN\n",
              "32487  99695         7.0  Lake and Peninsula  ...        0.0  AK       NaN\n",
              "32500  99629         NaN   Matanuska-Susitna  ...        NaN  AK       NaN\n",
              "\n",
              "[1378 rows x 25 columns]"
            ]
          },
          "metadata": {
            "tags": []
          },
          "execution_count": 79
        }
      ]
    },
    {
      "cell_type": "code",
      "metadata": {
        "colab": {
          "base_uri": "https://localhost:8080/"
        },
        "id": "16EE6K1dCiEQ",
        "outputId": "a54735bd-2036-4cf2-9045-718c6af9a66c"
      },
      "source": [
        "#export the file for use \n",
        "\n",
        "# This allow you to set up google drive as the directory. \n",
        "from google.colab import drive\n",
        "drive.mount('/content/drive')\n",
        "\n",
        "import os   # Assign the folder as current directory \n",
        "os.chdir('/content/drive/My Drive/Colab Notebooks/Create county id and name dictionary')\n",
        "\n",
        "broadband.to_csv(('/content/drive/My Drive/Colab Notebooks/Create county id and name dictionary/broadband.csv'), index=False)"
      ],
      "execution_count": null,
      "outputs": [
        {
          "output_type": "stream",
          "text": [
            "Drive already mounted at /content/drive; to attempt to forcibly remount, call drive.mount(\"/content/drive\", force_remount=True).\n"
          ],
          "name": "stdout"
        }
      ]
    },
    {
      "cell_type": "markdown",
      "metadata": {
        "id": "FKBtKUCs75g3"
      },
      "source": [
        "Create a multiple value dictionary from the microsoft dataset "
      ]
    },
    {
      "cell_type": "code",
      "metadata": {
        "id": "_k9wvoqEfdvW"
      },
      "source": [
        "# https://stackoverflow.com/questions/58179593/how-to-combine-join-and-lambda-x-x-tolist-inside-an-groupby-agg-functio"
      ],
      "execution_count": null,
      "outputs": []
    },
    {
      "cell_type": "code",
      "metadata": {
        "id": "cfLr_jsNertH"
      },
      "source": [
        "#has to convert values to string before using this \n",
        "broadband['Zip'] = broadband['Zip'].astype(str)\n",
        "df1 = broadband.groupby('County')['Zip'].agg([('a', ';'.join), ('b',  lambda x: x.tolist())])"
      ],
      "execution_count": null,
      "outputs": []
    },
    {
      "cell_type": "code",
      "metadata": {
        "colab": {
          "base_uri": "https://localhost:8080/",
          "height": 235
        },
        "id": "lpbCr20TfKKJ",
        "outputId": "a9c4f6eb-c9fb-480b-a728-7f679184c2ad"
      },
      "source": [
        "df1.head()"
      ],
      "execution_count": null,
      "outputs": [
        {
          "output_type": "execute_result",
          "data": {
            "text/html": [
              "<div>\n",
              "<style scoped>\n",
              "    .dataframe tbody tr th:only-of-type {\n",
              "        vertical-align: middle;\n",
              "    }\n",
              "\n",
              "    .dataframe tbody tr th {\n",
              "        vertical-align: top;\n",
              "    }\n",
              "\n",
              "    .dataframe thead th {\n",
              "        text-align: right;\n",
              "    }\n",
              "</style>\n",
              "<table border=\"1\" class=\"dataframe\">\n",
              "  <thead>\n",
              "    <tr style=\"text-align: right;\">\n",
              "      <th></th>\n",
              "      <th>a</th>\n",
              "      <th>b</th>\n",
              "    </tr>\n",
              "    <tr>\n",
              "      <th>County</th>\n",
              "      <th></th>\n",
              "      <th></th>\n",
              "    </tr>\n",
              "  </thead>\n",
              "  <tbody>\n",
              "    <tr>\n",
              "      <th>Abbeville</th>\n",
              "      <td>29620;29628;29638;29639</td>\n",
              "      <td>[29620, 29628, 29638, 29639]</td>\n",
              "    </tr>\n",
              "    <tr>\n",
              "      <th>Acadia</th>\n",
              "      <td>70516;70525;70526;70531;70537;70543;70559;70578</td>\n",
              "      <td>[70516, 70525, 70526, 70531, 70537, 70543, 705...</td>\n",
              "    </tr>\n",
              "    <tr>\n",
              "      <th>Accomack</th>\n",
              "      <td>23302;23345;23357;23358;23359;23396;23399;2340...</td>\n",
              "      <td>[23302, 23345, 23357, 23358, 23359, 23396, 233...</td>\n",
              "    </tr>\n",
              "    <tr>\n",
              "      <th>Ada</th>\n",
              "      <td>83708;83720;83721;83722;83724;83725;83726;8372...</td>\n",
              "      <td>[83708, 83720, 83721, 83722, 83724, 83725, 837...</td>\n",
              "    </tr>\n",
              "    <tr>\n",
              "      <th>Adair</th>\n",
              "      <td>50002;50070;50837;50846;50849;50858;42715;4274...</td>\n",
              "      <td>[50002, 50070, 50837, 50846, 50849, 50858, 427...</td>\n",
              "    </tr>\n",
              "  </tbody>\n",
              "</table>\n",
              "</div>"
            ],
            "text/plain": [
              "                                                           a                                                  b\n",
              "County                                                                                                         \n",
              "Abbeville                            29620;29628;29638;29639                       [29620, 29628, 29638, 29639]\n",
              "Acadia       70516;70525;70526;70531;70537;70543;70559;70578  [70516, 70525, 70526, 70531, 70537, 70543, 705...\n",
              "Accomack   23302;23345;23357;23358;23359;23396;23399;2340...  [23302, 23345, 23357, 23358, 23359, 23396, 233...\n",
              "Ada        83708;83720;83721;83722;83724;83725;83726;8372...  [83708, 83720, 83721, 83722, 83724, 83725, 837...\n",
              "Adair      50002;50070;50837;50846;50849;50858;42715;4274...  [50002, 50070, 50837, 50846, 50849, 50858, 427..."
            ]
          },
          "metadata": {
            "tags": []
          },
          "execution_count": 19
        }
      ]
    },
    {
      "cell_type": "code",
      "metadata": {
        "id": "S7ohw8IrMHNV"
      },
      "source": [
        "#Make County ID and County Name as a dictionary \n",
        "county_list = dict(zip(usage_zip['COUNTY NAME'], usage_zip['COUNTY ID']))"
      ],
      "execution_count": null,
      "outputs": []
    },
    {
      "cell_type": "code",
      "metadata": {
        "colab": {
          "base_uri": "https://localhost:8080/"
        },
        "id": "WJdrUxSC7_zK",
        "outputId": "a395c615-ecbf-4a55-efdd-0a15a6261a6b"
      },
      "source": [
        "a = usage_zip.groupby('POSTAL CODE')\n",
        "#First, group the zip code values in the usage dataset, a is stored as a grouby-dataframe \n",
        "a['COUNTY ID'].apply(lambda s: s.tolist())\n",
        "#Apply tolist() function to each of the group in zipcode by County ID \n"
      ],
      "execution_count": null,
      "outputs": [
        {
          "output_type": "execute_result",
          "data": {
            "text/plain": [
              "POSTAL CODE\n",
              "1001     [25013]\n",
              "1002     [25015]\n",
              "1003     [25015]\n",
              "1005     [25027]\n",
              "1007     [25015]\n",
              "          ...   \n",
              "99923     [2198]\n",
              "99925     [2198]\n",
              "99926     [2198]\n",
              "99927     [2198]\n",
              "99929     [2275]\n",
              "Name: COUNTY ID, Length: 32653, dtype: object"
            ]
          },
          "metadata": {
            "tags": []
          },
          "execution_count": 20
        }
      ]
    },
    {
      "cell_type": "markdown",
      "metadata": {
        "id": "9cnSRURBV8UY"
      },
      "source": [
        "Check ELSI data from NCES\n"
      ]
    },
    {
      "cell_type": "code",
      "metadata": {
        "id": "FMd_zsLjV_V3"
      },
      "source": [
        "school = pd.read_csv('/content/ELSI_csv_export_title1.csv', delimiter= ',')"
      ],
      "execution_count": null,
      "outputs": []
    },
    {
      "cell_type": "code",
      "metadata": {
        "colab": {
          "base_uri": "https://localhost:8080/",
          "height": 374
        },
        "id": "L0kUV9MpWXv_",
        "outputId": "70b1d467-701d-4fed-c4e9-31275fd4af2a"
      },
      "source": [
        "school.head()"
      ],
      "execution_count": null,
      "outputs": [
        {
          "output_type": "execute_result",
          "data": {
            "text/html": [
              "<div>\n",
              "<style scoped>\n",
              "    .dataframe tbody tr th:only-of-type {\n",
              "        vertical-align: middle;\n",
              "    }\n",
              "\n",
              "    .dataframe tbody tr th {\n",
              "        vertical-align: top;\n",
              "    }\n",
              "\n",
              "    .dataframe thead th {\n",
              "        text-align: right;\n",
              "    }\n",
              "</style>\n",
              "<table border=\"1\" class=\"dataframe\">\n",
              "  <thead>\n",
              "    <tr style=\"text-align: right;\">\n",
              "      <th></th>\n",
              "      <th>School Name</th>\n",
              "      <th>State Name [Public School] Latest available year</th>\n",
              "      <th>Title I School Status [Public School] 2018-19</th>\n",
              "      <th>State Abbr [Public School] Latest available year</th>\n",
              "      <th>School Name [Public School] 2018-19</th>\n",
              "      <th>School ID - NCES Assigned [Public School] Latest available year</th>\n",
              "      <th>County Name [Public School] 2018-19</th>\n",
              "      <th>County Number [Public School] 2018-19</th>\n",
              "      <th>ANSI/FIPS State Code [Public School] Latest available year</th>\n",
              "    </tr>\n",
              "  </thead>\n",
              "  <tbody>\n",
              "    <tr>\n",
              "      <th>0</th>\n",
              "      <td>1 LT CHARLES W. WHITCOMB SCHOOL</td>\n",
              "      <td>Massachusetts</td>\n",
              "      <td>5-Title I schoolwide school</td>\n",
              "      <td>MA</td>\n",
              "      <td>1 LT Charles W. Whitcomb School</td>\n",
              "      <td>2.507320e+11</td>\n",
              "      <td>Middlesex County</td>\n",
              "      <td>25017.0</td>\n",
              "      <td>25.0</td>\n",
              "    </tr>\n",
              "    <tr>\n",
              "      <th>1</th>\n",
              "      <td>10TH STREET SCHOOL</td>\n",
              "      <td>Washington</td>\n",
              "      <td>6-Not a Title I school</td>\n",
              "      <td>WA</td>\n",
              "      <td>10th Street School</td>\n",
              "      <td>5.304860e+11</td>\n",
              "      <td>Snohomish County</td>\n",
              "      <td>53061.0</td>\n",
              "      <td>53.0</td>\n",
              "    </tr>\n",
              "    <tr>\n",
              "      <th>2</th>\n",
              "      <td>112 ALC INDEPENDENT STUDY</td>\n",
              "      <td>Minnesota</td>\n",
              "      <td>2-Title I targeted assistance school</td>\n",
              "      <td>MN</td>\n",
              "      <td>112 ALC Independent Study</td>\n",
              "      <td>2.708190e+11</td>\n",
              "      <td>Carver County</td>\n",
              "      <td>27019.0</td>\n",
              "      <td>27.0</td>\n",
              "    </tr>\n",
              "    <tr>\n",
              "      <th>3</th>\n",
              "      <td>112 ALC MIDDLE SCHOOL</td>\n",
              "      <td>Minnesota</td>\n",
              "      <td>2-Title I targeted assistance school</td>\n",
              "      <td>MN</td>\n",
              "      <td>112 ALC MIDDLE SCHOOL</td>\n",
              "      <td>2.708190e+11</td>\n",
              "      <td>Carver County</td>\n",
              "      <td>27019.0</td>\n",
              "      <td>27.0</td>\n",
              "    </tr>\n",
              "    <tr>\n",
              "      <th>4</th>\n",
              "      <td>112 ALC SEAT-BASED</td>\n",
              "      <td>MINNESOTA</td>\n",
              "      <td>2-Title I targeted assistance school</td>\n",
              "      <td>MN</td>\n",
              "      <td>112 ALC Seat-Based</td>\n",
              "      <td>2.708190e+11</td>\n",
              "      <td>Carver County</td>\n",
              "      <td>27019.0</td>\n",
              "      <td>27.0</td>\n",
              "    </tr>\n",
              "  </tbody>\n",
              "</table>\n",
              "</div>"
            ],
            "text/plain": [
              "                       School Name  ... ANSI/FIPS State Code [Public School] Latest available year\n",
              "0  1 LT CHARLES W. WHITCOMB SCHOOL  ...                                               25.0        \n",
              "1               10TH STREET SCHOOL  ...                                               53.0        \n",
              "2        112 ALC INDEPENDENT STUDY  ...                                               27.0        \n",
              "3            112 ALC MIDDLE SCHOOL  ...                                               27.0        \n",
              "4               112 ALC SEAT-BASED  ...                                               27.0        \n",
              "\n",
              "[5 rows x 9 columns]"
            ]
          },
          "metadata": {
            "tags": []
          },
          "execution_count": 5
        }
      ]
    },
    {
      "cell_type": "code",
      "metadata": {
        "colab": {
          "base_uri": "https://localhost:8080/"
        },
        "id": "r_heOOjJWb3P",
        "outputId": "f97ea3da-8a51-4f86-98dd-a30fc020092b"
      },
      "source": [
        "school['County Number [Public School] 2018-19'].nunique()"
      ],
      "execution_count": null,
      "outputs": [
        {
          "output_type": "execute_result",
          "data": {
            "text/plain": [
              "3138"
            ]
          },
          "metadata": {
            "tags": []
          },
          "execution_count": 7
        }
      ]
    },
    {
      "cell_type": "markdown",
      "metadata": {
        "id": "LiWBao8ebjUQ"
      },
      "source": [
        "Array https://stackoverflow.com/questions/30631841/pandas-how-do-i-assign-values-based-on-multiple-conditions-for-existing-columns\n"
      ]
    },
    {
      "cell_type": "code",
      "metadata": {
        "id": "ZEaMSx5XbmIv"
      },
      "source": [
        "conditions = [\n",
        "    df['gender'].eq('male') & df['pet1'].eq(df['pet2']),\n",
        "    df['gender'].eq('female') & df['pet1'].isin(['cat', 'dog'])\n",
        "]\n",
        "\n",
        "choices = [5,5]\n",
        "\n",
        "df['points'] = np.select(conditions, choices, default=0)"
      ],
      "execution_count": null,
      "outputs": []
    },
    {
      "cell_type": "code",
      "metadata": {
        "id": "toe4pU-tcV-f"
      },
      "source": [
        "import numpy as np"
      ],
      "execution_count": null,
      "outputs": []
    },
    {
      "cell_type": "code",
      "metadata": {
        "id": "2z9DXn5dcUqf"
      },
      "source": [
        "x = np.arange(10)\n",
        "condlist = [x<3, x>5]\n",
        "choicelist = [x, x**2]\n",
        "np.select(condlist, choicelist)\n",
        "array([ 0,  1,  2, ..., 49, 64, 81])\n",
        "# https://numpy.org/doc/stable/reference/generated/numpy.select.html "
      ],
      "execution_count": null,
      "outputs": []
    },
    {
      "cell_type": "code",
      "metadata": {
        "id": "Np-ZdgkccbUX"
      },
      "source": [
        "condlist"
      ],
      "execution_count": null,
      "outputs": []
    }
  ]
}