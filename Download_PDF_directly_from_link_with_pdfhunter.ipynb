{
  "nbformat": 4,
  "nbformat_minor": 0,
  "metadata": {
    "colab": {
      "name": "Download PDF directly from link with pdfhunter.ipynb",
      "provenance": [],
      "collapsed_sections": [],
      "include_colab_link": true
    },
    "kernelspec": {
      "name": "python3",
      "display_name": "Python 3"
    }
  },
  "cells": [
    {
      "cell_type": "markdown",
      "metadata": {
        "id": "view-in-github",
        "colab_type": "text"
      },
      "source": [
        "<a href=\"https://colab.research.google.com/github/caryjim/Python_Exercise/blob/master/Download_PDF_directly_from_link_with_pdfhunter.ipynb\" target=\"_parent\"><img src=\"https://colab.research.google.com/assets/colab-badge.svg\" alt=\"Open In Colab\"/></a>"
      ]
    },
    {
      "cell_type": "markdown",
      "metadata": {
        "id": "N5UW3JxAuYqA",
        "colab_type": "text"
      },
      "source": [
        "A quick way to download PDF file with a given link with pdf_hunter, create a folder and saved the pdf using example from Texas Science Professional Organization. "
      ]
    },
    {
      "cell_type": "code",
      "metadata": {
        "id": "VAFraxJaKCXl",
        "colab_type": "code",
        "outputId": "9ccf45f7-61da-4737-c58c-e6a918d8846b",
        "colab": {
          "base_uri": "https://localhost:8080/",
          "height": 153
        }
      },
      "source": [
        "!pip install pdf_hunter"
      ],
      "execution_count": 1,
      "outputs": [
        {
          "output_type": "stream",
          "text": [
            "Requirement already satisfied: pdf_hunter in /usr/local/lib/python3.6/dist-packages (0.1.6)\n",
            "Requirement already satisfied: beautifulsoup4>=4.8.1 in /usr/local/lib/python3.6/dist-packages (from pdf_hunter) (4.9.1)\n",
            "Requirement already satisfied: requests>=2.22.0 in /usr/local/lib/python3.6/dist-packages (from pdf_hunter) (2.23.0)\n",
            "Requirement already satisfied: soupsieve>1.2 in /usr/local/lib/python3.6/dist-packages (from beautifulsoup4>=4.8.1->pdf_hunter) (2.0.1)\n",
            "Requirement already satisfied: urllib3!=1.25.0,!=1.25.1,<1.26,>=1.21.1 in /usr/local/lib/python3.6/dist-packages (from requests>=2.22.0->pdf_hunter) (1.24.3)\n",
            "Requirement already satisfied: chardet<4,>=3.0.2 in /usr/local/lib/python3.6/dist-packages (from requests>=2.22.0->pdf_hunter) (3.0.4)\n",
            "Requirement already satisfied: certifi>=2017.4.17 in /usr/local/lib/python3.6/dist-packages (from requests>=2.22.0->pdf_hunter) (2020.4.5.1)\n",
            "Requirement already satisfied: idna<3,>=2.5 in /usr/local/lib/python3.6/dist-packages (from requests>=2.22.0->pdf_hunter) (2.9)\n"
          ],
          "name": "stdout"
        }
      ]
    },
    {
      "cell_type": "code",
      "metadata": {
        "id": "OKZktfcSKI9M",
        "colab_type": "code",
        "colab": {}
      },
      "source": [
        "import pdf_hunter"
      ],
      "execution_count": 0,
      "outputs": []
    },
    {
      "cell_type": "code",
      "metadata": {
        "id": "IWp7BXDGKqqL",
        "colab_type": "code",
        "colab": {}
      },
      "source": [
        "url = \"https://tea.texas.gov/sites/default/files/Prof_Organizations_web_2016.pdf\""
      ],
      "execution_count": 0,
      "outputs": []
    },
    {
      "cell_type": "code",
      "metadata": {
        "id": "cb-powMzToBK",
        "colab_type": "code",
        "colab": {}
      },
      "source": [
        "!mkdir scidownloads"
      ],
      "execution_count": 0,
      "outputs": []
    },
    {
      "cell_type": "code",
      "metadata": {
        "id": "ujqL108eKtq0",
        "colab_type": "code",
        "colab": {}
      },
      "source": [
        "pdf_hunter.download_pdf_files(url, folder_path=\"downloads\")"
      ],
      "execution_count": 0,
      "outputs": []
    },
    {
      "cell_type": "code",
      "metadata": {
        "id": "62oaCnU0L1IM",
        "colab_type": "code",
        "colab": {}
      },
      "source": [
        "filename = pdf_hunter.get_pdf_name(url)"
      ],
      "execution_count": 0,
      "outputs": []
    },
    {
      "cell_type": "code",
      "metadata": {
        "id": "Q7X0LKhJOQyp",
        "colab_type": "code",
        "outputId": "84c0261b-62dc-4237-b814-2aa5a6c4c246",
        "colab": {
          "base_uri": "https://localhost:8080/",
          "height": 34
        }
      },
      "source": [
        "filename"
      ],
      "execution_count": 7,
      "outputs": [
        {
          "output_type": "execute_result",
          "data": {
            "text/plain": [
              "'Prof_Organizations_web_2016.pdf'"
            ]
          },
          "metadata": {
            "tags": []
          },
          "execution_count": 7
        }
      ]
    },
    {
      "cell_type": "code",
      "metadata": {
        "id": "ACpl2pm1uK6e",
        "colab_type": "code",
        "colab": {}
      },
      "source": [
        ""
      ],
      "execution_count": 0,
      "outputs": []
    }
  ]
}