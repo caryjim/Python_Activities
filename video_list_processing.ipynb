{
 "cells": [
  {
   "cell_type": "code",
   "execution_count": 61,
   "id": "c8c15061-4729-4e32-87cb-20cc116c55bf",
   "metadata": {
    "execution": {
     "iopub.execute_input": "2023-05-12T19:46:52.532586Z",
     "iopub.status.busy": "2023-05-12T19:46:52.532586Z",
     "iopub.status.idle": "2023-05-12T19:46:52.535229Z",
     "shell.execute_reply": "2023-05-12T19:46:52.535229Z",
     "shell.execute_reply.started": "2023-05-12T19:46:52.532586Z"
    },
    "tags": []
   },
   "outputs": [],
   "source": [
    "import pandas as pd"
   ]
  },
  {
   "cell_type": "code",
   "execution_count": 62,
   "id": "76175d80-48a8-471c-ac42-f42a6dfa730f",
   "metadata": {
    "execution": {
     "iopub.execute_input": "2023-05-12T19:46:53.816477Z",
     "iopub.status.busy": "2023-05-12T19:46:53.816477Z",
     "iopub.status.idle": "2023-05-12T19:46:53.833061Z",
     "shell.execute_reply": "2023-05-12T19:46:53.833061Z",
     "shell.execute_reply.started": "2023-05-12T19:46:53.816477Z"
    },
    "tags": []
   },
   "outputs": [],
   "source": [
    "video = pd.read_csv(\"video_list.csv\", header = 0)"
   ]
  },
  {
   "cell_type": "code",
   "execution_count": 63,
   "id": "472eca58-bc69-4667-815d-f835531eb741",
   "metadata": {
    "execution": {
     "iopub.execute_input": "2023-05-12T19:46:55.867719Z",
     "iopub.status.busy": "2023-05-12T19:46:55.867719Z",
     "iopub.status.idle": "2023-05-12T19:46:55.872783Z",
     "shell.execute_reply": "2023-05-12T19:46:55.872783Z",
     "shell.execute_reply.started": "2023-05-12T19:46:55.867719Z"
    },
    "tags": []
   },
   "outputs": [
    {
     "data": {
      "text/plain": [
       "4.G.A.1      5\n",
       "7.G.B.4-2    5\n",
       "7.G.B.5-1    5\n",
       "7.G.B.5-2    5\n",
       "7.G.B.5-3    5\n",
       "            ..\n",
       "6.EE.A.3     5\n",
       "6.EE.A.4     5\n",
       "6.EE.B.5     5\n",
       "6.EE.B.6     5\n",
       "8.SP.A.4     5\n",
       "Name: standard , Length: 263, dtype: int64"
      ]
     },
     "execution_count": 63,
     "metadata": {},
     "output_type": "execute_result"
    }
   ],
   "source": [
    "#count how many videos for each standard and it looks like 5 \n",
    "video['standard '].value_counts()"
   ]
  },
  {
   "cell_type": "code",
   "execution_count": 64,
   "id": "db607d92-5d58-4d65-bd83-829c83a18cd0",
   "metadata": {
    "execution": {
     "iopub.execute_input": "2023-05-12T19:46:59.675402Z",
     "iopub.status.busy": "2023-05-12T19:46:59.675402Z",
     "iopub.status.idle": "2023-05-12T19:46:59.678768Z",
     "shell.execute_reply": "2023-05-12T19:46:59.678768Z",
     "shell.execute_reply.started": "2023-05-12T19:46:59.675402Z"
    },
    "tags": []
   },
   "outputs": [],
   "source": [
    "#drop video title \n",
    "video = video.drop(['video_title'], axis=1)"
   ]
  },
  {
   "cell_type": "code",
   "execution_count": 65,
   "id": "fb71391a-9dbe-403f-b94b-5022b067fe93",
   "metadata": {
    "execution": {
     "iopub.execute_input": "2023-05-12T19:47:02.381328Z",
     "iopub.status.busy": "2023-05-12T19:47:02.381328Z",
     "iopub.status.idle": "2023-05-12T19:47:02.387378Z",
     "shell.execute_reply": "2023-05-12T19:47:02.387378Z",
     "shell.execute_reply.started": "2023-05-12T19:47:02.381328Z"
    },
    "tags": []
   },
   "outputs": [
    {
     "data": {
      "text/html": [
       "<div>\n",
       "<style scoped>\n",
       "    .dataframe tbody tr th:only-of-type {\n",
       "        vertical-align: middle;\n",
       "    }\n",
       "\n",
       "    .dataframe tbody tr th {\n",
       "        vertical-align: top;\n",
       "    }\n",
       "\n",
       "    .dataframe thead th {\n",
       "        text-align: right;\n",
       "    }\n",
       "</style>\n",
       "<table border=\"1\" class=\"dataframe\">\n",
       "  <thead>\n",
       "    <tr style=\"text-align: right;\">\n",
       "      <th></th>\n",
       "      <th>standard</th>\n",
       "      <th>URL</th>\n",
       "    </tr>\n",
       "  </thead>\n",
       "  <tbody>\n",
       "    <tr>\n",
       "      <th>0</th>\n",
       "      <td>4.G.A.1</td>\n",
       "      <td>http://www.youtube.com/watch?v=9O7D-YiSxOo</td>\n",
       "    </tr>\n",
       "    <tr>\n",
       "      <th>5</th>\n",
       "      <td>4.G.A.2-1</td>\n",
       "      <td>http://www.youtube.com/watch?v=aq_XL6FrmGs</td>\n",
       "    </tr>\n",
       "    <tr>\n",
       "      <th>10</th>\n",
       "      <td>4.G.A.2-2</td>\n",
       "      <td>http://www.youtube.com/watch?v=_rUWu3PikzI</td>\n",
       "    </tr>\n",
       "    <tr>\n",
       "      <th>15</th>\n",
       "      <td>4.G.A.3</td>\n",
       "      <td>http://www.youtube.com/watch?v=SJlhywRfvh8</td>\n",
       "    </tr>\n",
       "    <tr>\n",
       "      <th>20</th>\n",
       "      <td>4.MD.A.1</td>\n",
       "      <td>http://www.youtube.com/watch?v=mLjath7hP3Q</td>\n",
       "    </tr>\n",
       "    <tr>\n",
       "      <th>...</th>\n",
       "      <td>...</td>\n",
       "      <td>...</td>\n",
       "    </tr>\n",
       "    <tr>\n",
       "      <th>1290</th>\n",
       "      <td>8.SP.A.4</td>\n",
       "      <td>http://www.youtube.com/watch?v=kgVDAiP1Vkc</td>\n",
       "    </tr>\n",
       "    <tr>\n",
       "      <th>1295</th>\n",
       "      <td>4.NF.B.3d</td>\n",
       "      <td>http://www.youtube.com/watch?v=-fbrg4lUj24</td>\n",
       "    </tr>\n",
       "    <tr>\n",
       "      <th>1300</th>\n",
       "      <td>6.NS.C.7a</td>\n",
       "      <td>http://www.youtube.com/watch?v=-pZgm8X6a-8</td>\n",
       "    </tr>\n",
       "    <tr>\n",
       "      <th>1305</th>\n",
       "      <td>7.EE.B.3-2</td>\n",
       "      <td>http://www.youtube.com/watch?v=BH0x2hES2Kgs</td>\n",
       "    </tr>\n",
       "    <tr>\n",
       "      <th>1310</th>\n",
       "      <td>7.SP.B.3</td>\n",
       "      <td>http://www.youtube.com/watch?v=-Kwyeaq38mg</td>\n",
       "    </tr>\n",
       "  </tbody>\n",
       "</table>\n",
       "<p>263 rows × 2 columns</p>\n",
       "</div>"
      ],
      "text/plain": [
       "       standard                                           URL\n",
       "0        4.G.A.1   http://www.youtube.com/watch?v=9O7D-YiSxOo\n",
       "5      4.G.A.2-1   http://www.youtube.com/watch?v=aq_XL6FrmGs\n",
       "10     4.G.A.2-2   http://www.youtube.com/watch?v=_rUWu3PikzI\n",
       "15       4.G.A.3   http://www.youtube.com/watch?v=SJlhywRfvh8\n",
       "20      4.MD.A.1   http://www.youtube.com/watch?v=mLjath7hP3Q\n",
       "...          ...                                          ...\n",
       "1290    8.SP.A.4   http://www.youtube.com/watch?v=kgVDAiP1Vkc\n",
       "1295   4.NF.B.3d   http://www.youtube.com/watch?v=-fbrg4lUj24\n",
       "1300   6.NS.C.7a   http://www.youtube.com/watch?v=-pZgm8X6a-8\n",
       "1305  7.EE.B.3-2  http://www.youtube.com/watch?v=BH0x2hES2Kgs\n",
       "1310    7.SP.B.3   http://www.youtube.com/watch?v=-Kwyeaq38mg\n",
       "\n",
       "[263 rows x 2 columns]"
      ]
     },
     "execution_count": 65,
     "metadata": {},
     "output_type": "execute_result"
    }
   ],
   "source": [
    "#select all columns and drop every 5th row \n",
    "video.iloc[::5, :]\n",
    "\n",
    "# The problem with this method is that it is not drop by n+5"
   ]
  },
  {
   "cell_type": "markdown",
   "id": "388e574e-56e9-4231-873a-3e2c64eedc78",
   "metadata": {},
   "source": [
    "https://pandas.pydata.org/docs/user_guide/reshaping.html "
   ]
  },
  {
   "cell_type": "code",
   "execution_count": 66,
   "id": "bc93d139-e98c-4833-a1e8-0665faa21c2d",
   "metadata": {
    "execution": {
     "iopub.execute_input": "2023-05-12T19:47:07.061455Z",
     "iopub.status.busy": "2023-05-12T19:47:07.061455Z",
     "iopub.status.idle": "2023-05-12T19:47:07.081558Z",
     "shell.execute_reply": "2023-05-12T19:47:07.081558Z",
     "shell.execute_reply.started": "2023-05-12T19:47:07.061455Z"
    },
    "tags": []
   },
   "outputs": [],
   "source": [
    "#reshape the data. standards are duplicated and needed to group_by before reshaping \n",
    "d = lambda x: ', '.join(x.astype(str))\n",
    "df = video.groupby(['standard ']).agg(d).unstack()"
   ]
  },
  {
   "cell_type": "code",
   "execution_count": 67,
   "id": "5a6edf2c-c036-46df-b282-59220dbb7174",
   "metadata": {
    "execution": {
     "iopub.execute_input": "2023-05-12T19:47:08.341606Z",
     "iopub.status.busy": "2023-05-12T19:47:08.340604Z",
     "iopub.status.idle": "2023-05-12T19:47:08.345833Z",
     "shell.execute_reply": "2023-05-12T19:47:08.345833Z",
     "shell.execute_reply.started": "2023-05-12T19:47:08.341606Z"
    },
    "tags": []
   },
   "outputs": [
    {
     "data": {
      "text/plain": [
       "     standard  \n",
       "URL  4.G.A.1       http://www.youtube.com/watch?v=9O7D-YiSxOo, ht...\n",
       "     4.G.A.2-1     http://www.youtube.com/watch?v=aq_XL6FrmGs, ht...\n",
       "     4.G.A.2-2     http://www.youtube.com/watch?v=_rUWu3PikzI, ht...\n",
       "     4.G.A.3       http://www.youtube.com/watch?v=SJlhywRfvh8, ht...\n",
       "     4.MD.A.1      http://www.youtube.com/watch?v=mLjath7hP3Q, ht...\n",
       "                                         ...                        \n",
       "     8.NS.A.2-2    http://www.youtube.com/watch?v=dbxYq4hqFQ0, ht...\n",
       "     8.SP.A.1      http://www.youtube.com/watch?v=LgB5mxQdE2I, ht...\n",
       "     8.SP.A.2      http://www.youtube.com/watch?v=Mf34fg8UUQ0, ht...\n",
       "     8.SP.A.3      http://www.youtube.com/watch?v=7fzxExqY88Q, ht...\n",
       "     8.SP.A.4      http://www.youtube.com/watch?v=iBaz5_o_eEo, ht...\n",
       "Length: 263, dtype: object"
      ]
     },
     "execution_count": 67,
     "metadata": {},
     "output_type": "execute_result"
    }
   ],
   "source": [
    "df"
   ]
  },
  {
   "cell_type": "code",
   "execution_count": 68,
   "id": "f68688f7-b89e-48e2-b76e-5a9c70176c64",
   "metadata": {
    "execution": {
     "iopub.execute_input": "2023-05-12T19:47:12.174513Z",
     "iopub.status.busy": "2023-05-12T19:47:12.174513Z",
     "iopub.status.idle": "2023-05-12T19:47:12.180347Z",
     "shell.execute_reply": "2023-05-12T19:47:12.180347Z",
     "shell.execute_reply.started": "2023-05-12T19:47:12.174513Z"
    },
    "tags": []
   },
   "outputs": [],
   "source": [
    "#export the df\n",
    "df_video = pd.DataFrame(df)\n",
    "df_video.to_csv(\"oneVideo_updated.csv\",header=False)"
   ]
  }
 ],
 "metadata": {
  "kernelspec": {
   "display_name": "Python 3 (ipykernel)",
   "language": "python",
   "name": "python3"
  },
  "language_info": {
   "codemirror_mode": {
    "name": "ipython",
    "version": 3
   },
   "file_extension": ".py",
   "mimetype": "text/x-python",
   "name": "python",
   "nbconvert_exporter": "python",
   "pygments_lexer": "ipython3",
   "version": "3.11.0"
  }
 },
 "nbformat": 4,
 "nbformat_minor": 5
}
