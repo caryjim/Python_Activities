{
 "cells": [
  {
   "cell_type": "code",
   "execution_count": 2,
   "metadata": {
    "execution": {
     "iopub.execute_input": "2022-07-09T22:48:06.956738Z",
     "iopub.status.busy": "2022-07-09T22:48:06.956738Z",
     "iopub.status.idle": "2022-07-09T22:48:11.930018Z",
     "shell.execute_reply": "2022-07-09T22:48:11.930018Z",
     "shell.execute_reply.started": "2022-07-09T22:48:06.956738Z"
    },
    "tags": []
   },
   "outputs": [
    {
     "name": "stdout",
     "output_type": "stream",
     "text": [
      "Collecting BeautifulSoup\n",
      "  Downloading BeautifulSoup-3.2.2.tar.gz (32 kB)\n",
      "  Preparing metadata (setup.py): started\n",
      "  Preparing metadata (setup.py): finished with status 'error'\n",
      "  Downloading BeautifulSoup-3.2.1.tar.gz (31 kB)\n",
      "  Preparing metadata (setup.py): started\n",
      "  Preparing metadata (setup.py): finished with status 'error'\n",
      "  Downloading BeautifulSoup-3.2.0.tar.gz (31 kB)\n",
      "  Preparing metadata (setup.py): started\n",
      "  Preparing metadata (setup.py): finished with status 'error'\n"
     ]
    },
    {
     "name": "stderr",
     "output_type": "stream",
     "text": [
      "  ERROR: Command errored out with exit status 1:\n",
      "   command: 'D:\\Program Files\\Python\\Python38\\python.exe' -c 'import io, os, sys, setuptools, tokenize; sys.argv[0] = '\"'\"'C:\\\\Users\\\\mscar\\\\AppData\\\\Local\\\\Temp\\\\pip-install-9fojyzk_\\\\beautifulsoup_47ef2ee647e94caea07fd629c52214a6\\\\setup.py'\"'\"'; __file__='\"'\"'C:\\\\Users\\\\mscar\\\\AppData\\\\Local\\\\Temp\\\\pip-install-9fojyzk_\\\\beautifulsoup_47ef2ee647e94caea07fd629c52214a6\\\\setup.py'\"'\"';f = getattr(tokenize, '\"'\"'open'\"'\"', open)(__file__) if os.path.exists(__file__) else io.StringIO('\"'\"'from setuptools import setup; setup()'\"'\"');code = f.read().replace('\"'\"'\\r\\n'\"'\"', '\"'\"'\\n'\"'\"');f.close();exec(compile(code, __file__, '\"'\"'exec'\"'\"'))' egg_info --egg-base 'C:\\Users\\mscar\\AppData\\Local\\Temp\\pip-pip-egg-info-psn9723a'\n",
      "       cwd: C:\\Users\\mscar\\AppData\\Local\\Temp\\pip-install-9fojyzk_\\beautifulsoup_47ef2ee647e94caea07fd629c52214a6\\\n",
      "  Complete output (6 lines):\n",
      "  Traceback (most recent call last):\n",
      "    File \"<string>\", line 1, in <module>\n",
      "    File \"C:\\Users\\mscar\\AppData\\Local\\Temp\\pip-install-9fojyzk_\\beautifulsoup_47ef2ee647e94caea07fd629c52214a6\\setup.py\", line 3\n",
      "      \"You're trying to run a very old release of Beautiful Soup under Python 3. This will not work.\"<>\"Please use Beautiful Soup 4, available through the pip package 'beautifulsoup4'.\"\n",
      "                                                                                                      ^\n",
      "  SyntaxError: invalid syntax\n",
      "  ----------------------------------------\n",
      "WARNING: Discarding https://files.pythonhosted.org/packages/40/f2/6c9f2f3e696ee6a1fb0e4d7850617e224ed2b0b1e872110abffeca2a09d4/BeautifulSoup-3.2.2.tar.gz#sha256=a04169602bff6e3138b1259dbbf491f5a27f9499dea9a8fbafd48843f9d89970 (from https://pypi.org/simple/beautifulsoup/). Command errored out with exit status 1: python setup.py egg_info Check the logs for full command output.\n",
      "  ERROR: Command errored out with exit status 1:\n",
      "   command: 'D:\\Program Files\\Python\\Python38\\python.exe' -c 'import io, os, sys, setuptools, tokenize; sys.argv[0] = '\"'\"'C:\\\\Users\\\\mscar\\\\AppData\\\\Local\\\\Temp\\\\pip-install-9fojyzk_\\\\beautifulsoup_b11dfd924e0a4eb5b034fd0c6649936b\\\\setup.py'\"'\"'; __file__='\"'\"'C:\\\\Users\\\\mscar\\\\AppData\\\\Local\\\\Temp\\\\pip-install-9fojyzk_\\\\beautifulsoup_b11dfd924e0a4eb5b034fd0c6649936b\\\\setup.py'\"'\"';f = getattr(tokenize, '\"'\"'open'\"'\"', open)(__file__) if os.path.exists(__file__) else io.StringIO('\"'\"'from setuptools import setup; setup()'\"'\"');code = f.read().replace('\"'\"'\\r\\n'\"'\"', '\"'\"'\\n'\"'\"');f.close();exec(compile(code, __file__, '\"'\"'exec'\"'\"'))' egg_info --egg-base 'C:\\Users\\mscar\\AppData\\Local\\Temp\\pip-pip-egg-info-cczn05dc'\n",
      "       cwd: C:\\Users\\mscar\\AppData\\Local\\Temp\\pip-install-9fojyzk_\\beautifulsoup_b11dfd924e0a4eb5b034fd0c6649936b\\\n",
      "  Complete output (6 lines):\n",
      "  Traceback (most recent call last):\n",
      "    File \"<string>\", line 1, in <module>\n",
      "    File \"C:\\Users\\mscar\\AppData\\Local\\Temp\\pip-install-9fojyzk_\\beautifulsoup_b11dfd924e0a4eb5b034fd0c6649936b\\setup.py\", line 22\n",
      "      print \"Unit tests have failed!\"\n",
      "            ^\n",
      "  SyntaxError: Missing parentheses in call to 'print'. Did you mean print(\"Unit tests have failed!\")?\n",
      "  ----------------------------------------\n",
      "WARNING: Discarding https://files.pythonhosted.org/packages/1e/ee/295988deca1a5a7accd783d0dfe14524867e31abb05b6c0eeceee49c759d/BeautifulSoup-3.2.1.tar.gz#sha256=6a8cb4401111e011b579c8c52a51cdab970041cc543814bbd9577a4529fe1cdb (from https://pypi.org/simple/beautifulsoup/). Command errored out with exit status 1: python setup.py egg_info Check the logs for full command output.\n",
      "  ERROR: Command errored out with exit status 1:\n",
      "   command: 'D:\\Program Files\\Python\\Python38\\python.exe' -c 'import io, os, sys, setuptools, tokenize; sys.argv[0] = '\"'\"'C:\\\\Users\\\\mscar\\\\AppData\\\\Local\\\\Temp\\\\pip-install-9fojyzk_\\\\beautifulsoup_a1cf8e229a964d34bdaba8bd56d6a6c3\\\\setup.py'\"'\"'; __file__='\"'\"'C:\\\\Users\\\\mscar\\\\AppData\\\\Local\\\\Temp\\\\pip-install-9fojyzk_\\\\beautifulsoup_a1cf8e229a964d34bdaba8bd56d6a6c3\\\\setup.py'\"'\"';f = getattr(tokenize, '\"'\"'open'\"'\"', open)(__file__) if os.path.exists(__file__) else io.StringIO('\"'\"'from setuptools import setup; setup()'\"'\"');code = f.read().replace('\"'\"'\\r\\n'\"'\"', '\"'\"'\\n'\"'\"');f.close();exec(compile(code, __file__, '\"'\"'exec'\"'\"'))' egg_info --egg-base 'C:\\Users\\mscar\\AppData\\Local\\Temp\\pip-pip-egg-info-hp9fg_ji'\n",
      "       cwd: C:\\Users\\mscar\\AppData\\Local\\Temp\\pip-install-9fojyzk_\\beautifulsoup_a1cf8e229a964d34bdaba8bd56d6a6c3\\\n",
      "  Complete output (6 lines):\n",
      "  Traceback (most recent call last):\n",
      "    File \"<string>\", line 1, in <module>\n",
      "    File \"C:\\Users\\mscar\\AppData\\Local\\Temp\\pip-install-9fojyzk_\\beautifulsoup_a1cf8e229a964d34bdaba8bd56d6a6c3\\setup.py\", line 22\n",
      "      print \"Unit tests have failed!\"\n",
      "            ^\n",
      "  SyntaxError: Missing parentheses in call to 'print'. Did you mean print(\"Unit tests have failed!\")?\n",
      "  ----------------------------------------\n",
      "WARNING: Discarding https://files.pythonhosted.org/packages/33/fe/15326560884f20d792d3ffc7fe8f639aab88647c9d46509a240d9bfbb6b1/BeautifulSoup-3.2.0.tar.gz#sha256=0dc52d07516c1665c9dd9f0a390a7a054bfb7b147a50b2866fb116b8909dfd37 (from https://pypi.org/simple/beautifulsoup/). Command errored out with exit status 1: python setup.py egg_info Check the logs for full command output.\n",
      "ERROR: Could not find a version that satisfies the requirement BeautifulSoup (from versions: 3.2.0, 3.2.1, 3.2.2)\n",
      "ERROR: No matching distribution found for BeautifulSoup\n",
      "WARNING: You are using pip version 21.3; however, version 22.1.2 is available.\n",
      "You should consider upgrading via the 'D:\\Program Files\\Python\\Python38\\python.exe -m pip install --upgrade pip' command.\n"
     ]
    }
   ],
   "source": [
    "!pip install BeautifulSoup"
   ]
  },
  {
   "cell_type": "code",
   "execution_count": 1,
   "metadata": {
    "execution": {
     "iopub.execute_input": "2022-07-09T22:47:34.820023Z",
     "iopub.status.busy": "2022-07-09T22:47:34.820023Z",
     "iopub.status.idle": "2022-07-09T22:47:35.488233Z",
     "shell.execute_reply": "2022-07-09T22:47:35.487240Z",
     "shell.execute_reply.started": "2022-07-09T22:47:34.820023Z"
    }
   },
   "outputs": [
    {
     "ename": "ModuleNotFoundError",
     "evalue": "No module named 'bs4'",
     "output_type": "error",
     "traceback": [
      "\u001b[1;31m---------------------------------------------------------------------------\u001b[0m",
      "\u001b[1;31mModuleNotFoundError\u001b[0m                       Traceback (most recent call last)",
      "\u001b[1;32m<ipython-input-1-59f3200a747f>\u001b[0m in \u001b[0;36m<module>\u001b[1;34m\u001b[0m\n\u001b[0;32m      4\u001b[0m \u001b[1;32mimport\u001b[0m \u001b[0mrequests\u001b[0m\u001b[1;33m\u001b[0m\u001b[1;33m\u001b[0m\u001b[0m\n\u001b[0;32m      5\u001b[0m \u001b[1;32mfrom\u001b[0m \u001b[0murllib\u001b[0m\u001b[1;33m.\u001b[0m\u001b[0mparse\u001b[0m \u001b[1;32mimport\u001b[0m \u001b[0murljoin\u001b[0m\u001b[1;33m\u001b[0m\u001b[1;33m\u001b[0m\u001b[0m\n\u001b[1;32m----> 6\u001b[1;33m \u001b[1;32mfrom\u001b[0m \u001b[0mbs4\u001b[0m \u001b[1;32mimport\u001b[0m \u001b[0mBeautifulSoup\u001b[0m\u001b[1;33m\u001b[0m\u001b[1;33m\u001b[0m\u001b[0m\n\u001b[0m",
      "\u001b[1;31mModuleNotFoundError\u001b[0m: No module named 'bs4'"
     ]
    }
   ],
   "source": [
    "# Code from https://stackoverflow.com/a/54618327\n",
    "# By User https://stackoverflow.com/users/9189799/sim\n",
    "import os\n",
    "import requests\n",
    "from urllib.parse import urljoin\n",
    "from bs4 import BeautifulSoup"
   ]
  },
  {
   "cell_type": "code",
   "execution_count": 2,
   "metadata": {},
   "outputs": [],
   "source": [
    "url = \"http://educationaldatamining.org/conferences/\"\n",
    "\n",
    "#If there is no such folder, the script will create one automatically\n",
    "folder_location = r'C:\\Users\\Acer\\Desktop'\n",
    "if not os.path.exists(folder_location):os.mkdir(folder_location)"
   ]
  },
  {
   "cell_type": "code",
   "execution_count": null,
   "metadata": {},
   "outputs": [],
   "source": [
    "# Crawling data from EDWeek on School Closures\n",
    "url = \"https://www.edweek.org/data-coronavirus-and-school-closures-in-2019-2020/2021/12\"\n",
    "\n",
    "#If there is no such folder, the script will create one automatically\n",
    "folder_location = r'C:\\Users\\Acer\\Desktop\\Edweek'\n",
    "if not os.path.exists(folder_location):os.mkdir(folder_location)"
   ]
  },
  {
   "cell_type": "code",
   "execution_count": 3,
   "metadata": {},
   "outputs": [],
   "source": [
    "response = requests.get(url)\n",
    "soup= BeautifulSoup(response.text, \"html.parser\")     \n",
    "for link in soup.select(\"a[href$='.pdf']\"):\n",
    "    #Name the pdf files using the last portion of each link which are unique in this case\n",
    "    filename = os.path.join(folder_location,link['href'].split('/')[-1])\n",
    "    with open(filename, 'wb') as f:\n",
    "        f.write(requests.get(urljoin(url,link['href'])).content)"
   ]
  }
 ],
 "metadata": {
  "kernelspec": {
   "display_name": "Python 3",
   "language": "python",
   "name": "python3"
  },
  "language_info": {
   "codemirror_mode": {
    "name": "ipython",
    "version": 3
   },
   "file_extension": ".py",
   "mimetype": "text/x-python",
   "name": "python",
   "nbconvert_exporter": "python",
   "pygments_lexer": "ipython3",
   "version": "3.8.6"
  }
 },
 "nbformat": 4,
 "nbformat_minor": 4
}
