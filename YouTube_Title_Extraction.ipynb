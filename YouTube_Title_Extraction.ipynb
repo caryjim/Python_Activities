{
 "cells": [
  {
   "cell_type": "markdown",
   "metadata": {},
   "source": [
    "This code is the steps that I took to feed a list of URL (YouTube video URL) to get the titles from the scraping the HTML information of the URL page. At first, I overthink the process and was trying to use a web crawler. But truly, I only need the titles return as a list, I don't need any complicated codes. So I used the same concepts of getting webpage metadata with Beautiful Soup and requests to conduct the following process. It took me about 7-8 minutes to get a return list of titles for a 1000 record. However, if any of the URL is not valid, the for loop will return an error. \n",
    "\n",
    "Last updated 12.10.2022"
   ]
  },
  {
   "cell_type": "code",
   "execution_count": 11,
   "metadata": {
    "colab": {
     "base_uri": "https://localhost:8080/"
    },
    "execution": {
     "iopub.execute_input": "2022-12-11T02:19:47.737920Z",
     "iopub.status.busy": "2022-12-11T02:19:47.736920Z",
     "iopub.status.idle": "2022-12-11T02:19:48.717822Z",
     "shell.execute_reply": "2022-12-11T02:19:48.716821Z",
     "shell.execute_reply.started": "2022-12-11T02:19:47.737920Z"
    },
    "id": "cpMsvrO1MlMv",
    "outputId": "9b1b6349-7da0-4bc0-ff73-65fe634f5743"
   },
   "outputs": [
    {
     "name": "stdout",
     "output_type": "stream",
     "text": [
      "Requirement already satisfied: bs4 in d:\\programs\\python\\python311\\lib\\site-packages (0.0.1)\n",
      "Requirement already satisfied: beautifulsoup4 in d:\\programs\\python\\python311\\lib\\site-packages (from bs4) (4.11.1)\n",
      "Requirement already satisfied: soupsieve>1.2 in d:\\programs\\python\\python311\\lib\\site-packages (from beautifulsoup4->bs4) (2.3.2.post1)\n"
     ]
    }
   ],
   "source": [
    "!pip install bs4"
   ]
  },
  {
   "cell_type": "code",
   "execution_count": 12,
   "metadata": {
    "execution": {
     "iopub.execute_input": "2022-12-11T02:19:48.718823Z",
     "iopub.status.busy": "2022-12-11T02:19:48.718823Z",
     "iopub.status.idle": "2022-12-11T02:19:48.733823Z",
     "shell.execute_reply": "2022-12-11T02:19:48.732831Z",
     "shell.execute_reply.started": "2022-12-11T02:19:48.718823Z"
    },
    "id": "oUkdrkqxMpLa",
    "tags": []
   },
   "outputs": [],
   "source": [
    "import requests \n",
    "from bs4 import BeautifulSoup\n",
    "import pandas as pd"
   ]
  },
  {
   "cell_type": "markdown",
   "metadata": {
    "id": "7lA-QxDWMua0"
   },
   "source": [
    "#This is to test the URL and code\n",
    "url = 'https://www.youtube.com/watch?v=wyRy8kowyM8'\n",
    "reqs = requests.get(url)\n",
    "soup = BeautifulSoup(reqs.text, 'html.parser')\n",
    "\n",
    "#print the result\n",
    "print(\"Title of the website is : \")\n",
    "for title in soup.find_all('title'):\n",
    "    print(title.get_text())"
   ]
  },
  {
   "cell_type": "code",
   "execution_count": 13,
   "metadata": {
    "execution": {
     "iopub.execute_input": "2022-12-11T02:19:48.734823Z",
     "iopub.status.busy": "2022-12-11T02:19:48.734823Z",
     "iopub.status.idle": "2022-12-11T02:19:48.750127Z",
     "shell.execute_reply": "2022-12-11T02:19:48.748823Z",
     "shell.execute_reply.started": "2022-12-11T02:19:48.734823Z"
    },
    "id": "EWRILPmuPyHd"
   },
   "outputs": [],
   "source": [
    "#import list of URL \n",
    "video_link = pd.read_csv('videolink.txt', header = None)"
   ]
  },
  {
   "cell_type": "code",
   "execution_count": 14,
   "metadata": {
    "execution": {
     "iopub.execute_input": "2022-12-11T02:19:48.751124Z",
     "iopub.status.busy": "2022-12-11T02:19:48.751124Z",
     "iopub.status.idle": "2022-12-11T02:19:48.763983Z",
     "shell.execute_reply": "2022-12-11T02:19:48.763983Z",
     "shell.execute_reply.started": "2022-12-11T02:19:48.751124Z"
    },
    "id": "P9okJIKQQLG2"
   },
   "outputs": [],
   "source": [
    "#Convert the panda dataframe to list first \n",
    "video_url_list = video_link[0].tolist()"
   ]
  },
  {
   "cell_type": "code",
   "execution_count": 15,
   "metadata": {
    "colab": {
     "base_uri": "https://localhost:8080/"
    },
    "execution": {
     "iopub.execute_input": "2022-12-11T02:19:48.765989Z",
     "iopub.status.busy": "2022-12-11T02:19:48.764984Z",
     "iopub.status.idle": "2022-12-11T02:19:48.780494Z",
     "shell.execute_reply": "2022-12-11T02:19:48.778988Z",
     "shell.execute_reply.started": "2022-12-11T02:19:48.765989Z"
    },
    "id": "Khf0I8d5VR2_",
    "outputId": "6f3fe7dc-fd6c-47d8-cf5f-f88930e54388"
   },
   "outputs": [
    {
     "data": {
      "text/plain": [
       "['https://www.youtube.com/watch?v=wyRy8kowyM8',\n",
       " 'https://www.youtube.com/watch?v=YO244P1e9QM',\n",
       " 'https://www.youtube.com/watch?v=8IlzKri08kk',\n",
       " 'https://www.youtube.com/watch?v=gEUu-A2wfSE',\n",
       " 'https://www.youtube.com/watch?v=-oVavgmveyY',\n",
       " 'https://www.youtube.com/watch?v=Tjnq5StX68g',\n",
       " 'https://www.youtube.com/watch?v=bO7FQsCcbD8',\n",
       " 'https://www.youtube.com/watch?v=i-0rSv6oxSY',\n",
       " 'https://www.youtube.com/watch?v=38y_1EWIE9I',\n",
       " 'https://www.youtube.com/watch?v=f-ldPgEfAHI']"
      ]
     },
     "execution_count": 15,
     "metadata": {},
     "output_type": "execute_result"
    }
   ],
   "source": [
    "#check the list\n",
    "video_url_list[0:10]"
   ]
  },
  {
   "cell_type": "markdown",
   "metadata": {
    "colab": {
     "base_uri": "https://localhost:8080/"
    },
    "id": "HriU-VDpPGVn",
    "outputId": "80c679a8-8ea9-4b49-f2e0-25db03be8dde"
   },
   "source": [
    "#This is for printing the list as output\n",
    "video_title_list = []\n",
    "\n",
    "for url in video_url_list:\n",
    "  reqs = requests.get(url)\n",
    "  soup = BeautifulSoup(reqs.text, 'html.parser')\n",
    "  for title in soup.find_all('title'):\n",
    "    print(title.get_text())"
   ]
  },
  {
   "cell_type": "code",
   "execution_count": null,
   "metadata": {
    "execution": {
     "iopub.execute_input": "2022-12-11T02:19:48.781498Z",
     "iopub.status.busy": "2022-12-11T02:19:48.780494Z"
    },
    "id": "raXAkWG9YVho"
   },
   "outputs": [],
   "source": [
    "# This is for generating a list of the result which can be further convert to panda df\n",
    "video_title_list = []\n",
    "\n",
    "for url in video_url_list:\n",
    "  reqs = requests.get(url)\n",
    "  soup = BeautifulSoup(reqs.text, 'html.parser')\n",
    "  for title in soup.find_all('title'):\n",
    "    video_title_list.append(title)"
   ]
  },
  {
   "cell_type": "code",
   "execution_count": null,
   "metadata": {
    "colab": {
     "base_uri": "https://localhost:8080/"
    },
    "id": "OmMmCpDMc6j9",
    "outputId": "ed45947a-e830-4b15-8c52-a5aef6ab7a9b"
   },
   "outputs": [],
   "source": [
    "video_title_list[1:10]"
   ]
  },
  {
   "cell_type": "code",
   "execution_count": null,
   "metadata": {
    "id": "xugQC_indB1J"
   },
   "outputs": [],
   "source": [
    "video_name_df = pd.DataFrame(video_title_list)"
   ]
  },
  {
   "cell_type": "code",
   "execution_count": null,
   "metadata": {
    "id": "4shWKn6mdUeE",
    "tags": []
   },
   "outputs": [],
   "source": [
    "video_name_df.to_csv(\"video_title_list_retrievedv.csv\",header=False)"
   ]
  }
 ],
 "metadata": {
  "colab": {
   "provenance": []
  },
  "kernelspec": {
   "display_name": "Python 3",
   "language": "python",
   "name": "python3"
  },
  "language_info": {
   "codemirror_mode": {
    "name": "ipython",
    "version": 3
   },
   "file_extension": ".py",
   "mimetype": "text/x-python",
   "name": "python",
   "nbconvert_exporter": "python",
   "pygments_lexer": "ipython3",
   "version": "3.8.6"
  }
 },
 "nbformat": 4,
 "nbformat_minor": 4
}
